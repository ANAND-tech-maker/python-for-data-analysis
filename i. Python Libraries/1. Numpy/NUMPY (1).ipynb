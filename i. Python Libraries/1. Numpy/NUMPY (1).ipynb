{
 "cells": [
  {
   "cell_type": "code",
   "execution_count": 1,
   "id": "158442d6-9154-4785-a8fa-0688d7e9ab85",
   "metadata": {},
   "outputs": [
    {
     "name": "stdout",
     "output_type": "stream",
     "text": [
      "Requirement already satisfied: numpy in d:\\rapaka\\lib\\site-packages (2.1.3)\n"
     ]
    }
   ],
   "source": [
    "! pip install numpy"
   ]
  },
  {
   "cell_type": "markdown",
   "id": "d16ca7ca-2f33-40b0-bb0b-d2795e2a73eb",
   "metadata": {},
   "source": [
    "### IMPORT LIBRARIES"
   ]
  },
  {
   "cell_type": "code",
   "execution_count": 2,
   "id": "01f7b6d8-45b4-437e-9010-11b41ae73c70",
   "metadata": {},
   "outputs": [],
   "source": [
    "import numpy as np"
   ]
  },
  {
   "cell_type": "code",
   "execution_count": 3,
   "id": "104ad7dc-2576-43dd-abed-a1469600b175",
   "metadata": {},
   "outputs": [
    {
     "name": "stdout",
     "output_type": "stream",
     "text": [
      "<class 'numpy.ndarray'>\n",
      "Numpy Array:  [1 2 3 4]\n"
     ]
    }
   ],
   "source": [
    "arr = np.array([1, 2, 3, 4])\n",
    "\n",
    "print(type(arr))\n",
    "\n",
    "print(\"Numpy Array: \", arr)"
   ]
  },
  {
   "cell_type": "code",
   "execution_count": 4,
   "id": "1c957a03-ec24-434c-900d-13b19300a7cf",
   "metadata": {},
   "outputs": [
    {
     "name": "stdout",
     "output_type": "stream",
     "text": [
      "CPU times: total: 266 ms\n",
      "Wall time: 265 ms\n"
     ]
    }
   ],
   "source": [
    "%%time\n",
    "\n",
    "lst = list(range(1000000))\n",
    "\n",
    "for i in range(1000000):\n",
    "    lst[i] *= lst[i]"
   ]
  },
  {
   "cell_type": "code",
   "execution_count": 5,
   "id": "9634940e-caea-4fe7-971f-004f46715b43",
   "metadata": {},
   "outputs": [
    {
     "name": "stdout",
     "output_type": "stream",
     "text": [
      "CPU times: total: 15.6 ms\n",
      "Wall time: 5.18 ms\n"
     ]
    }
   ],
   "source": [
    "%%time\n",
    "\n",
    "arr = np.arange(1000000)\n",
    "\n",
    "arr = arr * arr\n"
   ]
  },
  {
   "cell_type": "code",
   "execution_count": 6,
   "id": "4c9ddc1b-bea0-4405-ac33-d0cfc18b18b7",
   "metadata": {},
   "outputs": [
    {
     "name": "stdout",
     "output_type": "stream",
     "text": [
      "<class 'numpy.ndarray'>\n",
      "Numpy Array:  [1 2 3 4]\n"
     ]
    }
   ],
   "source": [
    "# Creating a simple array in numpy\n",
    "\n",
    "arr = np.array([1, 2, 3, 4])\n",
    "\n",
    "print(type(arr))\n",
    "\n",
    "print(\"Numpy Array: \", arr)"
   ]
  },
  {
   "cell_type": "code",
   "execution_count": 7,
   "id": "449dc1eb-93b3-430a-814f-78415021471d",
   "metadata": {},
   "outputs": [
    {
     "name": "stdout",
     "output_type": "stream",
     "text": [
      "[1 2 3 4 5]\n"
     ]
    }
   ],
   "source": [
    "arr = np.array((1, 2, 3, 4, 5))\n",
    "\n",
    "print(arr)"
   ]
  },
  {
   "cell_type": "code",
   "execution_count": 8,
   "id": "2c2d4435-d786-4a26-98cb-2d8615c769b2",
   "metadata": {},
   "outputs": [
    {
     "name": "stdout",
     "output_type": "stream",
     "text": [
      "[0 1 2 3 4 5 6 7 8 9]\n"
     ]
    }
   ],
   "source": [
    "arr = np.arange(10)\n",
    "print(arr)"
   ]
  },
  {
   "cell_type": "code",
   "execution_count": 9,
   "id": "abceeb85-5f0a-4c21-b402-78b27890516f",
   "metadata": {},
   "outputs": [
    {
     "name": "stdout",
     "output_type": "stream",
     "text": [
      "[1 2 3 4 5 6 7 8 9]\n"
     ]
    }
   ],
   "source": [
    "arr = np.arange(1,10)\n",
    "print(arr)"
   ]
  },
  {
   "cell_type": "code",
   "execution_count": 10,
   "id": "36c3bf74-5cb0-4089-8c89-4db9d988d30f",
   "metadata": {},
   "outputs": [
    {
     "name": "stdout",
     "output_type": "stream",
     "text": [
      "[1 3 5 7 9]\n"
     ]
    }
   ],
   "source": [
    "arr = np.arange(1,10,2)\n",
    "print(arr)"
   ]
  },
  {
   "cell_type": "code",
   "execution_count": 11,
   "id": "461713d4-b9c0-4cf4-8ecd-ec9eed068a96",
   "metadata": {},
   "outputs": [
    {
     "name": "stdout",
     "output_type": "stream",
     "text": [
      "Array: \n",
      " 43\n",
      "Shape:  ()\n",
      "Data Type:  int64\n",
      "Item Size:  8\n",
      "Dimensionality:  0\n"
     ]
    }
   ],
   "source": [
    "\n",
    "\n",
    "arr = np.array(43)\n",
    "\n",
    "print(\"Array: \\n\", arr)\n",
    "\n",
    "# Print shape\n",
    "print(\"Shape: \", arr.shape)\n",
    "\n",
    "# Print datatype\n",
    "print(\"Data Type: \", arr.dtype)\n",
    "\n",
    "# Print item size in byte of each element\n",
    "print(\"Item Size: \", arr.itemsize)\n",
    "\n",
    "# Print the dimensionality of the numpy array\n",
    "print(\"Dimensionality: \", arr.ndim)"
   ]
  },
  {
   "cell_type": "code",
   "execution_count": 12,
   "id": "77e442be-622a-4899-950c-511349c3a117",
   "metadata": {},
   "outputs": [
    {
     "name": "stdout",
     "output_type": "stream",
     "text": [
      "Array: \n",
      " [1 2 3 4]\n",
      "Shape:  (4,)\n",
      "Data Type:  int64\n",
      "Item Size:  8\n",
      "Dimensionality:  1\n"
     ]
    }
   ],
   "source": [
    "arr = np.array([1, 2, 3, 4])\n",
    "\n",
    "print(\"Array: \\n\", arr)\n",
    "\n",
    "# Print shape\n",
    "print(\"Shape: \", arr.shape)\n",
    "\n",
    "# Print datatype\n",
    "print(\"Data Type: \", arr.dtype)\n",
    "\n",
    "# Print item size in byte of each element\n",
    "print(\"Item Size: \", arr.itemsize)\n",
    "\n",
    "# Print the dimensionality of the numpy array\n",
    "print(\"Dimensionality: \", arr.ndim)"
   ]
  },
  {
   "cell_type": "code",
   "execution_count": null,
   "id": "30baaf77-3dc8-41d7-82d2-5a39e6b220a4",
   "metadata": {},
   "outputs": [],
   "source": []
  },
  {
   "cell_type": "code",
   "execution_count": 13,
   "id": "78ce2c3d-2147-4287-96e6-cbab5d06c85f",
   "metadata": {},
   "outputs": [
    {
     "name": "stdout",
     "output_type": "stream",
     "text": [
      "Array: \n",
      " [[1 2 3]\n",
      " [4 5 6]]\n",
      "Shape:  (2, 3)\n",
      "Data Type:  int64\n",
      "Item Size:  8\n",
      "Dimensionality:  2\n"
     ]
    }
   ],
   "source": [
    "arr = np.array([[1, 2, 3], [4, 5, 6]])\n",
    "\n",
    "print(\"Array: \\n\", arr)\n",
    "\n",
    "# Print shape\n",
    "print(\"Shape: \", arr.shape)\n",
    "\n",
    "# Print datatype\n",
    "print(\"Data Type: \", arr.dtype)\n",
    "\n",
    "# Print item size in byte of each element\n",
    "print(\"Item Size: \", arr.itemsize)\n",
    "\n",
    "# Print the dimensionality of the numpy array\n",
    "print(\"Dimensionality: \", arr.ndim)"
   ]
  },
  {
   "cell_type": "code",
   "execution_count": 14,
   "id": "5d62456c-a6b4-406e-8295-6637f7345cf7",
   "metadata": {},
   "outputs": [
    {
     "name": "stdout",
     "output_type": "stream",
     "text": [
      "Array: \n",
      " [[[1 2 3]\n",
      "  [4 5 6]]\n",
      "\n",
      " [[1 2 3]\n",
      "  [4 5 6]]]\n",
      "Shape:  (2, 2, 3)\n",
      "Data Type:  int64\n",
      "Item Size:  8\n",
      "Dimensionality:  3\n"
     ]
    }
   ],
   "source": [
    "arr = np.array([[[1,2,3],[4,5,6]],[[1,2,3],[4,5,6]]])\n",
    "\n",
    "print(\"Array: \\n\", arr)\n",
    "\n",
    "# Print shape\n",
    "print(\"Shape: \", arr.shape)\n",
    "\n",
    "# Print datatype\n",
    "print(\"Data Type: \", arr.dtype)\n",
    "\n",
    "# Print item size in byte of each element\n",
    "print(\"Item Size: \", arr.itemsize)\n",
    "\n",
    "# Print the dimensionality of the numpy array\n",
    "print(\"Dimensionality: \", arr.ndim)"
   ]
  },
  {
   "cell_type": "code",
   "execution_count": 15,
   "id": "740b45ad-0c4c-4985-b864-eb4acc247555",
   "metadata": {},
   "outputs": [
    {
     "name": "stdout",
     "output_type": "stream",
     "text": [
      "Array: \n",
      " [[1. 1. 1.]\n",
      " [1. 1. 1.]\n",
      " [1. 1. 1.]]\n"
     ]
    }
   ],
   "source": [
    "arr = np.ones((3, 3))\n",
    "\n",
    "print(\"Array: \\n\", arr)"
   ]
  },
  {
   "cell_type": "code",
   "execution_count": 16,
   "id": "b9f9a0c3-2dc8-492d-8ad7-ab67d4a5c0ad",
   "metadata": {},
   "outputs": [
    {
     "name": "stdout",
     "output_type": "stream",
     "text": [
      "Array: \n",
      " [[0. 0. 0.]\n",
      " [0. 0. 0.]\n",
      " [0. 0. 0.]]\n"
     ]
    }
   ],
   "source": [
    "arr = np.zeros((3, 3))\n",
    "\n",
    "print(\"Array: \\n\", arr)\n"
   ]
  },
  {
   "cell_type": "code",
   "execution_count": 17,
   "id": "8500011b-0cf1-4a7e-bea6-df8ee0f82014",
   "metadata": {},
   "outputs": [
    {
     "name": "stdout",
     "output_type": "stream",
     "text": [
      "Array: \n",
      " [[1. 0. 0.]\n",
      " [0. 1. 0.]\n",
      " [0. 0. 1.]]\n"
     ]
    }
   ],
   "source": [
    "arr = np.eye(3)\n",
    "\n",
    "print(\"Array: \\n\", arr)"
   ]
  },
  {
   "cell_type": "code",
   "execution_count": 4,
   "id": "be177e88-d49b-49fc-9a2a-cf2060d281fe",
   "metadata": {},
   "outputs": [
    {
     "data": {
      "text/plain": [
       "array([2., 1., 4., 5.], dtype=float16)"
      ]
     },
     "execution_count": 4,
     "metadata": {},
     "output_type": "execute_result"
    }
   ],
   "source": [
    "arr = np.array([2, 1, 4, 5], dtype='float16')\n",
    "arr"
   ]
  },
  {
   "cell_type": "code",
   "execution_count": 6,
   "id": "4cf21762-32dc-4cc1-977b-bbf557dc6506",
   "metadata": {},
   "outputs": [
    {
     "data": {
      "text/plain": [
       "array([2, 1, 4, 5], dtype=object)"
      ]
     },
     "execution_count": 6,
     "metadata": {},
     "output_type": "execute_result"
    }
   ],
   "source": [
    "arr = np.array([2, 1, 4, 5], dtype='object')\n",
    "arr"
   ]
  },
  {
   "cell_type": "code",
   "execution_count": 9,
   "id": "a7cf6ebb-624f-4c55-92fd-a475b9acbef1",
   "metadata": {},
   "outputs": [
    {
     "data": {
      "text/plain": [
       "array([b'Hi', b'Hello'], dtype='|S10')"
      ]
     },
     "execution_count": 9,
     "metadata": {},
     "output_type": "execute_result"
    }
   ],
   "source": [
    "arr = np.array([\"Hi\", \"Hello\"], dtype='S10')\n",
    "arr"
   ]
  },
  {
   "cell_type": "code",
   "execution_count": 10,
   "id": "25877606-a322-4933-90aa-2546820b9a64",
   "metadata": {},
   "outputs": [
    {
     "data": {
      "text/plain": [
       "array([b'Hi', b'Hello'], dtype='|S20')"
      ]
     },
     "execution_count": 10,
     "metadata": {},
     "output_type": "execute_result"
    }
   ],
   "source": [
    "arr = np.array([\"Hi\", \"Hello\"], dtype='S20')\n",
    "arr"
   ]
  },
  {
   "cell_type": "code",
   "execution_count": 12,
   "id": "a5540a95-b27a-4831-b5cd-4ae027c20731",
   "metadata": {},
   "outputs": [
    {
     "data": {
      "text/plain": [
       "array(['Hi', 'Hello', 'Hello'], dtype='<U5')"
      ]
     },
     "execution_count": 12,
     "metadata": {},
     "output_type": "execute_result"
    }
   ],
   "source": [
    "arr = np.array([\"Hi\", \"Hello\", \"Hello World\"], dtype='U5')\n",
    "arr"
   ]
  },
  {
   "cell_type": "code",
   "execution_count": 13,
   "id": "5275e144-fa4d-4970-94df-383d29a74eac",
   "metadata": {},
   "outputs": [
    {
     "data": {
      "text/plain": [
       "array([0, 1, 2, 3, 4, 5, 6, 7, 8, 9])"
      ]
     },
     "execution_count": 13,
     "metadata": {},
     "output_type": "execute_result"
    }
   ],
   "source": [
    "arr = np.arange(10)\n",
    "arr"
   ]
  },
  {
   "cell_type": "code",
   "execution_count": 14,
   "id": "417b4125-288b-4739-a40a-740bedf57ed6",
   "metadata": {},
   "outputs": [
    {
     "data": {
      "text/plain": [
       "array([1, 2, 3, 4, 5, 6, 7, 8, 9])"
      ]
     },
     "execution_count": 14,
     "metadata": {},
     "output_type": "execute_result"
    }
   ],
   "source": [
    "arr = np.arange(1,10)\n",
    "arr"
   ]
  },
  {
   "cell_type": "markdown",
   "id": "c8da1de1-ade3-4169-bc10-9bfec85fae14",
   "metadata": {},
   "source": [
    "### **Numpy Random Numbers**\n",
    "\n",
    "1. **np.random.rand** - generates an array with random numbers that are uniformly distribute between 0 and 1.\n",
    "2. **np.random.randn** - generates an array with random numbers that are normally distributed, mean = 0 and stdev = 1.\n",
    "3. **np.random.randint** - generates an array with random numbers (integers) that are uniformly distribute between 0 and given number.\n",
    "4. **np.random.uniform** - generates an array with random numbers (float) between given numbers."
   ]
  },
  {
   "cell_type": "code",
   "execution_count": 19,
   "id": "9219fdab-f26c-46f4-86c3-e9733c4bb238",
   "metadata": {},
   "outputs": [
    {
     "data": {
      "text/plain": [
       "array([0.73748593, 0.33423461, 0.589872  , 0.22368768, 0.33781503])"
      ]
     },
     "execution_count": 19,
     "metadata": {},
     "output_type": "execute_result"
    }
   ],
   "source": [
    "# Randomly generate an array from uniform distribution\n",
    "arr = np.random.rand(5)\n",
    "arr"
   ]
  },
  {
   "cell_type": "code",
   "execution_count": 20,
   "id": "c8d06b8f-48f3-49b4-9a49-bb23114b1fa3",
   "metadata": {},
   "outputs": [
    {
     "data": {
      "text/plain": [
       "array([[0.22756256, 0.52940861],\n",
       "       [0.36988287, 0.94873074],\n",
       "       [0.64591586, 0.03248067],\n",
       "       [0.09873934, 0.58390201],\n",
       "       [0.55007597, 0.83900857],\n",
       "       [0.07616388, 0.94524919],\n",
       "       [0.33406558, 0.7468259 ],\n",
       "       [0.76610971, 0.68647444],\n",
       "       [0.10915844, 0.63237196],\n",
       "       [0.99916084, 0.5170953 ]])"
      ]
     },
     "execution_count": 20,
     "metadata": {},
     "output_type": "execute_result"
    }
   ],
   "source": [
    "# Randomly generate an array with 10 rows and 2 columns\n",
    "arr = np.random.rand(10, 2)\n",
    "arr"
   ]
  },
  {
   "cell_type": "code",
   "execution_count": 21,
   "id": "42a5b12d-cd29-460b-8bef-fc2ef26f7467",
   "metadata": {},
   "outputs": [
    {
     "data": {
      "text/plain": [
       "array([-0.19348568,  0.405738  ,  0.22840705, -0.56458262,  0.50580326])"
      ]
     },
     "execution_count": 21,
     "metadata": {},
     "output_type": "execute_result"
    }
   ],
   "source": [
    "# Randomly generate an array from normal distribution\n",
    "arr = np.random.randn(5)\n",
    "arr"
   ]
  },
  {
   "cell_type": "code",
   "execution_count": 23,
   "id": "0a9fcb9d-2ddb-4b07-a855-0ec105061586",
   "metadata": {},
   "outputs": [
    {
     "data": {
      "text/plain": [
       "array([[-0.92739487,  1.48483466, -1.3396921 , -0.86188734],\n",
       "       [ 0.90315187, -1.98498885, -0.55227807,  0.41199768],\n",
       "       [-0.07070989, -0.22343548, -0.336405  , -1.39670714],\n",
       "       [-0.94363756, -0.29580388, -1.60599819, -0.23078882],\n",
       "       [-0.31483783,  0.11530893, -0.75861785, -0.44822601]])"
      ]
     },
     "execution_count": 23,
     "metadata": {},
     "output_type": "execute_result"
    }
   ],
   "source": [
    "# Randomly generate an array with 5 rows and 4 columns4\n",
    "arr = np.random.randn(5, 4)\n",
    "arr"
   ]
  },
  {
   "cell_type": "code",
   "execution_count": 24,
   "id": "a768ad11-c885-4f1f-8c53-498bf12586bc",
   "metadata": {},
   "outputs": [
    {
     "name": "stdout",
     "output_type": "stream",
     "text": [
      "2\n"
     ]
    }
   ],
   "source": [
    "# Generate one random integer between 0 to 9\n",
    "\n",
    "value = np.random.randint(10)\n",
    "\n",
    "print(value)"
   ]
  },
  {
   "cell_type": "code",
   "execution_count": 25,
   "id": "15cd2004-5ddc-41ab-a256-8222b1e498c0",
   "metadata": {},
   "outputs": [
    {
     "name": "stdout",
     "output_type": "stream",
     "text": [
      "Numpy Array: \n",
      " [[3 5 2 3]\n",
      " [7 0 8 9]\n",
      " [6 9 7 8]\n",
      " [1 7 4 7]\n",
      " [6 5 0 2]]\n"
     ]
    }
   ],
   "source": [
    "# Randomly generate a 5*4 array containing values in the range of 0 to 9\n",
    "arr = np.random.randint(10, size = (5, 4))\n",
    "\n",
    "print(\"Numpy Array: \\n\", arr)"
   ]
  },
  {
   "cell_type": "code",
   "execution_count": 26,
   "id": "ea753059-f02a-40e7-9cc7-f279a5c4a315",
   "metadata": {},
   "outputs": [
    {
     "name": "stdout",
     "output_type": "stream",
     "text": [
      "Numpy Array: \n",
      " [[39 10 14 34 15 24 10 38 33 26]\n",
      " [31 10 11 25 38 20 12 34 15 25]\n",
      " [35 32 27 33 17 21 21 22 39 19]\n",
      " [22 26 37 38 30 34 27 25 22 21]\n",
      " [32 34 34 18 34 14 25 19 25 18]]\n"
     ]
    }
   ],
   "source": [
    "# Randomly generate a 5*10 array containing values in the range of 10 to 39\n",
    "arr = np.random.randint(10, 40, size = (5, 10))\n",
    "\n",
    "print(\"Numpy Array: \\n\", arr)"
   ]
  },
  {
   "cell_type": "code",
   "execution_count": 27,
   "id": "04cf4bd1-bc90-45fc-94f7-21aa726adcd9",
   "metadata": {},
   "outputs": [
    {
     "name": "stdout",
     "output_type": "stream",
     "text": [
      "4.390702635278153\n"
     ]
    }
   ],
   "source": [
    "# Generate one random decimal value between 0 to 10\n",
    "value = np.random.uniform(10)\n",
    "\n",
    "print(value)"
   ]
  },
  {
   "cell_type": "code",
   "execution_count": 28,
   "id": "992bc526-2b20-4039-b347-daa0bb388da5",
   "metadata": {},
   "outputs": [
    {
     "name": "stdout",
     "output_type": "stream",
     "text": [
      "Numpy Array: \n",
      " [[2.49979064 7.20437389 1.69157263 2.2843305 ]\n",
      " [8.33258004 3.70844148 4.62652601 9.64086323]\n",
      " [8.0374574  9.05033462 7.3447642  7.46018914]\n",
      " [2.13353619 5.38706369 3.3430429  8.90532471]\n",
      " [2.08577805 2.94796005 3.6044124  3.79753071]]\n"
     ]
    }
   ],
   "source": [
    "# Randomly generate a 5*4 array containing values in the range of 0 to 10\n",
    "arr = np.random.uniform(10, size = (5, 4))\n",
    "\n",
    "print(\"Numpy Array: \\n\", arr)"
   ]
  },
  {
   "cell_type": "code",
   "execution_count": 29,
   "id": "9035cf61-725a-4fbe-92aa-429790d27b51",
   "metadata": {},
   "outputs": [
    {
     "name": "stdout",
     "output_type": "stream",
     "text": [
      "Numpy Array: \n",
      " [[21.77505522 19.34623759 12.09487222]\n",
      " [22.97609206 30.81873773 26.79888811]\n",
      " [18.94843477 32.13673532 21.73960957]\n",
      " [30.02492153 34.95012907 21.952774  ]\n",
      " [12.93134554 12.03691176 26.14272541]]\n"
     ]
    }
   ],
   "source": [
    "# Randomly generate a 5*3 array containing values in the range of 10 to 40\n",
    "arr = np.random.uniform(10, 40, size = (5, 3))\n",
    "\n",
    "print(\"Numpy Array: \\n\", arr)"
   ]
  },
  {
   "cell_type": "code",
   "execution_count": 30,
   "id": "fade1b5d-7f3e-433a-9eff-01f66d1c7aef",
   "metadata": {},
   "outputs": [
    {
     "name": "stdout",
     "output_type": "stream",
     "text": [
      "Numpy Array: \n",
      " [58 45 66 74 19]\n",
      "Shape:  (5,)\n"
     ]
    }
   ],
   "source": [
    "arr = np.random.randint(100, size = (5, ))\n",
    "\n",
    "print(\"Numpy Array: \\n\", arr)\n",
    "\n",
    "print(\"Shape: \", arr.shape)"
   ]
  },
  {
   "cell_type": "code",
   "execution_count": 32,
   "id": "01f70ada-af66-4820-9f42-eccac440242d",
   "metadata": {},
   "outputs": [
    {
     "name": "stdout",
     "output_type": "stream",
     "text": [
      "Value at 2nd index:  66\n"
     ]
    }
   ],
   "source": [
    "# Accessing 2nd index\n",
    "print(\"Value at 2nd index: \", arr[2])"
   ]
  },
  {
   "cell_type": "code",
   "execution_count": 33,
   "id": "203f322b-a951-474a-b7f1-3df666413445",
   "metadata": {},
   "outputs": [
    {
     "ename": "IndexError",
     "evalue": "index 5 is out of bounds for axis 0 with size 5",
     "output_type": "error",
     "traceback": [
      "\u001b[1;31m---------------------------------------------------------------------------\u001b[0m",
      "\u001b[1;31mIndexError\u001b[0m                                Traceback (most recent call last)",
      "Cell \u001b[1;32mIn[33], line 2\u001b[0m\n\u001b[0;32m      1\u001b[0m \u001b[38;5;66;03m# Accessing 5th index\u001b[39;00m\n\u001b[1;32m----> 2\u001b[0m \u001b[38;5;28mprint\u001b[39m(\u001b[38;5;124m\"\u001b[39m\u001b[38;5;124mValue at 5th index: \u001b[39m\u001b[38;5;124m\"\u001b[39m, arr[\u001b[38;5;241m5\u001b[39m])\n",
      "\u001b[1;31mIndexError\u001b[0m: index 5 is out of bounds for axis 0 with size 5"
     ]
    }
   ],
   "source": [
    "# Accessing 5th index\n",
    "print(\"Value at 5th index: \", arr[5])"
   ]
  },
  {
   "cell_type": "code",
   "execution_count": 34,
   "id": "9c43b717-dafb-4646-a817-8b111fa25b28",
   "metadata": {},
   "outputs": [
    {
     "name": "stdout",
     "output_type": "stream",
     "text": [
      "Numpy Array: \n",
      " [[28 81 37 40]\n",
      " [ 8 23 70 14]\n",
      " [60 23  8 65]\n",
      " [42 33 66 79]\n",
      " [69 73 75 46]]\n"
     ]
    }
   ],
   "source": [
    "# Randomly generating 2 dimensional array\n",
    "arr = np.random.randint(100, size = (5, 4))\n",
    "\n",
    "print(\"Numpy Array: \\n\", arr)"
   ]
  },
  {
   "cell_type": "code",
   "execution_count": 35,
   "id": "0e3653ce-f00f-4a3d-af23-f6fddb0894bf",
   "metadata": {},
   "outputs": [
    {
     "name": "stdout",
     "output_type": "stream",
     "text": [
      "Value at 2nd index:  [60 23  8 65]\n"
     ]
    }
   ],
   "source": [
    "# Accessing 2nd index\n",
    "print(\"Value at 2nd index: \", arr[2])"
   ]
  },
  {
   "cell_type": "code",
   "execution_count": 36,
   "id": "c7f93ec3-c2e9-4461-9111-53b61d4d2af6",
   "metadata": {},
   "outputs": [
    {
     "name": "stdout",
     "output_type": "stream",
     "text": [
      "Accessing Value using Way-1:  23\n",
      "Accessing Value using Way-2:  23\n"
     ]
    }
   ],
   "source": [
    "# Accessing value at 2, 1 index\n",
    "print(\"Accessing Value using Way-1: \", arr[2][1])\n",
    "\n",
    "print(\"Accessing Value using Way-2: \", arr[2, 1]) \n",
    "# Way-2 syntax can be helpful to access multiple values"
   ]
  },
  {
   "cell_type": "code",
   "execution_count": 37,
   "id": "1d9be0af-6ed5-4c9c-8a03-29b9cbe92263",
   "metadata": {},
   "outputs": [
    {
     "name": "stdout",
     "output_type": "stream",
     "text": [
      "[23 23]\n"
     ]
    }
   ],
   "source": [
    "# Accesssing multiple values\n",
    "print(arr[[2, 1], [1, 1]])"
   ]
  },
  {
   "cell_type": "code",
   "execution_count": 38,
   "id": "779a0773-ea64-44a7-88a5-561ac2341f92",
   "metadata": {},
   "outputs": [],
   "source": [
    "arr = np.random.randint(100, size = (10, ))"
   ]
  },
  {
   "cell_type": "code",
   "execution_count": 39,
   "id": "afe15b61-4883-46ad-b841-1e3ba10fea43",
   "metadata": {},
   "outputs": [
    {
     "name": "stdout",
     "output_type": "stream",
     "text": [
      "[63 59 87 48]\n"
     ]
    }
   ],
   "source": [
    "idx = [True, False, False, False, False, True, False, False, True, True]\n",
    "\n",
    "print(arr[idx])"
   ]
  },
  {
   "cell_type": "code",
   "execution_count": 40,
   "id": "b2961b1f-1a4a-4045-94e9-a33d2252fff4",
   "metadata": {},
   "outputs": [
    {
     "name": "stdout",
     "output_type": "stream",
     "text": [
      "[False False  True  True  True]\n"
     ]
    }
   ],
   "source": [
    "arr = np.array([10, 20, 30, 40, 50])\n",
    "mask = arr > 25  # Create a boolean mask\n",
    "\n",
    "print(mask)"
   ]
  },
  {
   "cell_type": "code",
   "execution_count": 41,
   "id": "b4189356-9199-4f18-bf34-b8f8a5f39de8",
   "metadata": {},
   "outputs": [
    {
     "name": "stdout",
     "output_type": "stream",
     "text": [
      "[30 40 50]\n"
     ]
    }
   ],
   "source": [
    "filtered_arr = arr[mask]  # Apply mask\n",
    "\n",
    "print(filtered_arr)"
   ]
  },
  {
   "cell_type": "code",
   "execution_count": 42,
   "id": "32745191-2311-4390-97ed-651a8c60e49b",
   "metadata": {},
   "outputs": [
    {
     "name": "stdout",
     "output_type": "stream",
     "text": [
      "[15 20]\n"
     ]
    }
   ],
   "source": [
    "arr = np.array([5, 10, 15, 20, 25, 30])\n",
    "\n",
    "mask = (arr > 10) & (arr < 25)  # Select numbers between 10 and 25\n",
    "\n",
    "print(arr[mask])"
   ]
  },
  {
   "cell_type": "code",
   "execution_count": 43,
   "id": "20ed8aaf-b233-41e3-9531-aebf7b295c5a",
   "metadata": {},
   "outputs": [
    {
     "name": "stdout",
     "output_type": "stream",
     "text": [
      "Numpy Array: \n",
      " [49 73 66 80 87 70 62 89 48 92]\n",
      "Shape:  (10,)\n"
     ]
    }
   ],
   "source": [
    "arr = np.random.randint(100, size = (10, ))\n",
    "\n",
    "print(\"Numpy Array: \\n\", arr)\n",
    "\n",
    "print(\"Shape: \", arr.shape)"
   ]
  },
  {
   "cell_type": "code",
   "execution_count": 44,
   "id": "b8346a40-e2db-48f4-8ad3-aea5a7748c55",
   "metadata": {},
   "outputs": [
    {
     "name": "stdout",
     "output_type": "stream",
     "text": [
      "Array Slice Before: [73 66 80]\n",
      "Array Slice After: [   73 99999    80]\n",
      "\n",
      "Original Array: [   49    73 99999    80    87    70    62    89    48    92]\n"
     ]
    }
   ],
   "source": [
    "arr_slice = arr[1:4]\n",
    "\n",
    "print(\"Array Slice Before:\", arr_slice)\n",
    "\n",
    "# Updating the arr_slice element at index 1\n",
    "arr_slice[1] = 99999\n",
    "\n",
    "print(\"Array Slice After:\", arr_slice)\n",
    "print()\n",
    "print(\"Original Array:\", arr)"
   ]
  },
  {
   "cell_type": "markdown",
   "id": "d7b0ae91-072a-4068-b58f-b353ede4141d",
   "metadata": {},
   "source": [
    "### **How to tell if the array is a view or a copy?**\n",
    "\n",
    "The **base** attribute of the ndarray makes it easy to tell if an array is a view or a copy. The base attribute of a view returns the original array while it returns None for a copy."
   ]
  },
  {
   "cell_type": "code",
   "execution_count": 45,
   "id": "dffd743b-8277-4e61-8913-49bb83120cfb",
   "metadata": {},
   "outputs": [
    {
     "name": "stdout",
     "output_type": "stream",
     "text": [
      "None\n",
      "[   49    73 99999    80    87    70    62    89    48    92]\n"
     ]
    }
   ],
   "source": [
    "print(arr.base) # base attribute of copy returns None\n",
    "\n",
    "print(arr_slice.base) # base attribute of view returns the original arra"
   ]
  },
  {
   "cell_type": "code",
   "execution_count": 46,
   "id": "de73c59f-3a20-44ea-87be-b36e98acad8e",
   "metadata": {},
   "outputs": [
    {
     "name": "stdout",
     "output_type": "stream",
     "text": [
      "[   73 99999    80]\n"
     ]
    }
   ],
   "source": [
    "print(arr[1:4])"
   ]
  },
  {
   "cell_type": "code",
   "execution_count": 47,
   "id": "1cfdd8a5-a74d-4ed8-b60d-af71324d437a",
   "metadata": {},
   "outputs": [
    {
     "name": "stdout",
     "output_type": "stream",
     "text": [
      "[   49    73 99999    80    87    70]\n"
     ]
    }
   ],
   "source": [
    "print(arr[0:-4])"
   ]
  },
  {
   "cell_type": "code",
   "execution_count": 48,
   "id": "5105b9c5-ebda-4746-b565-c97311072220",
   "metadata": {},
   "outputs": [
    {
     "name": "stdout",
     "output_type": "stream",
     "text": [
      "[   49 99999    87    62    48]\n"
     ]
    }
   ],
   "source": [
    "print(arr[::2])"
   ]
  },
  {
   "cell_type": "code",
   "execution_count": 49,
   "id": "a7baf8ae-81aa-4fc8-b375-0f1c25a03a28",
   "metadata": {},
   "outputs": [
    {
     "name": "stdout",
     "output_type": "stream",
     "text": [
      "Numpy Array: \n",
      " [[ 1  2  3  4]\n",
      " [ 5  6  7  8]\n",
      " [ 9 10 11 12]]\n",
      "Shape:  (3, 4)\n"
     ]
    }
   ],
   "source": [
    "arr = np.array([[1, 2, 3, 4], [5, 6, 7, 8], [9, 10, 11, 12]])\n",
    "\n",
    "print(\"Numpy Array: \\n\", arr)\n",
    "\n",
    "print(\"Shape: \", arr.shape)"
   ]
  },
  {
   "cell_type": "code",
   "execution_count": 50,
   "id": "f2e4cb7f-21ab-47b4-a453-8dcc7f0d8f44",
   "metadata": {},
   "outputs": [
    {
     "name": "stdout",
     "output_type": "stream",
     "text": [
      "[[2 3]\n",
      " [6 7]]\n"
     ]
    }
   ],
   "source": [
    "print(arr[:2, 1:3])"
   ]
  },
  {
   "cell_type": "code",
   "execution_count": 51,
   "id": "a4a06f89-3ea5-4663-b983-b7a0253db067",
   "metadata": {},
   "outputs": [
    {
     "name": "stdout",
     "output_type": "stream",
     "text": [
      "[[5 6 7 8]]\n"
     ]
    }
   ],
   "source": [
    "print(arr[1:2, :])"
   ]
  },
  {
   "cell_type": "code",
   "execution_count": 52,
   "id": "2f310d07-5ad8-4935-8dfd-2408218ccfb6",
   "metadata": {},
   "outputs": [
    {
     "name": "stdout",
     "output_type": "stream",
     "text": [
      "Original Array: \n",
      " [[12 45 79 17]\n",
      " [70 27 25 68]\n",
      " [49 88 11 61]\n",
      " [91 51 75  6]\n",
      " [41 65 97 39]]\n",
      "Updated Array: \n",
      " [[  12   45   79   17]\n",
      " [  70 9999   25   68]\n",
      " [  49   88   11   61]\n",
      " [  91   51   75    6]\n",
      " [  41   65   97   39]]\n"
     ]
    }
   ],
   "source": [
    "# Randomly generating 2 dimensional array\n",
    "arr = np.random.randint(100, size = (5, 4))\n",
    "\n",
    "print(\"Original Array: \\n\", arr)\n",
    "\n",
    "# Update a single element\n",
    "arr[1, 1] = 9999\n",
    "\n",
    "print(\"Updated Array: \\n\", arr)"
   ]
  },
  {
   "cell_type": "code",
   "execution_count": 53,
   "id": "faf4dea9-4d63-4018-a4fe-3730c1f74ad7",
   "metadata": {},
   "outputs": [
    {
     "name": "stdout",
     "output_type": "stream",
     "text": [
      "Updated Array: \n",
      " [[8888   45   79   17]\n",
      " [  70 9999   25   68]\n",
      " [  49   88   11   61]\n",
      " [  91   51   75    6]\n",
      " [  41 7777   97   39]]\n"
     ]
    }
   ],
   "source": [
    "arr[[0, 4], [0, 1]] = [8888, 7777]\n",
    "\n",
    "print(\"Updated Array: \\n\", arr)"
   ]
  },
  {
   "cell_type": "code",
   "execution_count": 54,
   "id": "f7f902b5-4fe2-462f-aaae-c8d08f2a0369",
   "metadata": {},
   "outputs": [
    {
     "name": "stdout",
     "output_type": "stream",
     "text": [
      "After updating row 0:\n",
      " [[ 100  200  300  400]\n",
      " [  70 9999   25   68]\n",
      " [  49   88   11   61]\n",
      " [  91   51   75    6]\n",
      " [  41 7777   97   39]]\n"
     ]
    }
   ],
   "source": [
    "arr[0] = [100, 200, 300, 400]\n",
    "\n",
    "print(\"After updating row 0:\\n\", arr)"
   ]
  },
  {
   "cell_type": "code",
   "execution_count": 55,
   "id": "e4ce4ceb-d85d-4c3b-bee9-876ef345794a",
   "metadata": {},
   "outputs": [
    {
     "name": "stdout",
     "output_type": "stream",
     "text": [
      "Original Array:\n",
      " [10 20 30 40]\n"
     ]
    }
   ],
   "source": [
    "arr = np.array([10, 20, 30, 40])\n",
    "\n",
    "print(\"Original Array:\\n\", arr)"
   ]
  },
  {
   "cell_type": "code",
   "execution_count": 56,
   "id": "7b18bfa0-eea1-40d4-aa3e-725f0b03831f",
   "metadata": {},
   "outputs": [
    {
     "name": "stdout",
     "output_type": "stream",
     "text": [
      "After Insertion: [10 20 25 30 40]\n"
     ]
    }
   ],
   "source": [
    "new_arr = np.insert(arr, 2, 25)  # Insert 25 at index 2\n",
    "\n",
    "print(\"After Insertion:\", new_arr)"
   ]
  },
  {
   "cell_type": "code",
   "execution_count": 57,
   "id": "9fa1dc4c-bb79-4ecb-bea7-da2b300c4d89",
   "metadata": {},
   "outputs": [
    {
     "name": "stdout",
     "output_type": "stream",
     "text": [
      "Original Array:\n",
      " [10 20 30 40]\n",
      "\n",
      "After Insertion: [10 99 20 30 88 40]\n"
     ]
    }
   ],
   "source": [
    "new_arr = np.insert(arr, [1, 3], [99, 88])\n",
    "\n",
    "print(\"Original Array:\\n\", arr)\n",
    "print()\n",
    "print(\"After Insertion:\", new_arr)"
   ]
  },
  {
   "cell_type": "code",
   "execution_count": 58,
   "id": "51cef3c1-5867-4dd1-85ad-6eafe4e707f6",
   "metadata": {},
   "outputs": [
    {
     "name": "stdout",
     "output_type": "stream",
     "text": [
      "Numpy Array: \n",
      " [[20 39 37 22 22 26 16 18 26 38]\n",
      " [34 23 14 17 20 29 29 19 21 15]\n",
      " [29 30 20 33 16 28 37 36 38 26]\n",
      " [24 10 29 19 16 11 13 17 31 14]\n",
      " [11 12 21 12 30 10 24 20 19 37]]\n",
      "Shape:  (5, 10)\n"
     ]
    }
   ],
   "source": [
    "# Randomly generate a 5*10 array containing values in the range of 10 to 39\n",
    "arr = np.random.randint(10, 40, size = (5, 10))\n",
    "\n",
    "print(\"Numpy Array: \\n\", arr)\n",
    "\n",
    "print(\"Shape: \", arr.shape)"
   ]
  },
  {
   "cell_type": "code",
   "execution_count": 59,
   "id": "2ab6b927-25a6-4843-96cd-0b6061700230",
   "metadata": {},
   "outputs": [
    {
     "name": "stdout",
     "output_type": "stream",
     "text": [
      "Flatten Array: \n",
      " [20 39 37 22 22 26 16 18 26 38 34 23 14 17 20 29 29 19 21 15 29 30 20 33\n",
      " 16 28 37 36 38 26 24 10 29 19 16 11 13 17 31 14 11 12 21 12 30 10 24 20\n",
      " 19 37]\n",
      "Shape:  (50,)\n"
     ]
    }
   ],
   "source": [
    "flatten_arr = arr.flatten()\n",
    "\n",
    "print(\"Flatten Array: \\n\", flatten_arr)\n",
    "print(\"Shape: \", flatten_arr.shape)"
   ]
  },
  {
   "cell_type": "code",
   "execution_count": 60,
   "id": "6f30a275-a522-4012-abea-83250a9f6aae",
   "metadata": {},
   "outputs": [
    {
     "name": "stdout",
     "output_type": "stream",
     "text": [
      "Ravel Array: \n",
      " [20 39 37 22 22 26 16 18 26 38 34 23 14 17 20 29 29 19 21 15 29 30 20 33\n",
      " 16 28 37 36 38 26 24 10 29 19 16 11 13 17 31 14 11 12 21 12 30 10 24 20\n",
      " 19 37]\n",
      "Shape:  (50,)\n"
     ]
    }
   ],
   "source": [
    "ravel_arr = arr.ravel()\n",
    "\n",
    "print(\"Ravel Array: \\n\", ravel_arr)\n",
    "print(\"Shape: \", ravel_arr.shape)"
   ]
  },
  {
   "cell_type": "code",
   "execution_count": 61,
   "id": "29c606e8-de37-4f6c-8a9a-4f7614f53f8d",
   "metadata": {},
   "outputs": [
    {
     "name": "stdout",
     "output_type": "stream",
     "text": [
      "Original Array: \n",
      " [[20 39 37 22 22 26 16 18 26 38]\n",
      " [34 23 14 17 20 29 29 19 21 15]\n",
      " [29 30 20 33 16 28 37 36 38 26]\n",
      " [24 10 29 19 16 11 13 17 31 14]\n",
      " [11 12 21 12 30 10 24 20 19 37]]\n"
     ]
    }
   ],
   "source": [
    "# Updating value in the array\n",
    "print(\"Original Array: \\n\", arr)"
   ]
  },
  {
   "cell_type": "code",
   "execution_count": 62,
   "id": "23f5e78b-367f-430b-b9d2-a33722fa4673",
   "metadata": {},
   "outputs": [
    {
     "name": "stdout",
     "output_type": "stream",
     "text": [
      "Flatten Array: \n",
      " [20 99 37 22 22 26 16 18 26 38 34 23 14 17 20 29 29 19 21 15 29 30 20 33\n",
      " 16 28 37 36 38 26 24 10 29 19 16 11 13 17 31 14 11 12 21 12 30 10 24 20\n",
      " 19 37]\n",
      "Original Array: \n",
      " [[20 39 37 22 22 26 16 18 26 38]\n",
      " [34 23 14 17 20 29 29 19 21 15]\n",
      " [29 30 20 33 16 28 37 36 38 26]\n",
      " [24 10 29 19 16 11 13 17 31 14]\n",
      " [11 12 21 12 30 10 24 20 19 37]]\n"
     ]
    }
   ],
   "source": [
    "flatten_arr[1] = 99\n",
    "\n",
    "print(\"Flatten Array: \\n\", flatten_arr)\n",
    "\n",
    "print(\"Original Array: \\n\", arr)"
   ]
  },
  {
   "cell_type": "code",
   "execution_count": 63,
   "id": "e0d1b105-b422-488b-a36a-eb689590b31f",
   "metadata": {},
   "outputs": [
    {
     "name": "stdout",
     "output_type": "stream",
     "text": [
      "Ravel Array: \n",
      " [20 99 37 22 22 26 16 18 26 38 34 23 14 17 20 29 29 19 21 15 29 30 20 33\n",
      " 16 28 37 36 38 26 24 10 29 19 16 11 13 17 31 14 11 12 21 12 30 10 24 20\n",
      " 19 37]\n",
      "Original Array: \n",
      " [[20 99 37 22 22 26 16 18 26 38]\n",
      " [34 23 14 17 20 29 29 19 21 15]\n",
      " [29 30 20 33 16 28 37 36 38 26]\n",
      " [24 10 29 19 16 11 13 17 31 14]\n",
      " [11 12 21 12 30 10 24 20 19 37]]\n"
     ]
    }
   ],
   "source": [
    "ravel_arr[1] = 99\n",
    "\n",
    "print(\"Ravel Array: \\n\", ravel_arr)\n",
    "\n",
    "print(\"Original Array: \\n\", arr)"
   ]
  },
  {
   "cell_type": "code",
   "execution_count": 64,
   "id": "06a0971a-ff36-43fc-85d8-f1910b3d963f",
   "metadata": {},
   "outputs": [
    {
     "name": "stdout",
     "output_type": "stream",
     "text": [
      "Numpy Array: \n",
      " [[38 25 15 20 12 23 25 31 35 33]\n",
      " [38 28 31 26 13 37 14 28 32 35]\n",
      " [10 12 32 30 37 28 26 37 18 19]\n",
      " [26 38 13 29 17 23 25 18 28 24]\n",
      " [15 39 28 36 23 15 32 26 18 25]]\n",
      "Shape:  (5, 10)\n"
     ]
    }
   ],
   "source": [
    "# Randomly generate a 5*10 array containing values in the range of 10 to 39\n",
    "arr = np.random.randint(10, 40, size = (5, 10))\n",
    "\n",
    "print(\"Numpy Array: \\n\", arr)\n",
    "\n",
    "print(\"Shape: \", arr.shape)"
   ]
  },
  {
   "cell_type": "code",
   "execution_count": 65,
   "id": "5de30d63-72ce-483a-963e-3bb3a11ab2f1",
   "metadata": {},
   "outputs": [
    {
     "name": "stdout",
     "output_type": "stream",
     "text": [
      "[[38 25 15 20 12]\n",
      " [23 25 31 35 33]\n",
      " [38 28 31 26 13]\n",
      " [37 14 28 32 35]\n",
      " [10 12 32 30 37]\n",
      " [28 26 37 18 19]\n",
      " [26 38 13 29 17]\n",
      " [23 25 18 28 24]\n",
      " [15 39 28 36 23]\n",
      " [15 32 26 18 25]]\n"
     ]
    }
   ],
   "source": [
    "arr_reshaped = arr.reshape(10, 5)\n",
    "\n",
    "print(arr_reshaped)"
   ]
  },
  {
   "cell_type": "code",
   "execution_count": 66,
   "id": "0d23eaa1-4248-4bde-b5d9-b4f945c939f5",
   "metadata": {},
   "outputs": [
    {
     "name": "stdout",
     "output_type": "stream",
     "text": [
      "[[38 25]\n",
      " [15 20]\n",
      " [12 23]\n",
      " [25 31]\n",
      " [35 33]\n",
      " [38 28]\n",
      " [31 26]\n",
      " [13 37]\n",
      " [14 28]\n",
      " [32 35]\n",
      " [10 12]\n",
      " [32 30]\n",
      " [37 28]\n",
      " [26 37]\n",
      " [18 19]\n",
      " [26 38]\n",
      " [13 29]\n",
      " [17 23]\n",
      " [25 18]\n",
      " [28 24]\n",
      " [15 39]\n",
      " [28 36]\n",
      " [23 15]\n",
      " [32 26]\n",
      " [18 25]]\n"
     ]
    }
   ],
   "source": [
    "arr_reshaped = arr.reshape(25, 2)\n",
    "\n",
    "print(arr_reshaped)"
   ]
  },
  {
   "cell_type": "code",
   "execution_count": 67,
   "id": "ae563b04-a29c-4058-97b7-907a220baa9e",
   "metadata": {},
   "outputs": [],
   "source": [
    "# arr_reshaped = arr.reshape(3, 3)\n",
    "\n",
    "# print(arr_reshaped)"
   ]
  },
  {
   "cell_type": "code",
   "execution_count": 68,
   "id": "77ef68d2-3064-419d-90b9-fe4382997f31",
   "metadata": {},
   "outputs": [],
   "source": [
    "# arr_reshaped = arr.reshape(5, 50)\n",
    "\n",
    "# print(arr_reshaped)"
   ]
  },
  {
   "cell_type": "code",
   "execution_count": 69,
   "id": "69ad23af-7854-48d5-82e5-a7f8f8d07538",
   "metadata": {},
   "outputs": [
    {
     "name": "stdout",
     "output_type": "stream",
     "text": [
      "Original Array: \n",
      " [[1 2 3]\n",
      " [4 5 6]]\n",
      "\n",
      "Transpose: \n",
      " [[1 4]\n",
      " [2 5]\n",
      " [3 6]]\n"
     ]
    }
   ],
   "source": [
    "# Transpose of an array\n",
    "\n",
    "x = np.array([[1, 2, 3], [4, 5, 6]])\n",
    "\n",
    "print(\"Original Array: \\n\", x)\n",
    "\n",
    "print()\n",
    "\n",
    "print(\"Transpose: \\n\", x.T)"
   ]
  },
  {
   "cell_type": "code",
   "execution_count": 70,
   "id": "cb16669b-fc00-4a4e-9586-bd8e1e80d7f1",
   "metadata": {},
   "outputs": [
    {
     "name": "stdout",
     "output_type": "stream",
     "text": [
      "Numpy Array: \n",
      " [36 20 14 34 31 12 10 12 18 20]\n",
      "Shape:  (10,)\n"
     ]
    }
   ],
   "source": [
    "# Randomly generate an array containing values in the range of 10 to 39\n",
    "import numpy as np\n",
    "\n",
    "arr1d = np.random.randint(10, 40, size = (10, ))\n",
    "\n",
    "print(\"Numpy Array: \\n\", arr1d)\n",
    "\n",
    "print(\"Shape: \", arr1d.shape)"
   ]
  },
  {
   "cell_type": "code",
   "execution_count": 71,
   "id": "bb381a45-13b7-49b1-af33-c65ad2b5509d",
   "metadata": {},
   "outputs": [
    {
     "name": "stdout",
     "output_type": "stream",
     "text": [
      "36 20 14 34 31 12 10 12 18 20 "
     ]
    }
   ],
   "source": [
    "# Looping over items in the array\n",
    "for item in arr1d:\n",
    "    print(item, end=\" \")"
   ]
  },
  {
   "cell_type": "code",
   "execution_count": 72,
   "id": "23478056-ac89-478a-92d2-1293b053848d",
   "metadata": {},
   "outputs": [
    {
     "name": "stdout",
     "output_type": "stream",
     "text": [
      "Numpy Array: \n",
      " [[12 14 28 36 33 23 38 11 12 25]\n",
      " [30 34 25 37 17 37 10 33 39 24]\n",
      " [31 22 36 14 13 38 38 35 11 16]\n",
      " [14 15 17 34 15 12 15 38 10 17]\n",
      " [39 15 19 27 28 13 31 14 32 12]]\n",
      "Shape:  (5, 10)\n"
     ]
    }
   ],
   "source": [
    "# Randomly generate a 5*10 array containing values in the range of 10 to 39\n",
    "arr2d = np.random.randint(10, 40, size = (5, 10))\n",
    "\n",
    "print(\"Numpy Array: \\n\", arr2d)\n",
    "\n",
    "print(\"Shape: \", arr2d.shape)"
   ]
  },
  {
   "cell_type": "code",
   "execution_count": 73,
   "id": "6a430a29-841c-4f7e-8624-6426aee88b70",
   "metadata": {},
   "outputs": [
    {
     "name": "stdout",
     "output_type": "stream",
     "text": [
      "[12 14 28 36 33 23 38 11 12 25]\n",
      "[30 34 25 37 17 37 10 33 39 24]\n",
      "[31 22 36 14 13 38 38 35 11 16]\n",
      "[14 15 17 34 15 12 15 38 10 17]\n",
      "[39 15 19 27 28 13 31 14 32 12]\n"
     ]
    }
   ],
   "source": [
    "# Looping over rows in the 2d array\n",
    "for row in arr2d:\n",
    "    print(row)"
   ]
  },
  {
   "cell_type": "code",
   "execution_count": 74,
   "id": "a02c2a81-7642-4443-95e9-1f9fd1e9ec49",
   "metadata": {},
   "outputs": [],
   "source": [
    "data = np.array([1, 2])\n",
    "ones = np.ones(2, dtype=int)"
   ]
  },
  {
   "cell_type": "code",
   "execution_count": 75,
   "id": "281ebbe8-710f-44f8-9d5b-e074f79c59e1",
   "metadata": {},
   "outputs": [
    {
     "name": "stdout",
     "output_type": "stream",
     "text": [
      "[2 3]\n"
     ]
    }
   ],
   "source": [
    "result = data + ones\n",
    "\n",
    "print(result)"
   ]
  },
  {
   "cell_type": "code",
   "execution_count": 76,
   "id": "3d59d970-0fb8-40e0-8e84-b7ebad54f89a",
   "metadata": {},
   "outputs": [
    {
     "name": "stdout",
     "output_type": "stream",
     "text": [
      "[0 1]\n"
     ]
    }
   ],
   "source": [
    "result = data - ones\n",
    "\n",
    "print(result)"
   ]
  },
  {
   "cell_type": "code",
   "execution_count": 77,
   "id": "4605d3e3-bb6a-46fc-b655-d918fe7c4f7d",
   "metadata": {},
   "outputs": [
    {
     "name": "stdout",
     "output_type": "stream",
     "text": [
      "[1 4]\n"
     ]
    }
   ],
   "source": [
    "result = data * data\n",
    "\n",
    "print(result)"
   ]
  },
  {
   "cell_type": "code",
   "execution_count": 78,
   "id": "af444a53-d2fc-446d-896d-12270c335ed0",
   "metadata": {},
   "outputs": [
    {
     "name": "stdout",
     "output_type": "stream",
     "text": [
      "[1. 1.]\n"
     ]
    }
   ],
   "source": [
    "result = data / data\n",
    "\n",
    "print(result)"
   ]
  },
  {
   "cell_type": "code",
   "execution_count": 79,
   "id": "bd192836-a036-4a75-b1c1-ab892991fc3d",
   "metadata": {},
   "outputs": [
    {
     "name": "stdout",
     "output_type": "stream",
     "text": [
      "Square Root:  2.0\n",
      "Exponent:  2.718281828459045\n",
      "Trigonometric Sin:  0.0\n",
      "Trigonometric Cos:  1.0\n"
     ]
    }
   ],
   "source": [
    "print(\"Square Root: \", np.sqrt(4))\n",
    "\n",
    "print(\"Exponent: \", np.exp(1))\n",
    "\n",
    "print(\"Trigonometric Sin: \", np.sin(0))\n",
    "\n",
    "print(\"Trigonometric Cos: \", np.cos(0))"
   ]
  },
  {
   "cell_type": "code",
   "execution_count": 80,
   "id": "9a062eea-ca23-4cee-ba10-255a7dd0964a",
   "metadata": {},
   "outputs": [
    {
     "name": "stdout",
     "output_type": "stream",
     "text": [
      "Square Root:  [1.         1.41421356 1.73205081 2.        ]\n",
      "Exponent:  [ 2.71828183  7.3890561  20.08553692 54.59815003]\n",
      "Trigonometric Sin:  [ 0.84147098  0.90929743  0.14112001 -0.7568025 ]\n",
      "Trigonometric Cos:  [ 0.54030231 -0.41614684 -0.9899925  -0.65364362]\n"
     ]
    }
   ],
   "source": [
    "arr = np.array([1, 2, 3, 4])\n",
    "\n",
    "print(\"Square Root: \", np.sqrt(arr))\n",
    "\n",
    "print(\"Exponent: \", np.exp(arr))\n",
    "\n",
    "print(\"Trigonometric Sin: \", np.sin(arr))\n",
    "\n",
    "print(\"Trigonometric Cos: \", np.cos(arr))"
   ]
  },
  {
   "cell_type": "code",
   "execution_count": 81,
   "id": "d313c487-7dbb-4351-afb1-88b19c38ba6d",
   "metadata": {},
   "outputs": [
    {
     "name": "stdout",
     "output_type": "stream",
     "text": [
      "Elementwise Addition: \n",
      " [[ 6  8]\n",
      " [10 12]]\n",
      "Elementwise Subtraction: \n",
      " [[-4 -4]\n",
      " [-4 -4]]\n",
      "Elementwise Multiplication: \n",
      " [[ 5 12]\n",
      " [21 32]]\n",
      "Elementwise Division: \n",
      " [[0.2        0.33333333]\n",
      " [0.42857143 0.5       ]]\n"
     ]
    }
   ],
   "source": [
    "# ELEMENT WISE OPERATIONS\n",
    "\n",
    "x = np.array([[1,2], [3,4]])\n",
    "\n",
    "y = np.array([[5,6], [7,8]])\n",
    "\n",
    "print(\"Elementwise Addition: \\n\", np.add(x, y))\n",
    "\n",
    "print(\"Elementwise Subtraction: \\n\", np.subtract(x, y))\n",
    "\n",
    "print(\"Elementwise Multiplication: \\n\", np.multiply(x, y))\n",
    "\n",
    "print(\"Elementwise Division: \\n\", np.divide(x, y))"
   ]
  },
  {
   "cell_type": "code",
   "execution_count": 82,
   "id": "a3fc9d3d-5fd7-4dd4-87d8-78cd93d2c7e0",
   "metadata": {},
   "outputs": [
    {
     "name": "stdout",
     "output_type": "stream",
     "text": [
      "Matrix Multiplication (Way-1): \n",
      " [[19 22]\n",
      " [43 50]]\n",
      "Matrix Multiplication (Way-2): \n",
      " [[19 22]\n",
      " [43 50]]\n",
      "Matrix Multiplication (Way-3): \n",
      " [[19 22]\n",
      " [43 50]]\n"
     ]
    }
   ],
   "source": [
    "# Matrix Multiplication\n",
    "import numpy as np\n",
    "\n",
    "x = np.array([[1,2], [3,4]])\n",
    "\n",
    "y = np.array([[5,6], [7,8]])\n",
    "\n",
    "print(\"Matrix Multiplication (Way-1): \\n\", np.matmul(x, y))\n",
    "\n",
    "print(\"Matrix Multiplication (Way-2): \\n\", np.dot(x, y))\n",
    "\n",
    "print(\"Matrix Multiplication (Way-3): \\n\", x @ y)"
   ]
  },
  {
   "cell_type": "code",
   "execution_count": 83,
   "id": "e88d5c57-6166-41b9-bfce-ca48544ca6fe",
   "metadata": {},
   "outputs": [
    {
     "name": "stdout",
     "output_type": "stream",
     "text": [
      "Array: \n",
      " [1 2 3 4]\n",
      "Sum:  10\n",
      "Columnwise Sum:  [4 6]\n",
      "Rowwise Sum:  [3 7]\n"
     ]
    }
   ],
   "source": [
    "x = np.array([[1,2], [3,4]])\n",
    "\n",
    "print(\"Array: \\n\", arr)\n",
    "\n",
    "print(\"Sum: \", np.sum(x))\n",
    "\n",
    "print(\"Columnwise Sum: \", np.sum(x, axis=0)) # Affects Columns\n",
    "\n",
    "print(\"Rowwise Sum: \", np.sum(x, axis=1)) # Affects Rows"
   ]
  },
  {
   "cell_type": "code",
   "execution_count": 84,
   "id": "cfe93bdf-c5fb-47a5-95a6-d7d773adfa80",
   "metadata": {},
   "outputs": [
    {
     "name": "stdout",
     "output_type": "stream",
     "text": [
      "Array: \n",
      " [[1 2 3]\n",
      " [4 5 6]]\n",
      "Minimum:  1\n",
      "Columnwise Minimum:  [1 2 3]\n",
      "Rowwise Minimum:  [1 4]\n"
     ]
    }
   ],
   "source": [
    "x = np.array([[1, 2, 3], [4, 5, 6]])\n",
    "\n",
    "print(\"Array: \\n\", x)\n",
    "\n",
    "print(\"Minimum: \", np.min(x))\n",
    "\n",
    "print(\"Columnwise Minimum: \", np.min(x, axis=0)) # Affects Columns\n",
    "\n",
    "print(\"Rowwise Minimum: \", np.min(x, axis=1)) # Affects Rows"
   ]
  },
  {
   "cell_type": "code",
   "execution_count": 85,
   "id": "b35e360c-4f03-4a79-87fe-4a4a24923a16",
   "metadata": {},
   "outputs": [
    {
     "name": "stdout",
     "output_type": "stream",
     "text": [
      "Array: \n",
      " [160 180 146 162 184 180]\n",
      "Minimum:  146\n",
      "Maximum:  184\n",
      "Mean:  168.66666666666666\n",
      "Median:  171.0\n",
      "Variance:  187.55555555555557\n",
      "Std Dev:  13.695092389449425\n"
     ]
    }
   ],
   "source": [
    "x = np.array([160, 180, 146, 162, 184, 180])\n",
    "\n",
    "print(\"Array: \\n\", x)\n",
    "\n",
    "print(\"Minimum: \", np.min(x))\n",
    "\n",
    "print(\"Maximum: \", np.max(x))\n",
    "\n",
    "print(\"Mean: \", np.mean(x))\n",
    "\n",
    "print(\"Median: \", np.median(x))\n",
    "\n",
    "print(\"Variance: \", np.var(x))\n",
    "\n",
    "print(\"Std Dev: \", np.std(x))"
   ]
  },
  {
   "cell_type": "code",
   "execution_count": 86,
   "id": "7f867c0f-40ad-4074-b742-4d018d302441",
   "metadata": {},
   "outputs": [
    {
     "name": "stdout",
     "output_type": "stream",
     "text": [
      "Original Array: \n",
      " [[1 2 3]\n",
      " [4 5 6]]\n",
      "Diagonal:  [1 5]\n"
     ]
    }
   ],
   "source": [
    "# Diagonal elements\n",
    "\n",
    "x = np.array([[1, 2, 3], [4, 5, 6]])\n",
    "\n",
    "print(\"Original Array: \\n\", x)\n",
    "\n",
    "print(\"Diagonal: \", np.diag(x))"
   ]
  },
  {
   "cell_type": "code",
   "execution_count": 87,
   "id": "f2bfa76e-b6b7-4dbc-a62d-af6f0d2a9447",
   "metadata": {},
   "outputs": [
    {
     "name": "stdout",
     "output_type": "stream",
     "text": [
      "Original Array: \n",
      " [[1 2 3]\n",
      " [4 5 6]]\n"
     ]
    }
   ],
   "source": [
    "x = np.array([[1, 2, 3], [4, 5, 6]])\n",
    "\n",
    "print(\"Original Array: \\n\", x)"
   ]
  },
  {
   "cell_type": "code",
   "execution_count": 88,
   "id": "60565df3-7371-45c4-b589-eca4addfc291",
   "metadata": {},
   "outputs": [
    {
     "name": "stdout",
     "output_type": "stream",
     "text": [
      "[[ 6  7  8]\n",
      " [ 9 10 11]]\n"
     ]
    }
   ],
   "source": [
    "print(x + 5)"
   ]
  },
  {
   "cell_type": "code",
   "execution_count": 89,
   "id": "0b31fc60-1f99-49e4-b83e-ef347c2901fd",
   "metadata": {},
   "outputs": [
    {
     "name": "stdout",
     "output_type": "stream",
     "text": [
      "[[1 0 1]\n",
      " [0 1 0]]\n"
     ]
    }
   ],
   "source": [
    "print(x % 2)"
   ]
  },
  {
   "cell_type": "code",
   "execution_count": 90,
   "id": "e254df2e-feb6-4c08-ace4-740a88193386",
   "metadata": {},
   "outputs": [
    {
     "name": "stdout",
     "output_type": "stream",
     "text": [
      "[[False False  True]\n",
      " [ True  True  True]]\n"
     ]
    }
   ],
   "source": [
    "print(x >= 3)"
   ]
  },
  {
   "cell_type": "code",
   "execution_count": 91,
   "id": "fd200b24-789d-48f3-8ff1-e471c3227e6f",
   "metadata": {},
   "outputs": [
    {
     "name": "stdout",
     "output_type": "stream",
     "text": [
      "[[False  True False]\n",
      " [ True False  True]]\n"
     ]
    }
   ],
   "source": [
    "print(x % 2 == 0)"
   ]
  },
  {
   "cell_type": "code",
   "execution_count": 92,
   "id": "1b8a7949-ac4e-4273-8c7a-ecbeacbdbc1d",
   "metadata": {},
   "outputs": [
    {
     "name": "stdout",
     "output_type": "stream",
     "text": [
      "Reversed Array:\n",
      " [8 7 6 5 4 3 2 1]\n"
     ]
    }
   ],
   "source": [
    "arr = np.array([1, 2, 3, 4, 5, 6, 7, 8])\n",
    "\n",
    "reversed_arr = np.flip(arr)\n",
    "\n",
    "print('Reversed Array:\\n', reversed_arr)\n"
   ]
  },
  {
   "cell_type": "code",
   "execution_count": 93,
   "id": "3d6e43a5-5e1d-4e8b-add5-c2dad74fcda9",
   "metadata": {},
   "outputs": [],
   "source": [
    "arr = np.array([10, -5, 6, -1])"
   ]
  },
  {
   "cell_type": "code",
   "execution_count": 94,
   "id": "21dded14-4aee-473a-82c6-b08f8e583721",
   "metadata": {},
   "outputs": [
    {
     "name": "stdout",
     "output_type": "stream",
     "text": [
      "Index of minimum element: 1\n"
     ]
    }
   ],
   "source": [
    "print(\"Index of minimum element:\", arr.argmin())"
   ]
  },
  {
   "cell_type": "code",
   "execution_count": 95,
   "id": "e1cf6212-129b-437f-bfc3-ef6c0d4ce546",
   "metadata": {},
   "outputs": [
    {
     "name": "stdout",
     "output_type": "stream",
     "text": [
      "Index of maximum element: 0\n"
     ]
    }
   ],
   "source": [
    "print(\"Index of maximum element:\", arr.argmax())"
   ]
  },
  {
   "cell_type": "code",
   "execution_count": 96,
   "id": "bc49360f-134c-4413-8a0e-c4c8cf7fb936",
   "metadata": {},
   "outputs": [
    {
     "name": "stdout",
     "output_type": "stream",
     "text": [
      "Indexes: [1 3 2 0]\n",
      "Sorted Array: [-5 -1  6 10]\n"
     ]
    }
   ],
   "source": [
    "print(\"Indexes:\", arr.argsort()) # Returns indexes\n",
    "\n",
    "print(\"Sorted Array:\", arr[ arr.argsort() ])"
   ]
  },
  {
   "cell_type": "code",
   "execution_count": null,
   "id": "6908bc44-2dc7-4726-9c33-7423b71611de",
   "metadata": {},
   "outputs": [],
   "source": []
  }
 ],
 "metadata": {
  "kernelspec": {
   "display_name": "Python [conda env:base] *",
   "language": "python",
   "name": "conda-base-py"
  },
  "language_info": {
   "codemirror_mode": {
    "name": "ipython",
    "version": 3
   },
   "file_extension": ".py",
   "mimetype": "text/x-python",
   "name": "python",
   "nbconvert_exporter": "python",
   "pygments_lexer": "ipython3",
   "version": "3.13.5"
  }
 },
 "nbformat": 4,
 "nbformat_minor": 5
}
