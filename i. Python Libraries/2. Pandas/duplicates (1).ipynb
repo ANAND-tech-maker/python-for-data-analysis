{
 "cells": [
  {
   "cell_type": "code",
   "execution_count": 1,
   "id": "03685dbb-016a-40e8-a955-8aa7b83c8c29",
   "metadata": {},
   "outputs": [],
   "source": [
    "import pandas as pd\n",
    "\n",
    "# Creating the DataFrame\n",
    "data = {\n",
    "    \"Name\": [\"Raj\", \"Gaurav\", \"Sravan\", \"Prashanth\", \"Karthik\", \"Raj\"],\n",
    "    \"marks\": [56, 89, 90, 45, 34, 56],\n",
    "    \"city\": [\"Pune\", \"Bangalore\", \"Mumbai\", \"Delhi\", \"Kolkata\", \"Pune\"]\n",
    "}\n",
    "\n",
    "df = pd.DataFrame(data)\n"
   ]
  },
  {
   "cell_type": "code",
   "execution_count": 3,
   "id": "14133553-cc5e-4b6e-bb2d-66c1898f25dc",
   "metadata": {},
   "outputs": [
    {
     "name": "stdout",
     "output_type": "stream",
     "text": [
      "Original DataFrame:\n",
      "        Name  marks       city\n",
      "0        Raj     56       Pune\n",
      "1     Gaurav     89  Bangalore\n",
      "2     Sravan     90     Mumbai\n",
      "3  Prashanth     45      Delhi\n",
      "4    Karthik     34    Kolkata\n",
      "5        Raj     56       Pune\n"
     ]
    }
   ],
   "source": [
    "# Printing Original DataFrame\n",
    "print(\"Original DataFrame:\")\n",
    "print(df)\n"
   ]
  },
  {
   "cell_type": "code",
   "execution_count": 5,
   "id": "61f68187-ff89-4c05-a0d5-02c0283bbfe3",
   "metadata": {},
   "outputs": [
    {
     "name": "stdout",
     "output_type": "stream",
     "text": [
      "\n",
      "DataFrame after keep='first':\n",
      "        Name  marks       city\n",
      "0        Raj     56       Pune\n",
      "1     Gaurav     89  Bangalore\n",
      "2     Sravan     90     Mumbai\n",
      "3  Prashanth     45      Delhi\n",
      "4    Karthik     34    Kolkata\n"
     ]
    }
   ],
   "source": [
    "# Keep the first occurrence and remove later duplicates\n",
    "df_first = df.copy()  # Copying the original DataFrame\n",
    "df_first.drop_duplicates(subset=\"Name\", keep=\"first\", inplace=True)\n",
    "print(\"\\nDataFrame after keep='first':\")\n",
    "print(df_first)\n"
   ]
  },
  {
   "cell_type": "code",
   "execution_count": 7,
   "id": "d40a9610-794b-4c6b-bb7e-0835b6f9a65e",
   "metadata": {},
   "outputs": [
    {
     "name": "stdout",
     "output_type": "stream",
     "text": [
      "\n",
      "DataFrame after keep='last':\n",
      "        Name  marks       city\n",
      "1     Gaurav     89  Bangalore\n",
      "2     Sravan     90     Mumbai\n",
      "3  Prashanth     45      Delhi\n",
      "4    Karthik     34    Kolkata\n",
      "5        Raj     56       Pune\n"
     ]
    }
   ],
   "source": [
    "# Keep the last occurrence and remove earlier duplicates\n",
    "df_last = df.copy()  # Copying the original DataFrame\n",
    "df_last.drop_duplicates(subset=\"Name\", keep=\"last\", inplace=True)\n",
    "print(\"\\nDataFrame after keep='last':\")\n",
    "print(df_last)\n"
   ]
  },
  {
   "cell_type": "code",
   "execution_count": 9,
   "id": "7d5cfff1-b3e6-4cd8-813f-9c56cc5c4f28",
   "metadata": {},
   "outputs": [
    {
     "name": "stdout",
     "output_type": "stream",
     "text": [
      "\n",
      "DataFrame after keep=False (removing all duplicates):\n",
      "        Name  marks       city\n",
      "1     Gaurav     89  Bangalore\n",
      "2     Sravan     90     Mumbai\n",
      "3  Prashanth     45      Delhi\n",
      "4    Karthik     34    Kolkata\n"
     ]
    }
   ],
   "source": [
    "# Remove all occurrences of duplicates\n",
    "df_no_dupes = df.copy()  # Copying the original DataFrame\n",
    "df_no_dupes.drop_duplicates(subset=\"Name\", keep=False, inplace=True)\n",
    "print(\"\\nDataFrame after keep=False (removing all duplicates):\")\n",
    "print(df_no_dupes)\n"
   ]
  },
  {
   "cell_type": "code",
   "execution_count": null,
   "id": "15081640-9f80-4c75-a8a8-aa9126b3ca69",
   "metadata": {},
   "outputs": [],
   "source": []
  }
 ],
 "metadata": {
  "kernelspec": {
   "display_name": "Python [conda env:base] *",
   "language": "python",
   "name": "conda-base-py"
  },
  "language_info": {
   "codemirror_mode": {
    "name": "ipython",
    "version": 3
   },
   "file_extension": ".py",
   "mimetype": "text/x-python",
   "name": "python",
   "nbconvert_exporter": "python",
   "pygments_lexer": "ipython3",
   "version": "3.13.5"
  }
 },
 "nbformat": 4,
 "nbformat_minor": 5
}
