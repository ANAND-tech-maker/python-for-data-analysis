{
 "cells": [
  {
   "cell_type": "markdown",
   "id": "d9a40ae6-335c-4fe0-8426-09e413e9bc4c",
   "metadata": {},
   "source": [
    "### Find the common elements in two lists"
   ]
  },
  {
   "cell_type": "code",
   "execution_count": 21,
   "id": "f74d1320-39aa-44ed-8ad0-0a63523f1fe5",
   "metadata": {},
   "outputs": [],
   "source": [
    "list1 = [1,2,3,4,5,6,9,8]"
   ]
  },
  {
   "cell_type": "code",
   "execution_count": 23,
   "id": "deeeb7df-b671-48f9-94f5-bfa9430e486d",
   "metadata": {},
   "outputs": [],
   "source": [
    "list2 = [4,5,6,9,1]"
   ]
  },
  {
   "cell_type": "code",
   "execution_count": 25,
   "id": "9fbbfcf1-67df-49ba-8e83-92ae0d2fc896",
   "metadata": {},
   "outputs": [],
   "source": [
    "set1 = set(list1)\n",
    "set2 = set(list2)"
   ]
  },
  {
   "cell_type": "code",
   "execution_count": 27,
   "id": "e619ea6e-cf45-4f64-bb79-7314a583977c",
   "metadata": {},
   "outputs": [],
   "source": [
    "set_list = set1.intersection(set2)"
   ]
  },
  {
   "cell_type": "code",
   "execution_count": 29,
   "id": "b03641b9-1069-45e2-b6db-02011aedb221",
   "metadata": {},
   "outputs": [],
   "source": [
    "common_elements = list(set_list)"
   ]
  },
  {
   "cell_type": "code",
   "execution_count": 31,
   "id": "329d1c1e-3e86-418c-ac64-ebd43aba5070",
   "metadata": {},
   "outputs": [
    {
     "data": {
      "text/plain": [
       "[1, 4, 5, 6, 9]"
      ]
     },
     "execution_count": 31,
     "metadata": {},
     "output_type": "execute_result"
    }
   ],
   "source": [
    "common_elements"
   ]
  },
  {
   "cell_type": "code",
   "execution_count": null,
   "id": "4d85943b-2fa0-48b0-bdf1-056bc324f361",
   "metadata": {},
   "outputs": [],
   "source": []
  }
 ],
 "metadata": {
  "kernelspec": {
   "display_name": "Python [conda env:base] *",
   "language": "python",
   "name": "conda-base-py"
  },
  "language_info": {
   "codemirror_mode": {
    "name": "ipython",
    "version": 3
   },
   "file_extension": ".py",
   "mimetype": "text/x-python",
   "name": "python",
   "nbconvert_exporter": "python",
   "pygments_lexer": "ipython3",
   "version": "3.12.7"
  }
 },
 "nbformat": 4,
 "nbformat_minor": 5
}
