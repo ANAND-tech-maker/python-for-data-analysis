{
 "cells": [
  {
   "cell_type": "markdown",
   "id": "9577238b-b26c-4d47-a950-a1774fa929d0",
   "metadata": {},
   "source": [
    "### Word Frequency Counter"
   ]
  },
  {
   "cell_type": "code",
   "execution_count": 3,
   "id": "16cc83ca-120c-457d-852b-93b72c5ae2ab",
   "metadata": {},
   "outputs": [],
   "source": [
    "text = \"python is easy and python is powerful\""
   ]
  },
  {
   "cell_type": "code",
   "execution_count": 7,
   "id": "44b610a8-2eb1-49c0-a00e-9396a6d20474",
   "metadata": {},
   "outputs": [],
   "source": [
    "text_split = text.split()"
   ]
  },
  {
   "cell_type": "code",
   "execution_count": 26,
   "id": "178e86db-406a-4e25-8668-f6ddad6ecd14",
   "metadata": {},
   "outputs": [],
   "source": [
    "txt_cnt1 = text_split.count(\"python\")"
   ]
  },
  {
   "cell_type": "code",
   "execution_count": 28,
   "id": "fc0015de-bc6e-42a3-91de-eef8349c8708",
   "metadata": {},
   "outputs": [],
   "source": [
    "txt_cnt2 = text_split.count(\"is\")"
   ]
  },
  {
   "cell_type": "code",
   "execution_count": 30,
   "id": "63886fdb-b122-4c79-b78b-8746fd83f4bd",
   "metadata": {},
   "outputs": [],
   "source": [
    "txt_cnt3 = text_split.count(\"easy\")"
   ]
  },
  {
   "cell_type": "code",
   "execution_count": 32,
   "id": "43ce09b3-4269-4983-a572-10e7eb5bde88",
   "metadata": {},
   "outputs": [],
   "source": [
    "txt_cnt4 = text_split.count(\"and\")"
   ]
  },
  {
   "cell_type": "code",
   "execution_count": 34,
   "id": "1bb30563-1a4d-426c-9ddd-3782946de816",
   "metadata": {},
   "outputs": [],
   "source": [
    "txt_cnt5 = text_split.count(\"powerful\")"
   ]
  },
  {
   "cell_type": "code",
   "execution_count": 48,
   "id": "911fe1e4-02cd-47c2-82fd-8b20d0da7a8c",
   "metadata": {},
   "outputs": [
    {
     "name": "stdout",
     "output_type": "stream",
     "text": [
      "{'python': 2, 'is': 2, 'easy': 1, 'and': 1, 'powerful': 1}\n"
     ]
    }
   ],
   "source": [
    "print({\"python\":txt_cnt1,\"is\":txt_cnt2,\"easy\":txt_cnt3,\"and\":txt_cnt4,\"powerful\":txt_cnt5})"
   ]
  },
  {
   "cell_type": "code",
   "execution_count": null,
   "id": "05758bbc-b6b3-4dad-823e-8c48d3b6389a",
   "metadata": {},
   "outputs": [],
   "source": []
  }
 ],
 "metadata": {
  "kernelspec": {
   "display_name": "Python [conda env:base] *",
   "language": "python",
   "name": "conda-base-py"
  },
  "language_info": {
   "codemirror_mode": {
    "name": "ipython",
    "version": 3
   },
   "file_extension": ".py",
   "mimetype": "text/x-python",
   "name": "python",
   "nbconvert_exporter": "python",
   "pygments_lexer": "ipython3",
   "version": "3.12.7"
  }
 },
 "nbformat": 4,
 "nbformat_minor": 5
}
