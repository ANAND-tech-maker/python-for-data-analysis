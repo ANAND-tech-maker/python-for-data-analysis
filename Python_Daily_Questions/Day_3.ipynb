{
 "cells": [
  {
   "cell_type": "markdown",
   "id": "686ffa1c-f574-43b2-a953-15d169051e06",
   "metadata": {},
   "source": [
    "###  Problem: Largest of Three Numbers\n",
    "#### Question 3. Write a Python program that takes three numbers as input and prints the largest number.\n"
   ]
  },
  {
   "cell_type": "code",
   "execution_count": 55,
   "id": "e242d893-3e14-44ec-a8f6-d8b2d23e19d0",
   "metadata": {},
   "outputs": [
    {
     "name": "stdin",
     "output_type": "stream",
     "text": [
      "enter the num_1 :  45555\n",
      "enter the num_2 :  4\n",
      "enter the nun_3 :  1\n"
     ]
    },
    {
     "name": "stdout",
     "output_type": "stream",
     "text": [
      "Largest number is : 45555\n"
     ]
    }
   ],
   "source": [
    "a = int(input(\"enter the num_1 : \"))\n",
    "b = int(input(\"enter the num_2 : \"))\n",
    "c = int(input(\"enter the nun_3 : \"))\n",
    "\n",
    "d = a,b,c\n",
    "list1 = list(d)\n",
    "list1.sort()\n",
    "print(\"Largest number is :\" ,d[0])"
   ]
  }
 ],
 "metadata": {
  "kernelspec": {
   "display_name": "Python [conda env:base] *",
   "language": "python",
   "name": "conda-base-py"
  },
  "language_info": {
   "codemirror_mode": {
    "name": "ipython",
    "version": 3
   },
   "file_extension": ".py",
   "mimetype": "text/x-python",
   "name": "python",
   "nbconvert_exporter": "python",
   "pygments_lexer": "ipython3",
   "version": "3.12.7"
  }
 },
 "nbformat": 4,
 "nbformat_minor": 5
}
