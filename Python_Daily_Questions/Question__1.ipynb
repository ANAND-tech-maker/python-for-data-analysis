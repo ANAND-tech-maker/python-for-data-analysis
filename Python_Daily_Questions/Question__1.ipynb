{
 "cells": [
  {
   "cell_type": "markdown",
   "id": "a99c6851-a426-4998-bfe5-b47275bb37d5",
   "metadata": {},
   "source": [
    "# Question 1:\n",
    "#### Write a Python program that:\n",
    "#### Takes your name as input.\n",
    "#### Prints:"
   ]
  },
  {
   "cell_type": "code",
   "execution_count": 46,
   "id": "4a8585e6-5ae2-4f8f-bddd-98336b8b64b2",
   "metadata": {},
   "outputs": [
    {
     "name": "stdin",
     "output_type": "stream",
     "text": [
      "ENTER YOUR NAME:  Anand\n"
     ]
    },
    {
     "name": "stdout",
     "output_type": "stream",
     "text": [
      "Hello,your Anand  Welcome to Python.\n"
     ]
    }
   ],
   "source": [
    "name = input(\"ENTER YOUR NAME: \")\n",
    "print(\"Hello,your\" , name ,\" Welcome to Python.\")"
   ]
  },
  {
   "cell_type": "code",
   "execution_count": null,
   "id": "d3f946c9-0a0d-49c8-977a-97cae3c5b941",
   "metadata": {},
   "outputs": [],
   "source": []
  },
  {
   "cell_type": "code",
   "execution_count": null,
   "id": "30b36e57-8fc1-470e-9940-cc43d7a4b8a2",
   "metadata": {},
   "outputs": [],
   "source": []
  }
 ],
 "metadata": {
  "kernelspec": {
   "display_name": "Python [conda env:base] *",
   "language": "python",
   "name": "conda-base-py"
  },
  "language_info": {
   "codemirror_mode": {
    "name": "ipython",
    "version": 3
   },
   "file_extension": ".py",
   "mimetype": "text/x-python",
   "name": "python",
   "nbconvert_exporter": "python",
   "pygments_lexer": "ipython3",
   "version": "3.12.7"
  }
 },
 "nbformat": 4,
 "nbformat_minor": 5
}
