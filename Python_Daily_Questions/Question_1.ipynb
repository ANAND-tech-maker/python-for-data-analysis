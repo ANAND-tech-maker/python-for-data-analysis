{
 "cells": [
  {
   "cell_type": "markdown",
   "id": "a99c6851-a426-4998-bfe5-b47275bb37d5",
   "metadata": {},
   "source": [
    "# Question 1:\n",
    "#### Write a Python program that:\n",
    "#### Takes your name as input.\n",
    "#### Prints:"
   ]
  },
  {
   "cell_type": "code",
   "execution_count": null,
   "id": "4a8585e6-5ae2-4f8f-bddd-98336b8b64b2",
   "metadata": {},
   "outputs": [],
   "source": [
    "name = input(\"ENTER YOUR NAME: \")\n"
   ]
  },
  {
   "cell_type": "code",
   "execution_count": null,
   "id": "dd4c28ba-2798-4300-8ff6-a0e8e6c220d6",
   "metadata": {},
   "outputs": [],
   "source": []
  },
  {
   "cell_type": "code",
   "execution_count": null,
   "id": "57cbe6e8-166d-45f3-a2d0-ff6e6d4d80db",
   "metadata": {},
   "outputs": [],
   "source": []
  },
  {
   "cell_type": "code",
   "execution_count": null,
   "id": "98483fb1-f3e0-46f8-9fe3-5e47e916a397",
   "metadata": {},
   "outputs": [],
   "source": []
  },
  {
   "cell_type": "code",
   "execution_count": null,
   "id": "d3f946c9-0a0d-49c8-977a-97cae3c5b941",
   "metadata": {},
   "outputs": [],
   "source": []
  },
  {
   "cell_type": "code",
   "execution_count": null,
   "id": "30b36e57-8fc1-470e-9940-cc43d7a4b8a2",
   "metadata": {},
   "outputs": [],
   "source": []
  }
 ],
 "metadata": {
  "kernelspec": {
   "display_name": "Python [conda env:base] *",
   "language": "python",
   "name": "conda-base-py"
  },
  "language_info": {
   "codemirror_mode": {
    "name": "ipython",
    "version": 3
   },
   "file_extension": ".py",
   "mimetype": "text/x-python",
   "name": "python",
   "nbconvert_exporter": "python",
   "pygments_lexer": "ipython3",
   "version": "3.12.7"
  }
 },
 "nbformat": 4,
 "nbformat_minor": 5
}
