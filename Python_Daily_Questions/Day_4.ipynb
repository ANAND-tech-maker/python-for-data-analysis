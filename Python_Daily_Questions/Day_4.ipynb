{
 "cells": [
  {
   "cell_type": "markdown",
   "id": "a188e93f-3a30-4cdd-89bd-ce7c3aec02d4",
   "metadata": {},
   "source": [
    "### Challenging Problem: Remove Duplicates\n",
    "####  Question 4. Take a list with duplicate elements and create a new list without duplicates.\n"
   ]
  },
  {
   "cell_type": "code",
   "execution_count": 3,
   "id": "e54efce2-15b9-4ac2-bfb0-fcf959920c49",
   "metadata": {},
   "outputs": [],
   "source": [
    "list1 = [ 1,1,2,2,3,3,4,4,5,5,6,6,7,7,8,8]"
   ]
  },
  {
   "cell_type": "code",
   "execution_count": 7,
   "id": "d498e1d0-6024-4475-8875-14d412a77bea",
   "metadata": {},
   "outputs": [],
   "source": [
    "cvrt_set = set(list1)"
   ]
  },
  {
   "cell_type": "code",
   "execution_count": 9,
   "id": "97d579e7-32c7-419d-85a6-48285496d90c",
   "metadata": {},
   "outputs": [
    {
     "name": "stdout",
     "output_type": "stream",
     "text": [
      "{1, 2, 3, 4, 5, 6, 7, 8}\n"
     ]
    }
   ],
   "source": [
    "print(cvrt_set)"
   ]
  },
  {
   "cell_type": "code",
   "execution_count": null,
   "id": "37f01eee-c76a-4dd7-839b-cb8459d9258b",
   "metadata": {},
   "outputs": [],
   "source": []
  }
 ],
 "metadata": {
  "kernelspec": {
   "display_name": "Python [conda env:base] *",
   "language": "python",
   "name": "conda-base-py"
  },
  "language_info": {
   "codemirror_mode": {
    "name": "ipython",
    "version": 3
   },
   "file_extension": ".py",
   "mimetype": "text/x-python",
   "name": "python",
   "nbconvert_exporter": "python",
   "pygments_lexer": "ipython3",
   "version": "3.12.7"
  }
 },
 "nbformat": 4,
 "nbformat_minor": 5
}
