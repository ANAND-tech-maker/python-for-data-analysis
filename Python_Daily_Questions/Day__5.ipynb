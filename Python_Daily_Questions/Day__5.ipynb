{
 "cells": [
  {
   "cell_type": "markdown",
   "id": "62d431b8-9c92-4066-9427-acb22a3fed04",
   "metadata": {},
   "source": [
    "### Question 5 :\n",
    "#### Take a list of numbers and print the sum and average of the list"
   ]
  },
  {
   "cell_type": "code",
   "execution_count": 12,
   "id": "25a2064a-1725-4583-aab8-79a34a85b04a",
   "metadata": {},
   "outputs": [
    {
     "name": "stdout",
     "output_type": "stream",
     "text": [
      "Sum of list :  150\n",
      "average of the list : 30.0\n"
     ]
    }
   ],
   "source": [
    "list1 = [10,20,30,40,50]\n",
    "list_sum = sum(list1)\n",
    "print(\"Sum of list : \",list_sum )\n",
    "list_avg = list_sum/len(list1)\n",
    "print(\"average of the list :\" ,list_avg)"
   ]
  },
  {
   "cell_type": "code",
   "execution_count": null,
   "id": "58a720e2-d7bb-4a1a-844e-b4e49633c958",
   "metadata": {},
   "outputs": [],
   "source": []
  },
  {
   "cell_type": "code",
   "execution_count": null,
   "id": "0548f7fe-ed20-4e72-8fc5-833a07a88495",
   "metadata": {},
   "outputs": [],
   "source": []
  }
 ],
 "metadata": {
  "kernelspec": {
   "display_name": "Python [conda env:base] *",
   "language": "python",
   "name": "conda-base-py"
  },
  "language_info": {
   "codemirror_mode": {
    "name": "ipython",
    "version": 3
   },
   "file_extension": ".py",
   "mimetype": "text/x-python",
   "name": "python",
   "nbconvert_exporter": "python",
   "pygments_lexer": "ipython3",
   "version": "3.12.7"
  }
 },
 "nbformat": 4,
 "nbformat_minor": 5
}
