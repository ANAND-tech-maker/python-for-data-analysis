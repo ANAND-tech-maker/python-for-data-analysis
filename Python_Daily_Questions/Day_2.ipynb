{
 "cells": [
  {
   "cell_type": "markdown",
   "id": "dc6fbca8-ec03-477e-bd0d-9483cbd22857",
   "metadata": {},
   "source": [
    "### Question 2: Simple Calculator\n",
    "#### Write a program that takes two numbers as input and prints their sum, difference, product, and division.\n"
   ]
  },
  {
   "cell_type": "code",
   "execution_count": 9,
   "id": "fdfed12d-49d2-4ce5-8b70-edf098a79285",
   "metadata": {},
   "outputs": [
    {
     "name": "stdin",
     "output_type": "stream",
     "text": [
      "Enter the num 1 :  4\n",
      "Enter the num 2 :  6\n"
     ]
    },
    {
     "name": "stdout",
     "output_type": "stream",
     "text": [
      "sum 10\n",
      "Difference -2\n",
      "Product 24\n",
      "Division 0.6666666666666666\n"
     ]
    }
   ],
   "source": [
    "num_1 = int(input(\"Enter the num 1 : \"))\n",
    "num_2 = int(input(\"Enter the num 2 : \"))\n",
    "print(\"sum\",num_1+num_2)\n",
    "print(\"Difference\",num_1-num_2)\n",
    "print(\"Product\",num_1*num_2)\n",
    "print(\"Division\",num_1/num_2)"
   ]
  },
  {
   "cell_type": "code",
   "execution_count": 5,
   "id": "f22a2fce-3143-40ec-a659-b476472f3d16",
   "metadata": {},
   "outputs": [
    {
     "name": "stdout",
     "output_type": "stream",
     "text": [
      "13\n",
      "-1\n",
      "42\n",
      "0.8571428571428571\n"
     ]
    }
   ],
   "source": []
  }
 ],
 "metadata": {
  "kernelspec": {
   "display_name": "Python [conda env:base] *",
   "language": "python",
   "name": "conda-base-py"
  },
  "language_info": {
   "codemirror_mode": {
    "name": "ipython",
    "version": 3
   },
   "file_extension": ".py",
   "mimetype": "text/x-python",
   "name": "python",
   "nbconvert_exporter": "python",
   "pygments_lexer": "ipython3",
   "version": "3.12.7"
  }
 },
 "nbformat": 4,
 "nbformat_minor": 5
}
