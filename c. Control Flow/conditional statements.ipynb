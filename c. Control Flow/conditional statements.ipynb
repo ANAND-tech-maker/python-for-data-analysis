{
 "cells": [
  {
   "cell_type": "markdown",
   "id": "e4df5550",
   "metadata": {},
   "source": [
    "## Conditional Statements"
   ]
  },
  {
   "cell_type": "markdown",
   "id": "1c5acaa5",
   "metadata": {},
   "source": [
    "Flow control in Python refers to the management of the order in which the code is executed. It allows you to make decisions, repeat actions, and control the program's flow based on specific conditions. Python provides several constructs for flow control, such as:\n",
    "\n",
    "1. Conditional Statements (if, elif, else):\n",
    "Conditional statements are used to perform different actions based on certain conditions. The basic syntax is:\n",
    "\n",
    "```python\n",
    "if condition1:\n",
    "    # Code to execute if condition1 is True\n",
    "elif condition2:\n",
    "    # Code to execute if condition2 is True (optional)\n",
    "else:\n",
    "    # Code to execute if none of the conditions above are True (optional)\n",
    "```\n",
    "\n",
    "Example:\n",
    "\n",
    "```python\n",
    "x = 10\n",
    "\n",
    "if x > 0:\n",
    "    print(\"x is positive.\")\n",
    "elif x == 0:\n",
    "    print(\"x is zero.\")\n",
    "else:\n",
    "    print(\"x is negative.\")\n",
    "```"
   ]
  },
  {
   "cell_type": "code",
   "execution_count": 7,
   "id": "0eeebad3",
   "metadata": {},
   "outputs": [],
   "source": [
    "a = 10\n",
    "b = 20"
   ]
  },
  {
   "cell_type": "code",
   "execution_count": 9,
   "id": "e4a84563",
   "metadata": {},
   "outputs": [
    {
     "name": "stdout",
     "output_type": "stream",
     "text": [
      "b is greater value \n"
     ]
    }
   ],
   "source": [
    "if a > b:\n",
    "    print(\"a is greater value\")\n",
    "else:\n",
    "    print(\"b is greater value \")"
   ]
  },
  {
   "cell_type": "code",
   "execution_count": 13,
   "id": "a42cdaf9",
   "metadata": {},
   "outputs": [],
   "source": [
    "names = [\"Ramesh\",\"suresh\",\"prakash\",\"Rajesh\"]"
   ]
  },
  {
   "cell_type": "code",
   "execution_count": 15,
   "id": "58e831ae",
   "metadata": {},
   "outputs": [
    {
     "name": "stdout",
     "output_type": "stream",
     "text": [
      "He is Absent\n"
     ]
    }
   ],
   "source": [
    "if \"Devansh\" in names:\n",
    "    print(\"He is present\")\n",
    "else:\n",
    "    print(\"He is Absent\")"
   ]
  },
  {
   "cell_type": "code",
   "execution_count": 17,
   "id": "37553a9e-f118-4387-98a9-84f956ac1da7",
   "metadata": {},
   "outputs": [
    {
     "name": "stdout",
     "output_type": "stream",
     "text": [
      "He is present\n"
     ]
    }
   ],
   "source": [
    "if \"Ramesh\" in names:\n",
    "    print(\"He is present\")\n",
    "else:\n",
    "    print(\"He is Absent\")"
   ]
  },
  {
   "cell_type": "code",
   "execution_count": 19,
   "id": "a7fe63dd",
   "metadata": {},
   "outputs": [
    {
     "name": "stdin",
     "output_type": "stream",
     "text": [
      "Enter a number:  10\n",
      "Enter a number:  20\n"
     ]
    }
   ],
   "source": [
    "#compare two numbers\n",
    "num1 = int(input(\"Enter a number: \"))\n",
    "num2 = int(input(\"Enter a number: \"))"
   ]
  },
  {
   "cell_type": "code",
   "execution_count": 13,
   "id": "5a5d1835",
   "metadata": {},
   "outputs": [
    {
     "name": "stdout",
     "output_type": "stream",
     "text": [
      "num1 is greater\n"
     ]
    }
   ],
   "source": [
    "if num1 > num2 :\n",
    "    print(\"num1 is greater\")\n",
    "elif num1 < num2:\n",
    "    print(\"num2 is greater\")\n",
    "else :\n",
    "    print(\"both are equal\")"
   ]
  },
  {
   "cell_type": "code",
   "execution_count": 17,
   "id": "d96d0a71-6f12-43ad-b48e-1c680bfe76a5",
   "metadata": {},
   "outputs": [],
   "source": [
    "x = 4\n",
    "x **= 2"
   ]
  },
  {
   "cell_type": "code",
   "execution_count": 19,
   "id": "5339c974-af1b-406c-a02c-2ad7c8b12da6",
   "metadata": {},
   "outputs": [
    {
     "data": {
      "text/plain": [
       "16"
      ]
     },
     "execution_count": 19,
     "metadata": {},
     "output_type": "execute_result"
    }
   ],
   "source": [
    "x"
   ]
  },
  {
   "cell_type": "code",
   "execution_count": null,
   "id": "04ffcaea-fb7f-4030-86e8-4cdb0b9e9361",
   "metadata": {},
   "outputs": [],
   "source": []
  },
  {
   "cell_type": "code",
   "execution_count": null,
   "id": "2b36345d-9eec-49e6-a421-c1225bb21583",
   "metadata": {},
   "outputs": [],
   "source": []
  },
  {
   "cell_type": "markdown",
   "id": "82e7c9f5",
   "metadata": {},
   "source": [
    "### Register"
   ]
  },
  {
   "cell_type": "code",
   "execution_count": 1,
   "id": "23bb011c",
   "metadata": {},
   "outputs": [
    {
     "name": "stdin",
     "output_type": "stream",
     "text": [
      "your maild Id:  abcdefg@gmail.com\n",
      "Enter password:  12345\n",
      "Enter your mobile number:  123456789\n"
     ]
    }
   ],
   "source": [
    "mail = input(\"your maild Id: \")\n",
    "password = input(\"Enter password: \")\n",
    "mobile = int(input(\"Enter your mobile number: \"))"
   ]
  },
  {
   "cell_type": "code",
   "execution_count": 3,
   "id": "26552ea8-6f26-4dba-bf24-f8d002450e1b",
   "metadata": {},
   "outputs": [
    {
     "data": {
      "text/plain": [
       "['abcdefg', 'gmail.com']"
      ]
     },
     "execution_count": 3,
     "metadata": {},
     "output_type": "execute_result"
    }
   ],
   "source": [
    "mail.split(\"@\")"
   ]
  },
  {
   "cell_type": "code",
   "execution_count": 7,
   "id": "35820af4-9acc-4ba3-baf3-f8b48ca5ea8f",
   "metadata": {},
   "outputs": [
    {
     "data": {
      "text/plain": [
       "'abcdefg'"
      ]
     },
     "execution_count": 7,
     "metadata": {},
     "output_type": "execute_result"
    }
   ],
   "source": [
    "mail.split(\"@\")[0]"
   ]
  },
  {
   "cell_type": "code",
   "execution_count": 5,
   "id": "6c278b85-e196-42b0-9bc7-dac4b9cc9d7f",
   "metadata": {},
   "outputs": [
    {
     "data": {
      "text/plain": [
       "'gmail.com'"
      ]
     },
     "execution_count": 5,
     "metadata": {},
     "output_type": "execute_result"
    }
   ],
   "source": [
    "mail.split(\"@\")[1]"
   ]
  },
  {
   "cell_type": "code",
   "execution_count": 9,
   "id": "89840a97",
   "metadata": {},
   "outputs": [
    {
     "name": "stdout",
     "output_type": "stream",
     "text": [
      "Hello  abcdefg..welcome to the group\n"
     ]
    }
   ],
   "source": [
    "print(f\"Hello  {mail.split('@')[0]}..welcome to the group\")"
   ]
  },
  {
   "cell_type": "markdown",
   "id": "731389c6",
   "metadata": {},
   "source": [
    "### Login"
   ]
  },
  {
   "cell_type": "code",
   "execution_count": 15,
   "id": "36e128b7",
   "metadata": {},
   "outputs": [
    {
     "name": "stdin",
     "output_type": "stream",
     "text": [
      "Enter mail Id:  abcdefg@gmail.com\n",
      "Enter password:  12345\n"
     ]
    },
    {
     "name": "stdout",
     "output_type": "stream",
     "text": [
      "login successful\n"
     ]
    }
   ],
   "source": [
    "user = input(\"Enter mail Id: \")\n",
    "pas1 = input(\"Enter password: \")\n",
    "\n",
    "if mail== user  and  password ==pas1:\n",
    "    \n",
    "    print(\"login successful\")\n",
    "else:\n",
    "    print(\"login is failed\")\n",
    "    \n",
    "    \n",
    "    "
   ]
  },
  {
   "cell_type": "markdown",
   "id": "2565b7cb-f39c-4aed-a92e-32ac01540d38",
   "metadata": {},
   "source": [
    "# TERNARY OPERATOR"
   ]
  },
  {
   "cell_type": "markdown",
   "id": "ff615c0a-7f23-4043-ae17-22d34b0286ac",
   "metadata": {},
   "source": [
    "### var_name = first_value if condition else second_value"
   ]
  },
  {
   "cell_type": "code",
   "execution_count": 23,
   "id": "faaf5380-f1ec-487a-8aa0-d47b3f858a76",
   "metadata": {},
   "outputs": [
    {
     "name": "stdin",
     "output_type": "stream",
     "text": [
      "enter a number:  2\n"
     ]
    },
    {
     "name": "stdout",
     "output_type": "stream",
     "text": [
      "even\n"
     ]
    }
   ],
   "source": [
    "num = int(input(\"enter a number: \"))\n",
    "\n",
    "if num %2 ==0:\n",
    "    \n",
    "    print(\"even\")\n",
    "else:\n",
    "    print(\"odd\")\n",
    "    "
   ]
  },
  {
   "cell_type": "code",
   "execution_count": 23,
   "id": "07f84880-123c-4649-ad7d-412cbaf6f881",
   "metadata": {},
   "outputs": [
    {
     "name": "stdin",
     "output_type": "stream",
     "text": [
      "enter a number:  5\n"
     ]
    },
    {
     "name": "stdout",
     "output_type": "stream",
     "text": [
      "odd\n"
     ]
    }
   ],
   "source": [
    "num = int(input(\"enter a number: \"))\n",
    "       \n",
    "output = \"even\" if num %2 ==0 else \"odd\"\n",
    "print(output)"
   ]
  },
  {
   "cell_type": "code",
   "execution_count": 27,
   "id": "2dbf408f-4e00-4219-9f65-f23a301effcd",
   "metadata": {},
   "outputs": [
    {
     "name": "stdin",
     "output_type": "stream",
     "text": [
      "enter a number:  5\n"
     ]
    },
    {
     "name": "stdout",
     "output_type": "stream",
     "text": [
      "odd\n"
     ]
    }
   ],
   "source": [
    "num = int(input(\"enter a number: \"))\n",
    "       \n",
    "print(\"even\" ) if num %2 ==0 else  print(\"odd\")\n"
   ]
  },
  {
   "cell_type": "code",
   "execution_count": null,
   "id": "6e59202d-ee84-4cd7-8b6b-2243d39cd45f",
   "metadata": {},
   "outputs": [],
   "source": []
  }
 ],
 "metadata": {
  "kernelspec": {
   "display_name": "Python [conda env:base] *",
   "language": "python",
   "name": "conda-base-py"
  },
  "language_info": {
   "codemirror_mode": {
    "name": "ipython",
    "version": 3
   },
   "file_extension": ".py",
   "mimetype": "text/x-python",
   "name": "python",
   "nbconvert_exporter": "python",
   "pygments_lexer": "ipython3",
   "version": "3.12.7"
  }
 },
 "nbformat": 4,
 "nbformat_minor": 5
}
