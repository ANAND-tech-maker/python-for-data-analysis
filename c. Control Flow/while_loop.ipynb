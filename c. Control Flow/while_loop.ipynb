{
 "cells": [
  {
   "cell_type": "code",
   "execution_count": 1,
   "id": "0839d16a-07e9-4cb9-87cb-0058a2a46809",
   "metadata": {},
   "outputs": [
    {
     "name": "stdout",
     "output_type": "stream",
     "text": [
      "1\n",
      "2\n",
      "3\n",
      "4\n",
      "5\n",
      "6\n",
      "7\n",
      "8\n",
      "9\n",
      "10\n",
      "11\n",
      "12\n",
      "13\n",
      "14\n"
     ]
    }
   ],
   "source": [
    "for i in range(1,15):\n",
    "    print(i)"
   ]
  },
  {
   "cell_type": "code",
   "execution_count": 2,
   "id": "2c463271-0404-43d8-94c5-c4957620f2ac",
   "metadata": {},
   "outputs": [
    {
     "name": "stdout",
     "output_type": "stream",
     "text": [
      "15\n",
      "14\n",
      "13\n",
      "12\n",
      "11\n",
      "10\n",
      "9\n",
      "8\n",
      "7\n",
      "6\n",
      "5\n",
      "4\n",
      "3\n",
      "2\n"
     ]
    }
   ],
   "source": [
    "for i in range(15,1,-1):\n",
    "    print(i)"
   ]
  },
  {
   "cell_type": "code",
   "execution_count": 3,
   "id": "1d2295b3-cd42-4d87-a3fb-f2e855eb5d3c",
   "metadata": {},
   "outputs": [
    {
     "data": {
      "text/plain": [
       "False"
      ]
     },
     "execution_count": 3,
     "metadata": {},
     "output_type": "execute_result"
    }
   ],
   "source": [
    "a = \"\"\n",
    "bool(a)   # 0, 0.0, \" \",false"
   ]
  },
  {
   "cell_type": "code",
   "execution_count": 4,
   "id": "dec14667-4dd2-4fdc-ae73-d624f8bbab0f",
   "metadata": {},
   "outputs": [
    {
     "data": {
      "text/plain": [
       "True"
      ]
     },
     "execution_count": 4,
     "metadata": {},
     "output_type": "execute_result"
    }
   ],
   "source": [
    "a =1\n",
    "bool(a)"
   ]
  },
  {
   "cell_type": "code",
   "execution_count": 5,
   "id": "919bafa9-dbd8-430a-9f58-a3f19d4ee076",
   "metadata": {},
   "outputs": [
    {
     "data": {
      "text/plain": [
       "False"
      ]
     },
     "execution_count": 5,
     "metadata": {},
     "output_type": "execute_result"
    }
   ],
   "source": [
    "a = 0\n",
    "bool(a) "
   ]
  },
  {
   "cell_type": "code",
   "execution_count": 6,
   "id": "b9ca72a0-0a4a-427e-a212-43e7eb2622bc",
   "metadata": {},
   "outputs": [
    {
     "data": {
      "text/plain": [
       "False"
      ]
     },
     "execution_count": 6,
     "metadata": {},
     "output_type": "execute_result"
    }
   ],
   "source": [
    "a = 0.0\n",
    "bool(a) "
   ]
  },
  {
   "cell_type": "code",
   "execution_count": 7,
   "id": "f09e9871-c4cf-499a-aba7-85c337e9fcfe",
   "metadata": {},
   "outputs": [
    {
     "data": {
      "text/plain": [
       "False"
      ]
     },
     "execution_count": 7,
     "metadata": {},
     "output_type": "execute_result"
    }
   ],
   "source": [
    "a = False\n",
    "bool(a)"
   ]
  },
  {
   "cell_type": "code",
   "execution_count": 8,
   "id": "b1fae9bd-a002-446d-9384-557dd395bdb1",
   "metadata": {},
   "outputs": [
    {
     "name": "stdout",
     "output_type": "stream",
     "text": [
      "while loop is running\n"
     ]
    }
   ],
   "source": [
    "a = True\n",
    "while a :\n",
    "    print(\"while loop is running\")\n",
    "    a = False"
   ]
  },
  {
   "cell_type": "code",
   "execution_count": 9,
   "id": "d74bb931-eec4-431a-bfd9-eda83df540ad",
   "metadata": {},
   "outputs": [
    {
     "name": "stdout",
     "output_type": "stream",
     "text": [
      "while loop is running\n"
     ]
    }
   ],
   "source": [
    "a = True\n",
    "while a :\n",
    "    print(\"while loop is running\")\n",
    "    a = 0"
   ]
  },
  {
   "cell_type": "code",
   "execution_count": 10,
   "id": "e6a6c667-5f4b-4b30-bbe6-a50bfc901441",
   "metadata": {},
   "outputs": [
    {
     "name": "stdout",
     "output_type": "stream",
     "text": [
      "while loop is running\n",
      "while loop is running\n",
      "while loop is running\n"
     ]
    }
   ],
   "source": [
    "a = 3\n",
    "while a:\n",
    "    print(\"while loop is running\")\n",
    "    a = a-1"
   ]
  },
  {
   "cell_type": "code",
   "execution_count": 11,
   "id": "5ef36982-64b2-4cec-b6a8-2d1f56f74eed",
   "metadata": {},
   "outputs": [
    {
     "name": "stdout",
     "output_type": "stream",
     "text": [
      "10\n",
      "9\n",
      "8\n",
      "7\n",
      "6\n",
      "5\n",
      "4\n",
      "3\n",
      "2\n",
      "1\n"
     ]
    }
   ],
   "source": [
    "a = 10\n",
    "while a:\n",
    "    print(a)\n",
    "    a = a-1"
   ]
  },
  {
   "cell_type": "code",
   "execution_count": 12,
   "id": "07747158-f103-4864-af08-94a980fbe579",
   "metadata": {},
   "outputs": [
    {
     "name": "stdout",
     "output_type": "stream",
     "text": [
      "50\n",
      "51\n",
      "52\n",
      "53\n",
      "54\n",
      "55\n",
      "56\n",
      "57\n",
      "58\n",
      "59\n",
      "60\n"
     ]
    }
   ],
   "source": [
    "a = 50\n",
    "while a<=60:\n",
    "    print(a)\n",
    "    a=a+1"
   ]
  },
  {
   "cell_type": "code",
   "execution_count": 13,
   "id": "bef2406e-6715-4820-8ae0-01e7fabb2336",
   "metadata": {},
   "outputs": [
    {
     "name": "stdout",
     "output_type": "stream",
     "text": [
      "  ****** \n",
      "*       *\n",
      "*   *   *\n",
      "*       *\n",
      "*       *\n"
     ]
    }
   ],
   "source": [
    "x = 1\n",
    "while x<=5:\n",
    "    if x==1:\n",
    "        print(\"  ****** \")\n",
    "    elif x==2 or x==4 or x == 5:\n",
    "        print(\"*       *\")\n",
    "    else:\n",
    "        print(\"*   *   *\")\n",
    "    x = x+1            "
   ]
  },
  {
   "cell_type": "code",
   "execution_count": 14,
   "id": "69dbc98f-7db9-43a6-9d2d-3b3c0d403db9",
   "metadata": {},
   "outputs": [
    {
     "name": "stdout",
     "output_type": "stream",
     "text": [
      "*  *  * \n",
      "*      *\n",
      "*  *  *\n",
      "*      *\n",
      "*  *  * \n"
     ]
    }
   ],
   "source": [
    "x = 1\n",
    "while x<=5:\n",
    "    if x==1 or x == 5 :           # x == 1 \n",
    "        print(\"*  *  * \")\n",
    "    elif x==2 or x==4:\n",
    "        print(\"*      *\")\n",
    "    else:\n",
    "        print(\"*  *  *\")\n",
    "    x+=1"
   ]
  },
  {
   "cell_type": "code",
   "execution_count": 15,
   "id": "ed514df7-efd3-4bd8-afc6-d5395aabe526",
   "metadata": {},
   "outputs": [
    {
     "name": "stdout",
     "output_type": "stream",
     "text": [
      "  *  * \n",
      "*      \n",
      "*\n",
      "*      \n",
      "  *  * \n"
     ]
    }
   ],
   "source": [
    "x = 1\n",
    "while x<=5:\n",
    "    if x==1 or x == 5 :           # x == 1 \n",
    "        print(\"  *  * \")\n",
    "    elif x==2 or x==4:\n",
    "        print(\"*      \")\n",
    "    else:\n",
    "        print(\"*\")\n",
    "    x+=1"
   ]
  },
  {
   "cell_type": "code",
   "execution_count": 37,
   "id": "3c1bfa2e-d387-426c-945b-8b3e6c842533",
   "metadata": {},
   "outputs": [
    {
     "name": "stdout",
     "output_type": "stream",
     "text": [
      "* * * \n",
      "*     * \n",
      "*     *\n",
      "*     * \n",
      "* * * \n"
     ]
    }
   ],
   "source": [
    "x = 1\n",
    "while x<=5:\n",
    "    if x==1 or x == 5 :           # x == 1 \n",
    "        print(\"* * * \")\n",
    "    elif x==2 or x==4:\n",
    "        print(\"*     * \")\n",
    "    else:\n",
    "        print(\"*     *\")\n",
    "    x+=1"
   ]
  },
  {
   "cell_type": "code",
   "execution_count": 43,
   "id": "f010d230-efcc-4b14-8b8e-5b25a64bcb05",
   "metadata": {},
   "outputs": [
    {
     "name": "stdout",
     "output_type": "stream",
     "text": [
      "* * * \n",
      "*      \n",
      "* * *\n",
      "*      \n",
      "* * * \n"
     ]
    }
   ],
   "source": [
    "x = 1\n",
    "while x<=5:\n",
    "    if x==1 or x == 5 :           # x == 1 \n",
    "        print(\"* * * \")\n",
    "    elif x==2 or x==4:\n",
    "        print(\"*      \")\n",
    "    else:\n",
    "        print(\"* * *\")\n",
    "    x+=1"
   ]
  },
  {
   "cell_type": "code",
   "execution_count": 61,
   "id": "ab96c0a8-9bef-4eaf-9f13-a503d1f93db1",
   "metadata": {},
   "outputs": [
    {
     "name": "stdout",
     "output_type": "stream",
     "text": [
      "*  *  *\n",
      "*\n",
      "*  *  *\n",
      "*\n",
      "*\n"
     ]
    }
   ],
   "source": [
    "x = 1\n",
    "while x<=5:\n",
    "    if x==1  :           # x == 1 \n",
    "        print(\"*  *  *\")\n",
    "    elif x==3:\n",
    "        print(\"*  *  *\")\n",
    "    else:\n",
    "        print(\"*\")\n",
    "    x+=1"
   ]
  },
  {
   "cell_type": "code",
   "execution_count": 91,
   "id": "2c7633a1-d192-4418-9593-fffbe1cdbdc0",
   "metadata": {},
   "outputs": [
    {
     "name": "stdout",
     "output_type": "stream",
     "text": [
      "  *\n",
      "*\n",
      "*\n",
      "*  *  *  *\n",
      " * * *   *\n"
     ]
    }
   ],
   "source": [
    "x = 1\n",
    "while x<=5:\n",
    "    if x==1  :           # x == 1 \n",
    "        print(\"  *\")\n",
    "    elif x==2:\n",
    "        print(\"*\")\n",
    "    elif x == 3:\n",
    "        print(\"*\")\n",
    "    elif x == 4:\n",
    "        print(\"*  *  *  *\")\n",
    "    elif x==5:\n",
    "        print(\" * * *   *\")\n",
    "    elif x == 6 or x==7:\n",
    "        print(\"       *\")\n",
    "    else:\n",
    "        print(\"*\")\n",
    "    x+=1"
   ]
  },
  {
   "cell_type": "code",
   "execution_count": 93,
   "id": "89dd261a-76e7-44ed-8a3c-da333cbc8b50",
   "metadata": {},
   "outputs": [
    {
     "name": "stdout",
     "output_type": "stream",
     "text": [
      "1\n",
      "2\n",
      "3\n",
      "4\n"
     ]
    }
   ],
   "source": [
    "for i in range(1,5):\n",
    "    print(i)"
   ]
  },
  {
   "cell_type": "code",
   "execution_count": 97,
   "id": "57a92c27-e636-4fde-b7ed-63eb0779ae31",
   "metadata": {},
   "outputs": [
    {
     "data": {
      "text/plain": [
       "range(1, 5)"
      ]
     },
     "execution_count": 97,
     "metadata": {},
     "output_type": "execute_result"
    }
   ],
   "source": [
    "range(1,5)"
   ]
  },
  {
   "cell_type": "code",
   "execution_count": 101,
   "id": "8e8a0a85-d317-4c43-a43c-213a7a8dcc3c",
   "metadata": {},
   "outputs": [
    {
     "data": {
      "text/plain": [
       "[1, 2, 3, 4]"
      ]
     },
     "execution_count": 101,
     "metadata": {},
     "output_type": "execute_result"
    }
   ],
   "source": [
    "list(range(1,5))"
   ]
  },
  {
   "cell_type": "code",
   "execution_count": 105,
   "id": "b4a2a59d-3380-4db2-9acb-9f8fde76b782",
   "metadata": {},
   "outputs": [
    {
     "name": "stdout",
     "output_type": "stream",
     "text": [
      "5\n",
      "4\n",
      "3\n",
      "2\n",
      "1\n"
     ]
    }
   ],
   "source": [
    "for i in range(5,0,-1):\n",
    "    print(i)"
   ]
  },
  {
   "cell_type": "code",
   "execution_count": 109,
   "id": "5c21a7d2-8deb-4a43-9466-25067ad1b090",
   "metadata": {},
   "outputs": [
    {
     "name": "stdout",
     "output_type": "stream",
     "text": [
      "1\n",
      "2\n",
      "3\n",
      "1\n",
      "2\n",
      "3\n",
      "1\n",
      "2\n",
      "3\n",
      "1\n",
      "2\n",
      "3\n"
     ]
    }
   ],
   "source": [
    "for i in range(1,5):\n",
    "    for j in range(1,4):\n",
    "        print(j)"
   ]
  },
  {
   "cell_type": "code",
   "execution_count": 111,
   "id": "d1fb7ce5-f6c7-47b0-9dec-1626864a3cff",
   "metadata": {},
   "outputs": [
    {
     "name": "stdout",
     "output_type": "stream",
     "text": [
      "1 2 3 1 2 3 1 2 3 1 2 3 "
     ]
    }
   ],
   "source": [
    "for i in range(1,5):\n",
    "    for j in range(1,4):\n",
    "        print(j,end=\" \")"
   ]
  },
  {
   "cell_type": "code",
   "execution_count": 113,
   "id": "678f2782-4acc-4a57-bdd0-4b205f8461b1",
   "metadata": {},
   "outputs": [
    {
     "name": "stdout",
     "output_type": "stream",
     "text": [
      "1 2 3 \n",
      "1 2 3 \n",
      "1 2 3 \n",
      "1 2 3 \n"
     ]
    }
   ],
   "source": [
    "for i in range(1,5):\n",
    "    for j in range(1,4):\n",
    "        print(j,end=\" \")\n",
    "    print()"
   ]
  },
  {
   "cell_type": "code",
   "execution_count": 121,
   "id": "2ee3af5e-56d3-4eb2-acbe-c37c1e01701b",
   "metadata": {},
   "outputs": [
    {
     "name": "stdout",
     "output_type": "stream",
     "text": [
      "1 1 1 \n",
      "2 2 2 \n",
      "3 3 3 \n",
      "4 4 4 \n"
     ]
    }
   ],
   "source": [
    "for i in range(1,5):    # j = columns\n",
    "    for j in range(1,4):   # i = rows\n",
    "        print(i,end=\" \")\n",
    "    print()"
   ]
  },
  {
   "cell_type": "code",
   "execution_count": 123,
   "id": "0b488937-7e59-4566-8edb-60cbbc871641",
   "metadata": {},
   "outputs": [
    {
     "name": "stdout",
     "output_type": "stream",
     "text": [
      "1 1 1 \n",
      "2 2 2 \n",
      "3 3 3 \n"
     ]
    }
   ],
   "source": [
    "for i in range(1,4):  \n",
    "    for j in range(1,4):   \n",
    "        print(i,end=\" \")\n",
    "    print()"
   ]
  },
  {
   "cell_type": "code",
   "execution_count": 125,
   "id": "98a15f84-a649-4a63-968e-616e2d3bd942",
   "metadata": {},
   "outputs": [
    {
     "name": "stdout",
     "output_type": "stream",
     "text": [
      "1 1 1 \n",
      "2 2 2 \n"
     ]
    }
   ],
   "source": [
    "for i in range(1,3):   \n",
    "    for j in range(1,4):   \n",
    "        print(i,end=\" \")\n",
    "    print()"
   ]
  },
  {
   "cell_type": "code",
   "execution_count": 127,
   "id": "c7ff4689-9a44-4c7d-860c-ab0d5e70b8c9",
   "metadata": {},
   "outputs": [
    {
     "name": "stdout",
     "output_type": "stream",
     "text": [
      "1 1 1 \n"
     ]
    }
   ],
   "source": [
    "for i in range(1,2):   \n",
    "    for j in range(1,4):   \n",
    "        print(i,end=\" \")\n",
    "    print()"
   ]
  },
  {
   "cell_type": "code",
   "execution_count": 129,
   "id": "6c1ed904-1d57-4a68-a438-af9f20173b1c",
   "metadata": {},
   "outputs": [],
   "source": [
    "for i in range(1,1):  \n",
    "    for j in range(1,4):   \n",
    "        print(i,end=\" \")\n",
    "    print()"
   ]
  },
  {
   "cell_type": "code",
   "execution_count": 131,
   "id": "bf3aeabf-b98d-44a1-8015-e2f1c946df06",
   "metadata": {},
   "outputs": [
    {
     "name": "stdout",
     "output_type": "stream",
     "text": [
      "1 1 1 1 \n",
      "2 2 2 2 \n",
      "3 3 3 3 \n",
      "4 4 4 4 \n"
     ]
    }
   ],
   "source": [
    "for i in range(1,5):   \n",
    "    for j in range(1,5): \n",
    "        print(i,end=\" \")\n",
    "    print()"
   ]
  },
  {
   "cell_type": "code",
   "execution_count": 133,
   "id": "b544f434-eeba-46a8-b89c-e493eff90440",
   "metadata": {},
   "outputs": [
    {
     "name": "stdout",
     "output_type": "stream",
     "text": [
      "1 1 1 \n",
      "2 2 2 \n",
      "3 3 3 \n",
      "4 4 4 \n"
     ]
    }
   ],
   "source": [
    "for i in range(1,5):    \n",
    "    for j in range(1,4):\n",
    "        print(i,end=\" \")\n",
    "    print()"
   ]
  },
  {
   "cell_type": "code",
   "execution_count": 135,
   "id": "0a941fcf-ec99-4b7d-a45b-236f61fdc0f1",
   "metadata": {},
   "outputs": [
    {
     "name": "stdout",
     "output_type": "stream",
     "text": [
      "1 1 \n",
      "2 2 \n",
      "3 3 \n",
      "4 4 \n"
     ]
    }
   ],
   "source": [
    "for i in range(1,5):   \n",
    "    for j in range(1,3):  \n",
    "        print(i,end=\" \")\n",
    "    print()"
   ]
  },
  {
   "cell_type": "code",
   "execution_count": 137,
   "id": "c7c69306-3305-4b6c-90f3-f4ed781575dc",
   "metadata": {},
   "outputs": [
    {
     "name": "stdout",
     "output_type": "stream",
     "text": [
      "1 \n",
      "2 \n",
      "3 \n",
      "4 \n"
     ]
    }
   ],
   "source": [
    "for i in range(1,5):    # j = columns\n",
    "    for j in range(1,2):   # i = rows\n",
    "        print(i,end=\" \")\n",
    "    print()"
   ]
  },
  {
   "cell_type": "code",
   "execution_count": 139,
   "id": "eabbe8fe-8c7a-43be-a68b-96a802e2a309",
   "metadata": {},
   "outputs": [
    {
     "name": "stdout",
     "output_type": "stream",
     "text": [
      "\n",
      "\n",
      "\n",
      "\n"
     ]
    }
   ],
   "source": [
    "for i in range(1,5):    # j = columns\n",
    "    for j in range(1,1):   # i = rows\n",
    "        print(i,end=\" \")\n",
    "    print()"
   ]
  },
  {
   "cell_type": "code",
   "execution_count": 145,
   "id": "0601f616-95bd-4b99-a806-f2072245d5a8",
   "metadata": {},
   "outputs": [
    {
     "name": "stdout",
     "output_type": "stream",
     "text": [
      "1 \n",
      "1 2 \n",
      "1 2 3 \n",
      "1 2 3 4 \n"
     ]
    }
   ],
   "source": [
    "for i in range(1,5):\n",
    "    for j in range(1,i+1):\n",
    "        print(j,end=\" \")\n",
    "    print()"
   ]
  },
  {
   "cell_type": "code",
   "execution_count": 151,
   "id": "5d26d81b-b492-42bf-be18-43fd1fb5821c",
   "metadata": {},
   "outputs": [
    {
     "name": "stdout",
     "output_type": "stream",
     "text": [
      "1 \n",
      "1 2 \n",
      "1 2 3 \n",
      "1 2 3 4 \n",
      "1 2 3 4 5 \n"
     ]
    }
   ],
   "source": [
    "for i in range(1,6):\n",
    "    for j in range(1,i+1):\n",
    "        print(j,end=\" \")\n",
    "    print()"
   ]
  },
  {
   "cell_type": "code",
   "execution_count": 153,
   "id": "eba2aa5e-9ac1-41a9-a73c-542a970e67b4",
   "metadata": {},
   "outputs": [
    {
     "name": "stdout",
     "output_type": "stream",
     "text": [
      "1 \n",
      "1 2 \n",
      "1 2 3 \n",
      "1 2 3 4 \n",
      "1 2 3 4 5 \n",
      "1 2 3 4 5 6 \n"
     ]
    }
   ],
   "source": [
    "for i in range(1,7):\n",
    "    for j in range(1,i+1):\n",
    "        print(j,end=\" \")\n",
    "    print()"
   ]
  },
  {
   "cell_type": "code",
   "execution_count": 155,
   "id": "e2e2a7dd-b6e5-45ec-90b4-941226d78c4a",
   "metadata": {},
   "outputs": [
    {
     "name": "stdout",
     "output_type": "stream",
     "text": [
      "1 2 3 4 5 6 7 8 \n",
      "1 2 3 4 5 6 7 \n",
      "1 2 3 4 5 6 \n",
      "1 2 3 4 5 \n",
      "1 2 3 4 \n",
      "1 2 3 \n",
      "1 2 \n",
      "1 \n",
      "\n",
      "\n"
     ]
    }
   ],
   "source": [
    "for i in range(10,0,-1):\n",
    "    for j in range(1,i-1):\n",
    "        print(j,end=\" \")\n",
    "    print()"
   ]
  },
  {
   "cell_type": "code",
   "execution_count": 157,
   "id": "71ff6dca-8607-4324-ba84-5852498e17ae",
   "metadata": {},
   "outputs": [
    {
     "name": "stdout",
     "output_type": "stream",
     "text": [
      "1 2 3 4 5 6 7 8 9 10 11 12 13 \n",
      "1 2 3 4 5 6 7 8 9 10 11 12 \n",
      "1 2 3 4 5 6 7 8 9 10 11 \n",
      "1 2 3 4 5 6 7 8 9 10 \n",
      "1 2 3 4 5 6 7 8 9 \n",
      "1 2 3 4 5 6 7 8 \n",
      "1 2 3 4 5 6 7 \n",
      "1 2 3 4 5 6 \n",
      "1 2 3 4 5 \n",
      "1 2 3 4 \n",
      "1 2 3 \n",
      "1 2 \n",
      "1 \n",
      "\n",
      "\n"
     ]
    }
   ],
   "source": [
    "for i in range(15,0,-1):\n",
    "    for j in range(1,i-1):\n",
    "        print(j,end=\" \")\n",
    "    print()"
   ]
  },
  {
   "cell_type": "code",
   "execution_count": 159,
   "id": "28e3678b-b59f-4adb-819e-035ce5aec7c4",
   "metadata": {},
   "outputs": [
    {
     "name": "stdout",
     "output_type": "stream",
     "text": [
      "1\n",
      "2\n"
     ]
    }
   ],
   "source": [
    "for i in range(1,6):\n",
    "    if i == 3:\n",
    "        break\n",
    "    print(i)"
   ]
  },
  {
   "cell_type": "code",
   "execution_count": 161,
   "id": "cf6cf885-0232-4957-ad16-954117444463",
   "metadata": {},
   "outputs": [
    {
     "name": "stdout",
     "output_type": "stream",
     "text": [
      "1\n",
      "2\n",
      "4\n",
      "5\n"
     ]
    }
   ],
   "source": [
    "for i in range(1,6):\n",
    "    if i == 3:                # continue - skip that value\n",
    "        continue\n",
    "    print(i)"
   ]
  },
  {
   "cell_type": "code",
   "execution_count": 163,
   "id": "9bbd5774-c610-4ea1-9270-252289d4600e",
   "metadata": {},
   "outputs": [
    {
     "name": "stdout",
     "output_type": "stream",
     "text": [
      "1\n",
      "2\n",
      "3\n",
      "4\n",
      "5\n"
     ]
    }
   ],
   "source": [
    "for i in range(1,6):\n",
    "    if i == 3:\n",
    "        pass\n",
    "    print(i)"
   ]
  },
  {
   "cell_type": "code",
   "execution_count": 165,
   "id": "7d193515-94cd-4e4d-abec-9c309a9cdfe6",
   "metadata": {},
   "outputs": [
    {
     "name": "stdout",
     "output_type": "stream",
     "text": [
      "100\n",
      "200\n",
      "it is higher value\n"
     ]
    }
   ],
   "source": [
    "cart = [ 100,200,6000,600,700]\n",
    "for item in cart:\n",
    "    if item>5000:\n",
    "        print(\"it is higher value\")\n",
    "        break\n",
    "    print(item)"
   ]
  }
 ],
 "metadata": {
  "kernelspec": {
   "display_name": "Python [conda env:base] *",
   "language": "python",
   "name": "conda-base-py"
  },
  "language_info": {
   "codemirror_mode": {
    "name": "ipython",
    "version": 3
   },
   "file_extension": ".py",
   "mimetype": "text/x-python",
   "name": "python",
   "nbconvert_exporter": "python",
   "pygments_lexer": "ipython3",
   "version": "3.12.7"
  }
 },
 "nbformat": 4,
 "nbformat_minor": 5
}
