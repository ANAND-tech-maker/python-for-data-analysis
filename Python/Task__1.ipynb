{
 "cells": [
  {
   "cell_type": "markdown",
   "id": "ed49cc59-443f-4e25-bae3-4f1a2d5a206e",
   "metadata": {},
   "source": [
    "### 1. Write a program that prints the following sentence using escape characters"
   ]
  },
  {
   "cell_type": "code",
   "execution_count": 3,
   "id": "5e388b93-cce7-4475-bbc2-eafc16878c67",
   "metadata": {},
   "outputs": [],
   "source": [
    "name = \"I am learning python\\n's escape characters\""
   ]
  },
  {
   "cell_type": "code",
   "execution_count": 7,
   "id": "3b933a1e-d7b2-428a-8a8b-107aab6208bf",
   "metadata": {},
   "outputs": [
    {
     "name": "stdout",
     "output_type": "stream",
     "text": [
      "I am learning python\n",
      "'s escape characters\n"
     ]
    }
   ],
   "source": [
    "print(name)"
   ]
  },
  {
   "cell_type": "code",
   "execution_count": 9,
   "id": "a8f1e993-b087-4e24-918e-92e3dd2b28c4",
   "metadata": {},
   "outputs": [],
   "source": [
    "name = \"I am learning python\\n's escape\\t characters\""
   ]
  },
  {
   "cell_type": "code",
   "execution_count": 11,
   "id": "df91512f-f864-41e9-a6d7-6cdf842f03c5",
   "metadata": {},
   "outputs": [
    {
     "name": "stdout",
     "output_type": "stream",
     "text": [
      "I am learning python\n",
      "'s escape\t characters\n"
     ]
    }
   ],
   "source": [
    "print(name)"
   ]
  },
  {
   "cell_type": "code",
   "execution_count": 13,
   "id": "0ca61d46-de5c-4f44-b95b-7e968dc4fa28",
   "metadata": {},
   "outputs": [],
   "source": [
    "name = \"I am learning\\b python\\n's escape characters\""
   ]
  },
  {
   "cell_type": "code",
   "execution_count": 15,
   "id": "48189d6e-d5d2-4132-92b3-8a97bd27caed",
   "metadata": {},
   "outputs": [
    {
     "name": "stdout",
     "output_type": "stream",
     "text": [
      "I am learnin python\n",
      "'s escape characters\n"
     ]
    }
   ],
   "source": [
    "print(name)"
   ]
  },
  {
   "cell_type": "markdown",
   "id": "2b59e4d4-8220-4df4-99e1-8323ea9fe216",
   "metadata": {},
   "source": [
    "### 2. Given a string \" Hello, World!\" , write a program to print the character at index 4."
   ]
  },
  {
   "cell_type": "code",
   "execution_count": 19,
   "id": "e031f06b-dc4c-4772-ac57-ccc4d76ddb74",
   "metadata": {},
   "outputs": [],
   "source": [
    "name = \"Hello, World!\""
   ]
  },
  {
   "cell_type": "code",
   "execution_count": 23,
   "id": "56750d1b-d56f-4bda-8ab9-c511d81b1cd1",
   "metadata": {},
   "outputs": [
    {
     "data": {
      "text/plain": [
       "'o'"
      ]
     },
     "execution_count": 23,
     "metadata": {},
     "output_type": "execute_result"
    }
   ],
   "source": [
    "name[4]"
   ]
  },
  {
   "cell_type": "markdown",
   "id": "79f95a12-798c-4aaf-a717-6bbed5b6fb07",
   "metadata": {},
   "source": [
    "### 3. Given a string \"Hello, World!\",write a program to print the substring \"Hello\" using slicing"
   ]
  },
  {
   "cell_type": "code",
   "execution_count": 26,
   "id": "e4468815-35c5-400f-b00c-943d84625c44",
   "metadata": {},
   "outputs": [],
   "source": [
    "name = \"Hello, World!\""
   ]
  },
  {
   "cell_type": "code",
   "execution_count": 28,
   "id": "6119ce24-8fa4-4b57-bbde-0a21699e4c53",
   "metadata": {},
   "outputs": [
    {
     "data": {
      "text/plain": [
       "'Hello'"
      ]
     },
     "execution_count": 28,
     "metadata": {},
     "output_type": "execute_result"
    }
   ],
   "source": [
    "name[0:5]"
   ]
  },
  {
   "cell_type": "markdown",
   "id": "055343bb-8e32-479d-a869-a080e6f32145",
   "metadata": {},
   "source": [
    "### 4. Given a string  \"Hello, World!\", write a program to print the substring \"World\" using slicing"
   ]
  },
  {
   "cell_type": "code",
   "execution_count": null,
   "id": "4fdfa4f6-0713-4c1d-a317-0a7659fe1b47",
   "metadata": {},
   "outputs": [],
   "source": [
    "name = \"Hello, World!\""
   ]
  },
  {
   "cell_type": "code",
   "execution_count": 32,
   "id": "8f421805-218b-409b-8342-34b0bea80b5e",
   "metadata": {},
   "outputs": [
    {
     "data": {
      "text/plain": [
       "'World!'"
      ]
     },
     "execution_count": 32,
     "metadata": {},
     "output_type": "execute_result"
    }
   ],
   "source": [
    "name[7:13]"
   ]
  },
  {
   "cell_type": "markdown",
   "id": "46d96d93-4d62-4e9f-8315-9653f204d644",
   "metadata": {},
   "source": [
    "### 5. Given a string \"Python is fun!\", write  a program to print the string in reverse order"
   ]
  },
  {
   "cell_type": "code",
   "execution_count": 40,
   "id": "1007da74-0159-4678-b590-6bc03ec43bcf",
   "metadata": {},
   "outputs": [],
   "source": [
    "name = \"Python is fun!\""
   ]
  },
  {
   "cell_type": "code",
   "execution_count": 42,
   "id": "447a657c-fbbf-4a6f-a200-87d485ab8d90",
   "metadata": {},
   "outputs": [
    {
     "data": {
      "text/plain": [
       "'!nuf si nohtyP'"
      ]
     },
     "execution_count": 42,
     "metadata": {},
     "output_type": "execute_result"
    }
   ],
   "source": [
    "name[::-1]"
   ]
  },
  {
   "cell_type": "markdown",
   "id": "4fdac75e-de3b-4f48-a8be-3ed53a14ebd4",
   "metadata": {},
   "source": [
    "### 6. Given a string  \"Hello, World!\", write a program to print every second caharacter in the string"
   ]
  },
  {
   "cell_type": "code",
   "execution_count": 48,
   "id": "5a50b893-7deb-436e-bb8f-7c2676ae5ea0",
   "metadata": {},
   "outputs": [],
   "source": [
    "name = \"Hello, World!\""
   ]
  },
  {
   "cell_type": "code",
   "execution_count": 50,
   "id": "59506151-e111-4260-8421-8eb6fb10864f",
   "metadata": {},
   "outputs": [
    {
     "data": {
      "text/plain": [
       "'Hlo ol!'"
      ]
     },
     "execution_count": 50,
     "metadata": {},
     "output_type": "execute_result"
    }
   ],
   "source": [
    "name[0:13:2]"
   ]
  },
  {
   "cell_type": "markdown",
   "id": "ab52e17f-e0a1-44a2-8db9-42003308bdca",
   "metadata": {},
   "source": [
    "### 7. Given a string \"Hello, I am a data scientist!\", write a program to print the length of the string."
   ]
  },
  {
   "cell_type": "code",
   "execution_count": 3,
   "id": "118fa449-4c6e-4fe1-adc0-ba2ba644d374",
   "metadata": {},
   "outputs": [],
   "source": [
    "name = \"Hello, I am a data scientist!\""
   ]
  },
  {
   "cell_type": "code",
   "execution_count": 5,
   "id": "02003fed-ed99-48ce-92d9-376613f92c2d",
   "metadata": {},
   "outputs": [
    {
     "data": {
      "text/plain": [
       "29"
      ]
     },
     "execution_count": 5,
     "metadata": {},
     "output_type": "execute_result"
    }
   ],
   "source": [
    "len(name)"
   ]
  },
  {
   "cell_type": "markdown",
   "id": "907fa6ef-41bd-41f5-8344-c86101ca1ce6",
   "metadata": {},
   "source": [
    "### 8. Given a string \"Hello, World!\", write  a program to check if the word \"World!\" is present in the string."
   ]
  },
  {
   "cell_type": "code",
   "execution_count": 7,
   "id": "e6a50d47-fc08-4071-b860-5358d74d3e34",
   "metadata": {},
   "outputs": [],
   "source": [
    "name = \"Hello, World!\""
   ]
  },
  {
   "cell_type": "code",
   "execution_count": 9,
   "id": "a7c738c6-22b6-4184-b399-39a20fc09cfe",
   "metadata": {},
   "outputs": [
    {
     "data": {
      "text/plain": [
       "['Hello,', 'World!']"
      ]
     },
     "execution_count": 9,
     "metadata": {},
     "output_type": "execute_result"
    }
   ],
   "source": [
    "name.split()"
   ]
  },
  {
   "cell_type": "code",
   "execution_count": 11,
   "id": "30e374d5-e149-4bad-8715-46c31f44947f",
   "metadata": {},
   "outputs": [],
   "source": [
    "name1 = name.startswith(\"Hello\")"
   ]
  },
  {
   "cell_type": "code",
   "execution_count": 80,
   "id": "971ade5f-3def-4dcc-9134-8bc926492335",
   "metadata": {},
   "outputs": [
    {
     "data": {
      "text/plain": [
       "True"
      ]
     },
     "execution_count": 80,
     "metadata": {},
     "output_type": "execute_result"
    }
   ],
   "source": [
    "name1"
   ]
  },
  {
   "cell_type": "code",
   "execution_count": 13,
   "id": "402281b8-71c1-4b82-97fe-67e5c1eba5b3",
   "metadata": {},
   "outputs": [],
   "source": [
    "name2=name.endswith(\"World!\")"
   ]
  },
  {
   "cell_type": "code",
   "execution_count": 15,
   "id": "2b61dffa-5940-499b-b323-64ca6aff4fb2",
   "metadata": {},
   "outputs": [
    {
     "data": {
      "text/plain": [
       "True"
      ]
     },
     "execution_count": 15,
     "metadata": {},
     "output_type": "execute_result"
    }
   ],
   "source": [
    "name2"
   ]
  },
  {
   "cell_type": "code",
   "execution_count": 19,
   "id": "5d50607e-bf59-43e4-9e36-09ceff936449",
   "metadata": {},
   "outputs": [
    {
     "name": "stdout",
     "output_type": "stream",
     "text": [
      "present\n"
     ]
    }
   ],
   "source": [
    "if name2 is True :\n",
    "    print(\"present\")\n",
    "\n",
    "else :\n",
    "    print(\"Not present\")"
   ]
  }
 ],
 "metadata": {
  "kernelspec": {
   "display_name": "Python [conda env:base] *",
   "language": "python",
   "name": "conda-base-py"
  },
  "language_info": {
   "codemirror_mode": {
    "name": "ipython",
    "version": 3
   },
   "file_extension": ".py",
   "mimetype": "text/x-python",
   "name": "python",
   "nbconvert_exporter": "python",
   "pygments_lexer": "ipython3",
   "version": "3.12.7"
  }
 },
 "nbformat": 4,
 "nbformat_minor": 5
}
