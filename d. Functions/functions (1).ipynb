{
 "cells": [
  {
   "cell_type": "markdown",
   "id": "3ef94633",
   "metadata": {},
   "source": [
    "In Python, a function is a reusable block of code that performs a specific task. Functions are a fundamental concept in programming as they help break down complex tasks into smaller, more manageable pieces of code. They allow you to encapsulate functionality, improve code organization, and promote code reuse.\n",
    "\n",
    "Here's how you define and use functions in Python:\n",
    "\n",
    "```python\n",
    "def function_name(parameters):\n",
    "    \"\"\"Optional docstring describing the function.\"\"\"\n",
    "    # Function body: code that defines the functionality\n",
    "    # ...\n",
    "    return result  # Optional return statement\n",
    "```\n",
    "\n",
    "Let's break down the components of a function:\n",
    "\n",
    "1. **Function Declaration:** Functions are defined using the `def` keyword, followed by the function name. The name should be descriptive and follow naming conventions (lowercase with underscores for multi-word names).\n",
    "\n",
    "2. **Parameters:** Parameters are placeholders for the values that the function will work with. They are listed within parentheses after the function name. Parameters are inputs that the function uses to perform its task.\n",
    "\n",
    "3. **Function Body:** The function body consists of the indented code block that defines what the function does. It can contain any valid Python code, including variable declarations, calculations, loops, conditionals, and more.\n",
    "\n",
    "4. **Docstring:** An optional docstring enclosed in triple quotes (\"\"\"...\"\"\") can provide a brief description of the function's purpose, usage, and any relevant information. This documentation helps other developers (and yourself) understand the function's behavior.\n",
    "\n",
    "5. **Return Statement:** Functions can use the `return` statement to provide an output or result. This output can be a single value, a tuple, a list, or any other data type. If no `return` statement is used, the function returns `None` by default.\n",
    "\n",
    "\n",
    "\n",
    "In summary, functions in Python are essential building blocks that encapsulate code, promote reusability, and improve code maintainability. They enable you to structure your code logically and efficiently, enhancing the readability and maintainability of your programs."
   ]
  },
  {
   "cell_type": "code",
   "execution_count": 1,
   "id": "6a431ad8",
   "metadata": {},
   "outputs": [
    {
     "name": "stdin",
     "output_type": "stream",
     "text": [
      "Enter a value 2.5\n",
      "Enter b value 3.5\n"
     ]
    },
    {
     "name": "stdout",
     "output_type": "stream",
     "text": [
      "6.0\n"
     ]
    }
   ],
   "source": [
    "a = float(input(\"Enter a value\"))\n",
    "b = float(input(\"Enter b value\"))\n",
    "print(a+b)"
   ]
  },
  {
   "cell_type": "code",
   "execution_count": 3,
   "id": "3a573d52",
   "metadata": {},
   "outputs": [
    {
     "name": "stdout",
     "output_type": "stream",
     "text": [
      "WElocme  to the application\n"
     ]
    },
    {
     "name": "stdin",
     "output_type": "stream",
     "text": [
      "Enter a value 2.5\n",
      "Enter b value 3.5\n"
     ]
    },
    {
     "name": "stdout",
     "output_type": "stream",
     "text": [
      "6.0\n",
      "The operations is done sucessfully \n",
      "Thank you for using our application\n"
     ]
    }
   ],
   "source": [
    "print(\"WElocme  to the application\")\n",
    "a = float(input(\"Enter a value\"))\n",
    "b = float(input(\"Enter b value\"))\n",
    "print(a+b)\n",
    "print(\"The operations is done sucessfully \") \n",
    "\n",
    "print(\"Thank you for using our application\")"
   ]
  },
  {
   "cell_type": "code",
   "execution_count": null,
   "id": "ec12aaec",
   "metadata": {},
   "outputs": [],
   "source": [
    "#if you want to run the code for multiple times"
   ]
  },
  {
   "cell_type": "code",
   "execution_count": null,
   "id": "f43030e2",
   "metadata": {},
   "outputs": [],
   "source": [
    "print(\"WElocme  to the application\")\n",
    "a = float(input(\"Enter a value\"))\n",
    "b = float(input(\"Enter b value\"))\n",
    "print(a+b)\n",
    "print(\"The operations is done sucessfully \") \n",
    "\n",
    "print(\"Thank you for using our application\")"
   ]
  },
  {
   "cell_type": "code",
   "execution_count": null,
   "id": "7ef9766d",
   "metadata": {},
   "outputs": [],
   "source": [
    "print(\"WElocme  to the application\")\n",
    "a = float(input(\"Enter a value\"))\n",
    "b = float(input(\"Enter b value\"))\n",
    "print(a+b)\n",
    "print(\"The operations is done sucessfully \") \n",
    "\n",
    "print(\"Thank you for using our application\")"
   ]
  },
  {
   "cell_type": "markdown",
   "id": "eed329db",
   "metadata": {},
   "source": [
    "# Functions"
   ]
  },
  {
   "cell_type": "markdown",
   "id": "5d590025",
   "metadata": {},
   "source": [
    "In Python, a function is a reusable block of code that performs a specific task or a set of tasks. Functions help in organizing code, making it more modular, and promoting code reusability. Instead of writing the same code multiple times, you can define a function once and call it whenever needed, passing different arguments as necessary. Functions play a fundamental role in Python programming and are crucial for breaking down complex tasks into smaller, manageable parts.\n",
    "\n",
    "A function in Python has the following key components:\n",
    "\n",
    "1. Function Declaration:\n",
    "To create a function, you use the `def` keyword followed by the function name and parentheses. The parentheses may contain parameters (arguments) that the function can accept. If a function doesn't take any arguments, the parentheses remain empty.\n",
    "\n",
    "Here's a basic example of a function that takes no arguments:\n",
    "\n",
    "```python\n",
    "def greet():\n",
    "    print(\"Hello, how are you?\")\n",
    "```\n",
    "\n",
    "2. Parameters and Arguments:\n",
    "Functions can accept parameters, which act as placeholders for values that will be passed to the function when it's called. These values are called arguments. Parameters are defined inside the parentheses of the function declaration.\n",
    "\n",
    "Here's an example of a function that takes two arguments:\n",
    "\n",
    "```python\n",
    "def add_numbers(a, b):\n",
    "    sum_result = a + b\n",
    "    print(f\"The sum of {a} and {b} is {sum_result}.\")\n",
    "```\n",
    "\n",
    "3. Function Call:\n",
    "To execute the code inside a function, you call the function by using its name followed by parentheses. If the function expects arguments, you pass them inside the parentheses.\n",
    "\n",
    "```python\n",
    "greet()  # Output: \"Hello, how are you?\"\n",
    "\n",
    "add_numbers(5, 3)  # Output: \"The sum of 5 and 3 is 8.\"\n",
    "```\n",
    "\n",
    "4. Return Statement:\n",
    "A function can use the `return` statement to send a value back to the caller. This value can then be assigned to a variable or used in other parts of the program.\n",
    "\n",
    "```python\n",
    "def multiply(a, b):\n",
    "    product = a * b\n",
    "    return product\n",
    "\n",
    "result = multiply(4, 6)\n",
    "print(result)  # Output: 24\n",
    "```\n",
    "\n",
    "5. Default Arguments:\n",
    "You can assign default values to function parameters, making them optional. If an argument is not provided when calling the function, the default value will be used.\n",
    "\n",
    "```python\n",
    "def say_hello(name=\"User\"):\n",
    "    print(f\"Hello, {name}!\")\n",
    "\n",
    "say_hello()  # Output: \"Hello, User!\"\n",
    "say_hello(\"Alice\")  # Output: \"Hello, Alice!\"\n",
    "```\n",
    "\n",
    "6. Scope:\n",
    "Variables defined inside a function are considered local to that function, meaning they can't be accessed from outside the function. Conversely, variables declared outside a function have a global scope and can be accessed from within the function.\n",
    "\n",
    "```python\n",
    "def my_function():\n",
    "    x = 10  # Local variable\n",
    "    print(x)\n",
    "\n",
    "my_function()  # Output: 10\n",
    "# print(x)  # This will raise an error because 'x' is not defined in the global scope.\n",
    "```\n",
    "\n",
    "In summary, functions in Python are reusable blocks of code that accept arguments, perform specific tasks, and may return values. They are instrumental in making code more organized, efficient, and easier to maintain."
   ]
  },
  {
   "cell_type": "code",
   "execution_count": 5,
   "id": "79c064e9",
   "metadata": {},
   "outputs": [],
   "source": [
    "def wish():\n",
    "    print(\"HEllo World\")"
   ]
  },
  {
   "cell_type": "code",
   "execution_count": 7,
   "id": "2460e12b",
   "metadata": {},
   "outputs": [
    {
     "name": "stdout",
     "output_type": "stream",
     "text": [
      "HEllo World\n"
     ]
    }
   ],
   "source": [
    "wish()"
   ]
  },
  {
   "cell_type": "code",
   "execution_count": 9,
   "id": "0b802724",
   "metadata": {},
   "outputs": [
    {
     "name": "stdout",
     "output_type": "stream",
     "text": [
      "HEllo World\n"
     ]
    }
   ],
   "source": [
    "wish()"
   ]
  },
  {
   "cell_type": "markdown",
   "id": "818de83d",
   "metadata": {},
   "source": [
    "###  parameters/Arguments"
   ]
  },
  {
   "cell_type": "code",
   "execution_count": 1,
   "id": "ed23a662",
   "metadata": {},
   "outputs": [],
   "source": [
    "def add(a,b):\n",
    "    print(a+b) # a,b - parameters and 10,20 are called as arguments"
   ]
  },
  {
   "cell_type": "code",
   "execution_count": 3,
   "id": "4549af3b",
   "metadata": {},
   "outputs": [
    {
     "name": "stdout",
     "output_type": "stream",
     "text": [
      "30\n"
     ]
    }
   ],
   "source": [
    "add(10,20)"
   ]
  },
  {
   "cell_type": "code",
   "execution_count": 4,
   "id": "71a0b937",
   "metadata": {},
   "outputs": [],
   "source": [
    "def wish():\n",
    "    print(\"Welcome to siva academy\")"
   ]
  },
  {
   "cell_type": "code",
   "execution_count": 5,
   "id": "e0a1f6b5",
   "metadata": {},
   "outputs": [
    {
     "name": "stdout",
     "output_type": "stream",
     "text": [
      "Welcome to siva academy\n"
     ]
    }
   ],
   "source": [
    "wish()"
   ]
  },
  {
   "cell_type": "markdown",
   "id": "5eb13043",
   "metadata": {},
   "source": [
    "### Types of Arguments/Parameters"
   ]
  },
  {
   "cell_type": "code",
   "execution_count": 9,
   "id": "62dc1eb7",
   "metadata": {},
   "outputs": [],
   "source": [
    "def mul(a,b):\n",
    "    print(a*b)   #a,b -parameters\n",
    "                 # 12,3 -Arguments   "
   ]
  },
  {
   "cell_type": "code",
   "execution_count": 11,
   "id": "aae51f18",
   "metadata": {},
   "outputs": [
    {
     "name": "stdout",
     "output_type": "stream",
     "text": [
      "36\n"
     ]
    }
   ],
   "source": [
    "mul(12,3) "
   ]
  },
  {
   "cell_type": "markdown",
   "id": "34e555ea",
   "metadata": {},
   "source": [
    "#### Positional Args"
   ]
  },
  {
   "cell_type": "code",
   "execution_count": 13,
   "id": "32610eca",
   "metadata": {},
   "outputs": [],
   "source": [
    "def sub(a,b):\n",
    "    print(a-b)"
   ]
  },
  {
   "cell_type": "code",
   "execution_count": 15,
   "id": "df80520b",
   "metadata": {},
   "outputs": [
    {
     "name": "stdout",
     "output_type": "stream",
     "text": [
      "10\n"
     ]
    }
   ],
   "source": [
    "sub(20,10)"
   ]
  },
  {
   "cell_type": "code",
   "execution_count": 17,
   "id": "edb79f47",
   "metadata": {},
   "outputs": [
    {
     "name": "stdout",
     "output_type": "stream",
     "text": [
      "-10\n"
     ]
    }
   ],
   "source": [
    "sub(10,20)"
   ]
  },
  {
   "cell_type": "code",
   "execution_count": 19,
   "id": "334719c5",
   "metadata": {},
   "outputs": [],
   "source": [
    "def details(name,city):\n",
    "    print(f\"Hello I am {name}. and i am from {city}\")"
   ]
  },
  {
   "cell_type": "code",
   "execution_count": 21,
   "id": "adf7f9d5",
   "metadata": {},
   "outputs": [
    {
     "name": "stdout",
     "output_type": "stream",
     "text": [
      "Hello I am Rajesh. and i am from Hyderabad\n"
     ]
    }
   ],
   "source": [
    "details(\"Rajesh\",\"Hyderabad\")"
   ]
  },
  {
   "cell_type": "code",
   "execution_count": 23,
   "id": "1d129dfe",
   "metadata": {},
   "outputs": [
    {
     "name": "stdout",
     "output_type": "stream",
     "text": [
      "Hello I am Hyderabad. and i am from Ramesh\n"
     ]
    }
   ],
   "source": [
    "details(\"Hyderabad\",\"Ramesh\")"
   ]
  },
  {
   "cell_type": "code",
   "execution_count": 25,
   "id": "a586ab32",
   "metadata": {},
   "outputs": [],
   "source": [
    "def is_even(num):\n",
    "    if num%2==0:\n",
    "        print(\"Even\")\n",
    "    else:\n",
    "        print(\"Odd\")"
   ]
  },
  {
   "cell_type": "code",
   "execution_count": 27,
   "id": "db5db45f",
   "metadata": {},
   "outputs": [
    {
     "name": "stdout",
     "output_type": "stream",
     "text": [
      "Odd\n"
     ]
    }
   ],
   "source": [
    "is_even(5)"
   ]
  },
  {
   "cell_type": "code",
   "execution_count": 29,
   "id": "3aee4d33",
   "metadata": {},
   "outputs": [
    {
     "name": "stdout",
     "output_type": "stream",
     "text": [
      "Even\n"
     ]
    }
   ],
   "source": [
    "is_even(10)"
   ]
  },
  {
   "cell_type": "code",
   "execution_count": 35,
   "id": "2249c51a",
   "metadata": {},
   "outputs": [],
   "source": [
    "def is_odd(num):\n",
    "     print(\"Even\") if num%2 ==0 else print(\"Odd\")"
   ]
  },
  {
   "cell_type": "code",
   "execution_count": 37,
   "id": "42fc0e82",
   "metadata": {},
   "outputs": [
    {
     "name": "stdout",
     "output_type": "stream",
     "text": [
      "Even\n"
     ]
    }
   ],
   "source": [
    "is_odd(24)"
   ]
  },
  {
   "cell_type": "code",
   "execution_count": 39,
   "id": "921ab42a",
   "metadata": {},
   "outputs": [],
   "source": [
    "def checker(num):\n",
    "    print([\"odd\" ,\"even\"][num%2==0])"
   ]
  },
  {
   "cell_type": "code",
   "execution_count": 41,
   "id": "b7077027",
   "metadata": {},
   "outputs": [
    {
     "name": "stdout",
     "output_type": "stream",
     "text": [
      "even\n"
     ]
    }
   ],
   "source": [
    "checker(4)"
   ]
  },
  {
   "cell_type": "markdown",
   "id": "429cea69",
   "metadata": {},
   "source": [
    "[second_value,First_value] [condition]"
   ]
  },
  {
   "cell_type": "code",
   "execution_count": 31,
   "id": "5f60106c",
   "metadata": {},
   "outputs": [
    {
     "name": "stdin",
     "output_type": "stream",
     "text": [
      "Enter your name::  mahesh\n",
      "Enter you city::   bangalore\n"
     ]
    },
    {
     "name": "stdout",
     "output_type": "stream",
     "text": [
      "Hello I am mahesh. and i am from bangalore\n"
     ]
    }
   ],
   "source": [
    "def details(name,city):\n",
    "    print(f\"Hello I am {name}. and i am from {city}\")\n",
    "\n",
    "name = input(\"Enter your name:: \")\n",
    "city = input(\"Enter you city::  \")\n",
    "details(name,city)"
   ]
  },
  {
   "cell_type": "markdown",
   "id": "cf08ef65",
   "metadata": {},
   "source": [
    "### Keyword Arguments"
   ]
  },
  {
   "cell_type": "code",
   "execution_count": 33,
   "id": "0a59e310",
   "metadata": {},
   "outputs": [],
   "source": [
    "def div(a,b):\n",
    "    print(a/b)\n",
    "    "
   ]
  },
  {
   "cell_type": "code",
   "execution_count": 35,
   "id": "6dacd0fc",
   "metadata": {},
   "outputs": [
    {
     "name": "stdout",
     "output_type": "stream",
     "text": [
      "2.0\n",
      "0.5\n"
     ]
    }
   ],
   "source": [
    "div(10,5)\n",
    "div(5,10)"
   ]
  },
  {
   "cell_type": "code",
   "execution_count": 37,
   "id": "b7a9adca",
   "metadata": {},
   "outputs": [
    {
     "name": "stdout",
     "output_type": "stream",
     "text": [
      "2.5\n"
     ]
    }
   ],
   "source": [
    "div(a = 10, b =4)"
   ]
  },
  {
   "cell_type": "code",
   "execution_count": 39,
   "id": "0144dcdd",
   "metadata": {},
   "outputs": [
    {
     "name": "stdout",
     "output_type": "stream",
     "text": [
      "2.5\n"
     ]
    }
   ],
   "source": [
    "div(b =4,a =10)"
   ]
  },
  {
   "cell_type": "code",
   "execution_count": 41,
   "id": "43dd3957",
   "metadata": {},
   "outputs": [
    {
     "name": "stdin",
     "output_type": "stream",
     "text": [
      " 10\n",
      " 20\n"
     ]
    },
    {
     "name": "stdout",
     "output_type": "stream",
     "text": [
      "0.5\n"
     ]
    }
   ],
   "source": [
    "div(a = int(input()),b = int(input()))"
   ]
  },
  {
   "cell_type": "code",
   "execution_count": 53,
   "id": "9500af55",
   "metadata": {},
   "outputs": [],
   "source": [
    "def mul(x,y):\n",
    "    print(x*y)"
   ]
  },
  {
   "cell_type": "code",
   "execution_count": 55,
   "id": "7bd50fbe",
   "metadata": {},
   "outputs": [
    {
     "name": "stdout",
     "output_type": "stream",
     "text": [
      "20\n"
     ]
    }
   ],
   "source": [
    "mul(10,2)"
   ]
  },
  {
   "cell_type": "code",
   "execution_count": 57,
   "id": "2cc8a223",
   "metadata": {},
   "outputs": [
    {
     "name": "stdout",
     "output_type": "stream",
     "text": [
      "8\n"
     ]
    }
   ],
   "source": [
    "mul(x = 4,y = 2)"
   ]
  },
  {
   "cell_type": "code",
   "execution_count": 59,
   "id": "8ed75d05",
   "metadata": {},
   "outputs": [
    {
     "name": "stdout",
     "output_type": "stream",
     "text": [
      "10\n"
     ]
    }
   ],
   "source": [
    "mul(2,y = 5)"
   ]
  },
  {
   "cell_type": "code",
   "execution_count": 63,
   "id": "08cf2e91",
   "metadata": {},
   "outputs": [
    {
     "ename": "SyntaxError",
     "evalue": "positional argument follows keyword argument (961533987.py, line 1)",
     "output_type": "error",
     "traceback": [
      "\u001b[1;36m  Cell \u001b[1;32mIn[63], line 1\u001b[1;36m\u001b[0m\n\u001b[1;33m    mul(x= 3,5)\u001b[0m\n\u001b[1;37m              ^\u001b[0m\n\u001b[1;31mSyntaxError\u001b[0m\u001b[1;31m:\u001b[0m positional argument follows keyword argument\n"
     ]
    }
   ],
   "source": [
    "mul(x= 3,5)"
   ]
  },
  {
   "cell_type": "code",
   "execution_count": 65,
   "id": "d6670417",
   "metadata": {},
   "outputs": [
    {
     "ename": "TypeError",
     "evalue": "mul() got multiple values for argument 'x'",
     "output_type": "error",
     "traceback": [
      "\u001b[1;31m---------------------------------------------------------------------------\u001b[0m",
      "\u001b[1;31mTypeError\u001b[0m                                 Traceback (most recent call last)",
      "Cell \u001b[1;32mIn[65], line 1\u001b[0m\n\u001b[1;32m----> 1\u001b[0m mul(\u001b[38;5;241m3\u001b[39m,x \u001b[38;5;241m=\u001b[39m\u001b[38;5;241m5\u001b[39m)\n",
      "\u001b[1;31mTypeError\u001b[0m: mul() got multiple values for argument 'x'"
     ]
    }
   ],
   "source": [
    "mul(3,x =5)"
   ]
  },
  {
   "cell_type": "code",
   "execution_count": 67,
   "id": "7bfb4c29",
   "metadata": {},
   "outputs": [
    {
     "ename": "TypeError",
     "evalue": "mul() takes 2 positional arguments but 3 were given",
     "output_type": "error",
     "traceback": [
      "\u001b[1;31m---------------------------------------------------------------------------\u001b[0m",
      "\u001b[1;31mTypeError\u001b[0m                                 Traceback (most recent call last)",
      "Cell \u001b[1;32mIn[67], line 1\u001b[0m\n\u001b[1;32m----> 1\u001b[0m mul(\u001b[38;5;241m1\u001b[39m,\u001b[38;5;241m3\u001b[39m,\u001b[38;5;241m4\u001b[39m)\n",
      "\u001b[1;31mTypeError\u001b[0m: mul() takes 2 positional arguments but 3 were given"
     ]
    }
   ],
   "source": [
    "mul(1,3,4)"
   ]
  },
  {
   "cell_type": "markdown",
   "id": "89b76a15",
   "metadata": {},
   "source": [
    "#### valid syntax"
   ]
  },
  {
   "cell_type": "code",
   "execution_count": 52,
   "id": "c9387ba8",
   "metadata": {},
   "outputs": [],
   "source": [
    "### function(positional,keyword)"
   ]
  },
  {
   "cell_type": "markdown",
   "id": "12b5eebb",
   "metadata": {},
   "source": [
    "### Default arguments"
   ]
  },
  {
   "cell_type": "code",
   "execution_count": 73,
   "id": "33886cc2",
   "metadata": {},
   "outputs": [],
   "source": [
    "def user(name=\"manoj\"):\n",
    "    print(f\"Hello {name}.How can I assist you\")"
   ]
  },
  {
   "cell_type": "code",
   "execution_count": 75,
   "id": "fbf608cb",
   "metadata": {},
   "outputs": [
    {
     "name": "stdout",
     "output_type": "stream",
     "text": [
      "Hello manoj.How can I assist you\n"
     ]
    }
   ],
   "source": [
    "user()"
   ]
  },
  {
   "cell_type": "markdown",
   "id": "f0ce36e5",
   "metadata": {},
   "source": [
    "### Variable Length Arguments"
   ]
  },
  {
   "cell_type": "code",
   "execution_count": 47,
   "id": "a17ac74f",
   "metadata": {},
   "outputs": [],
   "source": [
    "def cumsum(*n):\n",
    "    total = 0\n",
    "    for i in n:\n",
    "        total += i\n",
    "    print(total)"
   ]
  },
  {
   "cell_type": "code",
   "execution_count": 49,
   "id": "cda892e3",
   "metadata": {},
   "outputs": [
    {
     "name": "stdout",
     "output_type": "stream",
     "text": [
      "43600\n"
     ]
    }
   ],
   "source": [
    "cumsum(1,2,3,4,5,6,7,8,3,5,7,88,8875,54,34532)"
   ]
  },
  {
   "cell_type": "code",
   "execution_count": 51,
   "id": "bbb86ca6",
   "metadata": {},
   "outputs": [
    {
     "name": "stdout",
     "output_type": "stream",
     "text": [
      "36\n"
     ]
    }
   ],
   "source": [
    "cumsum(1,2,3,4,5,6,7,8)"
   ]
  },
  {
   "cell_type": "markdown",
   "id": "da57e415",
   "metadata": {},
   "source": [
    "#### Difference between return print in functions"
   ]
  },
  {
   "cell_type": "code",
   "execution_count": 59,
   "id": "d59571bc",
   "metadata": {},
   "outputs": [],
   "source": [
    "def add(a,b):\n",
    "    print(a+b)"
   ]
  },
  {
   "cell_type": "code",
   "execution_count": 61,
   "id": "5582ff45",
   "metadata": {},
   "outputs": [
    {
     "name": "stdout",
     "output_type": "stream",
     "text": [
      "30\n"
     ]
    }
   ],
   "source": [
    "add(10,20)"
   ]
  },
  {
   "cell_type": "code",
   "execution_count": 63,
   "id": "d28df5b8-2f77-4450-b8a9-b66518154a57",
   "metadata": {},
   "outputs": [
    {
     "ename": "NameError",
     "evalue": "name 'a' is not defined",
     "output_type": "error",
     "traceback": [
      "\u001b[1;31m---------------------------------------------------------------------------\u001b[0m",
      "\u001b[1;31mNameError\u001b[0m                                 Traceback (most recent call last)",
      "Cell \u001b[1;32mIn[63], line 1\u001b[0m\n\u001b[1;32m----> 1\u001b[0m a\n",
      "\u001b[1;31mNameError\u001b[0m: name 'a' is not defined"
     ]
    }
   ],
   "source": [
    "a"
   ]
  },
  {
   "cell_type": "code",
   "execution_count": 65,
   "id": "8097603c-f90b-4c13-9533-ea3314ced8a5",
   "metadata": {},
   "outputs": [
    {
     "ename": "NameError",
     "evalue": "name 'b' is not defined",
     "output_type": "error",
     "traceback": [
      "\u001b[1;31m---------------------------------------------------------------------------\u001b[0m",
      "\u001b[1;31mNameError\u001b[0m                                 Traceback (most recent call last)",
      "Cell \u001b[1;32mIn[65], line 1\u001b[0m\n\u001b[1;32m----> 1\u001b[0m b\n",
      "\u001b[1;31mNameError\u001b[0m: name 'b' is not defined"
     ]
    }
   ],
   "source": [
    "b"
   ]
  },
  {
   "cell_type": "code",
   "execution_count": 67,
   "id": "4bca798c",
   "metadata": {},
   "outputs": [],
   "source": [
    "def add1(a,b):\n",
    "    return a+b"
   ]
  },
  {
   "cell_type": "code",
   "execution_count": 69,
   "id": "3081b5a1",
   "metadata": {},
   "outputs": [
    {
     "data": {
      "text/plain": [
       "30"
      ]
     },
     "execution_count": 69,
     "metadata": {},
     "output_type": "execute_result"
    }
   ],
   "source": [
    "add1(10,20)"
   ]
  },
  {
   "cell_type": "code",
   "execution_count": 71,
   "id": "49964373-e624-45c1-8b6d-d3917feb1199",
   "metadata": {},
   "outputs": [
    {
     "ename": "NameError",
     "evalue": "name 'a' is not defined",
     "output_type": "error",
     "traceback": [
      "\u001b[1;31m---------------------------------------------------------------------------\u001b[0m",
      "\u001b[1;31mNameError\u001b[0m                                 Traceback (most recent call last)",
      "Cell \u001b[1;32mIn[71], line 1\u001b[0m\n\u001b[1;32m----> 1\u001b[0m a\n",
      "\u001b[1;31mNameError\u001b[0m: name 'a' is not defined"
     ]
    }
   ],
   "source": [
    "a"
   ]
  },
  {
   "cell_type": "code",
   "execution_count": 109,
   "id": "13803a9a-1291-4710-b4f4-58029e431af9",
   "metadata": {},
   "outputs": [
    {
     "data": {
      "text/plain": [
       "2.5"
      ]
     },
     "execution_count": 109,
     "metadata": {},
     "output_type": "execute_result"
    }
   ],
   "source": []
  },
  {
   "cell_type": "code",
   "execution_count": 73,
   "id": "f0c9d0e7",
   "metadata": {},
   "outputs": [
    {
     "name": "stdout",
     "output_type": "stream",
     "text": [
      "<class 'function'>\n"
     ]
    }
   ],
   "source": [
    "print(type(add))"
   ]
  },
  {
   "cell_type": "code",
   "execution_count": 75,
   "id": "70b6ed4b",
   "metadata": {},
   "outputs": [
    {
     "name": "stdout",
     "output_type": "stream",
     "text": [
      "<class 'function'>\n"
     ]
    }
   ],
   "source": [
    "print(type(add1))"
   ]
  },
  {
   "cell_type": "code",
   "execution_count": 77,
   "id": "1c46f54f",
   "metadata": {},
   "outputs": [
    {
     "name": "stdout",
     "output_type": "stream",
     "text": [
      "30\n"
     ]
    },
    {
     "ename": "TypeError",
     "evalue": "unsupported operand type(s) for +: 'NoneType' and 'int'",
     "output_type": "error",
     "traceback": [
      "\u001b[1;31m---------------------------------------------------------------------------\u001b[0m",
      "\u001b[1;31mTypeError\u001b[0m                                 Traceback (most recent call last)",
      "Cell \u001b[1;32mIn[77], line 1\u001b[0m\n\u001b[1;32m----> 1\u001b[0m add(\u001b[38;5;241m10\u001b[39m,\u001b[38;5;241m20\u001b[39m) \u001b[38;5;241m+\u001b[39m\u001b[38;5;241m10\u001b[39m\n",
      "\u001b[1;31mTypeError\u001b[0m: unsupported operand type(s) for +: 'NoneType' and 'int'"
     ]
    }
   ],
   "source": [
    "add(10,20) +10"
   ]
  },
  {
   "cell_type": "code",
   "execution_count": 79,
   "id": "b9194478",
   "metadata": {},
   "outputs": [
    {
     "data": {
      "text/plain": [
       "40"
      ]
     },
     "execution_count": 79,
     "metadata": {},
     "output_type": "execute_result"
    }
   ],
   "source": [
    "add1(10,20)+10"
   ]
  },
  {
   "cell_type": "code",
   "execution_count": 139,
   "id": "3e4ff77d",
   "metadata": {},
   "outputs": [
    {
     "name": "stdout",
     "output_type": "stream",
     "text": [
      "3\n"
     ]
    }
   ],
   "source": [
    "add(1,2)"
   ]
  },
  {
   "cell_type": "code",
   "execution_count": 141,
   "id": "c67c2d51",
   "metadata": {
    "scrolled": true
   },
   "outputs": [
    {
     "data": {
      "text/plain": [
       "3"
      ]
     },
     "execution_count": 141,
     "metadata": {},
     "output_type": "execute_result"
    }
   ],
   "source": [
    "add1(1,2)"
   ]
  },
  {
   "cell_type": "code",
   "execution_count": 123,
   "id": "63ef800f",
   "metadata": {},
   "outputs": [
    {
     "name": "stdout",
     "output_type": "stream",
     "text": [
      "12\n"
     ]
    }
   ],
   "source": [
    "a = 10\n",
    "b = 2\n",
    "print(a+b)"
   ]
  },
  {
   "cell_type": "code",
   "execution_count": 133,
   "id": "159f5322",
   "metadata": {},
   "outputs": [
    {
     "data": {
      "text/plain": [
       "12"
      ]
     },
     "execution_count": 133,
     "metadata": {},
     "output_type": "execute_result"
    }
   ],
   "source": [
    "a = 10\n",
    "b =2\n",
    "a+b"
   ]
  },
  {
   "cell_type": "code",
   "execution_count": 143,
   "id": "1f38f2a2",
   "metadata": {},
   "outputs": [
    {
     "name": "stdout",
     "output_type": "stream",
     "text": [
      "12\n"
     ]
    },
    {
     "data": {
      "text/plain": [
       "NoneType"
      ]
     },
     "execution_count": 143,
     "metadata": {},
     "output_type": "execute_result"
    }
   ],
   "source": [
    "type(add(10,2))"
   ]
  },
  {
   "cell_type": "code",
   "execution_count": 145,
   "id": "18917d78",
   "metadata": {},
   "outputs": [
    {
     "data": {
      "text/plain": [
       "int"
      ]
     },
     "execution_count": 145,
     "metadata": {},
     "output_type": "execute_result"
    }
   ],
   "source": [
    "type(add1(10,2))"
   ]
  },
  {
   "cell_type": "markdown",
   "id": "db93b46b",
   "metadata": {},
   "source": [
    "### TYpes of variables"
   ]
  },
  {
   "cell_type": "code",
   "execution_count": 81,
   "id": "b9531a37",
   "metadata": {},
   "outputs": [],
   "source": [
    "def add(n):\n",
    "    a = 100  #local variable\n",
    "    print(n+a)"
   ]
  },
  {
   "cell_type": "code",
   "execution_count": 83,
   "id": "bd7d8334",
   "metadata": {},
   "outputs": [
    {
     "name": "stdout",
     "output_type": "stream",
     "text": [
      "300\n"
     ]
    }
   ],
   "source": [
    "add(200)"
   ]
  },
  {
   "cell_type": "code",
   "execution_count": 85,
   "id": "af50ee21",
   "metadata": {},
   "outputs": [],
   "source": [
    "x = 10\n",
    "def sub(n):\n",
    "    print(n-x)"
   ]
  },
  {
   "cell_type": "code",
   "execution_count": 87,
   "id": "ce24e37a",
   "metadata": {},
   "outputs": [
    {
     "name": "stdout",
     "output_type": "stream",
     "text": [
      "-5\n"
     ]
    }
   ],
   "source": [
    "sub(5)"
   ]
  },
  {
   "cell_type": "code",
   "execution_count": 89,
   "id": "b5fd0e9b",
   "metadata": {},
   "outputs": [
    {
     "name": "stdout",
     "output_type": "stream",
     "text": [
      "16\n"
     ]
    }
   ],
   "source": [
    "def add(y):\n",
    "    print(x+y)\n",
    "add(6)"
   ]
  },
  {
   "cell_type": "code",
   "execution_count": 91,
   "id": "c50df091",
   "metadata": {},
   "outputs": [],
   "source": [
    "def name(na):\n",
    "    m = \"Hello  \"\n",
    "    print(m+na)\n",
    "    \n",
    "def name1(ma):\n",
    "    print(ma+m)"
   ]
  },
  {
   "cell_type": "code",
   "execution_count": 93,
   "id": "1df046fa",
   "metadata": {},
   "outputs": [
    {
     "name": "stdout",
     "output_type": "stream",
     "text": [
      "Hello  world\n"
     ]
    }
   ],
   "source": [
    "name(\"world\")"
   ]
  },
  {
   "cell_type": "code",
   "execution_count": 95,
   "id": "65440dcb-b85f-4a65-b371-9f5ff3965127",
   "metadata": {},
   "outputs": [
    {
     "ename": "NameError",
     "evalue": "name 'm' is not defined",
     "output_type": "error",
     "traceback": [
      "\u001b[1;31m---------------------------------------------------------------------------\u001b[0m",
      "\u001b[1;31mNameError\u001b[0m                                 Traceback (most recent call last)",
      "Cell \u001b[1;32mIn[95], line 1\u001b[0m\n\u001b[1;32m----> 1\u001b[0m name1(\u001b[38;5;124m\"\u001b[39m\u001b[38;5;124mworld\u001b[39m\u001b[38;5;124m\"\u001b[39m)\n",
      "Cell \u001b[1;32mIn[91], line 6\u001b[0m, in \u001b[0;36mname1\u001b[1;34m(ma)\u001b[0m\n\u001b[0;32m      5\u001b[0m \u001b[38;5;28;01mdef\u001b[39;00m \u001b[38;5;21mname1\u001b[39m(ma):\n\u001b[1;32m----> 6\u001b[0m     \u001b[38;5;28mprint\u001b[39m(ma\u001b[38;5;241m+\u001b[39mm)\n",
      "\u001b[1;31mNameError\u001b[0m: name 'm' is not defined"
     ]
    }
   ],
   "source": [
    "name1(\"world\")"
   ]
  },
  {
   "cell_type": "code",
   "execution_count": 97,
   "id": "8c958585",
   "metadata": {},
   "outputs": [],
   "source": [
    "m = \"Hello  \"  #global variable\n",
    "def name(na):\n",
    "    print(m+na)\n",
    "    \n",
    "def name1(ma):\n",
    "    print(ma+m)"
   ]
  },
  {
   "cell_type": "code",
   "execution_count": 99,
   "id": "8964bfd2",
   "metadata": {},
   "outputs": [
    {
     "name": "stdout",
     "output_type": "stream",
     "text": [
      "haiHello  \n"
     ]
    }
   ],
   "source": [
    "name1(\"hai\")"
   ]
  },
  {
   "cell_type": "code",
   "execution_count": 101,
   "id": "a5aff458",
   "metadata": {},
   "outputs": [],
   "source": [
    "\n",
    "\n",
    "def name(c):\n",
    "    global z\n",
    "    z = \"siva\"\n",
    "    print(z+c)\n",
    "    \n",
    "def name1(d):\n",
    "    print(z+ d)"
   ]
  },
  {
   "cell_type": "code",
   "execution_count": 103,
   "id": "ebf41854",
   "metadata": {},
   "outputs": [
    {
     "name": "stdout",
     "output_type": "stream",
     "text": [
      "siva World\n"
     ]
    }
   ],
   "source": [
    "name(\" World\")"
   ]
  },
  {
   "cell_type": "code",
   "execution_count": 105,
   "id": "b2f8f806",
   "metadata": {},
   "outputs": [
    {
     "name": "stdout",
     "output_type": "stream",
     "text": [
      "siva How are you?\n"
     ]
    }
   ],
   "source": [
    "name1(' How are you?')"
   ]
  },
  {
   "cell_type": "code",
   "execution_count": 46,
   "id": "4fc34be7",
   "metadata": {},
   "outputs": [],
   "source": [
    "def mul(x,y):\n",
    "    print(x * y)"
   ]
  },
  {
   "cell_type": "code",
   "execution_count": 47,
   "id": "4cbc14cb",
   "metadata": {},
   "outputs": [
    {
     "name": "stdout",
     "output_type": "stream",
     "text": [
      "10\n"
     ]
    }
   ],
   "source": [
    "mul(5,2)"
   ]
  },
  {
   "cell_type": "markdown",
   "id": "c7bb667b",
   "metadata": {},
   "source": [
    "# Lambda function"
   ]
  },
  {
   "cell_type": "markdown",
   "id": "72d73c0d",
   "metadata": {},
   "source": [
    "Lambda functions, also known as anonymous functions, are a concise way to create small, one-line functions in Python. They are often used for simple operations where defining a full function using the `def` keyword would be overkill. Lambda functions are particularly useful when you need a short function for a specific task, and you don't want to go through the process of giving it a formal name and defining it using the `def` syntax.\n",
    "\n",
    "The syntax for a lambda function is as follows:\n",
    "\n",
    "```python\n",
    "lambda arguments: expression\n",
    "```\n",
    "\n",
    "Here's a breakdown of the components:\n",
    "\n",
    "- `lambda`: The keyword that indicates you're defining a lambda function.\n",
    "- `arguments`: The input arguments or parameters the lambda function takes. Like regular functions, lambda functions can take zero or more arguments.\n",
    "- `expression`: The single expression that the lambda function evaluates and returns as its result.\n",
    "\n",
    "Here's an example of a lambda function that calculates the square of a number:\n",
    "\n",
    "```python\n",
    "square = lambda x: x ** 2\n",
    "result = square(5)\n",
    "print(result)  # Output: 25\n",
    "```\n",
    "\n",
    "\n",
    "\n",
    "However, it's important to note that lambda functions have limitations compared to regular functions defined with `def`:\n",
    "\n",
    "1. Lambda functions are limited to a single expression, which means you can't include multiple statements or complex logic within them.\n",
    "2. Lambda functions can only return a single value; you can't have multiple return statements or complex return structures.\n",
    "3. Lambda functions don't have a name, so they can make code harder to understand if used extensively for complex tasks.\n",
    "\n",
    "Because of these limitations, while lambda functions are handy for simple tasks, more complex operations are better suited to regular named functions defined with `def`."
   ]
  },
  {
   "cell_type": "code",
   "execution_count": 173,
   "id": "3151c25d",
   "metadata": {},
   "outputs": [],
   "source": [
    "fun =  lambda c,d: c * d"
   ]
  },
  {
   "cell_type": "code",
   "execution_count": 175,
   "id": "b69c5a34",
   "metadata": {},
   "outputs": [
    {
     "data": {
      "text/plain": [
       "10"
      ]
     },
     "execution_count": 175,
     "metadata": {},
     "output_type": "execute_result"
    }
   ],
   "source": [
    "fun(5,2)"
   ]
  },
  {
   "cell_type": "markdown",
   "id": "d3b6df0b",
   "metadata": {},
   "source": [
    "### if else with lambda"
   ]
  },
  {
   "cell_type": "code",
   "execution_count": 179,
   "id": "c76e05a6",
   "metadata": {},
   "outputs": [],
   "source": [
    "#even or odd\n",
    "\n",
    "c =    lambda n: \"Even\"   if (n%2==0)  else \"Odd\""
   ]
  },
  {
   "cell_type": "code",
   "execution_count": 181,
   "id": "f550e459",
   "metadata": {},
   "outputs": [
    {
     "data": {
      "text/plain": [
       "'Even'"
      ]
     },
     "execution_count": 181,
     "metadata": {},
     "output_type": "execute_result"
    }
   ],
   "source": [
    "c(6)"
   ]
  },
  {
   "cell_type": "code",
   "execution_count": 183,
   "id": "fcfffc00",
   "metadata": {},
   "outputs": [
    {
     "data": {
      "text/plain": [
       "'Odd'"
      ]
     },
     "execution_count": 183,
     "metadata": {},
     "output_type": "execute_result"
    }
   ],
   "source": [
    "c(23)"
   ]
  },
  {
   "cell_type": "code",
   "execution_count": 185,
   "id": "6d75b553",
   "metadata": {},
   "outputs": [
    {
     "data": {
      "text/plain": [
       "'Odd'"
      ]
     },
     "execution_count": 185,
     "metadata": {},
     "output_type": "execute_result"
    }
   ],
   "source": [
    "c(101)"
   ]
  },
  {
   "cell_type": "code",
   "execution_count": 58,
   "id": "0724b422",
   "metadata": {},
   "outputs": [],
   "source": [
    "#Print all the even number from 10 t0 30"
   ]
  },
  {
   "cell_type": "code",
   "execution_count": 189,
   "id": "5a1339b2",
   "metadata": {},
   "outputs": [],
   "source": [
    "a = []\n",
    "def even():\n",
    "    for i in range(10,30):\n",
    "        if i%2 ==0:\n",
    "            a.append(i)\n",
    "    print(a)"
   ]
  },
  {
   "cell_type": "code",
   "execution_count": 191,
   "id": "edda041b",
   "metadata": {},
   "outputs": [
    {
     "name": "stdout",
     "output_type": "stream",
     "text": [
      "[10, 12, 14, 16, 18, 20, 22, 24, 26, 28]\n"
     ]
    }
   ],
   "source": [
    "even()"
   ]
  },
  {
   "cell_type": "markdown",
   "id": "838b8fd6",
   "metadata": {},
   "source": [
    "## with Lambda"
   ]
  },
  {
   "cell_type": "code",
   "execution_count": 200,
   "id": "aae7848d",
   "metadata": {},
   "outputs": [],
   "source": [
    "ev =   lambda : [\"Even\" if val%2==0 else \"odd\" for val in range(10,30)]"
   ]
  },
  {
   "cell_type": "code",
   "execution_count": 202,
   "id": "2a633fd6",
   "metadata": {},
   "outputs": [
    {
     "data": {
      "text/plain": [
       "['Even',\n",
       " 'odd',\n",
       " 'Even',\n",
       " 'odd',\n",
       " 'Even',\n",
       " 'odd',\n",
       " 'Even',\n",
       " 'odd',\n",
       " 'Even',\n",
       " 'odd',\n",
       " 'Even',\n",
       " 'odd',\n",
       " 'Even',\n",
       " 'odd',\n",
       " 'Even',\n",
       " 'odd',\n",
       " 'Even',\n",
       " 'odd',\n",
       " 'Even',\n",
       " 'odd']"
      ]
     },
     "execution_count": 202,
     "metadata": {},
     "output_type": "execute_result"
    }
   ],
   "source": [
    "ev()"
   ]
  },
  {
   "cell_type": "markdown",
   "id": "dcfb6d57",
   "metadata": {},
   "source": [
    "## Recursive function"
   ]
  },
  {
   "cell_type": "markdown",
   "id": "af507992",
   "metadata": {},
   "source": [
    "A recursive function is a function that calls itself as a part of its own execution. Recursive functions are a powerful programming concept that can be used to solve complex problems by breaking them down into smaller instances of the same problem. In Python, just like in other programming languages, recursive functions follow a base case and a recursive case.\n",
    "\n",
    "Here's how a recursive function generally works:\n",
    "\n",
    "1. **Base Case:** This is the condition under which the recursive function stops calling itself and returns a specific value. It prevents the function from calling itself indefinitely and creates the termination point for the recursion.\n",
    "\n",
    "2. **Recursive Case:** This is where the function calls itself with modified arguments. The idea is that by solving a smaller instance of the problem, the function can eventually solve the larger problem.\n",
    "\n",
    "When writing a recursive function, it's crucial to ensure that the base case is reachable and that each recursive call brings you closer to the base case.\n",
    "\n",
    "\n",
    "Recursive functions can be used to solve a variety of problems, including tasks like calculating Fibonacci numbers, traversing complex data structures (like trees and graphs), and more. However, it's important to be cautious when using recursion, as improper usage can lead to infinite loops and stack overflow errors. Always ensure that your recursive function has a well-defined base case and that the function moves towards that base case in each recursive call.\n",
    "\n",
    "Python's default recursion depth is limited, so for problems that require deep recursion, you might hit a recursion depth limit. You can increase the recursion depth using `sys.setrecursionlimit()` function, but it's often better to consider alternative approaches like iterative solutions or tail recursion optimization."
   ]
  },
  {
   "cell_type": "markdown",
   "id": "a51bd20f",
   "metadata": {},
   "source": [
    "##### factorial ,fibonacci seqeunce"
   ]
  },
  {
   "cell_type": "markdown",
   "id": "e57b08b4",
   "metadata": {},
   "source": [
    "The function which calls it self\n",
    "\n",
    "Function in the function "
   ]
  },
  {
   "cell_type": "markdown",
   "id": "d65e6410",
   "metadata": {},
   "source": [
    "#### factorial "
   ]
  },
  {
   "cell_type": "code",
   "execution_count": 206,
   "id": "702f627b",
   "metadata": {},
   "outputs": [],
   "source": [
    "def fact(n):\n",
    "    if (n==0) or (n==1):\n",
    "        return 1\n",
    "    else:\n",
    "        x = n * fact(n-1)\n",
    "    return x"
   ]
  },
  {
   "cell_type": "code",
   "execution_count": 208,
   "id": "664e93ff",
   "metadata": {},
   "outputs": [
    {
     "data": {
      "text/plain": [
       "720"
      ]
     },
     "execution_count": 208,
     "metadata": {},
     "output_type": "execute_result"
    }
   ],
   "source": [
    "fact(6)"
   ]
  },
  {
   "cell_type": "markdown",
   "id": "d0d11f5f",
   "metadata": {},
   "source": [
    "#### fibanocci sequence"
   ]
  },
  {
   "cell_type": "code",
   "execution_count": 214,
   "id": "9749112f",
   "metadata": {},
   "outputs": [],
   "source": [
    "def fib(n):\n",
    "    if n<=1:\n",
    "        return n\n",
    "    else:\n",
    "        return fib(n-1)+ fib (n-2)\n",
    "   "
   ]
  },
  {
   "cell_type": "code",
   "execution_count": 224,
   "id": "d0c25a9d-9583-43ac-b5cd-ecb8321a18c4",
   "metadata": {},
   "outputs": [
    {
     "name": "stdout",
     "output_type": "stream",
     "text": [
      "55\n"
     ]
    }
   ],
   "source": [
    "print(fib(10))"
   ]
  },
  {
   "cell_type": "code",
   "execution_count": 216,
   "id": "4a1154a4",
   "metadata": {},
   "outputs": [
    {
     "name": "stdin",
     "output_type": "stream",
     "text": [
      "Enter a number:   5\n"
     ]
    },
    {
     "name": "stdout",
     "output_type": "stream",
     "text": [
      "0\n",
      "1\n",
      "1\n",
      "2\n",
      "3\n"
     ]
    }
   ],
   "source": [
    "n = int(input(\"Enter a number:  \"))\n",
    "if n<=0:\n",
    "    print(\"Enter a postive number: \")\n",
    "else:\n",
    "    for i in range(n):\n",
    "        print(fib(i))"
   ]
  },
  {
   "cell_type": "markdown",
   "id": "ebc50d64",
   "metadata": {},
   "source": [
    "## Filter()"
   ]
  },
  {
   "cell_type": "code",
   "execution_count": 1,
   "id": "1bbee9eb",
   "metadata": {},
   "outputs": [],
   "source": [
    "seq = [1,2,3,4,5,6,7]\n",
    "\n",
    "def even(n):\n",
    "    if n % 2 ==0:\n",
    "        return n"
   ]
  },
  {
   "cell_type": "code",
   "execution_count": 3,
   "id": "a04f442a-318e-493b-b992-1af440d37aee",
   "metadata": {},
   "outputs": [
    {
     "data": {
      "text/plain": [
       "<filter at 0x21937185930>"
      ]
     },
     "execution_count": 3,
     "metadata": {},
     "output_type": "execute_result"
    }
   ],
   "source": [
    "filter(even,seq) #object"
   ]
  },
  {
   "cell_type": "code",
   "execution_count": 5,
   "id": "be219042",
   "metadata": {},
   "outputs": [
    {
     "data": {
      "text/plain": [
       "[2, 4, 6]"
      ]
     },
     "execution_count": 5,
     "metadata": {},
     "output_type": "execute_result"
    }
   ],
   "source": [
    "list(filter(even,seq))"
   ]
  },
  {
   "cell_type": "code",
   "execution_count": 7,
   "id": "077fe1ca-cb4e-4e70-9e13-ee3c2ffaddcc",
   "metadata": {},
   "outputs": [
    {
     "data": {
      "text/plain": [
       "{2, 4, 6}"
      ]
     },
     "execution_count": 7,
     "metadata": {},
     "output_type": "execute_result"
    }
   ],
   "source": [
    "set(filter(even,seq))"
   ]
  },
  {
   "cell_type": "code",
   "execution_count": 234,
   "id": "cb04f06d-5dd1-4308-9111-af1d7e71d25e",
   "metadata": {},
   "outputs": [
    {
     "data": {
      "text/plain": [
       "(2, 4, 6)"
      ]
     },
     "execution_count": 234,
     "metadata": {},
     "output_type": "execute_result"
    }
   ],
   "source": [
    "tuple(filter(even,seq))"
   ]
  },
  {
   "cell_type": "code",
   "execution_count": 13,
   "id": "1ec71a6f",
   "metadata": {},
   "outputs": [],
   "source": [
    "tup = (\"tomoto\",\"potato\",\"carrot\",\"brinjal\",\"drumstick\",\"mirchi\")"
   ]
  },
  {
   "cell_type": "code",
   "execution_count": 15,
   "id": "f4ed91c6",
   "metadata": {},
   "outputs": [],
   "source": [
    "def veg(vegetable):\n",
    "    if vegetable.endswith(\"o\"):\n",
    "        return vegetable"
   ]
  },
  {
   "cell_type": "code",
   "execution_count": 17,
   "id": "040891cb",
   "metadata": {},
   "outputs": [
    {
     "data": {
      "text/plain": [
       "['tomoto', 'potato']"
      ]
     },
     "execution_count": 17,
     "metadata": {},
     "output_type": "execute_result"
    }
   ],
   "source": [
    "list(filter(veg,tup))"
   ]
  },
  {
   "cell_type": "code",
   "execution_count": 19,
   "id": "dec613a3",
   "metadata": {},
   "outputs": [],
   "source": [
    "val = [ 1,2,3,4,5,6,7,8]\n",
    "\n",
    "def  check(n):\n",
    "    if n%2 == 0:\n",
    "        return \"Even value\"\n"
   ]
  },
  {
   "cell_type": "code",
   "execution_count": 21,
   "id": "0715d417",
   "metadata": {},
   "outputs": [
    {
     "data": {
      "text/plain": [
       "[2, 4, 6, 8]"
      ]
     },
     "execution_count": 21,
     "metadata": {},
     "output_type": "execute_result"
    }
   ],
   "source": [
    "list(filter(check,val))"
   ]
  },
  {
   "cell_type": "markdown",
   "id": "aa986a04",
   "metadata": {},
   "source": [
    "## Map()"
   ]
  },
  {
   "cell_type": "code",
   "execution_count": 23,
   "id": "d0e4f3b7",
   "metadata": {},
   "outputs": [],
   "source": [
    "list1 = [1,2,3,4,5,6,7,8]\n",
    "#[\"Odd\",\"Even\",\"Odd\",\"Even\",\"Odd\",\"Even\",\"Odd\",\"Even\"]\n",
    "def val(n):\n",
    "    if n%2==0:\n",
    "        return \"E\"\n",
    "    else:\n",
    "        return \"O\""
   ]
  },
  {
   "cell_type": "code",
   "execution_count": 25,
   "id": "631b9559",
   "metadata": {},
   "outputs": [
    {
     "data": {
      "text/plain": [
       "['O', 'E', 'O', 'E', 'O', 'E', 'O', 'E']"
      ]
     },
     "execution_count": 25,
     "metadata": {},
     "output_type": "execute_result"
    }
   ],
   "source": [
    "list(map(val,list1))"
   ]
  },
  {
   "cell_type": "code",
   "execution_count": 250,
   "id": "a9eec794",
   "metadata": {},
   "outputs": [],
   "source": [
    "val = [\"Imagina\",\"ra\",\"crea\",\"destina\",\"selec\",\"prepara\"]\n",
    "\n",
    "def name(n):\n",
    "    return n+'tion'\n"
   ]
  },
  {
   "cell_type": "code",
   "execution_count": 252,
   "id": "a6cd8c97",
   "metadata": {},
   "outputs": [
    {
     "data": {
      "text/plain": [
       "['Imagination',\n",
       " 'ration',\n",
       " 'creation',\n",
       " 'destination',\n",
       " 'selection',\n",
       " 'preparation']"
      ]
     },
     "execution_count": 252,
     "metadata": {},
     "output_type": "execute_result"
    }
   ],
   "source": [
    "list(map(name,val))"
   ]
  },
  {
   "cell_type": "code",
   "execution_count": 27,
   "id": "8da6f5cb",
   "metadata": {},
   "outputs": [],
   "source": [
    "l = [2,5,7,9,10]\n",
    "\n",
    "srt = lambda n : n**2"
   ]
  },
  {
   "cell_type": "code",
   "execution_count": 31,
   "id": "ae95a94e-5681-4d74-a00d-df6ec0b26880",
   "metadata": {},
   "outputs": [
    {
     "name": "stdout",
     "output_type": "stream",
     "text": [
      "<function <lambda> at 0x0000021938DC3740>\n"
     ]
    }
   ],
   "source": [
    "print(srt)"
   ]
  },
  {
   "cell_type": "code",
   "execution_count": 260,
   "id": "f14e8cbc-bb2d-49a2-81a2-cf52b9e02af2",
   "metadata": {},
   "outputs": [
    {
     "data": {
      "text/plain": [
       "[2, 5, 7, 9, 10]"
      ]
     },
     "execution_count": 260,
     "metadata": {},
     "output_type": "execute_result"
    }
   ],
   "source": [
    "list(filter(srt,l))"
   ]
  },
  {
   "cell_type": "code",
   "execution_count": 256,
   "id": "f89c79b8",
   "metadata": {},
   "outputs": [
    {
     "data": {
      "text/plain": [
       "[4, 25, 49, 81, 100]"
      ]
     },
     "execution_count": 256,
     "metadata": {},
     "output_type": "execute_result"
    }
   ],
   "source": [
    "list(map(srt,l))"
   ]
  },
  {
   "cell_type": "markdown",
   "id": "e1526d39",
   "metadata": {},
   "source": [
    "### zip()"
   ]
  },
  {
   "cell_type": "code",
   "execution_count": 262,
   "id": "5ad21681",
   "metadata": {},
   "outputs": [],
   "source": [
    "fruits = [\"apple\",\"grape\",\"Banana\",\"orange\",\"Mango\"]\n",
    "cars = [\"maruti\",\"Tesla\",\"Hundai\",\"kia\",\"TATA\"]\n",
    "bikes = [\"Honda\",\"KTM\",\"TVS\",\"Suzuki\",\"Hero\"]\n",
    "fr_car = zip(fruits,cars,bikes)"
   ]
  },
  {
   "cell_type": "code",
   "execution_count": 264,
   "id": "1cbe2e27",
   "metadata": {},
   "outputs": [
    {
     "name": "stdout",
     "output_type": "stream",
     "text": [
      "('apple', 'maruti', 'Honda')\n",
      "('grape', 'Tesla', 'KTM')\n",
      "('Banana', 'Hundai', 'TVS')\n",
      "('orange', 'kia', 'Suzuki')\n",
      "('Mango', 'TATA', 'Hero')\n"
     ]
    }
   ],
   "source": [
    "for i in fr_car:\n",
    "    print(i)"
   ]
  },
  {
   "cell_type": "code",
   "execution_count": 266,
   "id": "ff7d93bd",
   "metadata": {},
   "outputs": [],
   "source": [
    "sno = [1,2,3,4,5]\n",
    "courses = [\"DS\",\"DA\",\"FSD\",\"DevOps\",\"Cloud\"]\n",
    "lang = [\"Python\",\"C\",\"Java\",\"R\",\"Scala\"]"
   ]
  },
  {
   "cell_type": "code",
   "execution_count": 268,
   "id": "3166133e",
   "metadata": {},
   "outputs": [
    {
     "name": "stdout",
     "output_type": "stream",
     "text": [
      "(1, 'DS', 'Python')\n",
      "(2, 'DA', 'C')\n",
      "(3, 'FSD', 'Java')\n",
      "(4, 'DevOps', 'R')\n",
      "(5, 'Cloud', 'Scala')\n"
     ]
    }
   ],
   "source": [
    "for i in zip(sno,courses,lang):\n",
    "    print(i)"
   ]
  },
  {
   "cell_type": "markdown",
   "id": "9a4877a2",
   "metadata": {},
   "source": [
    "### enumerate()"
   ]
  },
  {
   "cell_type": "code",
   "execution_count": 270,
   "id": "dceb914d",
   "metadata": {},
   "outputs": [
    {
     "name": "stdout",
     "output_type": "stream",
     "text": [
      "(1, 'DS')\n",
      "(2, 'DA')\n",
      "(3, 'FSD')\n",
      "(4, 'DevOps')\n",
      "(5, 'Cloud')\n"
     ]
    }
   ],
   "source": [
    "courses = [\"DS\",\"DA\",\"FSD\",\"DevOps\",\"Cloud\"]\n",
    "for i in enumerate(courses,start = 1):\n",
    "    print(i)"
   ]
  },
  {
   "cell_type": "code",
   "execution_count": 272,
   "id": "6849821c-af2c-4187-9131-3dddaf733dd7",
   "metadata": {},
   "outputs": [
    {
     "name": "stdout",
     "output_type": "stream",
     "text": [
      "(10, 'DS')\n",
      "(11, 'DA')\n",
      "(12, 'FSD')\n",
      "(13, 'DevOps')\n",
      "(14, 'Cloud')\n"
     ]
    }
   ],
   "source": [
    "courses = [\"DS\",\"DA\",\"FSD\",\"DevOps\",\"Cloud\"]\n",
    "for i in enumerate(courses,start = 10):\n",
    "    print(i)"
   ]
  },
  {
   "cell_type": "markdown",
   "id": "231d2ab5",
   "metadata": {},
   "source": [
    "### reduce()"
   ]
  },
  {
   "cell_type": "code",
   "execution_count": null,
   "id": "279bbaf6",
   "metadata": {},
   "outputs": [],
   "source": []
  },
  {
   "cell_type": "code",
   "execution_count": 276,
   "id": "f91a9123",
   "metadata": {},
   "outputs": [
    {
     "name": "stdout",
     "output_type": "stream",
     "text": [
      "600\n"
     ]
    }
   ],
   "source": [
    "from functools import * \n",
    "list1 =[10,20,30,40,50,100,150,200] \n",
    "result=reduce(lambda x,y:x+y,list1) \n",
    "print(result) \n"
   ]
  },
  {
   "cell_type": "code",
   "execution_count": 280,
   "id": "5e8932b4-00e2-4bf0-9bed-14a9724292c3",
   "metadata": {},
   "outputs": [
    {
     "name": "stdout",
     "output_type": "stream",
     "text": [
      "-580\n"
     ]
    }
   ],
   "source": [
    "from functools import * \n",
    "list1 =[10,20,30,40,50,100,150,200] \n",
    "result=reduce(lambda x,y:x-y,list1) \n",
    "print(result) "
   ]
  },
  {
   "cell_type": "markdown",
   "id": "7391fe2a",
   "metadata": {},
   "source": [
    "### Factorial"
   ]
  },
  {
   "cell_type": "code",
   "execution_count": 282,
   "id": "9f56e481",
   "metadata": {},
   "outputs": [
    {
     "name": "stdin",
     "output_type": "stream",
     "text": [
      "Enter number to find factorail::  5\n"
     ]
    },
    {
     "name": "stdout",
     "output_type": "stream",
     "text": [
      "The factorial of 5 is 120\n"
     ]
    }
   ],
   "source": [
    "n = int(input(\"Enter number to find factorail:: \"))\n",
    "val = [i for i in range(1,n+1)]\n",
    "fun = lambda x,y : x*y\n",
    "result = reduce(fun,val)\n",
    "print(f\"The factorial of {n} is {result}\")"
   ]
  },
  {
   "cell_type": "markdown",
   "id": "94fef82a",
   "metadata": {},
   "source": [
    "## Summation"
   ]
  },
  {
   "cell_type": "code",
   "execution_count": 4,
   "id": "097682be",
   "metadata": {},
   "outputs": [
    {
     "name": "stdout",
     "output_type": "stream",
     "text": [
      "Enter number to find sum:: 10\n",
      "The sum of 10 is 55\n"
     ]
    }
   ],
   "source": [
    "n = int(input(\"Enter number to find sum:: \"))\n",
    "val = [i for i in range(1,n+1)]\n",
    "fun = lambda x,y : x+y\n",
    "result = reduce(fun,val)\n",
    "print(f\"The sum of {n} is {result}\")"
   ]
  },
  {
   "cell_type": "code",
   "execution_count": null,
   "id": "0c8b2581",
   "metadata": {},
   "outputs": [],
   "source": []
  }
 ],
 "metadata": {
  "kernelspec": {
   "display_name": "Python [conda env:base] *",
   "language": "python",
   "name": "conda-base-py"
  },
  "language_info": {
   "codemirror_mode": {
    "name": "ipython",
    "version": 3
   },
   "file_extension": ".py",
   "mimetype": "text/x-python",
   "name": "python",
   "nbconvert_exporter": "python",
   "pygments_lexer": "ipython3",
   "version": "3.12.7"
  }
 },
 "nbformat": 4,
 "nbformat_minor": 5
}
