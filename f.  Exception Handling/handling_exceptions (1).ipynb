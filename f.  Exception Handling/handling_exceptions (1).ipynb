{
 "cells": [
  {
   "cell_type": "code",
   "execution_count": 1,
   "id": "7598eec5-ea61-4e21-891b-4942c88a6520",
   "metadata": {},
   "outputs": [
    {
     "name": "stdin",
     "output_type": "stream",
     "text": [
      "enter the first value:  2\n",
      "enter the second value:  3\n"
     ]
    },
    {
     "name": "stdout",
     "output_type": "stream",
     "text": [
      "5\n"
     ]
    }
   ],
   "source": [
    "a = int(input(\"enter the first value: \"))\n",
    "\n",
    "b = int(input(\"enter the second value: \"))\n",
    "\n",
    "print(a+b)"
   ]
  },
  {
   "cell_type": "code",
   "execution_count": 3,
   "id": "881f8ddf-7095-428a-94c2-ac49620c46be",
   "metadata": {},
   "outputs": [
    {
     "name": "stdin",
     "output_type": "stream",
     "text": [
      "enter the first value:  2.3\n"
     ]
    },
    {
     "ename": "ValueError",
     "evalue": "invalid literal for int() with base 10: '2.3'",
     "output_type": "error",
     "traceback": [
      "\u001b[1;31m---------------------------------------------------------------------------\u001b[0m",
      "\u001b[1;31mValueError\u001b[0m                                Traceback (most recent call last)",
      "Cell \u001b[1;32mIn[3], line 1\u001b[0m\n\u001b[1;32m----> 1\u001b[0m a \u001b[38;5;241m=\u001b[39m \u001b[38;5;28mint\u001b[39m(\u001b[38;5;28minput\u001b[39m(\u001b[38;5;124m\"\u001b[39m\u001b[38;5;124menter the first value: \u001b[39m\u001b[38;5;124m\"\u001b[39m))\n\u001b[0;32m      3\u001b[0m b \u001b[38;5;241m=\u001b[39m \u001b[38;5;28mint\u001b[39m(\u001b[38;5;28minput\u001b[39m(\u001b[38;5;124m\"\u001b[39m\u001b[38;5;124menter the second value: \u001b[39m\u001b[38;5;124m\"\u001b[39m))\n\u001b[0;32m      5\u001b[0m \u001b[38;5;28mprint\u001b[39m(a\u001b[38;5;241m+\u001b[39mb)\n",
      "\u001b[1;31mValueError\u001b[0m: invalid literal for int() with base 10: '2.3'"
     ]
    }
   ],
   "source": [
    "a = int(input(\"enter the first value: \"))\n",
    "\n",
    "b = int(input(\"enter the second value: \"))\n",
    "\n",
    "print(a+b)\n"
   ]
  },
  {
   "cell_type": "code",
   "execution_count": 5,
   "id": "e3923971-b228-4ec5-b798-5ea54097f150",
   "metadata": {},
   "outputs": [
    {
     "name": "stdin",
     "output_type": "stream",
     "text": [
      "enter the first value:  2.3\n",
      "enter the second value:  4.5\n"
     ]
    },
    {
     "name": "stdout",
     "output_type": "stream",
     "text": [
      "6.8\n"
     ]
    }
   ],
   "source": [
    "a = float(input(\"enter the first value: \"))\n",
    "\n",
    "b = float(input(\"enter the second value: \"))\n",
    "\n",
    "print(a+b)"
   ]
  },
  {
   "cell_type": "code",
   "execution_count": 7,
   "id": "5585ff8b-78d7-4c27-8174-0e196d5b26c2",
   "metadata": {},
   "outputs": [
    {
     "name": "stdin",
     "output_type": "stream",
     "text": [
      "enter the first value:  2\n",
      "enter the second value:  3\n"
     ]
    },
    {
     "name": "stdout",
     "output_type": "stream",
     "text": [
      "5.0\n"
     ]
    }
   ],
   "source": [
    "a = float(input(\"enter the first value: \"))\n",
    "\n",
    "b = float(input(\"enter the second value: \"))\n",
    "\n",
    "print(a+b)"
   ]
  },
  {
   "cell_type": "code",
   "execution_count": 9,
   "id": "57129522-2bd1-4f33-a057-e88a9188815c",
   "metadata": {},
   "outputs": [
    {
     "name": "stdin",
     "output_type": "stream",
     "text": [
      "enter the first value:  2\n",
      "enter the second value:  five\n"
     ]
    },
    {
     "ename": "ValueError",
     "evalue": "could not convert string to float: 'five'",
     "output_type": "error",
     "traceback": [
      "\u001b[1;31m---------------------------------------------------------------------------\u001b[0m",
      "\u001b[1;31mValueError\u001b[0m                                Traceback (most recent call last)",
      "Cell \u001b[1;32mIn[9], line 3\u001b[0m\n\u001b[0;32m      1\u001b[0m a \u001b[38;5;241m=\u001b[39m \u001b[38;5;28mfloat\u001b[39m(\u001b[38;5;28minput\u001b[39m(\u001b[38;5;124m\"\u001b[39m\u001b[38;5;124menter the first value: \u001b[39m\u001b[38;5;124m\"\u001b[39m))\n\u001b[1;32m----> 3\u001b[0m b \u001b[38;5;241m=\u001b[39m \u001b[38;5;28mfloat\u001b[39m(\u001b[38;5;28minput\u001b[39m(\u001b[38;5;124m\"\u001b[39m\u001b[38;5;124menter the second value: \u001b[39m\u001b[38;5;124m\"\u001b[39m))\n\u001b[0;32m      5\u001b[0m \u001b[38;5;28mprint\u001b[39m(a\u001b[38;5;241m+\u001b[39mb)\n",
      "\u001b[1;31mValueError\u001b[0m: could not convert string to float: 'five'"
     ]
    }
   ],
   "source": [
    "a = float(input(\"enter the first value: \"))\n",
    "\n",
    "b = float(input(\"enter the second value: \"))\n",
    "\n",
    "print(a+b)"
   ]
  },
  {
   "cell_type": "code",
   "execution_count": 11,
   "id": "d5628778-4573-4f08-96c6-287b05e2a19c",
   "metadata": {},
   "outputs": [
    {
     "name": "stdin",
     "output_type": "stream",
     "text": [
      "enter the first value:  2\n",
      "enter the second value:  3\n"
     ]
    },
    {
     "name": "stdout",
     "output_type": "stream",
     "text": [
      "5.0\n",
      "addition is done successfully\n"
     ]
    }
   ],
   "source": [
    "a = float(input(\"enter the first value: \"))\n",
    "\n",
    "b = float(input(\"enter the second value: \"))\n",
    "\n",
    "print(a+b)\n",
    "\n",
    "print(\"addition is done successfully\")"
   ]
  },
  {
   "cell_type": "code",
   "execution_count": 13,
   "id": "539b986e-1ca8-42e6-94a0-9f955d275b70",
   "metadata": {},
   "outputs": [
    {
     "name": "stdin",
     "output_type": "stream",
     "text": [
      "enter the first value:  2\n",
      "enter the second value:  five\n"
     ]
    },
    {
     "ename": "ValueError",
     "evalue": "could not convert string to float: 'five'",
     "output_type": "error",
     "traceback": [
      "\u001b[1;31m---------------------------------------------------------------------------\u001b[0m",
      "\u001b[1;31mValueError\u001b[0m                                Traceback (most recent call last)",
      "Cell \u001b[1;32mIn[13], line 3\u001b[0m\n\u001b[0;32m      1\u001b[0m a \u001b[38;5;241m=\u001b[39m \u001b[38;5;28mfloat\u001b[39m(\u001b[38;5;28minput\u001b[39m(\u001b[38;5;124m\"\u001b[39m\u001b[38;5;124menter the first value: \u001b[39m\u001b[38;5;124m\"\u001b[39m))\n\u001b[1;32m----> 3\u001b[0m b \u001b[38;5;241m=\u001b[39m \u001b[38;5;28mfloat\u001b[39m(\u001b[38;5;28minput\u001b[39m(\u001b[38;5;124m\"\u001b[39m\u001b[38;5;124menter the second value: \u001b[39m\u001b[38;5;124m\"\u001b[39m))\n\u001b[0;32m      5\u001b[0m \u001b[38;5;28mprint\u001b[39m(a\u001b[38;5;241m+\u001b[39mb)\n\u001b[0;32m      7\u001b[0m \u001b[38;5;28mprint\u001b[39m(\u001b[38;5;124m\"\u001b[39m\u001b[38;5;124maddition is done successfully\u001b[39m\u001b[38;5;124m\"\u001b[39m)\n",
      "\u001b[1;31mValueError\u001b[0m: could not convert string to float: 'five'"
     ]
    }
   ],
   "source": [
    "a = float(input(\"enter the first value: \"))\n",
    "\n",
    "b = float(input(\"enter the second value: \"))\n",
    "\n",
    "print(a+b)\n",
    "\n",
    "print(\"addition is done successfully\")"
   ]
  },
  {
   "cell_type": "code",
   "execution_count": 15,
   "id": "ffc0a83a-e304-4c8c-9c29-3215f206eb16",
   "metadata": {},
   "outputs": [
    {
     "ename": "SyntaxError",
     "evalue": "'(' was never closed (2799116848.py, line 5)",
     "output_type": "error",
     "traceback": [
      "\u001b[1;36m  Cell \u001b[1;32mIn[15], line 5\u001b[1;36m\u001b[0m\n\u001b[1;33m    print(a+b\u001b[0m\n\u001b[1;37m         ^\u001b[0m\n\u001b[1;31mSyntaxError\u001b[0m\u001b[1;31m:\u001b[0m '(' was never closed\n"
     ]
    }
   ],
   "source": [
    "a = float(input(\"enter the first value: \"))\n",
    "\n",
    "b = float(input(\"enter the second value: \"))\n",
    "\n",
    "print(a+b\n",
    "\n",
    "print(\"addition is done successfully\")"
   ]
  },
  {
   "cell_type": "code",
   "execution_count": 17,
   "id": "2c32afc5-1f16-463b-9558-d57a6eee5b92",
   "metadata": {},
   "outputs": [
    {
     "ename": "SyntaxError",
     "evalue": "'(' was never closed (2284962157.py, line 5)",
     "output_type": "error",
     "traceback": [
      "\u001b[1;36m  Cell \u001b[1;32mIn[17], line 5\u001b[1;36m\u001b[0m\n\u001b[1;33m    print(a+b\u001b[0m\n\u001b[1;37m         ^\u001b[0m\n\u001b[1;31mSyntaxError\u001b[0m\u001b[1;31m:\u001b[0m '(' was never closed\n"
     ]
    }
   ],
   "source": [
    "a = \"hello\"\n",
    "\n",
    "b = 10\n",
    "\n",
    "print(a+b\n",
    "\n",
    "print(\"addition is done successfully\")"
   ]
  },
  {
   "cell_type": "code",
   "execution_count": 19,
   "id": "cabdcb8a-1547-42c5-8197-935a043e6b63",
   "metadata": {},
   "outputs": [
    {
     "ename": "TypeError",
     "evalue": "can only concatenate str (not \"int\") to str",
     "output_type": "error",
     "traceback": [
      "\u001b[1;31m---------------------------------------------------------------------------\u001b[0m",
      "\u001b[1;31mTypeError\u001b[0m                                 Traceback (most recent call last)",
      "Cell \u001b[1;32mIn[19], line 5\u001b[0m\n\u001b[0;32m      1\u001b[0m a \u001b[38;5;241m=\u001b[39m \u001b[38;5;124m\"\u001b[39m\u001b[38;5;124mhello\u001b[39m\u001b[38;5;124m\"\u001b[39m\n\u001b[0;32m      3\u001b[0m b \u001b[38;5;241m=\u001b[39m \u001b[38;5;241m10\u001b[39m\n\u001b[1;32m----> 5\u001b[0m \u001b[38;5;28mprint\u001b[39m(a\u001b[38;5;241m+\u001b[39mb)\n\u001b[0;32m      7\u001b[0m \u001b[38;5;28mprint\u001b[39m(\u001b[38;5;124m\"\u001b[39m\u001b[38;5;124maddition is done successfully\u001b[39m\u001b[38;5;124m\"\u001b[39m)\n",
      "\u001b[1;31mTypeError\u001b[0m: can only concatenate str (not \"int\") to str"
     ]
    }
   ],
   "source": [
    "a = \"hello\"\n",
    "\n",
    "b = 10\n",
    "\n",
    "print(a+b)\n",
    "\n",
    "print(\"addition is done successfully\")"
   ]
  },
  {
   "cell_type": "code",
   "execution_count": 23,
   "id": "797d7cee-8334-4f64-a4a4-edb2c0a8485f",
   "metadata": {},
   "outputs": [
    {
     "name": "stdout",
     "output_type": "stream",
     "text": [
      "welcome to addition operation\n"
     ]
    },
    {
     "name": "stdin",
     "output_type": "stream",
     "text": [
      "enter a first number:  2.3\n"
     ]
    },
    {
     "name": "stdout",
     "output_type": "stream",
     "text": [
      "please  provide some valid numbers:\n",
      "addition is done successfully\n"
     ]
    }
   ],
   "source": [
    "print(\"welcome to addition operation\")\n",
    "try:\n",
    "    a = int(input(\"enter a first number: \"))\n",
    "    b = int(input(\"enter a second number:  \"))\n",
    "    print(a+b)\n",
    "except ValueError:\n",
    "    print(\"please  provide some valid numbers:\")\n",
    "\n",
    "print(\"addition is done successfully\")"
   ]
  },
  {
   "cell_type": "code",
   "execution_count": 25,
   "id": "84c9ad8e-3a9a-4ea2-84c7-4682ad4cf69d",
   "metadata": {},
   "outputs": [
    {
     "ename": "SyntaxError",
     "evalue": "incomplete input (2836332667.py, line 5)",
     "output_type": "error",
     "traceback": [
      "\u001b[1;36m  Cell \u001b[1;32mIn[25], line 5\u001b[1;36m\u001b[0m\n\u001b[1;33m    print(a+b)\u001b[0m\n\u001b[1;37m              ^\u001b[0m\n\u001b[1;31mSyntaxError\u001b[0m\u001b[1;31m:\u001b[0m incomplete input\n"
     ]
    }
   ],
   "source": [
    "print(\"welcome to addition operation\")\n",
    "try:\n",
    "    a = int(input(\"enter a first number: \"))\n",
    "    b = int(input(\"enter a second number:  \"))\n",
    "    print(a+b)"
   ]
  },
  {
   "cell_type": "code",
   "execution_count": 31,
   "id": "95940174-fc19-471d-8532-9da8609edeb7",
   "metadata": {},
   "outputs": [
    {
     "name": "stdout",
     "output_type": "stream",
     "text": [
      "welcome to addition operation\n"
     ]
    },
    {
     "name": "stdin",
     "output_type": "stream",
     "text": [
      "enter a first number:  2\n",
      "enter a second number:   five\n"
     ]
    },
    {
     "name": "stdout",
     "output_type": "stream",
     "text": [
      "please  provide some valid numbers:\n",
      "addition is done successfully\n"
     ]
    }
   ],
   "source": [
    "print(\"welcome to addition operation\")\n",
    "try:\n",
    "    a = int(input(\"enter a first number: \"))\n",
    "    b = int(input(\"enter a second number:  \"))\n",
    "    print(a+b)\n",
    "except (TypeError,ValueError):\n",
    "    print(\"please  provide some valid numbers:\")\n",
    "\n",
    "print(\"addition is done successfully\")"
   ]
  },
  {
   "cell_type": "code",
   "execution_count": 35,
   "id": "af7814ac-2eba-4565-90ef-71a43e79e565",
   "metadata": {},
   "outputs": [
    {
     "name": "stdout",
     "output_type": "stream",
     "text": [
      "Welcome to division Operation\n"
     ]
    },
    {
     "name": "stdin",
     "output_type": "stream",
     "text": [
      "Enter first number:  20\n",
      "Enter second number:   0\n"
     ]
    },
    {
     "ename": "ZeroDivisionError",
     "evalue": "division by zero",
     "output_type": "error",
     "traceback": [
      "\u001b[1;31m---------------------------------------------------------------------------\u001b[0m",
      "\u001b[1;31mZeroDivisionError\u001b[0m                         Traceback (most recent call last)",
      "Cell \u001b[1;32mIn[35], line 5\u001b[0m\n\u001b[0;32m      3\u001b[0m     a \u001b[38;5;241m=\u001b[39m \u001b[38;5;28mint\u001b[39m(\u001b[38;5;28minput\u001b[39m(\u001b[38;5;124m\"\u001b[39m\u001b[38;5;124mEnter first number: \u001b[39m\u001b[38;5;124m\"\u001b[39m))\n\u001b[0;32m      4\u001b[0m     b \u001b[38;5;241m=\u001b[39m \u001b[38;5;28mint\u001b[39m(\u001b[38;5;28minput\u001b[39m(\u001b[38;5;124m\"\u001b[39m\u001b[38;5;124mEnter second number:  \u001b[39m\u001b[38;5;124m\"\u001b[39m))\n\u001b[1;32m----> 5\u001b[0m     \u001b[38;5;28mprint\u001b[39m(a\u001b[38;5;241m/\u001b[39mb)\n\u001b[0;32m      6\u001b[0m \u001b[38;5;28;01mexcept\u001b[39;00m (\u001b[38;5;167;01mTypeError\u001b[39;00m,\u001b[38;5;167;01mValueError\u001b[39;00m) :\n\u001b[0;32m      7\u001b[0m     \u001b[38;5;28mprint\u001b[39m(\u001b[38;5;124m\"\u001b[39m\u001b[38;5;124mPlease provide valid numbers\u001b[39m\u001b[38;5;124m\"\u001b[39m)\n",
      "\u001b[1;31mZeroDivisionError\u001b[0m: division by zero"
     ]
    }
   ],
   "source": [
    "print(\"Welcome to division Operation\")\n",
    "try:\n",
    "    a = int(input(\"Enter first number: \"))\n",
    "    b = int(input(\"Enter second number:  \"))\n",
    "    print(a/b)\n",
    "except (TypeError,ValueError) :\n",
    "    print(\"Please provide valid numbers\")\n",
    "                  \n",
    "print(\"Adivision is done sucessfully\")"
   ]
  },
  {
   "cell_type": "code",
   "execution_count": 37,
   "id": "27cd4932-dbbb-4f66-a2f0-bfcb9b1033bf",
   "metadata": {},
   "outputs": [
    {
     "name": "stdout",
     "output_type": "stream",
     "text": [
      "Welcome to division Operation\n"
     ]
    },
    {
     "name": "stdin",
     "output_type": "stream",
     "text": [
      "Enter first number:  20\n",
      "Enter second number:   0\n"
     ]
    },
    {
     "name": "stdout",
     "output_type": "stream",
     "text": [
      "Please provide valid numbers\n",
      "A division is done sucessfully\n"
     ]
    }
   ],
   "source": [
    "print(\"Welcome to division Operation\")\n",
    "try:\n",
    "    a = int(input(\"Enter first number: \"))\n",
    "    b = int(input(\"Enter second number:  \"))\n",
    "    print(a/b)\n",
    "except (TypeError,ValueError,ZeroDivisionError) :\n",
    "    print(\"Please provide valid numbers\")\n",
    "                  \n",
    "print(\"A division is done sucessfully\")"
   ]
  },
  {
   "cell_type": "code",
   "execution_count": 39,
   "id": "ecf60c2f-251b-4fd4-b803-a4a9a85c50fb",
   "metadata": {},
   "outputs": [
    {
     "name": "stdout",
     "output_type": "stream",
     "text": [
      "Welcome to division Operation\n"
     ]
    },
    {
     "name": "stdin",
     "output_type": "stream",
     "text": [
      "Enter first number:  20\n",
      "Enter second number:   0\n"
     ]
    },
    {
     "name": "stdout",
     "output_type": "stream",
     "text": [
      "division by zero\n",
      "division is done sucessfully\n"
     ]
    }
   ],
   "source": [
    "print(\"Welcome to division Operation\")\n",
    "try:\n",
    "    a = int(input(\"Enter first number: \"))\n",
    "    b = int(input(\"Enter second number:  \"))\n",
    "    print(a/b)\n",
    "except Exception as msg :\n",
    "    print(msg)\n",
    "                  \n",
    "print(\"division is done sucessfully\")"
   ]
  },
  {
   "cell_type": "code",
   "execution_count": 45,
   "id": "30f3db01-6a1b-4869-91ed-de67e6b30b7b",
   "metadata": {},
   "outputs": [
    {
     "name": "stdout",
     "output_type": "stream",
     "text": [
      "welcome to addition operation\n"
     ]
    },
    {
     "name": "stdin",
     "output_type": "stream",
     "text": [
      "enter a first number:  2\n",
      "enter a second number:   five\n"
     ]
    },
    {
     "name": "stdout",
     "output_type": "stream",
     "text": [
      "invalid literal for int() with base 10: 'five'\n",
      "addition is done successfully\n"
     ]
    }
   ],
   "source": [
    "print(\"welcome to addition operation\")\n",
    "try:\n",
    "    a = int(input(\"enter a first number: \"))\n",
    "    b = int(input(\"enter a second number:  \"))\n",
    "    print(a+b)\n",
    "except Exception as msg:\n",
    "    print(msg)\n",
    "\n",
    "print(\"addition is done successfully\")"
   ]
  },
  {
   "cell_type": "code",
   "execution_count": 53,
   "id": "dc9399f5-35c3-4f75-8d9b-af44788d247d",
   "metadata": {},
   "outputs": [
    {
     "name": "stdout",
     "output_type": "stream",
     "text": [
      "Welcome to division Operation\n"
     ]
    },
    {
     "name": "stdin",
     "output_type": "stream",
     "text": [
      "Enter first number:  10\n",
      "Enter second number:   hello\n"
     ]
    },
    {
     "name": "stdout",
     "output_type": "stream",
     "text": [
      "invalid literal for int() with base 10: 'hello'\n",
      "division is done sucessfully\n"
     ]
    }
   ],
   "source": [
    "print(\"Welcome to division Operation\")\n",
    "try:\n",
    "    a = int(input(\"Enter first number: \"))\n",
    "    b = int(input(\"Enter second number:  \"))\n",
    "    print(a+b)\n",
    "except Exception as msg :\n",
    "    print(msg)\n",
    "                  \n",
    "print(\"division is done sucessfully\")"
   ]
  },
  {
   "cell_type": "code",
   "execution_count": 47,
   "id": "59a57fdf-10e3-449c-b786-c459acfecded",
   "metadata": {},
   "outputs": [
    {
     "name": "stdout",
     "output_type": "stream",
     "text": [
      "Welcome to Operation\n",
      "can only concatenate str (not \"int\") to str\n",
      "addition is done sucessfully\n"
     ]
    }
   ],
   "source": [
    "print(\"Welcome to Operation\")\n",
    "try:\n",
    "    a = \"hello\"\n",
    "    b = 10\n",
    "    print(a+b)\n",
    "except Exception as msg :\n",
    "    print(msg)\n",
    "                  \n",
    "print(\"addition is done sucessfully\")"
   ]
  },
  {
   "cell_type": "markdown",
   "id": "f5d4617f-3537-459b-a619-6466c972cfa1",
   "metadata": {},
   "source": [
    "### repetetion"
   ]
  },
  {
   "cell_type": "code",
   "execution_count": 49,
   "id": "765ae887-5881-46b4-93eb-a68d7609ff39",
   "metadata": {},
   "outputs": [
    {
     "name": "stdin",
     "output_type": "stream",
     "text": [
      "ENter your name::  manoj\n",
      "Enter the name is to be repeated::  3\n"
     ]
    },
    {
     "name": "stdout",
     "output_type": "stream",
     "text": [
      "manojmanojmanoj\n"
     ]
    }
   ],
   "source": [
    "name = input(\"ENter your name:: \")\n",
    "num = int(input(\"Enter the name is to be repeated:: \"))\n",
    "print(name * num)"
   ]
  },
  {
   "cell_type": "code",
   "execution_count": 51,
   "id": "9e3fbec5-8ce2-4ab5-9f12-b1f8c46f9f18",
   "metadata": {},
   "outputs": [
    {
     "name": "stdin",
     "output_type": "stream",
     "text": [
      "ENter your name::  hello\n",
      "Enter the name is to be repeated::  hello\n"
     ]
    },
    {
     "ename": "ValueError",
     "evalue": "invalid literal for int() with base 10: 'hello'",
     "output_type": "error",
     "traceback": [
      "\u001b[1;31m---------------------------------------------------------------------------\u001b[0m",
      "\u001b[1;31mValueError\u001b[0m                                Traceback (most recent call last)",
      "Cell \u001b[1;32mIn[51], line 2\u001b[0m\n\u001b[0;32m      1\u001b[0m name \u001b[38;5;241m=\u001b[39m \u001b[38;5;28minput\u001b[39m(\u001b[38;5;124m\"\u001b[39m\u001b[38;5;124mENter your name:: \u001b[39m\u001b[38;5;124m\"\u001b[39m)\n\u001b[1;32m----> 2\u001b[0m num \u001b[38;5;241m=\u001b[39m \u001b[38;5;28mint\u001b[39m(\u001b[38;5;28minput\u001b[39m(\u001b[38;5;124m\"\u001b[39m\u001b[38;5;124mEnter the name is to be repeated:: \u001b[39m\u001b[38;5;124m\"\u001b[39m))\n\u001b[0;32m      3\u001b[0m \u001b[38;5;28mprint\u001b[39m(name \u001b[38;5;241m*\u001b[39m num)\n",
      "\u001b[1;31mValueError\u001b[0m: invalid literal for int() with base 10: 'hello'"
     ]
    }
   ],
   "source": [
    "name = input(\"ENter your name:: \")\n",
    "num = int(input(\"Enter the name is to be repeated:: \"))\n",
    "print(name * num)"
   ]
  },
  {
   "cell_type": "code",
   "execution_count": 53,
   "id": "37c11f43-dc84-41fe-8623-08d6a4c395fd",
   "metadata": {},
   "outputs": [
    {
     "name": "stdin",
     "output_type": "stream",
     "text": [
      "ENter your name::  hello\n",
      "Enter the name is to be repeated::  @\n"
     ]
    },
    {
     "ename": "ValueError",
     "evalue": "invalid literal for int() with base 10: '@'",
     "output_type": "error",
     "traceback": [
      "\u001b[1;31m---------------------------------------------------------------------------\u001b[0m",
      "\u001b[1;31mValueError\u001b[0m                                Traceback (most recent call last)",
      "Cell \u001b[1;32mIn[53], line 2\u001b[0m\n\u001b[0;32m      1\u001b[0m name \u001b[38;5;241m=\u001b[39m \u001b[38;5;28minput\u001b[39m(\u001b[38;5;124m\"\u001b[39m\u001b[38;5;124mENter your name:: \u001b[39m\u001b[38;5;124m\"\u001b[39m)\n\u001b[1;32m----> 2\u001b[0m num \u001b[38;5;241m=\u001b[39m \u001b[38;5;28mint\u001b[39m(\u001b[38;5;28minput\u001b[39m(\u001b[38;5;124m\"\u001b[39m\u001b[38;5;124mEnter the name is to be repeated:: \u001b[39m\u001b[38;5;124m\"\u001b[39m))\n\u001b[0;32m      3\u001b[0m \u001b[38;5;28mprint\u001b[39m(name \u001b[38;5;241m*\u001b[39m num)\n",
      "\u001b[1;31mValueError\u001b[0m: invalid literal for int() with base 10: '@'"
     ]
    }
   ],
   "source": [
    "name = input(\"ENter your name:: \")\n",
    "num = int(input(\"Enter the name is to be repeated:: \"))\n",
    "print(name * num)"
   ]
  },
  {
   "cell_type": "code",
   "execution_count": 57,
   "id": "a818d2c4-7a7a-47fd-863f-82407e3716e4",
   "metadata": {},
   "outputs": [
    {
     "name": "stdin",
     "output_type": "stream",
     "text": [
      "ENter your name::  manoj\n",
      "Enter the name is to be repeated::  manoj\n"
     ]
    },
    {
     "name": "stdout",
     "output_type": "stream",
     "text": [
      "ENter a valid input\n"
     ]
    }
   ],
   "source": [
    "try:\n",
    "    name = input(\"ENter your name:: \")\n",
    "    num = int(input(\"Enter the name is to be repeated:: \"))\n",
    "    print(name * num)\n",
    "except ValueError:\n",
    "    print(\"ENter a valid input\")"
   ]
  },
  {
   "cell_type": "code",
   "execution_count": 63,
   "id": "702cfee5-ddad-41f7-b5f1-cb3cfbb1fda1",
   "metadata": {},
   "outputs": [
    {
     "name": "stdin",
     "output_type": "stream",
     "text": [
      "ENter your name::  hello\n",
      "Enter the name is to be repeated::  2\n"
     ]
    },
    {
     "name": "stdout",
     "output_type": "stream",
     "text": [
      "hellohello\n",
      "repetetion is done sucessfully\n"
     ]
    }
   ],
   "source": [
    "try:\n",
    "    name = input(\"ENter your name:: \")\n",
    "    num = int(input(\"Enter the name is to be repeated:: \"))\n",
    "    print(name * num)\n",
    "except ValueError:\n",
    "    print(\"ENter a valid input\")\n",
    "else:\n",
    "    print(\"repetetion is done sucessfully\")\n"
   ]
  },
  {
   "cell_type": "code",
   "execution_count": 65,
   "id": "3f19dabf-c118-46fb-b347-b52ae76aeb64",
   "metadata": {},
   "outputs": [
    {
     "name": "stdin",
     "output_type": "stream",
     "text": [
      "ENter your name::  hello\n",
      "Enter the name is to be repeated::  hello\n"
     ]
    },
    {
     "name": "stdout",
     "output_type": "stream",
     "text": [
      "ENter a valid input\n"
     ]
    }
   ],
   "source": [
    "try:\n",
    "    name = input(\"ENter your name:: \")\n",
    "    num = int(input(\"Enter the name is to be repeated:: \"))\n",
    "    print(name * num)\n",
    "except ValueError:\n",
    "    print(\"ENter a valid input\")\n",
    "else:\n",
    "    print(\"repetetion is done sucessfully\")\n"
   ]
  },
  {
   "cell_type": "code",
   "execution_count": 67,
   "id": "d551da35-5f97-4923-b9e8-b7d2dae3ed8c",
   "metadata": {},
   "outputs": [
    {
     "name": "stdin",
     "output_type": "stream",
     "text": [
      "ENter your name::  hello\n",
      "Enter the name is to be repeated::  2\n"
     ]
    },
    {
     "name": "stdout",
     "output_type": "stream",
     "text": [
      "hellohello\n",
      "repetetion is done sucessfully\n",
      "finally is runninng\n"
     ]
    }
   ],
   "source": [
    "try:\n",
    "    name = input(\"ENter your name:: \")\n",
    "    num = int(input(\"Enter the name is to be repeated:: \"))\n",
    "    print(name * num)\n",
    "except ValueError:\n",
    "    print(\"ENter a valid input\")\n",
    "else:\n",
    "    print(\"repetetion is done sucessfully\")\n",
    "\n",
    "finally:\n",
    "    print(\"finally is runninng\")"
   ]
  },
  {
   "cell_type": "code",
   "execution_count": 71,
   "id": "e24b2cbe-ba41-4a03-9ab8-51e8ac5c7004",
   "metadata": {},
   "outputs": [
    {
     "name": "stdin",
     "output_type": "stream",
     "text": [
      "ENter your name::  hello\n",
      "Enter the name is to be repeated::  hello\n"
     ]
    },
    {
     "name": "stdout",
     "output_type": "stream",
     "text": [
      "ENter a valid input\n",
      "finally is running\n"
     ]
    }
   ],
   "source": [
    "try:\n",
    "    name = input(\"ENter your name:: \")\n",
    "    num = int(input(\"Enter the name is to be repeated:: \"))\n",
    "    print(name * num)\n",
    "except ValueError:\n",
    "    print(\"ENter a valid input\")\n",
    "else:\n",
    "    print(\"repetetion is done sucessfully\")\n",
    "\n",
    "finally:\n",
    "    print(\"finally is running\")"
   ]
  },
  {
   "cell_type": "code",
   "execution_count": 73,
   "id": "a8695742-89af-49ad-b0c7-a1e4b0bfda3f",
   "metadata": {},
   "outputs": [],
   "source": [
    "fruits = [\"Apple\",\"Banana\",\"litchi\",\"Orange\"]"
   ]
  },
  {
   "cell_type": "code",
   "execution_count": 77,
   "id": "dfa656ad-2c90-4170-adcf-6bc9b12f75cf",
   "metadata": {},
   "outputs": [
    {
     "name": "stdin",
     "output_type": "stream",
     "text": [
      "Enter index number 0\n"
     ]
    },
    {
     "name": "stdout",
     "output_type": "stream",
     "text": [
      "Apple\n"
     ]
    }
   ],
   "source": [
    "num = int(input(\"Enter index number\"))\n",
    "print(fruits[num])"
   ]
  },
  {
   "cell_type": "code",
   "execution_count": 79,
   "id": "0951b2a9-5ed1-4cc1-bd03-c7f8087e3267",
   "metadata": {},
   "outputs": [
    {
     "name": "stdin",
     "output_type": "stream",
     "text": [
      "Enter index number 6\n"
     ]
    },
    {
     "ename": "IndexError",
     "evalue": "list index out of range",
     "output_type": "error",
     "traceback": [
      "\u001b[1;31m---------------------------------------------------------------------------\u001b[0m",
      "\u001b[1;31mIndexError\u001b[0m                                Traceback (most recent call last)",
      "Cell \u001b[1;32mIn[79], line 2\u001b[0m\n\u001b[0;32m      1\u001b[0m num \u001b[38;5;241m=\u001b[39m \u001b[38;5;28mint\u001b[39m(\u001b[38;5;28minput\u001b[39m(\u001b[38;5;124m\"\u001b[39m\u001b[38;5;124mEnter index number\u001b[39m\u001b[38;5;124m\"\u001b[39m))\n\u001b[1;32m----> 2\u001b[0m \u001b[38;5;28mprint\u001b[39m(fruits[num])\n",
      "\u001b[1;31mIndexError\u001b[0m: list index out of range"
     ]
    }
   ],
   "source": [
    "num = int(input(\"Enter index number\"))\n",
    "print(fruits[num])"
   ]
  },
  {
   "cell_type": "code",
   "execution_count": 95,
   "id": "db32b312-5f02-4806-bc6d-97179c0df32f",
   "metadata": {},
   "outputs": [
    {
     "name": "stdin",
     "output_type": "stream",
     "text": [
      "Enter index number 0\n"
     ]
    },
    {
     "name": "stdout",
     "output_type": "stream",
     "text": [
      "Apple\n",
      "done\n",
      "success\n",
      "operation  is done\n"
     ]
    }
   ],
   "source": [
    "try:\n",
    "    num = int(input(\"Enter index number\"))\n",
    "    print(fruits[num])\n",
    "except (IndexError,ValueError):\n",
    "    print(\" provide Valid Index number\")\n",
    "else:\n",
    "    print(\"done\")\n",
    "    print(\"success\")\n",
    "finally:\n",
    "    print(\"operation  is done\")"
   ]
  },
  {
   "cell_type": "code",
   "execution_count": 97,
   "id": "3da26731-dcd2-44e3-a075-c56910c5aa6e",
   "metadata": {},
   "outputs": [],
   "source": [
    "def mul(a,b):\n",
    "    print(a*b)"
   ]
  },
  {
   "cell_type": "code",
   "execution_count": 99,
   "id": "60d2b00f-3938-47a2-84e6-076c75efd313",
   "metadata": {},
   "outputs": [
    {
     "name": "stdout",
     "output_type": "stream",
     "text": [
      "6\n"
     ]
    }
   ],
   "source": [
    "mul(2,3)"
   ]
  },
  {
   "cell_type": "code",
   "execution_count": 101,
   "id": "c975c6b2-c0ab-4866-b33b-7008b0a39868",
   "metadata": {},
   "outputs": [],
   "source": [
    "def mul(a,b,c):\n",
    "    print(a*b*c)"
   ]
  },
  {
   "cell_type": "code",
   "execution_count": 103,
   "id": "d4c62bd1-4ae5-4d31-bbf6-b6bd76e2895d",
   "metadata": {},
   "outputs": [
    {
     "name": "stdout",
     "output_type": "stream",
     "text": [
      "100\n"
     ]
    }
   ],
   "source": [
    "mul(10,10,1)"
   ]
  },
  {
   "cell_type": "code",
   "execution_count": 105,
   "id": "6d0c78e9-db28-4ea1-a202-e0b37853f429",
   "metadata": {},
   "outputs": [
    {
     "name": "stdout",
     "output_type": "stream",
     "text": [
      "0\n"
     ]
    }
   ],
   "source": [
    "mul(10,0,1)"
   ]
  },
  {
   "cell_type": "code",
   "execution_count": 111,
   "id": "fbd4fe5b-459b-4128-84e7-88717bac0aec",
   "metadata": {},
   "outputs": [],
   "source": [
    "def mul(a,b,c):\n",
    "    if a <= 0:\n",
    "        raise ValueError(\"because of 0 output is zero\")\n",
    "    else:\n",
    "        print(a*b*c)"
   ]
  },
  {
   "cell_type": "code",
   "execution_count": 113,
   "id": "11c5520f-c17b-4ea8-b903-8443a2c80bd1",
   "metadata": {},
   "outputs": [
    {
     "name": "stdout",
     "output_type": "stream",
     "text": [
      "1100\n"
     ]
    }
   ],
   "source": [
    "mul(10,10,11)"
   ]
  },
  {
   "cell_type": "code",
   "execution_count": 115,
   "id": "2013f19e-047e-493d-8ffe-6c9cdf94441b",
   "metadata": {},
   "outputs": [
    {
     "ename": "ValueError",
     "evalue": "because of 0 output is zero",
     "output_type": "error",
     "traceback": [
      "\u001b[1;31m---------------------------------------------------------------------------\u001b[0m",
      "\u001b[1;31mValueError\u001b[0m                                Traceback (most recent call last)",
      "Cell \u001b[1;32mIn[115], line 1\u001b[0m\n\u001b[1;32m----> 1\u001b[0m mul(\u001b[38;5;241m0\u001b[39m,\u001b[38;5;241m10\u001b[39m,\u001b[38;5;241m11\u001b[39m)\n",
      "Cell \u001b[1;32mIn[111], line 3\u001b[0m, in \u001b[0;36mmul\u001b[1;34m(a, b, c)\u001b[0m\n\u001b[0;32m      1\u001b[0m \u001b[38;5;28;01mdef\u001b[39;00m \u001b[38;5;21mmul\u001b[39m(a,b,c):\n\u001b[0;32m      2\u001b[0m     \u001b[38;5;28;01mif\u001b[39;00m a \u001b[38;5;241m<\u001b[39m\u001b[38;5;241m=\u001b[39m \u001b[38;5;241m0\u001b[39m:\n\u001b[1;32m----> 3\u001b[0m         \u001b[38;5;28;01mraise\u001b[39;00m \u001b[38;5;167;01mValueError\u001b[39;00m(\u001b[38;5;124m\"\u001b[39m\u001b[38;5;124mbecause of 0 output is zero\u001b[39m\u001b[38;5;124m\"\u001b[39m)\n\u001b[0;32m      4\u001b[0m     \u001b[38;5;28;01melse\u001b[39;00m:\n\u001b[0;32m      5\u001b[0m         \u001b[38;5;28mprint\u001b[39m(a\u001b[38;5;241m*\u001b[39mb\u001b[38;5;241m*\u001b[39mc)\n",
      "\u001b[1;31mValueError\u001b[0m: because of 0 output is zero"
     ]
    }
   ],
   "source": [
    "mul(0,10,11)"
   ]
  },
  {
   "cell_type": "code",
   "execution_count": 119,
   "id": "72ef0f9e-0bfc-4793-8eb5-54e98c08f965",
   "metadata": {},
   "outputs": [
    {
     "name": "stdin",
     "output_type": "stream",
     "text": [
      "Enter first name:: \n",
      "ENter second name::  \n"
     ]
    },
    {
     "name": "stdout",
     "output_type": "stream",
     "text": [
      " \n"
     ]
    }
   ],
   "source": [
    "first = input(\"Enter first name::\")\n",
    "last = input(\"ENter second name:: \")\n",
    "print(first+\" \"+ last)"
   ]
  },
  {
   "cell_type": "code",
   "execution_count": 123,
   "id": "aadaf9eb-0552-45b2-8428-941701ead572",
   "metadata": {},
   "outputs": [
    {
     "name": "stdin",
     "output_type": "stream",
     "text": [
      "Enter first name:: \n",
      "ENter second name::  \n"
     ]
    },
    {
     "ename": "ValueError",
     "evalue": "Don't leave empty",
     "output_type": "error",
     "traceback": [
      "\u001b[1;31m---------------------------------------------------------------------------\u001b[0m",
      "\u001b[1;31mValueError\u001b[0m                                Traceback (most recent call last)",
      "Cell \u001b[1;32mIn[123], line 5\u001b[0m\n\u001b[0;32m      2\u001b[0m last \u001b[38;5;241m=\u001b[39m \u001b[38;5;28minput\u001b[39m(\u001b[38;5;124m\"\u001b[39m\u001b[38;5;124mENter second name:: \u001b[39m\u001b[38;5;124m\"\u001b[39m)\n\u001b[0;32m      4\u001b[0m \u001b[38;5;28;01mif\u001b[39;00m (first \u001b[38;5;241m==\u001b[39m\u001b[38;5;124m'\u001b[39m\u001b[38;5;124m'\u001b[39m)  \u001b[38;5;129;01mor\u001b[39;00m  (last\u001b[38;5;241m==\u001b[39m\u001b[38;5;124m'\u001b[39m\u001b[38;5;124m'\u001b[39m):\n\u001b[1;32m----> 5\u001b[0m     \u001b[38;5;28;01mraise\u001b[39;00m \u001b[38;5;167;01mValueError\u001b[39;00m(\u001b[38;5;124m\"\u001b[39m\u001b[38;5;124mDon\u001b[39m\u001b[38;5;124m'\u001b[39m\u001b[38;5;124mt leave empty\u001b[39m\u001b[38;5;124m\"\u001b[39m)\n\u001b[0;32m      6\u001b[0m \u001b[38;5;28;01melse\u001b[39;00m:\n\u001b[0;32m      7\u001b[0m     \u001b[38;5;28mprint\u001b[39m(first\u001b[38;5;241m+\u001b[39m\u001b[38;5;124m\"\u001b[39m\u001b[38;5;124m \u001b[39m\u001b[38;5;124m\"\u001b[39m\u001b[38;5;241m+\u001b[39m last)\n",
      "\u001b[1;31mValueError\u001b[0m: Don't leave empty"
     ]
    }
   ],
   "source": [
    "first = input(\"Enter first name::\")\n",
    "last = input(\"ENter second name:: \")\n",
    "\n",
    "if (first =='')  or  (last==''):\n",
    "    raise ValueError(\"Don't leave empty\")\n",
    "else:\n",
    "    print(first+\" \"+ last)"
   ]
  },
  {
   "cell_type": "code",
   "execution_count": null,
   "id": "1eb97108-598f-4dac-9faf-eee7e01f4437",
   "metadata": {},
   "outputs": [],
   "source": []
  }
 ],
 "metadata": {
  "kernelspec": {
   "display_name": "Python [conda env:base] *",
   "language": "python",
   "name": "conda-base-py"
  },
  "language_info": {
   "codemirror_mode": {
    "name": "ipython",
    "version": 3
   },
   "file_extension": ".py",
   "mimetype": "text/x-python",
   "name": "python",
   "nbconvert_exporter": "python",
   "pygments_lexer": "ipython3",
   "version": "3.13.5"
  }
 },
 "nbformat": 4,
 "nbformat_minor": 5
}
