{
 "cells": [
  {
   "cell_type": "markdown",
   "id": "af5fcf8c-ea4d-4896-8468-0166787276c8",
   "metadata": {},
   "source": [
    "# FUNCTIONS"
   ]
  },
  {
   "cell_type": "markdown",
   "id": "0e8b5ef7-776e-45d7-8910-b8a51af8699c",
   "metadata": {},
   "source": [
    "## Built in function "
   ]
  },
  {
   "cell_type": "markdown",
   "id": "d34aba92-8f05-4101-8bde-7dafecd96696",
   "metadata": {},
   "source": [
    "#### The function which are coming along with python automatically are called built in function"
   ]
  },
  {
   "cell_type": "code",
   "execution_count": null,
   "id": "d93c912c-6610-4768-9259-00239f5f7f2c",
   "metadata": {},
   "outputs": [],
   "source": [
    "id() "
   ]
  },
  {
   "cell_type": "code",
   "execution_count": null,
   "id": "ab7ed9a5-f3cb-4572-95c3-8d1e9f547fed",
   "metadata": {},
   "outputs": [],
   "source": [
    "len()"
   ]
  },
  {
   "cell_type": "code",
   "execution_count": null,
   "id": "277d7f31-3810-4061-9939-0ba870e1a6b3",
   "metadata": {},
   "outputs": [],
   "source": [
    "type()"
   ]
  },
  {
   "cell_type": "code",
   "execution_count": null,
   "id": "f4e5ff6c-1f69-4665-a4eb-a8f2daa3a7f9",
   "metadata": {},
   "outputs": [],
   "source": [
    "input()"
   ]
  },
  {
   "cell_type": "code",
   "execution_count": null,
   "id": "9a35a75b-a8d8-406a-853e-d83203b1d5bf",
   "metadata": {},
   "outputs": [],
   "source": [
    "print() etc"
   ]
  },
  {
   "cell_type": "markdown",
   "id": "d353cf3a-6f4a-4137-bbac-19105011b540",
   "metadata": {},
   "source": [
    "## User-Defined function"
   ]
  },
  {
   "cell_type": "markdown",
   "id": "99f23371-f1d6-49c5-8b26-6dc2c5159501",
   "metadata": {},
   "source": [
    "#### The function which are developed by programmer or user explicity according to requirements are called user defined function"
   ]
  },
  {
   "cell_type": "code",
   "execution_count": 4,
   "id": "c0a46151-9d90-425b-8a5f-40f8287cc9d7",
   "metadata": {},
   "outputs": [
    {
     "name": "stdout",
     "output_type": "stream",
     "text": [
      "enter the number:  2.5\n",
      "enter the number:  3.5\n"
     ]
    },
    {
     "name": "stdout",
     "output_type": "stream",
     "text": [
      "6.0\n"
     ]
    }
   ],
   "source": [
    "a = float(input(\"enter the number: \"))\n",
    "b = float(input(\"enter the number: \"))\n",
    "print(a+b)"
   ]
  },
  {
   "cell_type": "code",
   "execution_count": 6,
   "id": "013799da-3faa-47ac-b7f5-cc65ea009465",
   "metadata": {},
   "outputs": [
    {
     "name": "stdout",
     "output_type": "stream",
     "text": [
      "Welcome to the application\n"
     ]
    },
    {
     "name": "stdout",
     "output_type": "stream",
     "text": [
      "enter a value 2.5\n",
      "enter b value 2.5\n"
     ]
    },
    {
     "name": "stdout",
     "output_type": "stream",
     "text": [
      "5.0\n",
      "The operation is done sucessfully\n",
      "Thank you for using our application\n"
     ]
    }
   ],
   "source": [
    "print(\"Welcome to the application\")\n",
    "a = float(input(\"enter a value\"))\n",
    "b = float(input(\"enter b value\"))\n",
    "print(a+b)\n",
    "print(\"The operation is done sucessfully\")\n",
    "print(\"Thank you for using our application\")\n",
    "          "
   ]
  },
  {
   "cell_type": "code",
   "execution_count": 8,
   "id": "d41f6903-4f78-4864-8a1a-13c8dceb24bd",
   "metadata": {},
   "outputs": [],
   "source": [
    "def greet():\n",
    "    print(\"hello, how are you\")"
   ]
  },
  {
   "cell_type": "code",
   "execution_count": 12,
   "id": "27ba63cb-2dc9-43ed-a9d4-a139658e609b",
   "metadata": {},
   "outputs": [
    {
     "name": "stdout",
     "output_type": "stream",
     "text": [
      "hello, how are you\n"
     ]
    }
   ],
   "source": [
    "greet()"
   ]
  },
  {
   "cell_type": "code",
   "execution_count": 16,
   "id": "c4c6d80e-4db9-41d9-9205-2eaba2dd66b7",
   "metadata": {},
   "outputs": [],
   "source": [
    "def add_numbers(a,b):\n",
    "    sum_result = a+b\n",
    "    print(f\"The sum of {a} and {b} is {sum_result}.\")"
   ]
  },
  {
   "cell_type": "code",
   "execution_count": 18,
   "id": "44fbc13b-8f9b-4aa0-9a1d-86d59660aa57",
   "metadata": {},
   "outputs": [
    {
     "name": "stdout",
     "output_type": "stream",
     "text": [
      "The sum of 2 and 3 is 5.\n"
     ]
    }
   ],
   "source": [
    "add_numbers(2,3)"
   ]
  },
  {
   "cell_type": "code",
   "execution_count": 24,
   "id": "1a506e20-4b70-43f7-8c8d-43b1f62b5ea7",
   "metadata": {},
   "outputs": [
    {
     "name": "stdout",
     "output_type": "stream",
     "text": [
      "24\n"
     ]
    }
   ],
   "source": [
    "def multiply(a,b):\n",
    "    product = a*b\n",
    "    return product\n",
    "result = multiply(4,6)\n",
    "print(result)"
   ]
  },
  {
   "cell_type": "code",
   "execution_count": 26,
   "id": "73462423-fcbd-417e-a989-fc95f0b5caa7",
   "metadata": {},
   "outputs": [
    {
     "name": "stdout",
     "output_type": "stream",
     "text": [
      "30\n"
     ]
    }
   ],
   "source": [
    "def add(a,b):\n",
    "    print(a+b)\n",
    "add(20,10)\n"
   ]
  },
  {
   "cell_type": "code",
   "execution_count": 28,
   "id": "1e232135-9e50-41a4-9e32-31e7580f52e4",
   "metadata": {},
   "outputs": [],
   "source": [
    "def wish():\n",
    "    print(\"welcome to siva academy\")"
   ]
  },
  {
   "cell_type": "code",
   "execution_count": 30,
   "id": "b364dd8b-8fe4-45a5-8100-12841b30bebc",
   "metadata": {},
   "outputs": [
    {
     "name": "stdout",
     "output_type": "stream",
     "text": [
      "welcome to siva academy\n"
     ]
    }
   ],
   "source": [
    "wish()"
   ]
  },
  {
   "cell_type": "code",
   "execution_count": 34,
   "id": "762d1ac3-2a3b-4a8a-8e70-620417b467c1",
   "metadata": {},
   "outputs": [],
   "source": [
    "def sub(a,b):\n",
    "    print(a-b)\n"
   ]
  },
  {
   "cell_type": "code",
   "execution_count": 36,
   "id": "d736cb17-c68e-4cb7-bb08-f2a1d06dafc1",
   "metadata": {},
   "outputs": [
    {
     "name": "stdout",
     "output_type": "stream",
     "text": [
      "10\n"
     ]
    }
   ],
   "source": [
    "sub(20,10)"
   ]
  },
  {
   "cell_type": "code",
   "execution_count": 40,
   "id": "147e5eff-efbe-4069-b76b-fb41b84546ba",
   "metadata": {},
   "outputs": [
    {
     "name": "stdout",
     "output_type": "stream",
     "text": [
      "-10\n"
     ]
    }
   ],
   "source": [
    "sub(10,20)"
   ]
  },
  {
   "cell_type": "code",
   "execution_count": 42,
   "id": "c2114066-68d5-4ba3-8d64-5631fa744bdf",
   "metadata": {},
   "outputs": [],
   "source": [
    "def details(name,city):\n",
    "    print(f\"hello i am {name}. i am from {city}\")"
   ]
  },
  {
   "cell_type": "code",
   "execution_count": 44,
   "id": "fdd1ae88-17ce-478e-881e-b40b01bb0124",
   "metadata": {},
   "outputs": [
    {
     "name": "stdout",
     "output_type": "stream",
     "text": [
      "hello i am Rajesh. i am from Bengaluru\n"
     ]
    }
   ],
   "source": [
    "details(\"Rajesh\",\"Bengaluru\")"
   ]
  },
  {
   "cell_type": "code",
   "execution_count": 46,
   "id": "1de7212b-8030-4e30-85ce-85616461eca9",
   "metadata": {},
   "outputs": [
    {
     "name": "stdout",
     "output_type": "stream",
     "text": [
      "hello i am Bengaluru. i am from Rajesh\n"
     ]
    }
   ],
   "source": [
    "details(\"Bengaluru\",\"Rajesh\")"
   ]
  },
  {
   "cell_type": "markdown",
   "id": "8da78cd5-d339-4fa1-be31-d492f2c4ec16",
   "metadata": {},
   "source": [
    "## The Types of Argumnets"
   ]
  },
  {
   "cell_type": "markdown",
   "id": "fb6afa0f-5191-4a0d-a45d-a4ada7dbeb9c",
   "metadata": {},
   "source": [
    "#### 1. Positional arguments"
   ]
  },
  {
   "cell_type": "code",
   "execution_count": 10,
   "id": "0d0b20c9-dcad-4158-a13b-94585f0eeda8",
   "metadata": {},
   "outputs": [
    {
     "name": "stdout",
     "output_type": "stream",
     "text": [
      "20000\n"
     ]
    }
   ],
   "source": [
    "def mul(a,b):\n",
    "    print(a*b)\n",
    "mul(100,200)"
   ]
  },
  {
   "cell_type": "code",
   "execution_count": 12,
   "id": "f07f8743-d00a-4994-b2d6-fc81470d36e3",
   "metadata": {},
   "outputs": [
    {
     "name": "stdout",
     "output_type": "stream",
     "text": [
      "20000\n"
     ]
    }
   ],
   "source": [
    "mul(200,100)"
   ]
  },
  {
   "cell_type": "code",
   "execution_count": 18,
   "id": "fc0c088f-3c57-4a1d-afee-7497dd260ecb",
   "metadata": {},
   "outputs": [
    {
     "name": "stdout",
     "output_type": "stream",
     "text": [
      "Hi I'm anand. I'm 22 years old\n"
     ]
    }
   ],
   "source": [
    "def greet(name,age):\n",
    "    print(f\"Hi I'm {name}. I'm {age} years old\")\n",
    "greet(\"anand\",22)"
   ]
  },
  {
   "cell_type": "code",
   "execution_count": 20,
   "id": "a7903a16-cb8f-41c2-a46e-9f30cc8e7184",
   "metadata": {},
   "outputs": [
    {
     "name": "stdout",
     "output_type": "stream",
     "text": [
      "Hi I'm 22. I'm anand years old\n"
     ]
    }
   ],
   "source": [
    "greet(22,\"anand\")       # problem in positional argumnet  it will take any value."
   ]
  },
  {
   "cell_type": "markdown",
   "id": "e1df1ff8-bd99-4d66-b7a8-4b574a387e7f",
   "metadata": {},
   "source": [
    "#### 2. Keyword arguments"
   ]
  },
  {
   "cell_type": "code",
   "execution_count": 23,
   "id": "cd042f65-1c4d-46b0-8917-206ba8d4decd",
   "metadata": {},
   "outputs": [
    {
     "name": "stdout",
     "output_type": "stream",
     "text": [
      "hello anand good morning\n"
     ]
    }
   ],
   "source": [
    "def wish(name,msg):\n",
    "    print(\"hello\",name,msg)\n",
    "wish(name=\"anand\",msg=\"good morning\")"
   ]
  },
  {
   "cell_type": "code",
   "execution_count": 25,
   "id": "c84c1ad9-01d0-4781-a43b-ecd8f660a566",
   "metadata": {},
   "outputs": [
    {
     "name": "stdout",
     "output_type": "stream",
     "text": [
      "hello anand good morning\n"
     ]
    }
   ],
   "source": [
    "wish(msg=\"good morning\",name = \"anand\") # we can use both positional argumnets and keyword arguments simultaneously"
   ]
  },
  {
   "cell_type": "code",
   "execution_count": 33,
   "id": "cff06968-d970-4cfc-8836-c2cbe3a18c15",
   "metadata": {},
   "outputs": [
    {
     "name": "stdout",
     "output_type": "stream",
     "text": [
      " anand anand anand anand anand anand\n"
     ]
    }
   ],
   "source": [
    "def repitation(integer,string):\n",
    "    print(integer*string)\n",
    "repitation(integer=6,string=\" anand\")\n"
   ]
  },
  {
   "cell_type": "code",
   "execution_count": 35,
   "id": "0d06a8fe-66aa-4d63-a42c-3fb47ce1f2e2",
   "metadata": {},
   "outputs": [
    {
     "name": "stdout",
     "output_type": "stream",
     "text": [
      " anand anand anand anand anand anand\n"
     ]
    }
   ],
   "source": [
    "repitation(string=\" anand\",integer=6)"
   ]
  },
  {
   "cell_type": "markdown",
   "id": "d2ec4582-fdfb-4e32-a592-b08d70fc2fa2",
   "metadata": {},
   "source": [
    "#### 3. Default arguments"
   ]
  },
  {
   "cell_type": "code",
   "execution_count": 42,
   "id": "a0378c43-fe36-4c01-b13d-b3211e83523c",
   "metadata": {},
   "outputs": [
    {
     "name": "stdout",
     "output_type": "stream",
     "text": [
      "Hi I'm anand. I'm 22 years old\n"
     ]
    }
   ],
   "source": [
    "def wish(name=\"anand\",age = 22):\n",
    "    print(f\"Hi I'm {name}. I'm {age} years old\")\n",
    "wish()      # we do not mentioned any value but it will take the default argumnets. but u can pass other value also"
   ]
  },
  {
   "cell_type": "code",
   "execution_count": 44,
   "id": "fac1ebef-f43e-4290-ad75-135f7a337171",
   "metadata": {},
   "outputs": [
    {
     "name": "stdout",
     "output_type": "stream",
     "text": [
      "Hi I'm mueen. I'm 22 years old\n"
     ]
    }
   ],
   "source": [
    "wish(name = \"mueen\")   "
   ]
  },
  {
   "cell_type": "code",
   "execution_count": 46,
   "id": "83e75106-44c2-4573-8820-cc4636eec332",
   "metadata": {},
   "outputs": [
    {
     "name": "stdout",
     "output_type": "stream",
     "text": [
      "Hi I'm anand. I'm 23 years old\n"
     ]
    }
   ],
   "source": [
    "wish(age=23)   "
   ]
  },
  {
   "cell_type": "code",
   "execution_count": 48,
   "id": "f2f25a89-2593-4c90-a998-282bb70cec9a",
   "metadata": {},
   "outputs": [
    {
     "name": "stdout",
     "output_type": "stream",
     "text": [
      "Hi I'm mueen. I'm 24 years old\n"
     ]
    }
   ],
   "source": [
    "wish(name = \"mueen\", age = 24)   "
   ]
  },
  {
   "cell_type": "markdown",
   "id": "60be11ff-d805-4149-a0f0-2988bde58123",
   "metadata": {},
   "source": [
    "#### 4. Variable length arguments"
   ]
  },
  {
   "cell_type": "code",
   "execution_count": 236,
   "id": "70ce4a7a-f89a-4ab5-997a-b490b46c2044",
   "metadata": {},
   "outputs": [
    {
     "name": "stdout",
     "output_type": "stream",
     "text": [
      "([1], [1])\n",
      "<class 'tuple'>\n"
     ]
    }
   ],
   "source": [
    "def f1(*n):\n",
    "    b = n+n\n",
    "    print(b)\n",
    "    print(type(b))\n",
    "f1([1])"
   ]
  },
  {
   "cell_type": "code",
   "execution_count": 238,
   "id": "e1ca9c5c-798a-481c-bd98-2209fe57e288",
   "metadata": {},
   "outputs": [
    {
     "name": "stdout",
     "output_type": "stream",
     "text": [
      "(1, 2, 3, 1, 2, 3)\n",
      "<class 'tuple'>\n"
     ]
    }
   ],
   "source": [
    "f1(1,2,3)"
   ]
  },
  {
   "cell_type": "code",
   "execution_count": 232,
   "id": "f8d78573-bb56-4dcb-ad40-73550be952c7",
   "metadata": {},
   "outputs": [
    {
     "name": "stdout",
     "output_type": "stream",
     "text": [
      "(1, 2, 3, 4, 1, 2, 3, 4)\n"
     ]
    }
   ],
   "source": [
    "f1(1,2,3,4)"
   ]
  },
  {
   "cell_type": "code",
   "execution_count": 85,
   "id": "b4c7b54d-45f3-460a-81b1-1588db8ed984",
   "metadata": {},
   "outputs": [],
   "source": [
    "def sum(*n):           # u can pass number of values\n",
    "    total = 0\n",
    "    for i in n:\n",
    "        total = total+i\n",
    "        print(f\"The sum = {total}\")\n"
   ]
  },
  {
   "cell_type": "code",
   "execution_count": 87,
   "id": "5fa96f02-88a8-45e6-aca4-70e2f8555be1",
   "metadata": {},
   "outputs": [
    {
     "name": "stdout",
     "output_type": "stream",
     "text": [
      "The sum = 10\n"
     ]
    }
   ],
   "source": [
    "sum(10)"
   ]
  },
  {
   "cell_type": "code",
   "execution_count": 89,
   "id": "fd93a883-4404-4248-bfd1-b14813294079",
   "metadata": {},
   "outputs": [
    {
     "name": "stdout",
     "output_type": "stream",
     "text": [
      "The sum = 10\n",
      "The sum = 20\n"
     ]
    }
   ],
   "source": [
    "sum(10,10)"
   ]
  },
  {
   "cell_type": "code",
   "execution_count": 91,
   "id": "e04b60f4-a976-4ac2-9ec5-5ec4e1996915",
   "metadata": {},
   "outputs": [
    {
     "name": "stdout",
     "output_type": "stream",
     "text": [
      "The sum = 10\n",
      "The sum = 30\n",
      "The sum = 60\n"
     ]
    }
   ],
   "source": [
    "sum(10,20,30)"
   ]
  },
  {
   "cell_type": "code",
   "execution_count": 93,
   "id": "b4d82d79-5e66-4700-a96e-191f0efeeef7",
   "metadata": {},
   "outputs": [
    {
     "name": "stdout",
     "output_type": "stream",
     "text": [
      "The sum = 10\n",
      "The sum = 30\n",
      "The sum = 60\n",
      "The sum = 100\n"
     ]
    }
   ],
   "source": [
    "sum(10,20,30,40)"
   ]
  },
  {
   "cell_type": "code",
   "execution_count": 119,
   "id": "5b5a4fc6-49a2-4422-bde6-ffb991fa53e4",
   "metadata": {},
   "outputs": [
    {
     "name": "stdout",
     "output_type": "stream",
     "text": [
      "name:anand\n",
      "age:22\n",
      "name2:mueen\n",
      "age_2:21\n"
     ]
    }
   ],
   "source": [
    "def dict(**n):\n",
    "    for key,value in n.items():\n",
    "        print(f\"{key}:{value}\")\n",
    "  \n",
    "dict(name=\"anand\",age=22, name2 = \"mueen\",age_2 = 21)"
   ]
  },
  {
   "cell_type": "markdown",
   "id": "1e25812a-34f0-4459-bddd-11150c950948",
   "metadata": {},
   "source": [
    "### map() Function"
   ]
  },
  {
   "cell_type": "code",
   "execution_count": 3,
   "id": "777ee98f-250f-40c6-96c4-a693ab002ec7",
   "metadata": {},
   "outputs": [
    {
     "data": {
      "text/plain": [
       "\u001b[0;31mInit signature:\u001b[0m \u001b[0mmap\u001b[0m\u001b[0;34m(\u001b[0m\u001b[0mself\u001b[0m\u001b[0;34m,\u001b[0m \u001b[0;34m/\u001b[0m\u001b[0;34m,\u001b[0m \u001b[0;34m*\u001b[0m\u001b[0margs\u001b[0m\u001b[0;34m,\u001b[0m \u001b[0;34m**\u001b[0m\u001b[0mkwargs\u001b[0m\u001b[0;34m)\u001b[0m\u001b[0;34m\u001b[0m\u001b[0;34m\u001b[0m\u001b[0m\n",
       "\u001b[0;31mDocstring:\u001b[0m     \n",
       "map(func, *iterables) --> map object\n",
       "\n",
       "Make an iterator that computes the function using arguments from\n",
       "each of the iterables.  Stops when the shortest iterable is exhausted.\n",
       "\u001b[0;31mType:\u001b[0m           type\n",
       "\u001b[0;31mSubclasses:\u001b[0m     "
      ]
     },
     "metadata": {},
     "output_type": "display_data"
    }
   ],
   "source": [
    "??map"
   ]
  },
  {
   "cell_type": "code",
   "execution_count": 5,
   "id": "bfb837a6-9464-4337-a849-1407cbb3e917",
   "metadata": {},
   "outputs": [],
   "source": [
    "def is_even_odd(x):\n",
    "    if x%2 == 0:\n",
    "        return \"Even\"\n",
    "    if x%2 == 1:\n",
    "        return \"odd\""
   ]
  },
  {
   "cell_type": "code",
   "execution_count": 11,
   "id": "6d37b02d-4b4e-4713-a649-9e63ebd03fa4",
   "metadata": {},
   "outputs": [
    {
     "data": {
      "text/plain": [
       "'odd'"
      ]
     },
     "execution_count": 11,
     "metadata": {},
     "output_type": "execute_result"
    }
   ],
   "source": [
    "l = 1\n",
    "is_even_odd(l)"
   ]
  },
  {
   "cell_type": "code",
   "execution_count": 13,
   "id": "14307915-c82d-4808-aeac-b42dc0018ded",
   "metadata": {},
   "outputs": [
    {
     "data": {
      "text/plain": [
       "['odd', 'Even', 'odd', 'Even', 'odd', 'Even', 'odd', 'Even']"
      ]
     },
     "execution_count": 13,
     "metadata": {},
     "output_type": "execute_result"
    }
   ],
   "source": [
    "l = [1,2,3,4,5,6,7,8]\n",
    "list(map(is_even_odd,l))"
   ]
  },
  {
   "cell_type": "code",
   "execution_count": 274,
   "id": "a4c33d20-cc6d-43f7-9d7c-866f5ddb7980",
   "metadata": {},
   "outputs": [],
   "source": [
    "def square(x):\n",
    "    return x*x\n"
   ]
  },
  {
   "cell_type": "code",
   "execution_count": 282,
   "id": "de2db843-5762-4998-9726-882eca06c6cd",
   "metadata": {},
   "outputs": [
    {
     "data": {
      "text/plain": [
       "[1, 4, 9, 16, 25, 36, 49, 64, 81]"
      ]
     },
     "execution_count": 282,
     "metadata": {},
     "output_type": "execute_result"
    }
   ],
   "source": [
    "num = [1,2,3,4,5,6,7,8,9]\n",
    "list(map(square,num))"
   ]
  },
  {
   "cell_type": "markdown",
   "id": "3d6d0a89-5249-49d1-a6d1-fbaba253431b",
   "metadata": {},
   "source": [
    "### Filter() Function"
   ]
  },
  {
   "cell_type": "code",
   "execution_count": 286,
   "id": "3044f337-4417-49ad-8607-b2af8f9bb161",
   "metadata": {},
   "outputs": [
    {
     "data": {
      "text/plain": [
       "\u001b[0;31mInit signature:\u001b[0m \u001b[0mfilter\u001b[0m\u001b[0;34m(\u001b[0m\u001b[0mself\u001b[0m\u001b[0;34m,\u001b[0m \u001b[0;34m/\u001b[0m\u001b[0;34m,\u001b[0m \u001b[0;34m*\u001b[0m\u001b[0margs\u001b[0m\u001b[0;34m,\u001b[0m \u001b[0;34m**\u001b[0m\u001b[0mkwargs\u001b[0m\u001b[0;34m)\u001b[0m\u001b[0;34m\u001b[0m\u001b[0;34m\u001b[0m\u001b[0m\n",
       "\u001b[0;31mDocstring:\u001b[0m     \n",
       "filter(function or None, iterable) --> filter object\n",
       "\n",
       "Return an iterator yielding those items of iterable for which function(item)\n",
       "is true. If function is None, return the items that are true.\n",
       "\u001b[0;31mType:\u001b[0m           type\n",
       "\u001b[0;31mSubclasses:\u001b[0m     "
      ]
     },
     "metadata": {},
     "output_type": "display_data"
    }
   ],
   "source": [
    "??filter"
   ]
  },
  {
   "cell_type": "code",
   "execution_count": 290,
   "id": "1e38f7f4-7120-4a65-bf14-80bfd54405c9",
   "metadata": {},
   "outputs": [],
   "source": [
    "def is_even(x):\n",
    "    if x%2 == 0:\n",
    "        return \"Even\"\n"
   ]
  },
  {
   "cell_type": "code",
   "execution_count": 294,
   "id": "56f62f5e-1091-49a2-a072-244cc8c92098",
   "metadata": {},
   "outputs": [
    {
     "data": {
      "text/plain": [
       "[2, 4, 6, 8]"
      ]
     },
     "execution_count": 294,
     "metadata": {},
     "output_type": "execute_result"
    }
   ],
   "source": [
    "num = [1,2,3,4,5,6,7,8,9]\n",
    "list(filter(is_even,num))"
   ]
  },
  {
   "cell_type": "code",
   "execution_count": 296,
   "id": "1f975ef4-6249-4ea4-8a6d-2dbdb8aa7796",
   "metadata": {},
   "outputs": [],
   "source": [
    "def is_odd(x):\n",
    "    if x%2==1:\n",
    "        return \"odd\""
   ]
  },
  {
   "cell_type": "code",
   "execution_count": 298,
   "id": "a97bd4c3-c7c3-4e41-b38c-ecad17a40019",
   "metadata": {},
   "outputs": [
    {
     "data": {
      "text/plain": [
       "[1, 3, 5, 7, 9]"
      ]
     },
     "execution_count": 298,
     "metadata": {},
     "output_type": "execute_result"
    }
   ],
   "source": [
    "list(filter(is_odd,num))"
   ]
  },
  {
   "cell_type": "markdown",
   "id": "fefcff41-be9e-4750-ac53-012f090d1aab",
   "metadata": {},
   "source": [
    "### lambda Function"
   ]
  },
  {
   "cell_type": "code",
   "execution_count": 301,
   "id": "21003b98-e3fb-4180-bbdf-bc3e9303d666",
   "metadata": {},
   "outputs": [
    {
     "name": "stdout",
     "output_type": "stream",
     "text": [
      "9\n"
     ]
    }
   ],
   "source": [
    "double = lambda x : x*x\n",
    "print(double(3))"
   ]
  },
  {
   "cell_type": "code",
   "execution_count": 303,
   "id": "2cda183b-cf4c-4cc8-b506-0d4b98a20c6a",
   "metadata": {},
   "outputs": [
    {
     "data": {
      "text/plain": [
       "6"
      ]
     },
     "execution_count": 303,
     "metadata": {},
     "output_type": "execute_result"
    }
   ],
   "source": [
    "total = lambda a,b: a*b\n",
    "total(2,3)"
   ]
  },
  {
   "cell_type": "code",
   "execution_count": 305,
   "id": "616aa04b-dbbe-4f5e-b453-948c995afd37",
   "metadata": {},
   "outputs": [
    {
     "data": {
      "text/plain": [
       "'odd'"
      ]
     },
     "execution_count": 305,
     "metadata": {},
     "output_type": "execute_result"
    }
   ],
   "source": [
    "is_even_odd = lambda x: \"even\" if x%2==0 else \"odd\" \n",
    "is_even_odd(3)"
   ]
  },
  {
   "cell_type": "code",
   "execution_count": 320,
   "id": "6add26c0-45dd-4540-9dc4-96df292b99c8",
   "metadata": {},
   "outputs": [
    {
     "data": {
      "text/plain": [
       "'even'"
      ]
     },
     "execution_count": 320,
     "metadata": {},
     "output_type": "execute_result"
    }
   ],
   "source": [
    "is_even_odd = lambda x: \"even\" if x%2==0 else \"odd\" \n",
    "is_even_odd(12)"
   ]
  },
  {
   "cell_type": "code",
   "execution_count": null,
   "id": "acd15623-0936-4e23-befd-6d7098a20ab4",
   "metadata": {},
   "outputs": [],
   "source": [
    "square = lambda n : [ ]"
   ]
  },
  {
   "cell_type": "markdown",
   "id": "1c97a597-0f55-4b65-9ddb-2953d7c6f1f5",
   "metadata": {},
   "source": [
    "### Recursion Function"
   ]
  },
  {
   "cell_type": "code",
   "execution_count": 6,
   "id": "dd75e49b-45d6-468a-90f2-b0e789673096",
   "metadata": {},
   "outputs": [
    {
     "name": "stdout",
     "output_type": "stream",
     "text": [
      "40320\n"
     ]
    }
   ],
   "source": [
    "def factorial(n):\n",
    "     if n==0 or n==1:\n",
    "         return n\n",
    "     else :\n",
    "         return n*factorial(n-1)\n",
    "print(factorial(8))"
   ]
  },
  {
   "cell_type": "code",
   "execution_count": 30,
   "id": "5c2f5ec1-b8d4-49c6-b82c-7201ed58c781",
   "metadata": {},
   "outputs": [
    {
     "name": "stdout",
     "output_type": "stream",
     "text": [
      "0 1 2 6 24 "
     ]
    }
   ],
   "source": [
    "def fibonacci(n):\n",
    "    if n<=1:\n",
    "        return n\n",
    "    else :\n",
    "        return fibonacci(n)+fibonacci(n-2)\n",
    "for i in range(5):\n",
    "    print(factorial(i),end=\" \")\n"
   ]
  }
 ],
 "metadata": {
  "kernelspec": {
   "display_name": "Python [conda env:base] *",
   "language": "python",
   "name": "conda-base-py"
  },
  "language_info": {
   "codemirror_mode": {
    "name": "ipython",
    "version": 3
   },
   "file_extension": ".py",
   "mimetype": "text/x-python",
   "name": "python",
   "nbconvert_exporter": "python",
   "pygments_lexer": "ipython3",
   "version": "3.12.7"
  }
 },
 "nbformat": 4,
 "nbformat_minor": 5
}
