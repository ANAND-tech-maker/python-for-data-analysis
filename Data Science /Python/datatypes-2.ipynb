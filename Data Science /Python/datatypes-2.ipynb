{
 "cells": [
  {
   "cell_type": "markdown",
   "id": "62d23a39-61e4-46c5-bc1a-c94cd7eefaa0",
   "metadata": {},
   "source": [
    "# NUMERIC DATA TYPES"
   ]
  },
  {
   "cell_type": "markdown",
   "id": "9f3983f3-e87f-4b58-bb6e-952fd33519a4",
   "metadata": {},
   "source": [
    "# INTEGER"
   ]
  },
  {
   "cell_type": "code",
   "execution_count": 3,
   "id": "6e0a1f2d-0c80-40da-961d-ebf344558ad9",
   "metadata": {},
   "outputs": [],
   "source": [
    "a=10"
   ]
  },
  {
   "cell_type": "code",
   "execution_count": 7,
   "id": "796134c5-6f2f-4412-ba34-2e026b4caa9e",
   "metadata": {},
   "outputs": [
    {
     "name": "stdout",
     "output_type": "stream",
     "text": [
      "10\n"
     ]
    }
   ],
   "source": [
    "print(a)     # to display the output"
   ]
  },
  {
   "cell_type": "code",
   "execution_count": 9,
   "id": "356dd415-6cd0-477b-af37-1a1a1a846004",
   "metadata": {},
   "outputs": [
    {
     "ename": "TypeError",
     "evalue": "object of type 'int' has no len()",
     "output_type": "error",
     "traceback": [
      "\u001b[0;31m---------------------------------------------------------------------------\u001b[0m",
      "\u001b[0;31mTypeError\u001b[0m                                 Traceback (most recent call last)",
      "Cell \u001b[0;32mIn[9], line 1\u001b[0m\n\u001b[0;32m----> 1\u001b[0m \u001b[38;5;28mlen\u001b[39m(a)\n",
      "\u001b[0;31mTypeError\u001b[0m: object of type 'int' has no len()"
     ]
    }
   ],
   "source": [
    "len(a)        # fing length of the value   # for  data type int has no len() "
   ]
  },
  {
   "cell_type": "code",
   "execution_count": 11,
   "id": "38a2e11a-c684-4282-b311-a333419d493c",
   "metadata": {},
   "outputs": [
    {
     "data": {
      "text/plain": [
       "int"
      ]
     },
     "execution_count": 11,
     "metadata": {},
     "output_type": "execute_result"
    }
   ],
   "source": [
    "type(a)      # to find the data types"
   ]
  },
  {
   "cell_type": "code",
   "execution_count": 13,
   "id": "fa0a8d17-090b-4b44-82bf-44cf2f1c118f",
   "metadata": {},
   "outputs": [
    {
     "data": {
      "text/plain": [
       "4316422944"
      ]
     },
     "execution_count": 13,
     "metadata": {},
     "output_type": "execute_result"
    }
   ],
   "source": [
    "id(a)        # memory/location or address"
   ]
  },
  {
   "cell_type": "markdown",
   "id": "a2187b44-1da7-4ba2-9285-6a8f2449429a",
   "metadata": {},
   "source": [
    "# METHODS/ATTRIBUTES"
   ]
  },
  {
   "cell_type": "code",
   "execution_count": 78,
   "id": "ae5928ad-4b47-4862-9429-d6db3e764d02",
   "metadata": {},
   "outputs": [
    {
     "data": {
      "text/plain": [
       "1"
      ]
     },
     "execution_count": 78,
     "metadata": {},
     "output_type": "execute_result"
    }
   ],
   "source": [
    "a.numerator "
   ]
  },
  {
   "cell_type": "code",
   "execution_count": 80,
   "id": "6e3e4865-1dd4-4ba8-8c91-c6f2f0e553f0",
   "metadata": {},
   "outputs": [
    {
     "data": {
      "text/plain": [
       "1"
      ]
     },
     "execution_count": 80,
     "metadata": {},
     "output_type": "execute_result"
    }
   ],
   "source": [
    "a.denominator"
   ]
  },
  {
   "cell_type": "code",
   "execution_count": 82,
   "id": "27ed8d73-7365-4055-a3d5-dd79c1ff71d0",
   "metadata": {},
   "outputs": [
    {
     "data": {
      "text/plain": [
       "1"
      ]
     },
     "execution_count": 82,
     "metadata": {},
     "output_type": "execute_result"
    }
   ],
   "source": [
    "a.real"
   ]
  },
  {
   "cell_type": "code",
   "execution_count": 84,
   "id": "fd747349-eb04-4651-9b7a-4d3e173c8fe5",
   "metadata": {},
   "outputs": [
    {
     "data": {
      "text/plain": [
       "0"
      ]
     },
     "execution_count": 84,
     "metadata": {},
     "output_type": "execute_result"
    }
   ],
   "source": [
    "a.imag"
   ]
  },
  {
   "cell_type": "code",
   "execution_count": 86,
   "id": "54c81e69-dd46-40eb-ba2e-99bd1eef21d5",
   "metadata": {},
   "outputs": [
    {
     "data": {
      "text/plain": [
       "(1, 1)"
      ]
     },
     "execution_count": 86,
     "metadata": {},
     "output_type": "execute_result"
    }
   ],
   "source": [
    "a.as_integer_ratio()"
   ]
  },
  {
   "cell_type": "code",
   "execution_count": 88,
   "id": "d167fe03-e425-41ce-9980-579ca392cb10",
   "metadata": {},
   "outputs": [
    {
     "data": {
      "text/plain": [
       "1"
      ]
     },
     "execution_count": 88,
     "metadata": {},
     "output_type": "execute_result"
    }
   ],
   "source": [
    "a.bit_count()"
   ]
  },
  {
   "cell_type": "code",
   "execution_count": 90,
   "id": "85221cf8-65a6-42ce-ae4f-2fb45fb5e76b",
   "metadata": {},
   "outputs": [
    {
     "data": {
      "text/plain": [
       "'0b1'"
      ]
     },
     "execution_count": 90,
     "metadata": {},
     "output_type": "execute_result"
    }
   ],
   "source": [
    "bin(a)"
   ]
  },
  {
   "cell_type": "code",
   "execution_count": 92,
   "id": "cabde136-1cfc-4615-a9cd-7a2620bea40e",
   "metadata": {},
   "outputs": [
    {
     "data": {
      "text/plain": [
       "1"
      ]
     },
     "execution_count": 92,
     "metadata": {},
     "output_type": "execute_result"
    }
   ],
   "source": [
    "a.bit_length()"
   ]
  },
  {
   "cell_type": "markdown",
   "id": "dab5786f-1831-49bc-8264-a954f37b33ab",
   "metadata": {},
   "source": [
    "# FLOAT"
   ]
  },
  {
   "cell_type": "code",
   "execution_count": 38,
   "id": "51aae8f7-b76d-44dc-94ff-6b82feff0dad",
   "metadata": {},
   "outputs": [],
   "source": [
    "a = 25.5"
   ]
  },
  {
   "cell_type": "code",
   "execution_count": 40,
   "id": "b1ce2457-4942-4056-9518-5432c4685c54",
   "metadata": {},
   "outputs": [
    {
     "name": "stdout",
     "output_type": "stream",
     "text": [
      "25.5\n"
     ]
    }
   ],
   "source": [
    "print(a)"
   ]
  },
  {
   "cell_type": "code",
   "execution_count": 42,
   "id": "bf515aba-179b-4373-a0ff-9958f35eea48",
   "metadata": {},
   "outputs": [
    {
     "ename": "TypeError",
     "evalue": "object of type 'float' has no len()",
     "output_type": "error",
     "traceback": [
      "\u001b[0;31m---------------------------------------------------------------------------\u001b[0m",
      "\u001b[0;31mTypeError\u001b[0m                                 Traceback (most recent call last)",
      "Cell \u001b[0;32mIn[42], line 1\u001b[0m\n\u001b[0;32m----> 1\u001b[0m \u001b[38;5;28mlen\u001b[39m(a)\n",
      "\u001b[0;31mTypeError\u001b[0m: object of type 'float' has no len()"
     ]
    }
   ],
   "source": [
    "len(a)      # for data type float has no len()"
   ]
  },
  {
   "cell_type": "code",
   "execution_count": 44,
   "id": "ddfd333e-c17a-4b44-86e2-001ef31ef6e0",
   "metadata": {},
   "outputs": [
    {
     "data": {
      "text/plain": [
       "float"
      ]
     },
     "execution_count": 44,
     "metadata": {},
     "output_type": "execute_result"
    }
   ],
   "source": [
    "type(a)"
   ]
  },
  {
   "cell_type": "code",
   "execution_count": 46,
   "id": "d1ab755d-ba3a-4aa3-9e21-8cd210845397",
   "metadata": {},
   "outputs": [
    {
     "data": {
      "text/plain": [
       "4405786384"
      ]
     },
     "execution_count": 46,
     "metadata": {},
     "output_type": "execute_result"
    }
   ],
   "source": [
    "id(a)"
   ]
  },
  {
   "cell_type": "code",
   "execution_count": 2,
   "id": "a8198d77-93d0-405d-97ae-f9bf5ea5dca6",
   "metadata": {},
   "outputs": [],
   "source": [
    "a = 25.3"
   ]
  },
  {
   "cell_type": "code",
   "execution_count": 4,
   "id": "1f102a6b-194e-4ca8-8d37-7f484c002fff",
   "metadata": {},
   "outputs": [
    {
     "data": {
      "text/plain": [
       "(7121316910779597, 281474976710656)"
      ]
     },
     "execution_count": 4,
     "metadata": {},
     "output_type": "execute_result"
    }
   ],
   "source": [
    "a.as_integer_ratio()"
   ]
  },
  {
   "cell_type": "code",
   "execution_count": 6,
   "id": "93abcfb1-2ef7-4709-b9c2-e2088557336d",
   "metadata": {},
   "outputs": [
    {
     "data": {
      "text/plain": [
       "False"
      ]
     },
     "execution_count": 6,
     "metadata": {},
     "output_type": "execute_result"
    }
   ],
   "source": [
    "a.is_integer()"
   ]
  },
  {
   "cell_type": "code",
   "execution_count": 16,
   "id": "07ed8bc2-15f3-475e-9205-d22283d8c372",
   "metadata": {},
   "outputs": [
    {
     "data": {
      "text/plain": [
       "0.0"
      ]
     },
     "execution_count": 16,
     "metadata": {},
     "output_type": "execute_result"
    }
   ],
   "source": [
    "a.imag"
   ]
  },
  {
   "cell_type": "code",
   "execution_count": 14,
   "id": "9f9bf85c-5633-4e59-a000-50d367cc3314",
   "metadata": {},
   "outputs": [
    {
     "data": {
      "text/plain": [
       "25.3"
      ]
     },
     "execution_count": 14,
     "metadata": {},
     "output_type": "execute_result"
    }
   ],
   "source": [
    "a.real"
   ]
  },
  {
   "cell_type": "markdown",
   "id": "23959644-2604-4e81-a5dd-bb8e7e931075",
   "metadata": {},
   "source": [
    "# complex"
   ]
  },
  {
   "cell_type": "code",
   "execution_count": 19,
   "id": "985541af-709c-463f-b36a-1e841d43c273",
   "metadata": {},
   "outputs": [],
   "source": [
    "a = 2+5j"
   ]
  },
  {
   "cell_type": "code",
   "execution_count": 21,
   "id": "8c5f840a-6e1b-4fca-a967-b6e06705eca1",
   "metadata": {},
   "outputs": [
    {
     "name": "stdout",
     "output_type": "stream",
     "text": [
      "(2+5j)\n"
     ]
    }
   ],
   "source": [
    "print(a)"
   ]
  },
  {
   "cell_type": "code",
   "execution_count": 23,
   "id": "b9140e8c-0c1d-428c-8bd1-bddea71a3e83",
   "metadata": {},
   "outputs": [
    {
     "ename": "TypeError",
     "evalue": "object of type 'complex' has no len()",
     "output_type": "error",
     "traceback": [
      "\u001b[0;31m---------------------------------------------------------------------------\u001b[0m",
      "\u001b[0;31mTypeError\u001b[0m                                 Traceback (most recent call last)",
      "Cell \u001b[0;32mIn[23], line 1\u001b[0m\n\u001b[0;32m----> 1\u001b[0m \u001b[38;5;28mlen\u001b[39m(a)\n",
      "\u001b[0;31mTypeError\u001b[0m: object of type 'complex' has no len()"
     ]
    }
   ],
   "source": [
    "len(a)          # for data type complex has no len()"
   ]
  },
  {
   "cell_type": "code",
   "execution_count": 25,
   "id": "d58df3f4-5246-4f71-a51b-1cf7ac44dad8",
   "metadata": {},
   "outputs": [
    {
     "data": {
      "text/plain": [
       "complex"
      ]
     },
     "execution_count": 25,
     "metadata": {},
     "output_type": "execute_result"
    }
   ],
   "source": [
    "type(a)"
   ]
  },
  {
   "cell_type": "markdown",
   "id": "5ffce094-a2cc-452f-a83e-31697f75f37e",
   "metadata": {},
   "source": [
    "id(a)"
   ]
  },
  {
   "cell_type": "markdown",
   "id": "84fc7740-dd1f-4ab4-b773-6288f86ccd26",
   "metadata": {},
   "source": [
    "# METHODS / ATTRIBUTES"
   ]
  },
  {
   "cell_type": "code",
   "execution_count": 30,
   "id": "bdfd61eb-6433-4bdd-95a4-44fcd3eda83f",
   "metadata": {},
   "outputs": [],
   "source": [
    "a=2+5j"
   ]
  },
  {
   "cell_type": "code",
   "execution_count": 32,
   "id": "7df807f3-110c-42fb-828b-de7191ff2651",
   "metadata": {},
   "outputs": [
    {
     "data": {
      "text/plain": [
       "5.0"
      ]
     },
     "execution_count": 32,
     "metadata": {},
     "output_type": "execute_result"
    }
   ],
   "source": [
    "a.imag \n"
   ]
  },
  {
   "cell_type": "code",
   "execution_count": 34,
   "id": "db6d36b4-350b-4d44-85bc-4d8ed5dfb3fa",
   "metadata": {},
   "outputs": [
    {
     "data": {
      "text/plain": [
       "2.0"
      ]
     },
     "execution_count": 34,
     "metadata": {},
     "output_type": "execute_result"
    }
   ],
   "source": [
    "a.real"
   ]
  },
  {
   "cell_type": "code",
   "execution_count": 38,
   "id": "0a202cbe-a64a-4b64-9a33-d49c557489e7",
   "metadata": {},
   "outputs": [
    {
     "data": {
      "text/plain": [
       "(2-5j)"
      ]
     },
     "execution_count": 38,
     "metadata": {},
     "output_type": "execute_result"
    }
   ],
   "source": [
    "a.conjugate()"
   ]
  },
  {
   "cell_type": "markdown",
   "id": "11a6af82-40f4-4755-81e2-02b8d627d8c9",
   "metadata": {},
   "source": [
    "# BOOLEAN"
   ]
  },
  {
   "cell_type": "code",
   "execution_count": 43,
   "id": "27f9ca9b-9dd4-49c2-815f-5125145970f2",
   "metadata": {},
   "outputs": [],
   "source": [
    "a = True"
   ]
  },
  {
   "cell_type": "code",
   "execution_count": 45,
   "id": "a5bc2f0b-ffce-4eeb-9d6f-d80951c96ff5",
   "metadata": {},
   "outputs": [
    {
     "name": "stdout",
     "output_type": "stream",
     "text": [
      "True\n"
     ]
    }
   ],
   "source": [
    "print(a)"
   ]
  },
  {
   "cell_type": "code",
   "execution_count": 47,
   "id": "dad9b7f7-a83b-4f7f-9311-59db45672524",
   "metadata": {},
   "outputs": [
    {
     "ename": "TypeError",
     "evalue": "object of type 'bool' has no len()",
     "output_type": "error",
     "traceback": [
      "\u001b[0;31m---------------------------------------------------------------------------\u001b[0m",
      "\u001b[0;31mTypeError\u001b[0m                                 Traceback (most recent call last)",
      "Cell \u001b[0;32mIn[47], line 1\u001b[0m\n\u001b[0;32m----> 1\u001b[0m \u001b[38;5;28mlen\u001b[39m(a)\n",
      "\u001b[0;31mTypeError\u001b[0m: object of type 'bool' has no len()"
     ]
    }
   ],
   "source": [
    "len(a)    # type 'bool' has no len()"
   ]
  },
  {
   "cell_type": "code",
   "execution_count": 49,
   "id": "3f72895b-b01e-40ac-a0b8-ea8bb090fa93",
   "metadata": {},
   "outputs": [
    {
     "data": {
      "text/plain": [
       "bool"
      ]
     },
     "execution_count": 49,
     "metadata": {},
     "output_type": "execute_result"
    }
   ],
   "source": [
    "type(a)"
   ]
  },
  {
   "cell_type": "code",
   "execution_count": 51,
   "id": "b516ae62-57d5-43e0-812b-ed6f2a8f48f0",
   "metadata": {},
   "outputs": [
    {
     "data": {
      "text/plain": [
       "4315158288"
      ]
     },
     "execution_count": 51,
     "metadata": {},
     "output_type": "execute_result"
    }
   ],
   "source": [
    "id(a)"
   ]
  },
  {
   "cell_type": "markdown",
   "id": "53d24823-c125-4aa9-b66c-6905ea4d8960",
   "metadata": {},
   "source": [
    "# METHODS/ATTRIBUTES"
   ]
  },
  {
   "cell_type": "code",
   "execution_count": 54,
   "id": "7d5349ab-0526-43a1-9093-f32e0351b6d5",
   "metadata": {},
   "outputs": [
    {
     "data": {
      "text/plain": [
       "1"
      ]
     },
     "execution_count": 54,
     "metadata": {},
     "output_type": "execute_result"
    }
   ],
   "source": [
    "a.real"
   ]
  },
  {
   "cell_type": "code",
   "execution_count": 56,
   "id": "c7df4c32-b35f-41be-bb70-7119c067d6c3",
   "metadata": {},
   "outputs": [
    {
     "data": {
      "text/plain": [
       "0"
      ]
     },
     "execution_count": 56,
     "metadata": {},
     "output_type": "execute_result"
    }
   ],
   "source": [
    "a.imag"
   ]
  },
  {
   "cell_type": "code",
   "execution_count": 58,
   "id": "8b98622a-771c-4001-b8b8-9296a2a59be6",
   "metadata": {},
   "outputs": [
    {
     "data": {
      "text/plain": [
       "1"
      ]
     },
     "execution_count": 58,
     "metadata": {},
     "output_type": "execute_result"
    }
   ],
   "source": [
    "a.numerator"
   ]
  },
  {
   "cell_type": "code",
   "execution_count": 62,
   "id": "76154298-d82a-43d3-b8f1-a3af3ac7ba82",
   "metadata": {},
   "outputs": [
    {
     "data": {
      "text/plain": [
       "(1, 1)"
      ]
     },
     "execution_count": 62,
     "metadata": {},
     "output_type": "execute_result"
    }
   ],
   "source": [
    "a.as_integer_ratio()"
   ]
  },
  {
   "cell_type": "code",
   "execution_count": 64,
   "id": "6bb368dd-1c41-4039-9b3c-b7e6b60ab16c",
   "metadata": {},
   "outputs": [
    {
     "data": {
      "text/plain": [
       "1"
      ]
     },
     "execution_count": 64,
     "metadata": {},
     "output_type": "execute_result"
    }
   ],
   "source": [
    "a.denominator"
   ]
  },
  {
   "cell_type": "code",
   "execution_count": 68,
   "id": "3964a7fb-623f-4960-aeb5-78ea88fcb475",
   "metadata": {},
   "outputs": [
    {
     "data": {
      "text/plain": [
       "1"
      ]
     },
     "execution_count": 68,
     "metadata": {},
     "output_type": "execute_result"
    }
   ],
   "source": [
    "a.bit_count()"
   ]
  },
  {
   "cell_type": "code",
   "execution_count": 72,
   "id": "7f30284e-29a1-4503-9cd0-c3284b3aa579",
   "metadata": {},
   "outputs": [
    {
     "data": {
      "text/plain": [
       "'0b1'"
      ]
     },
     "execution_count": 72,
     "metadata": {},
     "output_type": "execute_result"
    }
   ],
   "source": [
    "bin(a)"
   ]
  },
  {
   "cell_type": "code",
   "execution_count": 74,
   "id": "73a03987-ef33-4698-bbfc-37bb54b7bd3d",
   "metadata": {},
   "outputs": [
    {
     "data": {
      "text/plain": [
       "1"
      ]
     },
     "execution_count": 74,
     "metadata": {},
     "output_type": "execute_result"
    }
   ],
   "source": [
    "a.bit_length()"
   ]
  },
  {
   "cell_type": "markdown",
   "id": "8a4c2e51-f4c0-4bab-be46-880723004c67",
   "metadata": {},
   "source": [
    "# STRING"
   ]
  },
  {
   "cell_type": "code",
   "execution_count": 8,
   "id": "871e9691-ea97-44a1-93ed-6038ecb47d68",
   "metadata": {},
   "outputs": [],
   "source": [
    "a = \"python\""
   ]
  },
  {
   "cell_type": "code",
   "execution_count": 10,
   "id": "db018382-fafc-4cdf-855c-ecbf4f18f023",
   "metadata": {},
   "outputs": [
    {
     "name": "stdout",
     "output_type": "stream",
     "text": [
      "python\n"
     ]
    }
   ],
   "source": [
    "print(a)"
   ]
  },
  {
   "cell_type": "code",
   "execution_count": 23,
   "id": "0548fef3-65a1-4cd7-b5ae-9a7afbc9b076",
   "metadata": {
    "scrolled": true
   },
   "outputs": [],
   "source": [
    "A = \"100\""
   ]
  },
  {
   "cell_type": "code",
   "execution_count": 25,
   "id": "e3759db4-538e-4aca-8663-d5bc66935985",
   "metadata": {},
   "outputs": [
    {
     "data": {
      "text/plain": [
       "'100'"
      ]
     },
     "execution_count": 25,
     "metadata": {},
     "output_type": "execute_result"
    }
   ],
   "source": [
    "A"
   ]
  },
  {
   "cell_type": "code",
   "execution_count": 27,
   "id": "ca640abe-cc18-4f4e-b492-cd956cdf4401",
   "metadata": {},
   "outputs": [
    {
     "data": {
      "text/plain": [
       "str"
      ]
     },
     "execution_count": 27,
     "metadata": {},
     "output_type": "execute_result"
    }
   ],
   "source": [
    "type(A)"
   ]
  },
  {
   "cell_type": "code",
   "execution_count": 29,
   "id": "35dd0baa-7d6d-4ea8-8c7e-c0ef5fa1051c",
   "metadata": {},
   "outputs": [
    {
     "data": {
      "text/plain": [
       "3"
      ]
     },
     "execution_count": 29,
     "metadata": {},
     "output_type": "execute_result"
    }
   ],
   "source": [
    "len(A)"
   ]
  },
  {
   "cell_type": "code",
   "execution_count": 31,
   "id": "8b3fa593-f463-4e1f-a634-8553580c8115",
   "metadata": {},
   "outputs": [
    {
     "data": {
      "text/plain": [
       "str"
      ]
     },
     "execution_count": 31,
     "metadata": {},
     "output_type": "execute_result"
    }
   ],
   "source": [
    "type(A)"
   ]
  },
  {
   "cell_type": "code",
   "execution_count": 33,
   "id": "ac9dd3d4-148b-4a7c-95ae-cdcee26cb06a",
   "metadata": {},
   "outputs": [
    {
     "data": {
      "text/plain": [
       "4849302336"
      ]
     },
     "execution_count": 33,
     "metadata": {},
     "output_type": "execute_result"
    }
   ],
   "source": [
    "id(A)"
   ]
  },
  {
   "cell_type": "markdown",
   "id": "c1c2ddb4-1c0c-41b3-9f9e-023d9c00a5e8",
   "metadata": {},
   "source": []
  },
  {
   "cell_type": "markdown",
   "id": "b2ce6112-986a-4a80-ad9d-ade9669f503c",
   "metadata": {},
   "source": [
    "# ESCAPE CHARACTER"
   ]
  },
  {
   "cell_type": "code",
   "execution_count": 2,
   "id": "c11166c0-7348-4792-ae27-29c3aa4d3a18",
   "metadata": {},
   "outputs": [
    {
     "ename": "SyntaxError",
     "evalue": "unterminated string literal (detected at line 1) (2417614696.py, line 1)",
     "output_type": "error",
     "traceback": [
      "\u001b[0;36m  Cell \u001b[0;32mIn[2], line 1\u001b[0;36m\u001b[0m\n\u001b[0;31m    print('this is ram's phone')\u001b[0m\n\u001b[0m                              ^\u001b[0m\n\u001b[0;31mSyntaxError\u001b[0m\u001b[0;31m:\u001b[0m unterminated string literal (detected at line 1)\n"
     ]
    }
   ],
   "source": [
    "print('this is ram's phone')  "
   ]
  },
  {
   "cell_type": "code",
   "execution_count": 38,
   "id": "67536e6f-446e-4aae-a222-b1b9f10d7047",
   "metadata": {},
   "outputs": [
    {
     "name": "stdout",
     "output_type": "stream",
     "text": [
      "this is ram's phone\n"
     ]
    }
   ],
   "source": [
    "print('this is ram\\'s phone')"
   ]
  },
  {
   "cell_type": "code",
   "execution_count": 42,
   "id": "88957ea7-6c2a-4dbd-8723-8992cd0eaedc",
   "metadata": {},
   "outputs": [
    {
     "name": "stdout",
     "output_type": "stream",
     "text": [
      "'this is ram's phone\n"
     ]
    }
   ],
   "source": [
    "print(\"'this is ram's phone\")"
   ]
  },
  {
   "cell_type": "code",
   "execution_count": 44,
   "id": "5353bbbd-6d7c-43d0-8f51-56b0c606c79a",
   "metadata": {},
   "outputs": [
    {
     "name": "stdout",
     "output_type": "stream",
     "text": [
      " I LIVE IN \" BENGLORE\" \n"
     ]
    }
   ],
   "source": [
    "print(' I LIVE IN \" BENGLORE\" ')"
   ]
  },
  {
   "cell_type": "code",
   "execution_count": 7,
   "id": "7d56ed05-ab54-452c-9c98-c9f8b2e93b0b",
   "metadata": {},
   "outputs": [
    {
     "name": "stdout",
     "output_type": "stream",
     "text": [
      "I LIVE IN \" BENGLORE\" \n"
     ]
    }
   ],
   "source": [
    "print('I LIVE IN \\\" BENGLORE\\\" ')"
   ]
  },
  {
   "cell_type": "code",
   "execution_count": 11,
   "id": "82086b48-a6ab-4363-b77c-0a306ca8ee33",
   "metadata": {},
   "outputs": [
    {
     "name": "stdout",
     "output_type": "stream",
     "text": [
      " python is a \n",
      " high-level, general-purpose programming language\n"
     ]
    }
   ],
   "source": [
    "print(\" python is a \\n high-level, general-purpose programming language\")"
   ]
  },
  {
   "cell_type": "code",
   "execution_count": 15,
   "id": "3614d66b-9c7f-4024-9b0a-4df7a1491496",
   "metadata": {},
   "outputs": [
    {
     "name": "stdout",
     "output_type": "stream",
     "text": [
      " python is a \n",
      " high-level, general-purpose \n",
      " programming language\n"
     ]
    }
   ],
   "source": [
    "print(\" python is a \\n high-level, general-purpose \\n programming language\")"
   ]
  },
  {
   "cell_type": "code",
   "execution_count": 17,
   "id": "64c23428-c850-49b4-9bd0-d0bb3923aa78",
   "metadata": {},
   "outputs": [
    {
     "name": "stdout",
     "output_type": "stream",
     "text": [
      " python is a \n",
      " high-level, \n",
      " general-purpose \n",
      " programming language\n"
     ]
    }
   ],
   "source": [
    "print(\" python is a \\n high-level, \\n general-purpose \\n programming language\")"
   ]
  },
  {
   "cell_type": "code",
   "execution_count": 23,
   "id": "bf207d55-0b02-40f2-9958-20ed51d002de",
   "metadata": {},
   "outputs": [
    {
     "name": "stdout",
     "output_type": "stream",
     "text": [
      " python \n",
      " is a \n",
      " high-level, \n",
      " general-purpose \n",
      " programming language\n"
     ]
    }
   ],
   "source": [
    "print(\" python \\n is a \\n high-level, \\n general-purpose \\n programming language\")"
   ]
  },
  {
   "cell_type": "code",
   "execution_count": 3,
   "id": "3bf378e3-df06-4c42-8819-ede6f0c778d1",
   "metadata": {},
   "outputs": [
    {
     "name": "stdout",
     "output_type": "stream",
     "text": [
      "m/n\n"
     ]
    }
   ],
   "source": [
    "print('m/n')   "
   ]
  },
  {
   "cell_type": "code",
   "execution_count": 5,
   "id": "775630d2-6e6c-4569-b562-15c4ff009c47",
   "metadata": {},
   "outputs": [
    {
     "name": "stdout",
     "output_type": "stream",
     "text": [
      "m\n",
      "\n"
     ]
    }
   ],
   "source": [
    "print('m\\n')"
   ]
  },
  {
   "cell_type": "code",
   "execution_count": 35,
   "id": "6d96ef08-cb1d-418d-866e-7dda3858ac30",
   "metadata": {},
   "outputs": [
    {
     "name": "stdout",
     "output_type": "stream",
     "text": [
      "m\\n\n"
     ]
    }
   ],
   "source": [
    "print('m\\\\n')       # \\\\-slash it gives single \\-slash"
   ]
  },
  {
   "cell_type": "code",
   "execution_count": 39,
   "id": "79e8d672-9966-4125-9443-cdbf3e642af8",
   "metadata": {},
   "outputs": [
    {
     "name": "stdout",
     "output_type": "stream",
     "text": [
      "m\\n\n"
     ]
    }
   ],
   "source": [
    "print(r'm\\n')       #r-raw string"
   ]
  },
  {
   "cell_type": "code",
   "execution_count": 12,
   "id": "7a86162e-a251-45ba-a6f4-0a86642626cc",
   "metadata": {},
   "outputs": [
    {
     "name": "stdout",
     "output_type": "stream",
     "text": [
      " python \t is a \t high-level, \t general-purpose \t programming language\n"
     ]
    }
   ],
   "source": [
    "print(\" python \\t is a \\t high-level, \\t general-purpose \\t programming language\")  # 1-tab = 4 or 5 spaces"
   ]
  },
  {
   "cell_type": "markdown",
   "id": "129eb6f4-5bfe-4d02-b710-0704fb8569e6",
   "metadata": {},
   "source": []
  },
  {
   "cell_type": "code",
   "execution_count": null,
   "id": "d852bab4-f1d9-49e0-b440-af7050a8a38a",
   "metadata": {},
   "outputs": [],
   "source": []
  }
 ],
 "metadata": {
  "kernelspec": {
   "display_name": "Python [conda env:datascience]",
   "language": "python",
   "name": "conda-env-datascience-py"
  },
  "language_info": {
   "codemirror_mode": {
    "name": "ipython",
    "version": 3
   },
   "file_extension": ".py",
   "mimetype": "text/x-python",
   "name": "python",
   "nbconvert_exporter": "python",
   "pygments_lexer": "ipython3",
   "version": "3.12.8"
  }
 },
 "nbformat": 4,
 "nbformat_minor": 5
}
