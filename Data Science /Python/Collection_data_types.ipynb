{
 "cells": [
  {
   "cell_type": "markdown",
   "id": "81713ada-10c0-43b8-8d1e-27d3e2ef1aab",
   "metadata": {},
   "source": [
    "# COLLECTION DATA TYPES\n"
   ]
  },
  {
   "cell_type": "markdown",
   "id": "c00900b4-a3e1-46f0-ba8f-96708bf94c54",
   "metadata": {},
   "source": [
    "### LIST"
   ]
  },
  {
   "cell_type": "code",
   "execution_count": 3,
   "id": "fb963e9e-2b78-44ae-ae18-6f5d24f94f88",
   "metadata": {},
   "outputs": [],
   "source": [
    "list1 = [1,2,3,4,5]"
   ]
  },
  {
   "cell_type": "code",
   "execution_count": 4,
   "id": "650e6500-9a30-4a62-84a9-471f5e7e129e",
   "metadata": {},
   "outputs": [
    {
     "data": {
      "text/plain": [
       "list"
      ]
     },
     "execution_count": 4,
     "metadata": {},
     "output_type": "execute_result"
    }
   ],
   "source": [
    "type(list1)"
   ]
  },
  {
   "cell_type": "code",
   "execution_count": 5,
   "id": "6e4b14f0-72c9-491e-8184-b3ee1c871f28",
   "metadata": {},
   "outputs": [
    {
     "data": {
      "text/plain": [
       "4395497792"
      ]
     },
     "execution_count": 5,
     "metadata": {},
     "output_type": "execute_result"
    }
   ],
   "source": [
    "id(list1)"
   ]
  },
  {
   "cell_type": "code",
   "execution_count": 6,
   "id": "78b186f3-8e8c-480b-8770-e35f7cd8f8a5",
   "metadata": {},
   "outputs": [
    {
     "data": {
      "text/plain": [
       "5"
      ]
     },
     "execution_count": 6,
     "metadata": {},
     "output_type": "execute_result"
    }
   ],
   "source": [
    "len(list1)"
   ]
  },
  {
   "cell_type": "code",
   "execution_count": 7,
   "id": "39edae23-d39f-442a-ac19-988d1f2488f5",
   "metadata": {},
   "outputs": [
    {
     "name": "stdout",
     "output_type": "stream",
     "text": [
      "[1, 2, 3, 4, 5]\n"
     ]
    }
   ],
   "source": [
    "print(list1)"
   ]
  },
  {
   "cell_type": "code",
   "execution_count": 8,
   "id": "0bab4216-e455-4f47-9db3-989f450a4fd6",
   "metadata": {},
   "outputs": [],
   "source": [
    "list2 = [1,\"python\",2.5,True]"
   ]
  },
  {
   "cell_type": "code",
   "execution_count": 9,
   "id": "019e7d59-a1f6-4741-b25e-833203ef2122",
   "metadata": {},
   "outputs": [
    {
     "name": "stdout",
     "output_type": "stream",
     "text": [
      "[1, 'python', 2.5, True]\n"
     ]
    }
   ],
   "source": [
    "print(list2)"
   ]
  },
  {
   "cell_type": "code",
   "execution_count": 10,
   "id": "29a6dafe-41d2-4ebe-a202-632d0798485d",
   "metadata": {},
   "outputs": [
    {
     "data": {
      "text/plain": [
       "list"
      ]
     },
     "execution_count": 10,
     "metadata": {},
     "output_type": "execute_result"
    }
   ],
   "source": [
    "type(list2)"
   ]
  },
  {
   "cell_type": "code",
   "execution_count": 11,
   "id": "0251ecc5-aae4-4489-9585-35abc578e576",
   "metadata": {},
   "outputs": [
    {
     "data": {
      "text/plain": [
       "4395813824"
      ]
     },
     "execution_count": 11,
     "metadata": {},
     "output_type": "execute_result"
    }
   ],
   "source": [
    "id(list2)"
   ]
  },
  {
   "cell_type": "code",
   "execution_count": 12,
   "id": "0e75ffa9-9456-4727-ae18-b482c164030f",
   "metadata": {},
   "outputs": [
    {
     "data": {
      "text/plain": [
       "4"
      ]
     },
     "execution_count": 12,
     "metadata": {},
     "output_type": "execute_result"
    }
   ],
   "source": [
    "len(list2)"
   ]
  },
  {
   "cell_type": "code",
   "execution_count": 73,
   "id": "27994c98-62d9-48dc-a439-99a338b912f9",
   "metadata": {},
   "outputs": [],
   "source": [
    "list3 = [\"apple\",\"banana\",\"orange\"]"
   ]
  },
  {
   "cell_type": "code",
   "execution_count": 75,
   "id": "cabffb29-c983-405c-8263-2fd0f3a97ee9",
   "metadata": {},
   "outputs": [
    {
     "name": "stdout",
     "output_type": "stream",
     "text": [
      "['apple', 'banana', 'orange']\n"
     ]
    }
   ],
   "source": [
    "print(list3)"
   ]
  },
  {
   "cell_type": "code",
   "execution_count": 15,
   "id": "c1692284-8ba5-42e6-96fe-b36f493e1b1c",
   "metadata": {},
   "outputs": [
    {
     "data": {
      "text/plain": [
       "list"
      ]
     },
     "execution_count": 15,
     "metadata": {},
     "output_type": "execute_result"
    }
   ],
   "source": [
    "type(list3)"
   ]
  },
  {
   "cell_type": "code",
   "execution_count": 16,
   "id": "f289e980-53da-462a-822c-64f84caea74a",
   "metadata": {},
   "outputs": [
    {
     "data": {
      "text/plain": [
       "3"
      ]
     },
     "execution_count": 16,
     "metadata": {},
     "output_type": "execute_result"
    }
   ],
   "source": [
    "len(list3)"
   ]
  },
  {
   "cell_type": "code",
   "execution_count": 17,
   "id": "d2ede5b7-c1ae-4449-880d-5f660f6f8744",
   "metadata": {},
   "outputs": [
    {
     "data": {
      "text/plain": [
       "4395809728"
      ]
     },
     "execution_count": 17,
     "metadata": {},
     "output_type": "execute_result"
    }
   ],
   "source": [
    "id(list3)"
   ]
  },
  {
   "cell_type": "markdown",
   "id": "adae26a8-379c-42b8-8f36-6ae24bf94de4",
   "metadata": {},
   "source": [
    "### CHARACTERISTICS OF LIST"
   ]
  },
  {
   "cell_type": "code",
   "execution_count": 19,
   "id": "5cdcf24b-ce28-4ec1-b174-c8a7f486d325",
   "metadata": {},
   "outputs": [],
   "source": [
    "# m - mutable\n",
    "# o - ordered\n",
    "# d - duplicates are allowed\n",
    "# i -  indexed"
   ]
  },
  {
   "cell_type": "markdown",
   "id": "6261a499-a1b4-4818-a24c-eb41545ab430",
   "metadata": {},
   "source": [
    "#### MUTABLE - WE CAN CHANGE THE ORIGINAL VALUE"
   ]
  },
  {
   "cell_type": "code",
   "execution_count": 21,
   "id": "36dfc7f3-d0e7-4cfd-9518-54fac9511d78",
   "metadata": {},
   "outputs": [
    {
     "data": {
      "text/plain": [
       "[1, 2, 3, 4, 5]"
      ]
     },
     "execution_count": 21,
     "metadata": {},
     "output_type": "execute_result"
    }
   ],
   "source": [
    "list1"
   ]
  },
  {
   "cell_type": "code",
   "execution_count": 22,
   "id": "92417d6f-e8a6-4283-b34c-66dc936d8d79",
   "metadata": {},
   "outputs": [],
   "source": [
    "list1.append(6)"
   ]
  },
  {
   "cell_type": "code",
   "execution_count": 23,
   "id": "eecc3d1d-a5d6-4a1f-be56-8b92e911d379",
   "metadata": {},
   "outputs": [
    {
     "data": {
      "text/plain": [
       "[1, 2, 3, 4, 5, 6]"
      ]
     },
     "execution_count": 23,
     "metadata": {},
     "output_type": "execute_result"
    }
   ],
   "source": [
    "list1"
   ]
  },
  {
   "cell_type": "code",
   "execution_count": 24,
   "id": "abf0a223-f567-421c-8629-c138a8c2d38e",
   "metadata": {},
   "outputs": [],
   "source": [
    "# list is mutable"
   ]
  },
  {
   "cell_type": "markdown",
   "id": "072fb705-c794-4601-a05d-22511c21c053",
   "metadata": {},
   "source": [
    "#### ORDERED AND INDEXED - IT SHOULD FOLLOW INDEXING AND SLICING"
   ]
  },
  {
   "cell_type": "code",
   "execution_count": 26,
   "id": "ace83e25-733b-4916-8930-7e1b26d16077",
   "metadata": {},
   "outputs": [
    {
     "data": {
      "text/plain": [
       "1"
      ]
     },
     "execution_count": 26,
     "metadata": {},
     "output_type": "execute_result"
    }
   ],
   "source": [
    "list1[0]"
   ]
  },
  {
   "cell_type": "code",
   "execution_count": 27,
   "id": "2e1ab3b5-8a7d-416f-a3c7-7493cacef57a",
   "metadata": {},
   "outputs": [
    {
     "data": {
      "text/plain": [
       "5"
      ]
     },
     "execution_count": 27,
     "metadata": {},
     "output_type": "execute_result"
    }
   ],
   "source": [
    "list1[4]"
   ]
  },
  {
   "cell_type": "code",
   "execution_count": 28,
   "id": "0980176d-8ef4-41e6-8323-63ac7a84b7d0",
   "metadata": {},
   "outputs": [
    {
     "data": {
      "text/plain": [
       "[1, 2, 3]"
      ]
     },
     "execution_count": 28,
     "metadata": {},
     "output_type": "execute_result"
    }
   ],
   "source": [
    "list1[0:3]"
   ]
  },
  {
   "cell_type": "code",
   "execution_count": 29,
   "id": "9fc493e3-6da0-49a2-b87c-f9218d0f7d39",
   "metadata": {},
   "outputs": [],
   "source": [
    "# list is ordered and indexed"
   ]
  },
  {
   "cell_type": "markdown",
   "id": "8c1f8da9-891b-42a3-80a4-79b26a2ee53e",
   "metadata": {},
   "source": [
    "#### DUPLICATED - IT SHOULD ALLOW DUPLICATES"
   ]
  },
  {
   "cell_type": "code",
   "execution_count": 31,
   "id": "20f18eba-3b63-4533-a5d6-d462192ff6a8",
   "metadata": {},
   "outputs": [],
   "source": [
    "list4 = [1,2,2,3,4,5]"
   ]
  },
  {
   "cell_type": "code",
   "execution_count": 32,
   "id": "667c44db-7a53-4023-a58b-0c78596afa8a",
   "metadata": {},
   "outputs": [
    {
     "data": {
      "text/plain": [
       "[1, 2, 2, 3, 4, 5]"
      ]
     },
     "execution_count": 32,
     "metadata": {},
     "output_type": "execute_result"
    }
   ],
   "source": [
    "list4"
   ]
  },
  {
   "cell_type": "code",
   "execution_count": 33,
   "id": "dd52572c-38bd-4f67-b984-de3d360bec13",
   "metadata": {},
   "outputs": [],
   "source": [
    "# list is duplicated"
   ]
  },
  {
   "cell_type": "markdown",
   "id": "1a79265d-cd1e-46d3-9546-2566087f5835",
   "metadata": {},
   "source": [
    "### METHODS OF LIST"
   ]
  },
  {
   "cell_type": "code",
   "execution_count": 35,
   "id": "c512976b-0811-445c-9b15-30389c66bc31",
   "metadata": {},
   "outputs": [
    {
     "data": {
      "text/plain": [
       "[1, 2, 3, 4, 5, 6]"
      ]
     },
     "execution_count": 35,
     "metadata": {},
     "output_type": "execute_result"
    }
   ],
   "source": [
    "list1"
   ]
  },
  {
   "cell_type": "code",
   "execution_count": 36,
   "id": "fce34c17-533d-461e-9d6b-43df010e9db6",
   "metadata": {},
   "outputs": [],
   "source": [
    "list1.append(7)                   # append - adding single element to the end of list "
   ]
  },
  {
   "cell_type": "code",
   "execution_count": 37,
   "id": "41432997-647c-4082-8fc0-5414e3787c5e",
   "metadata": {},
   "outputs": [
    {
     "data": {
      "text/plain": [
       "[1, 2, 3, 4, 5, 6, 7]"
      ]
     },
     "execution_count": 37,
     "metadata": {},
     "output_type": "execute_result"
    }
   ],
   "source": [
    "list1"
   ]
  },
  {
   "cell_type": "code",
   "execution_count": 38,
   "id": "d08da2bf-1196-4acc-9db1-3aec1b325d53",
   "metadata": {},
   "outputs": [],
   "source": [
    "list1.extend([8,9,10])             # extend - adding multiple elements at the end of list"
   ]
  },
  {
   "cell_type": "code",
   "execution_count": 39,
   "id": "572fe609-17cc-433c-8349-414adcfed4df",
   "metadata": {},
   "outputs": [
    {
     "data": {
      "text/plain": [
       "[1, 2, 3, 4, 5, 6, 7, 8, 9, 10]"
      ]
     },
     "execution_count": 39,
     "metadata": {},
     "output_type": "execute_result"
    }
   ],
   "source": [
    "list1"
   ]
  },
  {
   "cell_type": "code",
   "execution_count": 40,
   "id": "6270f30f-b9c6-4509-929d-4ef8af72e049",
   "metadata": {},
   "outputs": [],
   "source": [
    "list1.insert(5,16)                 # insert - insert the value at particular index "
   ]
  },
  {
   "cell_type": "code",
   "execution_count": 41,
   "id": "0e7c869f-f118-4321-b36c-4be7ef82320f",
   "metadata": {},
   "outputs": [
    {
     "data": {
      "text/plain": [
       "[1, 2, 3, 4, 5, 16, 6, 7, 8, 9, 10]"
      ]
     },
     "execution_count": 41,
     "metadata": {},
     "output_type": "execute_result"
    }
   ],
   "source": [
    "list1"
   ]
  },
  {
   "cell_type": "code",
   "execution_count": 42,
   "id": "8c508942-6534-4a77-a14d-c461591951b6",
   "metadata": {},
   "outputs": [
    {
     "data": {
      "text/plain": [
       "5"
      ]
     },
     "execution_count": 42,
     "metadata": {},
     "output_type": "execute_result"
    }
   ],
   "source": [
    "list1.index(16)                      # index - it will give the index of the value"
   ]
  },
  {
   "cell_type": "code",
   "execution_count": 43,
   "id": "1a10c34a-15b2-461e-8ef6-8944860707a4",
   "metadata": {},
   "outputs": [
    {
     "data": {
      "text/plain": [
       "8"
      ]
     },
     "execution_count": 43,
     "metadata": {},
     "output_type": "execute_result"
    }
   ],
   "source": [
    "list1.index(8)    "
   ]
  },
  {
   "cell_type": "code",
   "execution_count": 44,
   "id": "20fc0222-364a-46a9-ba18-865281914c6a",
   "metadata": {},
   "outputs": [],
   "source": [
    "list5 = list1.copy()                     # copy - copy all elements to a list"
   ]
  },
  {
   "cell_type": "code",
   "execution_count": 45,
   "id": "748a9cfc-59a0-425c-9fa0-55343b279da4",
   "metadata": {},
   "outputs": [
    {
     "data": {
      "text/plain": [
       "[1, 2, 3, 4, 5, 16, 6, 7, 8, 9, 10]"
      ]
     },
     "execution_count": 45,
     "metadata": {},
     "output_type": "execute_result"
    }
   ],
   "source": [
    "list5"
   ]
  },
  {
   "cell_type": "code",
   "execution_count": 46,
   "id": "8147a6cf-c6af-4a10-b1f9-a6afb8c8bf1e",
   "metadata": {},
   "outputs": [],
   "source": [
    "list1.sort()                          # sort - sorting the value according to ascending order"
   ]
  },
  {
   "cell_type": "code",
   "execution_count": 47,
   "id": "49a1187a-f043-4166-880f-56ba7ef5e319",
   "metadata": {},
   "outputs": [
    {
     "data": {
      "text/plain": [
       "[1, 2, 3, 4, 5, 6, 7, 8, 9, 10, 16]"
      ]
     },
     "execution_count": 47,
     "metadata": {},
     "output_type": "execute_result"
    }
   ],
   "source": [
    "list1"
   ]
  },
  {
   "cell_type": "code",
   "execution_count": 48,
   "id": "8ed62497-1f2b-43c4-8012-0c09a86a9179",
   "metadata": {},
   "outputs": [],
   "source": [
    "list1.reverse()                       # reverse - reverse the value in ascending order to descending order or vise versa"
   ]
  },
  {
   "cell_type": "code",
   "execution_count": 49,
   "id": "e1bc9356-6736-4495-8f0c-f30a7cff33be",
   "metadata": {},
   "outputs": [
    {
     "data": {
      "text/plain": [
       "[16, 10, 9, 8, 7, 6, 5, 4, 3, 2, 1]"
      ]
     },
     "execution_count": 49,
     "metadata": {},
     "output_type": "execute_result"
    }
   ],
   "source": [
    "list1"
   ]
  },
  {
   "cell_type": "code",
   "execution_count": 50,
   "id": "7b8d6583-bf35-4c62-94ef-962d544c317a",
   "metadata": {},
   "outputs": [],
   "source": [
    "list1.remove(7)      # remove - removes the values based on values"
   ]
  },
  {
   "cell_type": "code",
   "execution_count": 51,
   "id": "453731ab-754c-4aac-bd65-0ccf9ac6e9cb",
   "metadata": {},
   "outputs": [
    {
     "data": {
      "text/plain": [
       "[16, 10, 9, 8, 6, 5, 4, 3, 2, 1]"
      ]
     },
     "execution_count": 51,
     "metadata": {},
     "output_type": "execute_result"
    }
   ],
   "source": [
    "list1"
   ]
  },
  {
   "cell_type": "code",
   "execution_count": 52,
   "id": "4f3d616c-1240-4a08-9e56-814278963a20",
   "metadata": {},
   "outputs": [
    {
     "data": {
      "text/plain": [
       "1"
      ]
     },
     "execution_count": 52,
     "metadata": {},
     "output_type": "execute_result"
    }
   ],
   "source": [
    "list1.pop()            # pop - remove the values based on index(default last value)"
   ]
  },
  {
   "cell_type": "code",
   "execution_count": 53,
   "id": "c47e8ab2-183e-4c98-bee4-df13ca0d0f04",
   "metadata": {},
   "outputs": [
    {
     "data": {
      "text/plain": [
       "2"
      ]
     },
     "execution_count": 53,
     "metadata": {},
     "output_type": "execute_result"
    }
   ],
   "source": [
    "list1.pop()"
   ]
  },
  {
   "cell_type": "code",
   "execution_count": 54,
   "id": "10cae2f2-3883-4f44-857e-3ab7a6d5324b",
   "metadata": {},
   "outputs": [
    {
     "data": {
      "text/plain": [
       "16"
      ]
     },
     "execution_count": 54,
     "metadata": {},
     "output_type": "execute_result"
    }
   ],
   "source": [
    "list1.pop(0)"
   ]
  },
  {
   "cell_type": "code",
   "execution_count": 55,
   "id": "00546cea-5010-40fc-b7f7-cd7bc1154b8f",
   "metadata": {},
   "outputs": [
    {
     "data": {
      "text/plain": [
       "[1, 2, 2, 3, 4, 5]"
      ]
     },
     "execution_count": 55,
     "metadata": {},
     "output_type": "execute_result"
    }
   ],
   "source": [
    "list4"
   ]
  },
  {
   "cell_type": "code",
   "execution_count": 56,
   "id": "9471feca-3966-40d2-bd2d-8a5ab63aa3e4",
   "metadata": {},
   "outputs": [
    {
     "data": {
      "text/plain": [
       "0"
      ]
     },
     "execution_count": 56,
     "metadata": {},
     "output_type": "execute_result"
    }
   ],
   "source": [
    "list1.count(2)                    # count - Return number of occurrences of value"
   ]
  },
  {
   "cell_type": "code",
   "execution_count": 57,
   "id": "60134f45-5c1b-4b77-bf58-6efb8f77363e",
   "metadata": {},
   "outputs": [
    {
     "data": {
      "text/plain": [
       "1"
      ]
     },
     "execution_count": 57,
     "metadata": {},
     "output_type": "execute_result"
    }
   ],
   "source": [
    "list1.count(5)"
   ]
  },
  {
   "cell_type": "code",
   "execution_count": 58,
   "id": "dfa28128-9c16-4fba-8eee-20b862e4ab81",
   "metadata": {},
   "outputs": [],
   "source": [
    "list1.clear()                   # clear - Remove all items from list"
   ]
  },
  {
   "cell_type": "code",
   "execution_count": 59,
   "id": "cc17acce-4978-404f-887c-fecaaeb95cca",
   "metadata": {},
   "outputs": [
    {
     "data": {
      "text/plain": [
       "[]"
      ]
     },
     "execution_count": 59,
     "metadata": {},
     "output_type": "execute_result"
    }
   ],
   "source": [
    "list1"
   ]
  },
  {
   "cell_type": "code",
   "execution_count": 60,
   "id": "997880dc-3759-4b41-b927-6cb6d95dd769",
   "metadata": {},
   "outputs": [
    {
     "data": {
      "text/plain": [
       "[1, 'python', 2.5, True]"
      ]
     },
     "execution_count": 60,
     "metadata": {},
     "output_type": "execute_result"
    }
   ],
   "source": [
    "list2"
   ]
  },
  {
   "cell_type": "code",
   "execution_count": 61,
   "id": "efb29f49-818f-4afd-b808-454cb5db9c47",
   "metadata": {},
   "outputs": [],
   "source": [
    "list2.append(\"mango\")"
   ]
  },
  {
   "cell_type": "code",
   "execution_count": 62,
   "id": "959751de-9e2f-4668-b75e-d7f47de5efeb",
   "metadata": {},
   "outputs": [
    {
     "data": {
      "text/plain": [
       "[1, 'python', 2.5, True, 'mango']"
      ]
     },
     "execution_count": 62,
     "metadata": {},
     "output_type": "execute_result"
    }
   ],
   "source": [
    "list2"
   ]
  },
  {
   "cell_type": "code",
   "execution_count": 63,
   "id": "536bb3bd-a0f7-4f28-b7b1-8559ac0b48e5",
   "metadata": {},
   "outputs": [],
   "source": [
    "list2.extend([\"berry\",\"guava\"])"
   ]
  },
  {
   "cell_type": "code",
   "execution_count": 64,
   "id": "78016b9d-bc77-4e21-b65c-ce9a159f9e13",
   "metadata": {},
   "outputs": [
    {
     "data": {
      "text/plain": [
       "[1, 'python', 2.5, True, 'mango', 'berry', 'guava']"
      ]
     },
     "execution_count": 64,
     "metadata": {},
     "output_type": "execute_result"
    }
   ],
   "source": [
    "list2"
   ]
  },
  {
   "cell_type": "code",
   "execution_count": 65,
   "id": "69776adc-fc8d-4c55-b6fa-a1a79c644ebc",
   "metadata": {},
   "outputs": [],
   "source": [
    "list2.insert(0,\"papaya\")"
   ]
  },
  {
   "cell_type": "code",
   "execution_count": 66,
   "id": "3fbff936-d3c5-4745-9b6b-18ce4cd23eca",
   "metadata": {},
   "outputs": [
    {
     "data": {
      "text/plain": [
       "['papaya', 1, 'python', 2.5, True, 'mango', 'berry', 'guava']"
      ]
     },
     "execution_count": 66,
     "metadata": {},
     "output_type": "execute_result"
    }
   ],
   "source": [
    "list2"
   ]
  },
  {
   "cell_type": "code",
   "execution_count": 67,
   "id": "b8306fb1-3826-4b1a-9c17-fabefb69e3b2",
   "metadata": {},
   "outputs": [
    {
     "data": {
      "text/plain": [
       "3"
      ]
     },
     "execution_count": 67,
     "metadata": {},
     "output_type": "execute_result"
    }
   ],
   "source": [
    "list2.index(2.5)"
   ]
  },
  {
   "cell_type": "code",
   "execution_count": 68,
   "id": "42883c42-3722-4854-99cc-e648ab2d5391",
   "metadata": {},
   "outputs": [],
   "source": [
    "list6 = list2.copy()"
   ]
  },
  {
   "cell_type": "code",
   "execution_count": 69,
   "id": "d9619c06-9c60-4d28-ae69-85c3b828fecf",
   "metadata": {},
   "outputs": [
    {
     "data": {
      "text/plain": [
       "['papaya', 1, 'python', 2.5, True, 'mango', 'berry', 'guava']"
      ]
     },
     "execution_count": 69,
     "metadata": {},
     "output_type": "execute_result"
    }
   ],
   "source": [
    "list6"
   ]
  },
  {
   "cell_type": "code",
   "execution_count": 70,
   "id": "5ef78220-8a20-4d09-8813-9816c3e75289",
   "metadata": {},
   "outputs": [
    {
     "ename": "TypeError",
     "evalue": "'<' not supported between instances of 'int' and 'str'",
     "output_type": "error",
     "traceback": [
      "\u001b[0;31m---------------------------------------------------------------------------\u001b[0m",
      "\u001b[0;31mTypeError\u001b[0m                                 Traceback (most recent call last)",
      "Cell \u001b[0;32mIn[70], line 1\u001b[0m\n\u001b[0;32m----> 1\u001b[0m list2\u001b[38;5;241m.\u001b[39msort()\n",
      "\u001b[0;31mTypeError\u001b[0m: '<' not supported between instances of 'int' and 'str'"
     ]
    }
   ],
   "source": [
    "list2.sort()                  # '<' not supported between instances of 'int' and 'str'"
   ]
  },
  {
   "cell_type": "code",
   "execution_count": 77,
   "id": "73e1a8a1-6424-459a-88e7-cd4fb9114b25",
   "metadata": {},
   "outputs": [],
   "source": [
    "list2.insert(0,4556)"
   ]
  },
  {
   "cell_type": "code",
   "execution_count": 79,
   "id": "56ab5dbe-5b8e-4414-98f2-741da604c1f1",
   "metadata": {},
   "outputs": [
    {
     "data": {
      "text/plain": [
       "[4556, 'papaya', 1, 'python', 2.5, True, 'mango', 'berry', 'guava']"
      ]
     },
     "execution_count": 79,
     "metadata": {},
     "output_type": "execute_result"
    }
   ],
   "source": [
    "list2"
   ]
  },
  {
   "cell_type": "code",
   "execution_count": 81,
   "id": "fb70ecf6-ac95-4732-ae75-f5cc03bf2d82",
   "metadata": {},
   "outputs": [],
   "source": [
    "list2.reverse()"
   ]
  },
  {
   "cell_type": "code",
   "execution_count": 83,
   "id": "e434f965-1bff-4f07-ad85-388c8895ae12",
   "metadata": {},
   "outputs": [
    {
     "data": {
      "text/plain": [
       "['guava', 'berry', 'mango', True, 2.5, 'python', 1, 'papaya', 4556]"
      ]
     },
     "execution_count": 83,
     "metadata": {},
     "output_type": "execute_result"
    }
   ],
   "source": [
    "list2"
   ]
  },
  {
   "cell_type": "code",
   "execution_count": 85,
   "id": "9af5e78b-3e3e-41e3-a536-7cd31c0fa030",
   "metadata": {},
   "outputs": [],
   "source": [
    "list2.remove(4556)"
   ]
  },
  {
   "cell_type": "code",
   "execution_count": 87,
   "id": "08ecdb5a-f903-4890-b142-586ba519a59d",
   "metadata": {},
   "outputs": [
    {
     "data": {
      "text/plain": [
       "['guava', 'berry', 'mango', True, 2.5, 'python', 1, 'papaya']"
      ]
     },
     "execution_count": 87,
     "metadata": {},
     "output_type": "execute_result"
    }
   ],
   "source": [
    "list2"
   ]
  },
  {
   "cell_type": "code",
   "execution_count": 89,
   "id": "b6dc6f31-df9d-4f86-bdb3-9ebaf6627873",
   "metadata": {},
   "outputs": [
    {
     "data": {
      "text/plain": [
       "'papaya'"
      ]
     },
     "execution_count": 89,
     "metadata": {},
     "output_type": "execute_result"
    }
   ],
   "source": [
    "list2.pop()"
   ]
  },
  {
   "cell_type": "code",
   "execution_count": 91,
   "id": "edaf7afb-288d-4205-b125-00513a4a7e16",
   "metadata": {},
   "outputs": [
    {
     "data": {
      "text/plain": [
       "1"
      ]
     },
     "execution_count": 91,
     "metadata": {},
     "output_type": "execute_result"
    }
   ],
   "source": [
    "list2.count(\"python\")"
   ]
  },
  {
   "cell_type": "code",
   "execution_count": null,
   "id": "17263dfd-fba4-4cc5-b483-1630eaf32b7a",
   "metadata": {},
   "outputs": [],
   "source": [
    "list2.clear()"
   ]
  },
  {
   "cell_type": "code",
   "execution_count": null,
   "id": "72752098-c770-45d1-b343-0c27b31174b0",
   "metadata": {},
   "outputs": [],
   "source": [
    "list2"
   ]
  },
  {
   "cell_type": "code",
   "execution_count": null,
   "id": "a45d68dd-aeac-44d6-9044-589a609d3ee5",
   "metadata": {},
   "outputs": [],
   "source": [
    "list3"
   ]
  },
  {
   "cell_type": "code",
   "execution_count": 93,
   "id": "3f05b63e-f517-4c18-aac1-709bb1a05fa5",
   "metadata": {},
   "outputs": [],
   "source": [
    "list3.append(\"berry\")"
   ]
  },
  {
   "cell_type": "code",
   "execution_count": 95,
   "id": "a7aa4416-0fb2-4940-8010-794e328568a9",
   "metadata": {},
   "outputs": [],
   "source": [
    "list3.extend([\"mango\",\"papaya\",\"papaya\"])"
   ]
  },
  {
   "cell_type": "code",
   "execution_count": 97,
   "id": "db872088-bbfd-4df4-93d2-177898729b40",
   "metadata": {},
   "outputs": [],
   "source": [
    "list3.remove(\"papaya\")"
   ]
  },
  {
   "cell_type": "code",
   "execution_count": 99,
   "id": "eba06a41-b702-4e51-9022-7ccfab12e122",
   "metadata": {},
   "outputs": [
    {
     "data": {
      "text/plain": [
       "['apple', 'banana', 'orange', 'berry', 'mango', 'papaya']"
      ]
     },
     "execution_count": 99,
     "metadata": {},
     "output_type": "execute_result"
    }
   ],
   "source": [
    "list3"
   ]
  },
  {
   "cell_type": "code",
   "execution_count": 101,
   "id": "053cf08b-aa67-4b2f-aaf5-bdf293f7cfee",
   "metadata": {},
   "outputs": [
    {
     "data": {
      "text/plain": [
       "1"
      ]
     },
     "execution_count": 101,
     "metadata": {},
     "output_type": "execute_result"
    }
   ],
   "source": [
    "list3.count(\"mango\")"
   ]
  },
  {
   "cell_type": "code",
   "execution_count": 103,
   "id": "09d3044b-d4c9-431c-921c-dd584c55b98c",
   "metadata": {},
   "outputs": [],
   "source": [
    "list3.sort()"
   ]
  },
  {
   "cell_type": "code",
   "execution_count": 105,
   "id": "115714cf-11cc-4cca-b404-852eecb4e1ee",
   "metadata": {},
   "outputs": [
    {
     "data": {
      "text/plain": [
       "['apple', 'banana', 'berry', 'mango', 'orange', 'papaya']"
      ]
     },
     "execution_count": 105,
     "metadata": {},
     "output_type": "execute_result"
    }
   ],
   "source": [
    "list3"
   ]
  },
  {
   "cell_type": "code",
   "execution_count": 107,
   "id": "97500124-790c-4476-a1fa-fd43fd4860ef",
   "metadata": {},
   "outputs": [
    {
     "data": {
      "text/plain": [
       "4"
      ]
     },
     "execution_count": 107,
     "metadata": {},
     "output_type": "execute_result"
    }
   ],
   "source": [
    "list3.index(\"orange\")"
   ]
  },
  {
   "cell_type": "code",
   "execution_count": 109,
   "id": "02e64b42-bd6a-4950-9a98-160681bd973d",
   "metadata": {},
   "outputs": [
    {
     "data": {
      "text/plain": [
       "3"
      ]
     },
     "execution_count": 109,
     "metadata": {},
     "output_type": "execute_result"
    }
   ],
   "source": [
    "list3.index(\"mango\")"
   ]
  },
  {
   "cell_type": "code",
   "execution_count": 111,
   "id": "6f9f7e71-c61e-463a-9f1b-ecd2f08e5fc9",
   "metadata": {},
   "outputs": [],
   "source": [
    "list3.insert(0,\"cherry\")"
   ]
  },
  {
   "cell_type": "code",
   "execution_count": 113,
   "id": "d6fecba6-451a-45e7-8a6d-79f8cd98a864",
   "metadata": {},
   "outputs": [
    {
     "data": {
      "text/plain": [
       "['cherry', 'apple', 'banana', 'berry', 'mango', 'orange', 'papaya']"
      ]
     },
     "execution_count": 113,
     "metadata": {},
     "output_type": "execute_result"
    }
   ],
   "source": [
    "list3"
   ]
  },
  {
   "cell_type": "code",
   "execution_count": 115,
   "id": "5dc96b03-14c4-4301-97ce-41a01c5d4217",
   "metadata": {},
   "outputs": [],
   "source": [
    "list3.reverse()"
   ]
  },
  {
   "cell_type": "code",
   "execution_count": 117,
   "id": "83d9ee80-2baa-4a44-bb80-85d88d5bf5c8",
   "metadata": {},
   "outputs": [
    {
     "data": {
      "text/plain": [
       "['papaya', 'orange', 'mango', 'berry', 'banana', 'apple', 'cherry']"
      ]
     },
     "execution_count": 117,
     "metadata": {},
     "output_type": "execute_result"
    }
   ],
   "source": [
    "list3"
   ]
  },
  {
   "cell_type": "code",
   "execution_count": 119,
   "id": "5844d369-bf7e-4a71-b474-ae8ff6dfe265",
   "metadata": {},
   "outputs": [],
   "source": [
    "list7 = list3.copy()"
   ]
  },
  {
   "cell_type": "code",
   "execution_count": 121,
   "id": "c4d41b43-a938-48c3-bb8d-0dee720064d2",
   "metadata": {},
   "outputs": [
    {
     "data": {
      "text/plain": [
       "['papaya', 'orange', 'mango', 'berry', 'banana', 'apple', 'cherry']"
      ]
     },
     "execution_count": 121,
     "metadata": {},
     "output_type": "execute_result"
    }
   ],
   "source": [
    "list7"
   ]
  },
  {
   "cell_type": "code",
   "execution_count": 123,
   "id": "51944022-5cf3-4743-b81d-6ceb829271e9",
   "metadata": {},
   "outputs": [
    {
     "data": {
      "text/plain": [
       "'mango'"
      ]
     },
     "execution_count": 123,
     "metadata": {},
     "output_type": "execute_result"
    }
   ],
   "source": [
    "list3.pop(2)"
   ]
  },
  {
   "cell_type": "code",
   "execution_count": 153,
   "id": "357ec90b-e23e-483a-9218-7c21b52b58ad",
   "metadata": {},
   "outputs": [],
   "source": [
    "list3 = ['papaya', 'orange', 'mango', 'berry', 'banana', 'apple', 'cherry']"
   ]
  },
  {
   "cell_type": "code",
   "execution_count": 155,
   "id": "0e5d826b-94e0-4a8a-9546-6b1096591b22",
   "metadata": {},
   "outputs": [
    {
     "data": {
      "text/plain": [
       "['papaya', 'orange', 'mango', 'berry', 'banana', 'apple', 'cherry']"
      ]
     },
     "execution_count": 155,
     "metadata": {},
     "output_type": "execute_result"
    }
   ],
   "source": [
    "list3"
   ]
  },
  {
   "cell_type": "code",
   "execution_count": 157,
   "id": "3efc89ac-30ac-4628-8b06-54556b6ed01c",
   "metadata": {},
   "outputs": [
    {
     "data": {
      "text/plain": [
       "1"
      ]
     },
     "execution_count": 157,
     "metadata": {},
     "output_type": "execute_result"
    }
   ],
   "source": [
    "list3.count(\"apple\")"
   ]
  },
  {
   "cell_type": "code",
   "execution_count": 159,
   "id": "55729ecd-13a0-4d1c-99e1-5d1d9fda56c9",
   "metadata": {},
   "outputs": [],
   "source": [
    "list3.sort()"
   ]
  },
  {
   "cell_type": "code",
   "execution_count": 161,
   "id": "83f30f6f-d404-4699-a1bd-e4d71f3bcf26",
   "metadata": {},
   "outputs": [
    {
     "data": {
      "text/plain": [
       "['apple', 'banana', 'berry', 'cherry', 'mango', 'orange', 'papaya']"
      ]
     },
     "execution_count": 161,
     "metadata": {},
     "output_type": "execute_result"
    }
   ],
   "source": [
    "list3"
   ]
  },
  {
   "cell_type": "code",
   "execution_count": 163,
   "id": "17e2d8b5-9258-448e-bca9-c13bcc44183a",
   "metadata": {},
   "outputs": [],
   "source": [
    "list3.remove(\"mango\")"
   ]
  },
  {
   "cell_type": "code",
   "execution_count": 165,
   "id": "e26c1d16-faf6-4665-8e65-24da9bb02920",
   "metadata": {},
   "outputs": [
    {
     "data": {
      "text/plain": [
       "['apple', 'banana', 'berry', 'cherry', 'orange', 'papaya']"
      ]
     },
     "execution_count": 165,
     "metadata": {},
     "output_type": "execute_result"
    }
   ],
   "source": [
    "list3"
   ]
  },
  {
   "cell_type": "code",
   "execution_count": 167,
   "id": "4fe3fd0f-c10d-4528-a814-ae46ade45303",
   "metadata": {},
   "outputs": [
    {
     "data": {
      "text/plain": [
       "'papaya'"
      ]
     },
     "execution_count": 167,
     "metadata": {},
     "output_type": "execute_result"
    }
   ],
   "source": [
    "list3.pop()"
   ]
  },
  {
   "cell_type": "code",
   "execution_count": 169,
   "id": "c678c535-8c9e-467e-aa8a-eb504a86d6cc",
   "metadata": {},
   "outputs": [
    {
     "data": {
      "text/plain": [
       "['apple', 'banana', 'berry', 'cherry', 'orange']"
      ]
     },
     "execution_count": 169,
     "metadata": {},
     "output_type": "execute_result"
    }
   ],
   "source": [
    "list3"
   ]
  },
  {
   "cell_type": "code",
   "execution_count": 171,
   "id": "c9da72ef-39d7-490b-b667-f29652d48dff",
   "metadata": {},
   "outputs": [],
   "source": [
    "list3.clear()"
   ]
  },
  {
   "cell_type": "code",
   "execution_count": 173,
   "id": "9a3a8a86-26da-4e1c-81ee-7ca93bda6772",
   "metadata": {},
   "outputs": [
    {
     "data": {
      "text/plain": [
       "[]"
      ]
     },
     "execution_count": 173,
     "metadata": {},
     "output_type": "execute_result"
    }
   ],
   "source": [
    "list3"
   ]
  },
  {
   "cell_type": "markdown",
   "id": "9a8f1920-363f-47a3-af29-e9daecc2d431",
   "metadata": {},
   "source": [
    "### Tuple"
   ]
  },
  {
   "cell_type": "code",
   "execution_count": 176,
   "id": "1f7777d0-9abc-46d0-9352-116972e9affd",
   "metadata": {},
   "outputs": [],
   "source": [
    "tup1 = (1,2,3,4,5)"
   ]
  },
  {
   "cell_type": "code",
   "execution_count": 182,
   "id": "d5168d71-17c4-4b75-b139-884c3b2ae9d8",
   "metadata": {},
   "outputs": [
    {
     "data": {
      "text/plain": [
       "tuple"
      ]
     },
     "execution_count": 182,
     "metadata": {},
     "output_type": "execute_result"
    }
   ],
   "source": [
    "type(tup1)"
   ]
  },
  {
   "cell_type": "code",
   "execution_count": 184,
   "id": "3d1919e3-72cd-4772-a25f-f45f052a6d22",
   "metadata": {},
   "outputs": [],
   "source": [
    "tup2 = (1,2,5,\"Hello\",True)"
   ]
  },
  {
   "cell_type": "code",
   "execution_count": 186,
   "id": "a394a90f-ce14-4fa7-b2f4-781f10bc241b",
   "metadata": {},
   "outputs": [
    {
     "data": {
      "text/plain": [
       "tuple"
      ]
     },
     "execution_count": 186,
     "metadata": {},
     "output_type": "execute_result"
    }
   ],
   "source": [
    "type(tup2)"
   ]
  },
  {
   "cell_type": "code",
   "execution_count": null,
   "id": "f6ec6e36-c1e2-4dae-93d2-6fc89093ea22",
   "metadata": {},
   "outputs": [],
   "source": [
    "tup3 = (\"apple\",\"banana\",\"orange\",\"grapes\")"
   ]
  },
  {
   "cell_type": "code",
   "execution_count": 188,
   "id": "2b178a1f-f4b9-4ac1-b383-ca3487a04ee0",
   "metadata": {},
   "outputs": [
    {
     "data": {
      "text/plain": [
       "tuple"
      ]
     },
     "execution_count": 188,
     "metadata": {},
     "output_type": "execute_result"
    }
   ],
   "source": [
    "type(tup3)"
   ]
  },
  {
   "cell_type": "code",
   "execution_count": 190,
   "id": "8b7dec79-9df1-4168-b0be-551bfdb9ec95",
   "metadata": {},
   "outputs": [
    {
     "data": {
      "text/plain": [
       "5114604304"
      ]
     },
     "execution_count": 190,
     "metadata": {},
     "output_type": "execute_result"
    }
   ],
   "source": [
    "id(tup3)"
   ]
  },
  {
   "cell_type": "code",
   "execution_count": 192,
   "id": "d2fe2bcb-0c25-44c6-ae47-58ac02185901",
   "metadata": {},
   "outputs": [
    {
     "name": "stdout",
     "output_type": "stream",
     "text": [
      "('apple', 'banana', 'orange', 'grapes')\n"
     ]
    }
   ],
   "source": [
    "print(tup3)"
   ]
  },
  {
   "cell_type": "code",
   "execution_count": 194,
   "id": "2242a8a1-3d72-4a35-b136-33d4c9cb1398",
   "metadata": {},
   "outputs": [
    {
     "data": {
      "text/plain": [
       "4"
      ]
     },
     "execution_count": 194,
     "metadata": {},
     "output_type": "execute_result"
    }
   ],
   "source": [
    "len(tup3)"
   ]
  },
  {
   "cell_type": "markdown",
   "id": "df9af1fe-7410-475c-91a6-42d13623b7e6",
   "metadata": {},
   "source": [
    "#### Characteristic of Tuple"
   ]
  },
  {
   "cell_type": "code",
   "execution_count": 197,
   "id": "82cd20eb-2eb9-48c2-8bbc-46dee74b390e",
   "metadata": {},
   "outputs": [
    {
     "data": {
      "text/plain": [
       "(1, 2, 3, 4, 5)"
      ]
     },
     "execution_count": 197,
     "metadata": {},
     "output_type": "execute_result"
    }
   ],
   "source": [
    "tup1"
   ]
  },
  {
   "cell_type": "code",
   "execution_count": 199,
   "id": "85574666-38b9-4fae-8c56-27752103cdf6",
   "metadata": {},
   "outputs": [
    {
     "ename": "AttributeError",
     "evalue": "'tuple' object has no attribute 'append'",
     "output_type": "error",
     "traceback": [
      "\u001b[0;31m---------------------------------------------------------------------------\u001b[0m",
      "\u001b[0;31mAttributeError\u001b[0m                            Traceback (most recent call last)",
      "Cell \u001b[0;32mIn[199], line 1\u001b[0m\n\u001b[0;32m----> 1\u001b[0m tup1\u001b[38;5;241m.\u001b[39mappend()\n",
      "\u001b[0;31mAttributeError\u001b[0m: 'tuple' object has no attribute 'append'"
     ]
    }
   ],
   "source": [
    "tup1.append()"
   ]
  },
  {
   "cell_type": "code",
   "execution_count": null,
   "id": "d339ccb3-b8a3-4534-85f2-d4d7de1ab3e3",
   "metadata": {},
   "outputs": [],
   "source": [
    "# tuple is immutable - we cannot change the original value"
   ]
  },
  {
   "cell_type": "markdown",
   "id": "1a0e8cac-6af4-42c5-8641-07231c3fd657",
   "metadata": {},
   "source": [
    "#### Ordered and indexed"
   ]
  },
  {
   "cell_type": "code",
   "execution_count": 202,
   "id": "39de3800-1dd7-44de-a54e-b2a1dde90758",
   "metadata": {},
   "outputs": [
    {
     "data": {
      "text/plain": [
       "(1, 2, 3, 4, 5)"
      ]
     },
     "execution_count": 202,
     "metadata": {},
     "output_type": "execute_result"
    }
   ],
   "source": [
    "tup1"
   ]
  },
  {
   "cell_type": "code",
   "execution_count": 204,
   "id": "8beaae46-ea38-4199-8d58-b89afc148942",
   "metadata": {},
   "outputs": [
    {
     "data": {
      "text/plain": [
       "1"
      ]
     },
     "execution_count": 204,
     "metadata": {},
     "output_type": "execute_result"
    }
   ],
   "source": [
    "tup1[0]"
   ]
  },
  {
   "cell_type": "code",
   "execution_count": 206,
   "id": "44c39211-3752-415b-a9e2-b9d02b5a23dc",
   "metadata": {},
   "outputs": [
    {
     "data": {
      "text/plain": [
       "(1, 2, 3)"
      ]
     },
     "execution_count": 206,
     "metadata": {},
     "output_type": "execute_result"
    }
   ],
   "source": [
    "tup1[0:3]"
   ]
  },
  {
   "cell_type": "code",
   "execution_count": null,
   "id": "3acd5348-04e0-4d91-803a-e0abd1023785",
   "metadata": {},
   "outputs": [],
   "source": [
    "# Tuple is ordered - it support indexing and slicing"
   ]
  },
  {
   "cell_type": "markdown",
   "id": "7d397c5d-9dd6-4d38-bf06-00dc39703bdc",
   "metadata": {},
   "source": [
    "#### Duplicated"
   ]
  },
  {
   "cell_type": "code",
   "execution_count": 209,
   "id": "4f8b1eee-6076-4b98-b2bb-5504240fe567",
   "metadata": {},
   "outputs": [],
   "source": [
    "tup4 = (1,2,2,3,3,4,5,5)"
   ]
  },
  {
   "cell_type": "code",
   "execution_count": 211,
   "id": "6bb9210b-5f3b-4b25-9c84-2d5500f16dfa",
   "metadata": {},
   "outputs": [
    {
     "data": {
      "text/plain": [
       "(1, 2, 2, 3, 3, 4, 5, 5)"
      ]
     },
     "execution_count": 211,
     "metadata": {},
     "output_type": "execute_result"
    }
   ],
   "source": [
    "tup4"
   ]
  },
  {
   "cell_type": "code",
   "execution_count": null,
   "id": "1f84d033-6b75-4ce3-b861-743312e67544",
   "metadata": {},
   "outputs": [],
   "source": [
    "# tuple is duplicated"
   ]
  },
  {
   "cell_type": "markdown",
   "id": "e2d91fed-f895-4eca-960e-ac034771ee94",
   "metadata": {},
   "source": [
    "#### Methods"
   ]
  },
  {
   "cell_type": "code",
   "execution_count": 214,
   "id": "f363b53e-66cd-48c9-92cb-caa11441189e",
   "metadata": {},
   "outputs": [
    {
     "data": {
      "text/plain": [
       "(1, 2, 2, 3, 3, 4, 5, 5)"
      ]
     },
     "execution_count": 214,
     "metadata": {},
     "output_type": "execute_result"
    }
   ],
   "source": [
    "tup4"
   ]
  },
  {
   "cell_type": "code",
   "execution_count": 216,
   "id": "356b607c-90f1-41ab-8fbe-c4716afb7b9a",
   "metadata": {},
   "outputs": [
    {
     "data": {
      "text/plain": [
       "2"
      ]
     },
     "execution_count": 216,
     "metadata": {},
     "output_type": "execute_result"
    }
   ],
   "source": [
    "tup4.count(2)"
   ]
  },
  {
   "cell_type": "code",
   "execution_count": 218,
   "id": "ebf688d1-9bfe-4bec-bca9-f07a617f4e05",
   "metadata": {},
   "outputs": [
    {
     "data": {
      "text/plain": [
       "6"
      ]
     },
     "execution_count": 218,
     "metadata": {},
     "output_type": "execute_result"
    }
   ],
   "source": [
    "tup4.index(5)"
   ]
  },
  {
   "cell_type": "code",
   "execution_count": 220,
   "id": "9c8876ad-4450-4687-b88f-6f1da0941cdc",
   "metadata": {},
   "outputs": [
    {
     "data": {
      "text/plain": [
       "(1, 2, 3, 4, 5, 1, 2, 5, 'Hello', True)"
      ]
     },
     "execution_count": 220,
     "metadata": {},
     "output_type": "execute_result"
    }
   ],
   "source": [
    "tup1 + tup2"
   ]
  },
  {
   "cell_type": "code",
   "execution_count": 222,
   "id": "4ba69f78-1c24-48c5-b87f-585c11041b95",
   "metadata": {},
   "outputs": [
    {
     "data": {
      "text/plain": [
       "(1, 2, 3, 4, 5, 1, 2, 3, 4, 5, 1, 2, 3, 4, 5)"
      ]
     },
     "execution_count": 222,
     "metadata": {},
     "output_type": "execute_result"
    }
   ],
   "source": [
    "tup1*3"
   ]
  },
  {
   "cell_type": "code",
   "execution_count": 224,
   "id": "2685b7fe-1da2-4ce6-890c-e14abb11b043",
   "metadata": {},
   "outputs": [],
   "source": [
    "del tup3"
   ]
  },
  {
   "cell_type": "code",
   "execution_count": 226,
   "id": "7cb7da66-87d2-4bb1-99f6-58662356c596",
   "metadata": {},
   "outputs": [
    {
     "ename": "NameError",
     "evalue": "name 'tup3' is not defined",
     "output_type": "error",
     "traceback": [
      "\u001b[0;31m---------------------------------------------------------------------------\u001b[0m",
      "\u001b[0;31mNameError\u001b[0m                                 Traceback (most recent call last)",
      "Cell \u001b[0;32mIn[226], line 1\u001b[0m\n\u001b[0;32m----> 1\u001b[0m tup3\n",
      "\u001b[0;31mNameError\u001b[0m: name 'tup3' is not defined"
     ]
    }
   ],
   "source": [
    "tup3"
   ]
  },
  {
   "cell_type": "code",
   "execution_count": 228,
   "id": "0611c870-581b-462b-8747-85751c891e2b",
   "metadata": {},
   "outputs": [],
   "source": [
    "tup1 = (1,2,3)"
   ]
  },
  {
   "cell_type": "code",
   "execution_count": 230,
   "id": "bce5b726-1e4c-4c8c-ae41-828a657a19fd",
   "metadata": {},
   "outputs": [],
   "source": [
    "tup2 = (4,5,6)"
   ]
  },
  {
   "cell_type": "code",
   "execution_count": 242,
   "id": "4eb847dc-8736-4416-9a9c-c770d8b72968",
   "metadata": {},
   "outputs": [
    {
     "data": {
      "text/plain": [
       "((1, 2, 3), (4, 5, 6))"
      ]
     },
     "execution_count": 242,
     "metadata": {},
     "output_type": "execute_result"
    }
   ],
   "source": [
    "((tup1,tup2))"
   ]
  },
  {
   "cell_type": "code",
   "execution_count": 245,
   "id": "61725141-743a-4318-bdf8-5bff1c967cc2",
   "metadata": {},
   "outputs": [
    {
     "data": {
      "text/plain": [
       "2"
      ]
     },
     "execution_count": 245,
     "metadata": {},
     "output_type": "execute_result"
    }
   ],
   "source": [
    "tup4.index(2,2,4)"
   ]
  },
  {
   "cell_type": "code",
   "execution_count": 247,
   "id": "5797645a-e879-433c-a382-58dd81749e42",
   "metadata": {},
   "outputs": [
    {
     "data": {
      "text/plain": [
       "6"
      ]
     },
     "execution_count": 247,
     "metadata": {},
     "output_type": "execute_result"
    }
   ],
   "source": [
    "tup4.index(5,6,7)"
   ]
  },
  {
   "cell_type": "markdown",
   "id": "029af729-ef68-493a-836e-a2dd839f26ed",
   "metadata": {},
   "source": [
    "## SET"
   ]
  },
  {
   "cell_type": "code",
   "execution_count": 3,
   "id": "b82495bd-010a-4483-8e4f-e510485f834d",
   "metadata": {},
   "outputs": [],
   "source": [
    "set1 = { 1,2,3,4,5}"
   ]
  },
  {
   "cell_type": "code",
   "execution_count": 252,
   "id": "7e2b5bd8-e470-431f-884b-8cdd50538072",
   "metadata": {},
   "outputs": [
    {
     "data": {
      "text/plain": [
       "set"
      ]
     },
     "execution_count": 252,
     "metadata": {},
     "output_type": "execute_result"
    }
   ],
   "source": [
    "type(set1)"
   ]
  },
  {
   "cell_type": "code",
   "execution_count": 254,
   "id": "93df9267-8a3f-4401-a813-2ebbdb620454",
   "metadata": {},
   "outputs": [],
   "source": [
    "set2 = { 'apple','banana','orange','grapes'}"
   ]
  },
  {
   "cell_type": "code",
   "execution_count": 256,
   "id": "155f9580-a6b8-4da9-a39e-dd07496db180",
   "metadata": {},
   "outputs": [
    {
     "data": {
      "text/plain": [
       "set"
      ]
     },
     "execution_count": 256,
     "metadata": {},
     "output_type": "execute_result"
    }
   ],
   "source": [
    "type(set2)"
   ]
  },
  {
   "cell_type": "code",
   "execution_count": 258,
   "id": "6c7b2715-efa8-45b9-b360-4b4edbaae8bb",
   "metadata": {},
   "outputs": [
    {
     "name": "stdout",
     "output_type": "stream",
     "text": [
      "{'grapes', 'orange', 'apple', 'banana'}\n"
     ]
    }
   ],
   "source": [
    "print(set2)"
   ]
  },
  {
   "cell_type": "code",
   "execution_count": 260,
   "id": "1f7639f2-ca0e-4765-9d8b-a1cc59b88171",
   "metadata": {},
   "outputs": [
    {
     "data": {
      "text/plain": [
       "4"
      ]
     },
     "execution_count": 260,
     "metadata": {},
     "output_type": "execute_result"
    }
   ],
   "source": [
    "len(set2)"
   ]
  },
  {
   "cell_type": "code",
   "execution_count": 262,
   "id": "65718290-f214-4af8-9ae2-31c9a3d92797",
   "metadata": {},
   "outputs": [
    {
     "data": {
      "text/plain": [
       "5115845696"
      ]
     },
     "execution_count": 262,
     "metadata": {},
     "output_type": "execute_result"
    }
   ],
   "source": [
    "id(set2)"
   ]
  },
  {
   "cell_type": "markdown",
   "id": "5b807a2e-af0b-4737-9377-9dc714102d5e",
   "metadata": {},
   "source": [
    "### Characteristic of set"
   ]
  },
  {
   "cell_type": "markdown",
   "id": "0f4607b3-d4e8-4ec6-903f-a0816b57e97a",
   "metadata": {},
   "source": [
    "#### Mutable"
   ]
  },
  {
   "cell_type": "code",
   "execution_count": 5,
   "id": "f5b784c6-6b5b-4fc6-bedb-97ef5c8b9d8d",
   "metadata": {},
   "outputs": [
    {
     "data": {
      "text/plain": [
       "{1, 2, 3, 4, 5}"
      ]
     },
     "execution_count": 5,
     "metadata": {},
     "output_type": "execute_result"
    }
   ],
   "source": [
    "set1"
   ]
  },
  {
   "cell_type": "code",
   "execution_count": 7,
   "id": "4ea5959f-aea7-43b7-b830-40aa8cad9dfd",
   "metadata": {},
   "outputs": [],
   "source": [
    "set1.add(6)"
   ]
  },
  {
   "cell_type": "code",
   "execution_count": 9,
   "id": "aec1faa0-bee1-45ed-9b20-49b08c6b8bb1",
   "metadata": {},
   "outputs": [
    {
     "data": {
      "text/plain": [
       "{1, 2, 3, 4, 5, 6}"
      ]
     },
     "execution_count": 9,
     "metadata": {},
     "output_type": "execute_result"
    }
   ],
   "source": [
    "set1"
   ]
  },
  {
   "cell_type": "code",
   "execution_count": null,
   "id": "a8db925d-7b01-4fb5-8c77-d3e06577d35d",
   "metadata": {},
   "outputs": [],
   "source": [
    "# set is mutable"
   ]
  },
  {
   "cell_type": "markdown",
   "id": "f8582a0f-b5fc-424c-b13e-dfed704d1206",
   "metadata": {},
   "source": [
    "#### ordered and indexed"
   ]
  },
  {
   "cell_type": "code",
   "execution_count": 14,
   "id": "bb05c25d-eead-490e-bd4d-3eef2cd7f240",
   "metadata": {},
   "outputs": [
    {
     "data": {
      "text/plain": [
       "{1, 2, 3, 4, 5, 6}"
      ]
     },
     "execution_count": 14,
     "metadata": {},
     "output_type": "execute_result"
    }
   ],
   "source": [
    "set1"
   ]
  },
  {
   "cell_type": "code",
   "execution_count": 16,
   "id": "4dbedcfd-f769-4944-b934-9afe8a5294cc",
   "metadata": {},
   "outputs": [
    {
     "ename": "TypeError",
     "evalue": "'set' object is not subscriptable",
     "output_type": "error",
     "traceback": [
      "\u001b[0;31m---------------------------------------------------------------------------\u001b[0m",
      "\u001b[0;31mTypeError\u001b[0m                                 Traceback (most recent call last)",
      "Cell \u001b[0;32mIn[16], line 1\u001b[0m\n\u001b[0;32m----> 1\u001b[0m set1[\u001b[38;5;241m0\u001b[39m]\n",
      "\u001b[0;31mTypeError\u001b[0m: 'set' object is not subscriptable"
     ]
    }
   ],
   "source": [
    "set1[0]"
   ]
  },
  {
   "cell_type": "code",
   "execution_count": 18,
   "id": "c4a81875-59b3-4053-a2b2-691b1dfcb2ce",
   "metadata": {},
   "outputs": [
    {
     "ename": "TypeError",
     "evalue": "'set' object is not subscriptable",
     "output_type": "error",
     "traceback": [
      "\u001b[0;31m---------------------------------------------------------------------------\u001b[0m",
      "\u001b[0;31mTypeError\u001b[0m                                 Traceback (most recent call last)",
      "Cell \u001b[0;32mIn[18], line 1\u001b[0m\n\u001b[0;32m----> 1\u001b[0m set1[\u001b[38;5;241m0\u001b[39m:\u001b[38;5;241m3\u001b[39m]\n",
      "\u001b[0;31mTypeError\u001b[0m: 'set' object is not subscriptable"
     ]
    }
   ],
   "source": [
    "set1[0:3]"
   ]
  },
  {
   "cell_type": "code",
   "execution_count": null,
   "id": "4af2b8ae-3f82-41ee-b944-e79728ebbf27",
   "metadata": {},
   "outputs": [],
   "source": [
    "# set is unordered and unindexed"
   ]
  },
  {
   "cell_type": "markdown",
   "id": "9a19a217-14a0-433d-b89f-39ed00f6e592",
   "metadata": {},
   "source": [
    "#### Duplicated"
   ]
  },
  {
   "cell_type": "code",
   "execution_count": 21,
   "id": "71a9e618-d8e3-4ea8-af29-03da2c8c8dff",
   "metadata": {},
   "outputs": [],
   "source": [
    "set3 = {1,2,2,3,4,5,5}"
   ]
  },
  {
   "cell_type": "code",
   "execution_count": 23,
   "id": "e92cb1ad-5a59-4c62-9ce3-3e8c00bef3f1",
   "metadata": {},
   "outputs": [
    {
     "data": {
      "text/plain": [
       "{1, 2, 3, 4, 5}"
      ]
     },
     "execution_count": 23,
     "metadata": {},
     "output_type": "execute_result"
    }
   ],
   "source": [
    "set3"
   ]
  },
  {
   "cell_type": "code",
   "execution_count": null,
   "id": "c1f719be-eea7-4e51-84ca-e75aca0f7130",
   "metadata": {},
   "outputs": [],
   "source": [
    "# set is unduplicated"
   ]
  },
  {
   "cell_type": "code",
   "execution_count": 77,
   "id": "ca87e53c-174a-46c2-932c-d7529c1ff826",
   "metadata": {},
   "outputs": [],
   "source": [
    "set1 = {1, 2, 3, 4, 5}"
   ]
  },
  {
   "cell_type": "code",
   "execution_count": 79,
   "id": "60265723-987e-4da9-b25f-5198478aa408",
   "metadata": {},
   "outputs": [],
   "source": [
    "set4 = {2,4,5,6,7,8}\n",
    "\n"
   ]
  },
  {
   "cell_type": "code",
   "execution_count": 81,
   "id": "54da21d8-5536-44d7-9d01-b66c73e7fce5",
   "metadata": {},
   "outputs": [],
   "source": [
    "set5 = {3,6,7,1,5}"
   ]
  },
  {
   "cell_type": "code",
   "execution_count": 83,
   "id": "d7590900-6522-49a6-9db7-106ae3a0d6e3",
   "metadata": {},
   "outputs": [
    {
     "data": {
      "text/plain": [
       "{2, 4, 5}"
      ]
     },
     "execution_count": 83,
     "metadata": {},
     "output_type": "execute_result"
    }
   ],
   "source": [
    "set1.intersection(set4)"
   ]
  },
  {
   "cell_type": "code",
   "execution_count": 85,
   "id": "afe02c15-cebb-4ac9-9a22-85319cdb4bcc",
   "metadata": {},
   "outputs": [
    {
     "data": {
      "text/plain": [
       "{5, 6, 7}"
      ]
     },
     "execution_count": 85,
     "metadata": {},
     "output_type": "execute_result"
    }
   ],
   "source": [
    "set4.intersection(set5)"
   ]
  },
  {
   "cell_type": "code",
   "execution_count": 87,
   "id": "a2213c91-1788-4936-abf3-b5ca2a030b69",
   "metadata": {},
   "outputs": [],
   "source": [
    "set1.intersection_update(set4)"
   ]
  },
  {
   "cell_type": "code",
   "execution_count": 89,
   "id": "5a1b7e47-e491-490f-86d8-e06ee81c6e0b",
   "metadata": {},
   "outputs": [
    {
     "data": {
      "text/plain": [
       "{2, 4, 5}"
      ]
     },
     "execution_count": 89,
     "metadata": {},
     "output_type": "execute_result"
    }
   ],
   "source": [
    "set1"
   ]
  },
  {
   "cell_type": "code",
   "execution_count": 91,
   "id": "d712e378-581d-4d2d-9d08-2cdf6f0366b8",
   "metadata": {},
   "outputs": [],
   "source": [
    "set4.intersection_update(set5)"
   ]
  },
  {
   "cell_type": "code",
   "execution_count": 93,
   "id": "f7a9a21f-5431-457e-9e90-57d3375e7368",
   "metadata": {},
   "outputs": [
    {
     "data": {
      "text/plain": [
       "{5, 6, 7}"
      ]
     },
     "execution_count": 93,
     "metadata": {},
     "output_type": "execute_result"
    }
   ],
   "source": [
    "set4"
   ]
  },
  {
   "cell_type": "code",
   "execution_count": 95,
   "id": "899f59da-3bb7-48b4-bba1-45754661f6d4",
   "metadata": {},
   "outputs": [
    {
     "data": {
      "text/plain": [
       "{5}"
      ]
     },
     "execution_count": 95,
     "metadata": {},
     "output_type": "execute_result"
    }
   ],
   "source": [
    "set1.intersection(set5)"
   ]
  },
  {
   "cell_type": "code",
   "execution_count": 97,
   "id": "b8fa4c82-d068-417b-a29c-79872ec2d186",
   "metadata": {},
   "outputs": [],
   "source": [
    "set1.intersection_update(set5)          # This camparing with updated set"
   ]
  },
  {
   "cell_type": "code",
   "execution_count": 99,
   "id": "5c4a4a8d-0cec-42d9-9935-162dcbdf752e",
   "metadata": {},
   "outputs": [
    {
     "data": {
      "text/plain": [
       "{5}"
      ]
     },
     "execution_count": 99,
     "metadata": {},
     "output_type": "execute_result"
    }
   ],
   "source": [
    "set1     "
   ]
  },
  {
   "cell_type": "code",
   "execution_count": 101,
   "id": "8219bb2a-f316-41bc-8ed1-7780f709d5e4",
   "metadata": {},
   "outputs": [
    {
     "data": {
      "text/plain": [
       "{5, 6, 7}"
      ]
     },
     "execution_count": 101,
     "metadata": {},
     "output_type": "execute_result"
    }
   ],
   "source": [
    "set1.union(set4) "
   ]
  },
  {
   "cell_type": "code",
   "execution_count": 104,
   "id": "3034af06-d3d5-41e3-aef4-42c23dc7c950",
   "metadata": {},
   "outputs": [
    {
     "data": {
      "text/plain": [
       "{1, 3}"
      ]
     },
     "execution_count": 104,
     "metadata": {},
     "output_type": "execute_result"
    }
   ],
   "source": [
    "set5.difference(set4)"
   ]
  },
  {
   "cell_type": "code",
   "execution_count": 106,
   "id": "1615e995-584a-48eb-b9b1-c6d51870079a",
   "metadata": {},
   "outputs": [
    {
     "data": {
      "text/plain": [
       "{1, 3, 5, 6, 7}"
      ]
     },
     "execution_count": 106,
     "metadata": {},
     "output_type": "execute_result"
    }
   ],
   "source": [
    "set5"
   ]
  },
  {
   "cell_type": "code",
   "execution_count": 108,
   "id": "f46583c1-9b4f-4971-81ab-f53cde7b9c07",
   "metadata": {},
   "outputs": [],
   "source": [
    "set5.difference_update(set4)"
   ]
  },
  {
   "cell_type": "code",
   "execution_count": 110,
   "id": "36364cdf-4a50-4a32-b3ea-a85f27affe9b",
   "metadata": {},
   "outputs": [
    {
     "data": {
      "text/plain": [
       "{1, 3}"
      ]
     },
     "execution_count": 110,
     "metadata": {},
     "output_type": "execute_result"
    }
   ],
   "source": [
    "set5"
   ]
  },
  {
   "cell_type": "code",
   "execution_count": 112,
   "id": "2cc3867e-5f3c-49e9-b9ab-5e26cf070cab",
   "metadata": {},
   "outputs": [],
   "source": [
    "set6 = {1,2,3,4,5,6,7,8}"
   ]
  },
  {
   "cell_type": "code",
   "execution_count": 114,
   "id": "30d2d53c-d330-4802-8fa1-9b0246fab9db",
   "metadata": {},
   "outputs": [],
   "source": [
    "set6.remove(6)"
   ]
  },
  {
   "cell_type": "code",
   "execution_count": 116,
   "id": "52482163-682e-4ffa-9cbe-71cd46df3d2a",
   "metadata": {},
   "outputs": [
    {
     "data": {
      "text/plain": [
       "{1, 2, 3, 4, 5, 7, 8}"
      ]
     },
     "execution_count": 116,
     "metadata": {},
     "output_type": "execute_result"
    }
   ],
   "source": [
    "set6"
   ]
  },
  {
   "cell_type": "code",
   "execution_count": 118,
   "id": "a33078bf-7d60-42ab-a887-b1418c62d0c9",
   "metadata": {},
   "outputs": [
    {
     "ename": "KeyError",
     "evalue": "10",
     "output_type": "error",
     "traceback": [
      "\u001b[0;31m---------------------------------------------------------------------------\u001b[0m",
      "\u001b[0;31mKeyError\u001b[0m                                  Traceback (most recent call last)",
      "Cell \u001b[0;32mIn[118], line 1\u001b[0m\n\u001b[0;32m----> 1\u001b[0m set6\u001b[38;5;241m.\u001b[39mremove(\u001b[38;5;241m10\u001b[39m)\n",
      "\u001b[0;31mKeyError\u001b[0m: 10"
     ]
    }
   ],
   "source": [
    "set6.remove(10)"
   ]
  },
  {
   "cell_type": "code",
   "execution_count": 120,
   "id": "74b4d167-7b60-4a47-9ee0-26532573b1e2",
   "metadata": {},
   "outputs": [],
   "source": [
    "set6.discard(10)     # if element not in set it is not give any error"
   ]
  },
  {
   "cell_type": "code",
   "execution_count": 122,
   "id": "84cb1d55-a49c-4916-b2cf-372488a3ce8e",
   "metadata": {},
   "outputs": [],
   "source": [
    "set6.discard(5)"
   ]
  },
  {
   "cell_type": "code",
   "execution_count": 124,
   "id": "341efd1a-c15d-404f-8617-c6c12c741379",
   "metadata": {},
   "outputs": [
    {
     "data": {
      "text/plain": [
       "{1, 2, 3, 4, 7, 8}"
      ]
     },
     "execution_count": 124,
     "metadata": {},
     "output_type": "execute_result"
    }
   ],
   "source": [
    "set6"
   ]
  },
  {
   "cell_type": "code",
   "execution_count": 126,
   "id": "89bc62d7-0df9-4c86-80fe-ec1b538d7f9a",
   "metadata": {},
   "outputs": [
    {
     "ename": "TypeError",
     "evalue": "set.pop() takes no arguments (1 given)",
     "output_type": "error",
     "traceback": [
      "\u001b[0;31m---------------------------------------------------------------------------\u001b[0m",
      "\u001b[0;31mTypeError\u001b[0m                                 Traceback (most recent call last)",
      "Cell \u001b[0;32mIn[126], line 1\u001b[0m\n\u001b[0;32m----> 1\u001b[0m set6\u001b[38;5;241m.\u001b[39mpop(\u001b[38;5;241m0\u001b[39m)\n",
      "\u001b[0;31mTypeError\u001b[0m: set.pop() takes no arguments (1 given)"
     ]
    }
   ],
   "source": [
    "set6.pop(0)"
   ]
  },
  {
   "cell_type": "code",
   "execution_count": 128,
   "id": "d2b5cfab-3454-466e-9234-f703976469fd",
   "metadata": {},
   "outputs": [
    {
     "data": {
      "text/plain": [
       "1"
      ]
     },
     "execution_count": 128,
     "metadata": {},
     "output_type": "execute_result"
    }
   ],
   "source": [
    "set6.pop()"
   ]
  },
  {
   "cell_type": "code",
   "execution_count": 131,
   "id": "82512a22-be87-4478-87b0-53c783c91d82",
   "metadata": {},
   "outputs": [
    {
     "data": {
      "text/plain": [
       "2"
      ]
     },
     "execution_count": 131,
     "metadata": {},
     "output_type": "execute_result"
    }
   ],
   "source": [
    "set6.pop()"
   ]
  },
  {
   "cell_type": "code",
   "execution_count": 133,
   "id": "2e2e8d7e-98b6-4e9f-9237-b5d8a2d5d471",
   "metadata": {},
   "outputs": [
    {
     "data": {
      "text/plain": [
       "3"
      ]
     },
     "execution_count": 133,
     "metadata": {},
     "output_type": "execute_result"
    }
   ],
   "source": [
    "set6.pop()"
   ]
  },
  {
   "cell_type": "code",
   "execution_count": 137,
   "id": "e15960b1-7647-40c3-a39a-8ce51e2be149",
   "metadata": {},
   "outputs": [],
   "source": [
    "set6.clear()"
   ]
  },
  {
   "cell_type": "code",
   "execution_count": 139,
   "id": "70e97c0b-a37a-4118-b16b-0f7069c0a369",
   "metadata": {},
   "outputs": [
    {
     "data": {
      "text/plain": [
       "set()"
      ]
     },
     "execution_count": 139,
     "metadata": {},
     "output_type": "execute_result"
    }
   ],
   "source": [
    "set6"
   ]
  },
  {
   "cell_type": "markdown",
   "id": "6da4a520-e850-4fdd-b404-e466c3d1bdeb",
   "metadata": {},
   "source": [
    "### Dictionary"
   ]
  },
  {
   "cell_type": "code",
   "execution_count": 2,
   "id": "a13bd430-424c-4c2c-972e-55eb99c90b3a",
   "metadata": {},
   "outputs": [],
   "source": [
    "dict1 ={100:\"rajesh\",200:\"kumar\",300:\"nagesh\",400:\"sravan\"}"
   ]
  },
  {
   "cell_type": "code",
   "execution_count": 4,
   "id": "ea212bd9-d0e4-4393-a3a1-131888b3951f",
   "metadata": {},
   "outputs": [
    {
     "data": {
      "text/plain": [
       "dict"
      ]
     },
     "execution_count": 4,
     "metadata": {},
     "output_type": "execute_result"
    }
   ],
   "source": [
    "type(dict1)"
   ]
  },
  {
   "cell_type": "code",
   "execution_count": 6,
   "id": "edc20bd1-6ca4-4ce3-8dbc-0af2f572578f",
   "metadata": {},
   "outputs": [
    {
     "name": "stdout",
     "output_type": "stream",
     "text": [
      "{100: 'rajesh', 200: 'kumar', 300: 'nagesh', 400: 'sravan'}\n"
     ]
    }
   ],
   "source": [
    "print(dict1)"
   ]
  },
  {
   "cell_type": "code",
   "execution_count": 8,
   "id": "f6b4a5ed-f9c9-4672-831f-1b2b58524469",
   "metadata": {},
   "outputs": [
    {
     "data": {
      "text/plain": [
       "4"
      ]
     },
     "execution_count": 8,
     "metadata": {},
     "output_type": "execute_result"
    }
   ],
   "source": [
    "len(dict1)"
   ]
  },
  {
   "cell_type": "code",
   "execution_count": 10,
   "id": "5b93a3ab-720f-467f-8b31-321c080bbb6b",
   "metadata": {},
   "outputs": [
    {
     "data": {
      "text/plain": [
       "4399189312"
      ]
     },
     "execution_count": 10,
     "metadata": {},
     "output_type": "execute_result"
    }
   ],
   "source": [
    "id(dict1)"
   ]
  },
  {
   "cell_type": "code",
   "execution_count": 14,
   "id": "c1266b24-5124-4495-89d7-213b2882040a",
   "metadata": {},
   "outputs": [],
   "source": [
    "fruits = {\"apple\":40,\"banana\":50,\"mango\":60,\"orange\":50}"
   ]
  },
  {
   "cell_type": "code",
   "execution_count": 16,
   "id": "57e2afc6-c374-4985-9409-b024ba8e1035",
   "metadata": {},
   "outputs": [
    {
     "data": {
      "text/plain": [
       "dict"
      ]
     },
     "execution_count": 16,
     "metadata": {},
     "output_type": "execute_result"
    }
   ],
   "source": [
    "type(fruits)"
   ]
  },
  {
   "cell_type": "code",
   "execution_count": 18,
   "id": "aa9fef60-7f36-4d1c-8337-d1c519a834e5",
   "metadata": {},
   "outputs": [
    {
     "data": {
      "text/plain": [
       "4"
      ]
     },
     "execution_count": 18,
     "metadata": {},
     "output_type": "execute_result"
    }
   ],
   "source": [
    "len(fruits)"
   ]
  },
  {
   "cell_type": "code",
   "execution_count": 20,
   "id": "2a1b4f63-1ef0-4055-a7d1-34ea9e53a00f",
   "metadata": {},
   "outputs": [
    {
     "name": "stdout",
     "output_type": "stream",
     "text": [
      "{'apple': 40, 'banana': 50, 'mango': 60, 'orange': 50}\n"
     ]
    }
   ],
   "source": [
    "print(fruits)"
   ]
  },
  {
   "cell_type": "code",
   "execution_count": 22,
   "id": "92a29d4a-febf-4ed4-9c1c-8df5a3c8270e",
   "metadata": {},
   "outputs": [
    {
     "data": {
      "text/plain": [
       "5199067648"
      ]
     },
     "execution_count": 22,
     "metadata": {},
     "output_type": "execute_result"
    }
   ],
   "source": [
    "id(fruits)"
   ]
  },
  {
   "cell_type": "markdown",
   "id": "236ccc3a-f789-4ada-be0d-0e548f30b75c",
   "metadata": {},
   "source": [
    "### Characteristics of dictionary"
   ]
  },
  {
   "cell_type": "markdown",
   "id": "51b21fcd-251e-4270-9ae9-6d8e11d8b66c",
   "metadata": {},
   "source": [
    "#### Mutable "
   ]
  },
  {
   "cell_type": "code",
   "execution_count": 26,
   "id": "4355c4ed-5d17-48f1-b85a-67e54aae6779",
   "metadata": {},
   "outputs": [
    {
     "data": {
      "text/plain": [
       "{100: 'rajesh', 200: 'kumar', 300: 'nagesh', 400: 'sravan'}"
      ]
     },
     "execution_count": 26,
     "metadata": {},
     "output_type": "execute_result"
    }
   ],
   "source": [
    "dict1"
   ]
  },
  {
   "cell_type": "code",
   "execution_count": 28,
   "id": "6c315751-cf31-4bb9-b099-c0a41843405a",
   "metadata": {},
   "outputs": [
    {
     "data": {
      "text/plain": [
       "{'apple': 40, 'banana': 50, 'mango': 60, 'orange': 50}"
      ]
     },
     "execution_count": 28,
     "metadata": {},
     "output_type": "execute_result"
    }
   ],
   "source": [
    "fruits"
   ]
  },
  {
   "cell_type": "code",
   "execution_count": 33,
   "id": "64e8b7f5-74a2-467d-88c4-c99f150ec679",
   "metadata": {},
   "outputs": [],
   "source": [
    "fruits[\"guava\"]=40"
   ]
  },
  {
   "cell_type": "code",
   "execution_count": 35,
   "id": "f4828ea4-a3e5-492d-ada9-a5933685c4b2",
   "metadata": {},
   "outputs": [
    {
     "data": {
      "text/plain": [
       "{'apple': 40, 'banana': 50, 'mango': 60, 'orange': 50, 'guava': 40}"
      ]
     },
     "execution_count": 35,
     "metadata": {},
     "output_type": "execute_result"
    }
   ],
   "source": [
    "fruits"
   ]
  },
  {
   "cell_type": "code",
   "execution_count": null,
   "id": "3919b2f5-7ecb-4ca5-b29e-75c4afe4d892",
   "metadata": {},
   "outputs": [],
   "source": [
    "# Dictionary is mutable"
   ]
  },
  {
   "cell_type": "markdown",
   "id": "95dcdaaf-15b1-4a73-92f5-5b979649340d",
   "metadata": {},
   "source": [
    "#### Ordered and indexed"
   ]
  },
  {
   "cell_type": "code",
   "execution_count": 38,
   "id": "e6f72b93-a30a-44da-9f17-effa853e92c8",
   "metadata": {},
   "outputs": [
    {
     "data": {
      "text/plain": [
       "{'apple': 40, 'banana': 50, 'mango': 60, 'orange': 50, 'guava': 40}"
      ]
     },
     "execution_count": 38,
     "metadata": {},
     "output_type": "execute_result"
    }
   ],
   "source": [
    "fruits"
   ]
  },
  {
   "cell_type": "code",
   "execution_count": 40,
   "id": "6d2fa3e4-c117-4ba8-870e-4b95dacb7e5b",
   "metadata": {},
   "outputs": [
    {
     "ename": "KeyError",
     "evalue": "0",
     "output_type": "error",
     "traceback": [
      "\u001b[0;31m---------------------------------------------------------------------------\u001b[0m",
      "\u001b[0;31mKeyError\u001b[0m                                  Traceback (most recent call last)",
      "Cell \u001b[0;32mIn[40], line 1\u001b[0m\n\u001b[0;32m----> 1\u001b[0m fruits[\u001b[38;5;241m0\u001b[39m]\n",
      "\u001b[0;31mKeyError\u001b[0m: 0"
     ]
    }
   ],
   "source": [
    "fruits[0]"
   ]
  },
  {
   "cell_type": "code",
   "execution_count": 42,
   "id": "457bdf2e-c986-4659-8aa7-dcc4f3ac44ed",
   "metadata": {},
   "outputs": [
    {
     "ename": "KeyError",
     "evalue": "slice(0, 3, None)",
     "output_type": "error",
     "traceback": [
      "\u001b[0;31m---------------------------------------------------------------------------\u001b[0m",
      "\u001b[0;31mKeyError\u001b[0m                                  Traceback (most recent call last)",
      "Cell \u001b[0;32mIn[42], line 1\u001b[0m\n\u001b[0;32m----> 1\u001b[0m fruits[\u001b[38;5;241m0\u001b[39m:\u001b[38;5;241m3\u001b[39m]\n",
      "\u001b[0;31mKeyError\u001b[0m: slice(0, 3, None)"
     ]
    }
   ],
   "source": [
    "fruits[0:3]"
   ]
  },
  {
   "cell_type": "code",
   "execution_count": null,
   "id": "a580a100-55bc-4f32-a933-3e94534c587a",
   "metadata": {},
   "outputs": [],
   "source": [
    "# Dictionary is unordered and unindexed"
   ]
  },
  {
   "cell_type": "markdown",
   "id": "35b68249-e7dc-41c3-8bad-02b5138e5573",
   "metadata": {},
   "source": [
    "#### Duplicated"
   ]
  },
  {
   "cell_type": "code",
   "execution_count": 52,
   "id": "88c03dc1-5edd-4bbf-8bc0-e03b779b03bf",
   "metadata": {},
   "outputs": [
    {
     "data": {
      "text/plain": [
       "{'apple': 100, 'banana': 50, 'mango': 60, 'orange': 50, 'guava': 40}"
      ]
     },
     "execution_count": 52,
     "metadata": {},
     "output_type": "execute_result"
    }
   ],
   "source": [
    "fruits"
   ]
  },
  {
   "cell_type": "code",
   "execution_count": 54,
   "id": "ccacbdaa-081b-4fa7-a732-51844e5be58a",
   "metadata": {},
   "outputs": [],
   "source": [
    "fruits[\"apple\"]=100      # we can add new key:value keys not duplicated but value can be duplicated replace old value with new"
   ]
  },
  {
   "cell_type": "code",
   "execution_count": 56,
   "id": "c235227f-8220-48bb-a1aa-ebab1d8ce3bf",
   "metadata": {},
   "outputs": [
    {
     "data": {
      "text/plain": [
       "{'apple': 100, 'banana': 50, 'mango': 60, 'orange': 50, 'guava': 40}"
      ]
     },
     "execution_count": 56,
     "metadata": {},
     "output_type": "execute_result"
    }
   ],
   "source": [
    "fruits"
   ]
  },
  {
   "cell_type": "code",
   "execution_count": 58,
   "id": "66283237-d330-410e-848c-0404f93130ec",
   "metadata": {},
   "outputs": [],
   "source": [
    "# keys are not duplicated \n",
    "# value can be duplicated means old value replace with new value\n",
    "# but it is duplicated"
   ]
  },
  {
   "cell_type": "markdown",
   "id": "1edc44a2-7b44-4fe5-97db-d9167d374e31",
   "metadata": {},
   "source": [
    "## Methods"
   ]
  },
  {
   "cell_type": "code",
   "execution_count": 61,
   "id": "453bfc39-78b9-4845-bbc3-7d66c72b1c79",
   "metadata": {},
   "outputs": [
    {
     "data": {
      "text/plain": [
       "{'apple': 100, 'banana': 50, 'mango': 60, 'orange': 50, 'guava': 40}"
      ]
     },
     "execution_count": 61,
     "metadata": {},
     "output_type": "execute_result"
    }
   ],
   "source": [
    "fruits"
   ]
  },
  {
   "cell_type": "code",
   "execution_count": 63,
   "id": "1533adb0-4905-4ad5-9239-22d30ffc594a",
   "metadata": {},
   "outputs": [
    {
     "data": {
      "text/plain": [
       "dict_keys(['apple', 'banana', 'mango', 'orange', 'guava'])"
      ]
     },
     "execution_count": 63,
     "metadata": {},
     "output_type": "execute_result"
    }
   ],
   "source": [
    "fruits.keys()"
   ]
  },
  {
   "cell_type": "code",
   "execution_count": 65,
   "id": "0cb3ed05-93df-4edf-939e-ee1d161c3dbf",
   "metadata": {},
   "outputs": [
    {
     "data": {
      "text/plain": [
       "dict_values([100, 50, 60, 50, 40])"
      ]
     },
     "execution_count": 65,
     "metadata": {},
     "output_type": "execute_result"
    }
   ],
   "source": [
    "fruits.values()"
   ]
  },
  {
   "cell_type": "code",
   "execution_count": 67,
   "id": "b26fdab9-c6c7-4a04-80b3-e50f5dffdf30",
   "metadata": {},
   "outputs": [
    {
     "data": {
      "text/plain": [
       "dict_items([('apple', 100), ('banana', 50), ('mango', 60), ('orange', 50), ('guava', 40)])"
      ]
     },
     "execution_count": 67,
     "metadata": {},
     "output_type": "execute_result"
    }
   ],
   "source": [
    "fruits.items()"
   ]
  },
  {
   "cell_type": "code",
   "execution_count": 71,
   "id": "f12b7270-77f0-4568-9141-0c5137871c70",
   "metadata": {},
   "outputs": [
    {
     "data": {
      "text/plain": [
       "50"
      ]
     },
     "execution_count": 71,
     "metadata": {},
     "output_type": "execute_result"
    }
   ],
   "source": [
    "fruits.get(\"banana\")    # if i ask key it will give value"
   ]
  },
  {
   "cell_type": "code",
   "execution_count": 73,
   "id": "8ed0b382-771e-4bd3-8d7e-c7d321150077",
   "metadata": {},
   "outputs": [
    {
     "data": {
      "text/plain": [
       "{'apple': 150, 'banana': 150, 'mango': 150}"
      ]
     },
     "execution_count": 73,
     "metadata": {},
     "output_type": "execute_result"
    }
   ],
   "source": [
    "fruits.fromkeys([\"apple\",\"banana\",\"mango\"],150)   # Fixing the constant value"
   ]
  },
  {
   "cell_type": "code",
   "execution_count": 75,
   "id": "92667998-ff36-4c04-84cd-6e86618ef64b",
   "metadata": {},
   "outputs": [
    {
     "data": {
      "text/plain": [
       "{'apple': 100, 'banana': 50, 'mango': 60, 'orange': 50, 'guava': 40}"
      ]
     },
     "execution_count": 75,
     "metadata": {},
     "output_type": "execute_result"
    }
   ],
   "source": [
    "fruits"
   ]
  },
  {
   "cell_type": "code",
   "execution_count": 77,
   "id": "1a01eccc-d97d-4b3d-932f-06f94f4272d8",
   "metadata": {},
   "outputs": [
    {
     "data": {
      "text/plain": [
       "50"
      ]
     },
     "execution_count": 77,
     "metadata": {},
     "output_type": "execute_result"
    }
   ],
   "source": [
    "fruits.pop(\"orange\")"
   ]
  },
  {
   "cell_type": "code",
   "execution_count": 79,
   "id": "3b9fa114-cd0e-4095-b38e-b05da7202f93",
   "metadata": {},
   "outputs": [
    {
     "data": {
      "text/plain": [
       "{'apple': 100, 'banana': 50, 'mango': 60, 'guava': 40}"
      ]
     },
     "execution_count": 79,
     "metadata": {},
     "output_type": "execute_result"
    }
   ],
   "source": [
    "fruits"
   ]
  },
  {
   "cell_type": "code",
   "execution_count": 83,
   "id": "fb95eba3-41ba-42e4-bef5-dfbe0c45df96",
   "metadata": {},
   "outputs": [
    {
     "data": {
      "text/plain": [
       "('guava', 40)"
      ]
     },
     "execution_count": 83,
     "metadata": {},
     "output_type": "execute_result"
    }
   ],
   "source": [
    "fruits.popitem()   # its will remove last  key:value pair"
   ]
  },
  {
   "cell_type": "code",
   "execution_count": 85,
   "id": "0a78ddba-3a07-4354-b078-e07d9f52823f",
   "metadata": {},
   "outputs": [
    {
     "data": {
      "text/plain": [
       "{'apple': 100, 'banana': 50, 'mango': 60}"
      ]
     },
     "execution_count": 85,
     "metadata": {},
     "output_type": "execute_result"
    }
   ],
   "source": [
    "fruits"
   ]
  },
  {
   "cell_type": "code",
   "execution_count": 87,
   "id": "6b6be912-f46c-4bb7-9e83-dfb729e0e3ee",
   "metadata": {},
   "outputs": [],
   "source": [
    "fruits.clear()"
   ]
  },
  {
   "cell_type": "code",
   "execution_count": 89,
   "id": "96ac0382-9aeb-48ac-8027-1e6502914cff",
   "metadata": {},
   "outputs": [
    {
     "data": {
      "text/plain": [
       "{}"
      ]
     },
     "execution_count": 89,
     "metadata": {},
     "output_type": "execute_result"
    }
   ],
   "source": [
    "fruits"
   ]
  },
  {
   "cell_type": "code",
   "execution_count": 91,
   "id": "79781d8a-2ba6-40b7-a739-e698841d3d0b",
   "metadata": {},
   "outputs": [],
   "source": [
    "mix = {\"apple\":100,\"mango\":20,\"banana\":30,\"tomato\":150,\"onion\":40}"
   ]
  },
  {
   "cell_type": "code",
   "execution_count": 93,
   "id": "9547ae58-4c03-4c4c-8e66-cc00e0e85967",
   "metadata": {},
   "outputs": [
    {
     "data": {
      "text/plain": [
       "{'apple': 100, 'mango': 20, 'banana': 30, 'tomato': 150, 'onion': 40}"
      ]
     },
     "execution_count": 93,
     "metadata": {},
     "output_type": "execute_result"
    }
   ],
   "source": [
    "mix"
   ]
  },
  {
   "cell_type": "code",
   "execution_count": 97,
   "id": "814e7b62-8dd9-4d27-b1c6-4cdf8a677c7d",
   "metadata": {},
   "outputs": [
    {
     "data": {
      "text/plain": [
       "40"
      ]
     },
     "execution_count": 97,
     "metadata": {},
     "output_type": "execute_result"
    }
   ],
   "source": [
    "mix.setdefault(\"grapes\",40)     # add new key:value pair "
   ]
  },
  {
   "cell_type": "code",
   "execution_count": 99,
   "id": "6f30470a-fd1b-4491-b3ba-464247304d2d",
   "metadata": {},
   "outputs": [
    {
     "data": {
      "text/plain": [
       "{'apple': 100,\n",
       " 'mango': 20,\n",
       " 'banana': 30,\n",
       " 'tomato': 150,\n",
       " 'onion': 40,\n",
       " 'grapes': 40}"
      ]
     },
     "execution_count": 99,
     "metadata": {},
     "output_type": "execute_result"
    }
   ],
   "source": [
    "mix"
   ]
  },
  {
   "cell_type": "markdown",
   "id": "1b0db665-b2d4-4e08-aefb-eae084a98015",
   "metadata": {},
   "source": [
    "### Empty Collection Data Types"
   ]
  },
  {
   "cell_type": "raw",
   "id": "259dabed-4ba6-4255-b0c1-0cc3507a8d8d",
   "metadata": {},
   "source": [
    "list - []\n",
    "tuple - ()\n",
    "est -  set()\n",
    "dict - {}"
   ]
  }
 ],
 "metadata": {
  "kernelspec": {
   "display_name": "Python [conda env:base] *",
   "language": "python",
   "name": "conda-base-py"
  },
  "language_info": {
   "codemirror_mode": {
    "name": "ipython",
    "version": 3
   },
   "file_extension": ".py",
   "mimetype": "text/x-python",
   "name": "python",
   "nbconvert_exporter": "python",
   "pygments_lexer": "ipython3",
   "version": "3.12.7"
  }
 },
 "nbformat": 4,
 "nbformat_minor": 5
}
