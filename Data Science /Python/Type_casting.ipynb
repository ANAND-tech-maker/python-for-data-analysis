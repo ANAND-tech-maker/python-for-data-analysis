{
 "cells": [
  {
   "cell_type": "markdown",
   "id": "a81c9ce0-e386-4ba8-a6b2-56e3d3b3e19c",
   "metadata": {},
   "source": [
    "# Type Casting - Changing one data type to other data type"
   ]
  },
  {
   "cell_type": "markdown",
   "id": "2d197cf4-7f7b-447b-abe6-2180dc8b2f57",
   "metadata": {},
   "source": [
    "## Integer to other data type"
   ]
  },
  {
   "cell_type": "code",
   "execution_count": 3,
   "id": "9711ee07-3d21-42f7-b3bd-86c07b1c3cf6",
   "metadata": {},
   "outputs": [],
   "source": [
    "num = 123456796"
   ]
  },
  {
   "cell_type": "code",
   "execution_count": 5,
   "id": "f994773f-50f9-4d75-8dd1-9b2994f93137",
   "metadata": {},
   "outputs": [
    {
     "data": {
      "text/plain": [
       "int"
      ]
     },
     "execution_count": 5,
     "metadata": {},
     "output_type": "execute_result"
    }
   ],
   "source": [
    "type(num)"
   ]
  },
  {
   "cell_type": "raw",
   "id": "d6735b49-b564-4ab1-8fd1-bf1603794444",
   "metadata": {},
   "source": [
    "Integer  - int\n",
    "Float    - float\n",
    "String   - str\n",
    "Boolean  - bool"
   ]
  },
  {
   "cell_type": "code",
   "execution_count": 7,
   "id": "c1504775-1435-4151-83d5-b7b98ec6bf79",
   "metadata": {},
   "outputs": [],
   "source": [
    "num_str = str(num)            # int to str"
   ]
  },
  {
   "cell_type": "code",
   "execution_count": 9,
   "id": "ce6d753f-d5e6-418d-b1a0-e6448d9dad57",
   "metadata": {},
   "outputs": [
    {
     "data": {
      "text/plain": [
       "'123456796'"
      ]
     },
     "execution_count": 9,
     "metadata": {},
     "output_type": "execute_result"
    }
   ],
   "source": [
    "num_str"
   ]
  },
  {
   "cell_type": "code",
   "execution_count": 11,
   "id": "e5e2bc22-9565-4161-863d-48e1841e722c",
   "metadata": {},
   "outputs": [
    {
     "data": {
      "text/plain": [
       "str"
      ]
     },
     "execution_count": 11,
     "metadata": {},
     "output_type": "execute_result"
    }
   ],
   "source": [
    "type(num_str)"
   ]
  },
  {
   "cell_type": "code",
   "execution_count": 13,
   "id": "3c89f075-be33-425e-a87e-cce979db7b0a",
   "metadata": {},
   "outputs": [],
   "source": [
    "num_float = float(num)         # int to float"
   ]
  },
  {
   "cell_type": "code",
   "execution_count": 15,
   "id": "176c1bb3-d7f8-4008-9037-ced00357632b",
   "metadata": {},
   "outputs": [
    {
     "data": {
      "text/plain": [
       "123456796.0"
      ]
     },
     "execution_count": 15,
     "metadata": {},
     "output_type": "execute_result"
    }
   ],
   "source": [
    "num_float"
   ]
  },
  {
   "cell_type": "code",
   "execution_count": 17,
   "id": "6b37783b-0a15-4c54-ba1a-b97f5f4405cf",
   "metadata": {},
   "outputs": [
    {
     "data": {
      "text/plain": [
       "float"
      ]
     },
     "execution_count": 17,
     "metadata": {},
     "output_type": "execute_result"
    }
   ],
   "source": [
    "type(num_float)"
   ]
  },
  {
   "cell_type": "code",
   "execution_count": 19,
   "id": "b1670ef7-ed59-4637-8611-edfff2a2c1f7",
   "metadata": {},
   "outputs": [],
   "source": [
    "num_bool = bool(num)             # int to bool"
   ]
  },
  {
   "cell_type": "code",
   "execution_count": 21,
   "id": "9f6171eb-e907-434a-a567-c6bf1f9e741e",
   "metadata": {},
   "outputs": [
    {
     "data": {
      "text/plain": [
       "True"
      ]
     },
     "execution_count": 21,
     "metadata": {},
     "output_type": "execute_result"
    }
   ],
   "source": [
    "num_bool"
   ]
  },
  {
   "cell_type": "code",
   "execution_count": 23,
   "id": "3f64d139-30ed-4a2f-8766-4926ed4597a5",
   "metadata": {},
   "outputs": [],
   "source": [
    "num_complex = complex(num)       # int to complex "
   ]
  },
  {
   "cell_type": "code",
   "execution_count": 25,
   "id": "6b2979bb-3693-4919-aec8-9cdbc1bc2614",
   "metadata": {},
   "outputs": [
    {
     "data": {
      "text/plain": [
       "(123456796+0j)"
      ]
     },
     "execution_count": 25,
     "metadata": {},
     "output_type": "execute_result"
    }
   ],
   "source": [
    "num_complex"
   ]
  },
  {
   "cell_type": "code",
   "execution_count": 27,
   "id": "3fdee762-edbd-4db7-a080-398463ceed0b",
   "metadata": {},
   "outputs": [
    {
     "data": {
      "text/plain": [
       "complex"
      ]
     },
     "execution_count": 27,
     "metadata": {},
     "output_type": "execute_result"
    }
   ],
   "source": [
    "type(num_complex)"
   ]
  },
  {
   "cell_type": "markdown",
   "id": "821805d3-937d-4fe0-8623-5c69916dc87b",
   "metadata": {},
   "source": [
    "## String to others"
   ]
  },
  {
   "cell_type": "code",
   "execution_count": 3,
   "id": "d4cf0477-238f-42e3-ac91-968044883a08",
   "metadata": {},
   "outputs": [],
   "source": [
    "s = \"Python\""
   ]
  },
  {
   "cell_type": "code",
   "execution_count": 5,
   "id": "3224f6b8-a5e4-4abb-85e0-63b7fbd7707a",
   "metadata": {},
   "outputs": [
    {
     "ename": "ValueError",
     "evalue": "invalid literal for int() with base 10: 'Python'",
     "output_type": "error",
     "traceback": [
      "\u001b[0;31m---------------------------------------------------------------------------\u001b[0m",
      "\u001b[0;31mValueError\u001b[0m                                Traceback (most recent call last)",
      "Cell \u001b[0;32mIn[5], line 1\u001b[0m\n\u001b[0;32m----> 1\u001b[0m s_int \u001b[38;5;241m=\u001b[39m \u001b[38;5;28mint\u001b[39m(s)\n",
      "\u001b[0;31mValueError\u001b[0m: invalid literal for int() with base 10: 'Python'"
     ]
    }
   ],
   "source": [
    "s_int = int(s)"
   ]
  },
  {
   "cell_type": "code",
   "execution_count": 7,
   "id": "dcf4dcd4-4d59-4096-a215-1c83631294c4",
   "metadata": {},
   "outputs": [
    {
     "ename": "ValueError",
     "evalue": "could not convert string to float: 'Python'",
     "output_type": "error",
     "traceback": [
      "\u001b[0;31m---------------------------------------------------------------------------\u001b[0m",
      "\u001b[0;31mValueError\u001b[0m                                Traceback (most recent call last)",
      "Cell \u001b[0;32mIn[7], line 1\u001b[0m\n\u001b[0;32m----> 1\u001b[0m s_float \u001b[38;5;241m=\u001b[39m \u001b[38;5;28mfloat\u001b[39m(s)\n",
      "\u001b[0;31mValueError\u001b[0m: could not convert string to float: 'Python'"
     ]
    }
   ],
   "source": [
    "s_float = float(s)"
   ]
  },
  {
   "cell_type": "code",
   "execution_count": 13,
   "id": "8cdedae0-ee8c-4c05-9c4a-3e763d025ef2",
   "metadata": {},
   "outputs": [
    {
     "ename": "ValueError",
     "evalue": "complex() arg is a malformed string",
     "output_type": "error",
     "traceback": [
      "\u001b[0;31m---------------------------------------------------------------------------\u001b[0m",
      "\u001b[0;31mValueError\u001b[0m                                Traceback (most recent call last)",
      "Cell \u001b[0;32mIn[13], line 1\u001b[0m\n\u001b[0;32m----> 1\u001b[0m s_complex \u001b[38;5;241m=\u001b[39m \u001b[38;5;28mcomplex\u001b[39m(s)\n",
      "\u001b[0;31mValueError\u001b[0m: complex() arg is a malformed string"
     ]
    }
   ],
   "source": [
    "s_complex = complex(s)"
   ]
  },
  {
   "cell_type": "code",
   "execution_count": 15,
   "id": "c052f5ec-4f2a-473f-8d3e-6ace2e2eaa94",
   "metadata": {},
   "outputs": [],
   "source": [
    "s_bool = bool(s)"
   ]
  },
  {
   "cell_type": "code",
   "execution_count": 17,
   "id": "019500ba-cc30-40f1-8b42-2ff0ab27e02c",
   "metadata": {},
   "outputs": [
    {
     "data": {
      "text/plain": [
       "True"
      ]
     },
     "execution_count": 17,
     "metadata": {},
     "output_type": "execute_result"
    }
   ],
   "source": [
    "s_bool"
   ]
  },
  {
   "cell_type": "markdown",
   "id": "578e5e37-f0a7-45ef-9636-2c1c8120c575",
   "metadata": {},
   "source": [
    "## list to others"
   ]
  },
  {
   "cell_type": "code",
   "execution_count": 20,
   "id": "eb7e1fdc-c0fc-46e5-ae07-12d13ee94421",
   "metadata": {},
   "outputs": [],
   "source": [
    "list1 = [1,2,3,5]"
   ]
  },
  {
   "cell_type": "code",
   "execution_count": 24,
   "id": "17e39ed5-7c50-42d2-806e-775eb6e66476",
   "metadata": {},
   "outputs": [
    {
     "data": {
      "text/plain": [
       "list"
      ]
     },
     "execution_count": 24,
     "metadata": {},
     "output_type": "execute_result"
    }
   ],
   "source": [
    "type(list1)"
   ]
  },
  {
   "cell_type": "code",
   "execution_count": 28,
   "id": "f0d31db5-b091-4ceb-8c29-9b5be217f55f",
   "metadata": {},
   "outputs": [],
   "source": [
    "tuple_values = tuple(list1)"
   ]
  },
  {
   "cell_type": "code",
   "execution_count": 30,
   "id": "9bb11a14-370b-4587-a64f-b6f9b28188bc",
   "metadata": {},
   "outputs": [
    {
     "data": {
      "text/plain": [
       "tuple"
      ]
     },
     "execution_count": 30,
     "metadata": {},
     "output_type": "execute_result"
    }
   ],
   "source": [
    "type(tuple_values)"
   ]
  },
  {
   "cell_type": "code",
   "execution_count": 32,
   "id": "744fd0e5-dd18-46fd-a427-97f32cae8794",
   "metadata": {},
   "outputs": [
    {
     "data": {
      "text/plain": [
       "(1, 2, 3, 5)"
      ]
     },
     "execution_count": 32,
     "metadata": {},
     "output_type": "execute_result"
    }
   ],
   "source": [
    "tuple_values"
   ]
  },
  {
   "cell_type": "code",
   "execution_count": 38,
   "id": "a7547458-8485-439f-abf1-e5b01d3c01c1",
   "metadata": {},
   "outputs": [],
   "source": [
    "set_values = set(list1)"
   ]
  },
  {
   "cell_type": "code",
   "execution_count": 40,
   "id": "f1771498-a1c9-4aa8-a720-b36e1254dbe3",
   "metadata": {},
   "outputs": [
    {
     "data": {
      "text/plain": [
       "{1, 2, 3, 5}"
      ]
     },
     "execution_count": 40,
     "metadata": {},
     "output_type": "execute_result"
    }
   ],
   "source": [
    "set_value"
   ]
  },
  {
   "cell_type": "markdown",
   "id": "c6c3fec3-29c1-411b-88f6-c551c041a099",
   "metadata": {},
   "source": [
    "## Tuple to others"
   ]
  },
  {
   "cell_type": "code",
   "execution_count": 43,
   "id": "51132136-a074-4fcc-ae82-5f9e71e8870c",
   "metadata": {},
   "outputs": [],
   "source": [
    "tup = (\"hello\",\"hai\",\"hello\",\"bye\")"
   ]
  },
  {
   "cell_type": "code",
   "execution_count": 45,
   "id": "28a82fc9-5a39-43a4-8e69-edd09277dc44",
   "metadata": {},
   "outputs": [
    {
     "data": {
      "text/plain": [
       "tuple"
      ]
     },
     "execution_count": 45,
     "metadata": {},
     "output_type": "execute_result"
    }
   ],
   "source": [
    "type(tup)"
   ]
  },
  {
   "cell_type": "code",
   "execution_count": 47,
   "id": "0bc424ee-9edb-4bcf-ae89-1f7092bdb39a",
   "metadata": {},
   "outputs": [],
   "source": [
    "list_val = list(tup)"
   ]
  },
  {
   "cell_type": "code",
   "execution_count": 49,
   "id": "d2f6522c-fd76-489b-9e71-41903c2cb73c",
   "metadata": {},
   "outputs": [
    {
     "data": {
      "text/plain": [
       "['hello', 'hai', 'hello', 'bye']"
      ]
     },
     "execution_count": 49,
     "metadata": {},
     "output_type": "execute_result"
    }
   ],
   "source": [
    "list_val"
   ]
  },
  {
   "cell_type": "code",
   "execution_count": 51,
   "id": "924a0584-6a94-4be4-a9d7-dab8437a9b18",
   "metadata": {},
   "outputs": [
    {
     "data": {
      "text/plain": [
       "list"
      ]
     },
     "execution_count": 51,
     "metadata": {},
     "output_type": "execute_result"
    }
   ],
   "source": [
    "type(list_val)"
   ]
  },
  {
   "cell_type": "code",
   "execution_count": 53,
   "id": "47631eda-fcae-40cb-8c61-f2da4ef07d33",
   "metadata": {},
   "outputs": [],
   "source": [
    "set_v = set(tup)"
   ]
  },
  {
   "cell_type": "code",
   "execution_count": 55,
   "id": "2e1f665d-9fcb-4750-adba-694e1d819a49",
   "metadata": {},
   "outputs": [
    {
     "data": {
      "text/plain": [
       "{'bye', 'hai', 'hello'}"
      ]
     },
     "execution_count": 55,
     "metadata": {},
     "output_type": "execute_result"
    }
   ],
   "source": [
    "set_v"
   ]
  },
  {
   "cell_type": "code",
   "execution_count": 57,
   "id": "941b7e32-98c3-47f7-9574-4a77e489b172",
   "metadata": {},
   "outputs": [
    {
     "data": {
      "text/plain": [
       "set"
      ]
     },
     "execution_count": 57,
     "metadata": {},
     "output_type": "execute_result"
    }
   ],
   "source": [
    "type(set_v)"
   ]
  },
  {
   "cell_type": "markdown",
   "id": "a80a0a85-dbb9-4414-8a9c-9b572564a34b",
   "metadata": {},
   "source": [
    "### class challenges"
   ]
  },
  {
   "cell_type": "code",
   "execution_count": 59,
   "id": "750ceda7-329d-4f2e-a7c0-e47b917c94f7",
   "metadata": {},
   "outputs": [],
   "source": [
    "# 1\n",
    "fruits = [\"apple\",\"banana\",\"orange\",\"mango\"]"
   ]
  },
  {
   "cell_type": "code",
   "execution_count": 63,
   "id": "134afde7-7b78-4075-a978-aec6ef9c5e26",
   "metadata": {},
   "outputs": [],
   "source": [
    "# 2\n",
    "fruits.extend([\"grapes\",\"grapes\",\"grapes\"])"
   ]
  },
  {
   "cell_type": "code",
   "execution_count": 65,
   "id": "6c28a38e-6144-4443-a96d-fc968ca39d18",
   "metadata": {},
   "outputs": [
    {
     "data": {
      "text/plain": [
       "['apple', 'banana', 'orange', 'mango', 'grapes', 'grapes', 'grapes']"
      ]
     },
     "execution_count": 65,
     "metadata": {},
     "output_type": "execute_result"
    }
   ],
   "source": [
    "fruits"
   ]
  },
  {
   "cell_type": "code",
   "execution_count": 67,
   "id": "a743a99e-91e2-4c83-9e9b-08d719f4784c",
   "metadata": {},
   "outputs": [
    {
     "data": {
      "text/plain": [
       "'grapes'"
      ]
     },
     "execution_count": 67,
     "metadata": {},
     "output_type": "execute_result"
    }
   ],
   "source": [
    "# 3\n",
    "fruits.pop()"
   ]
  },
  {
   "cell_type": "code",
   "execution_count": 69,
   "id": "6ea6fac2-6475-4fd9-8b6f-672ed52a3c0c",
   "metadata": {},
   "outputs": [
    {
     "data": {
      "text/plain": [
       "'grapes'"
      ]
     },
     "execution_count": 69,
     "metadata": {},
     "output_type": "execute_result"
    }
   ],
   "source": [
    "fruits.pop()"
   ]
  },
  {
   "cell_type": "code",
   "execution_count": 71,
   "id": "d95fce38-73a9-4f62-88bf-0dba03b54f14",
   "metadata": {},
   "outputs": [
    {
     "data": {
      "text/plain": [
       "['apple', 'banana', 'orange', 'mango', 'grapes']"
      ]
     },
     "execution_count": 71,
     "metadata": {},
     "output_type": "execute_result"
    }
   ],
   "source": [
    "fruits"
   ]
  },
  {
   "cell_type": "code",
   "execution_count": 84,
   "id": "fa2c58e6-8838-4280-a56f-1d4ea699e137",
   "metadata": {},
   "outputs": [],
   "source": [
    "fruits_set = list(set(fruits))"
   ]
  },
  {
   "cell_type": "code",
   "execution_count": 86,
   "id": "5cdd4f02-30e9-4352-839a-8fd755237bde",
   "metadata": {},
   "outputs": [
    {
     "data": {
      "text/plain": [
       "['orange', 'grapes', 'apple', 'banana', 'mango']"
      ]
     },
     "execution_count": 86,
     "metadata": {},
     "output_type": "execute_result"
    }
   ],
   "source": [
    "fruits_set"
   ]
  },
  {
   "cell_type": "code",
   "execution_count": null,
   "id": "52c1ca62-4b56-46d4-a35b-e076d351a268",
   "metadata": {},
   "outputs": [],
   "source": []
  }
 ],
 "metadata": {
  "kernelspec": {
   "display_name": "Python [conda env:base] *",
   "language": "python",
   "name": "conda-base-py"
  },
  "language_info": {
   "codemirror_mode": {
    "name": "ipython",
    "version": 3
   },
   "file_extension": ".py",
   "mimetype": "text/x-python",
   "name": "python",
   "nbconvert_exporter": "python",
   "pygments_lexer": "ipython3",
   "version": "3.12.7"
  }
 },
 "nbformat": 4,
 "nbformat_minor": 5
}
