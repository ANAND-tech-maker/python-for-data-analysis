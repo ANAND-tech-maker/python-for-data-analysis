{
 "cells": [
  {
   "cell_type": "markdown",
   "id": "6a8624c5-c940-4cdf-b17b-e40056739921",
   "metadata": {},
   "source": [
    "# INDEXING AND SLICING"
   ]
  },
  {
   "cell_type": "code",
   "execution_count": 3,
   "id": "9d4442d9-6b6a-4f44-bf7b-3341349a926e",
   "metadata": {},
   "outputs": [],
   "source": [
    "name = \"PYTHON PROGRAMMING\""
   ]
  },
  {
   "cell_type": "code",
   "execution_count": 4,
   "id": "c67d09fa-d6f3-440d-9b11-94a0450c2158",
   "metadata": {},
   "outputs": [
    {
     "data": {
      "text/plain": [
       "'PYTHON'"
      ]
     },
     "execution_count": 4,
     "metadata": {},
     "output_type": "execute_result"
    }
   ],
   "source": [
    "name[0:6]    # 6-1=5 # 0,1,2,3,4,5           # [STAR:STOP\\END:STEP]"
   ]
  },
  {
   "cell_type": "code",
   "execution_count": 6,
   "id": "1e08193e-d2c2-4e46-acde-2f01c6826883",
   "metadata": {},
   "outputs": [
    {
     "data": {
      "text/plain": [
       "'PYTH'"
      ]
     },
     "execution_count": 6,
     "metadata": {},
     "output_type": "execute_result"
    }
   ],
   "source": [
    "name[0:4]    # 4-1=3 # 0,1,2,3"
   ]
  },
  {
   "cell_type": "code",
   "execution_count": 8,
   "id": "dfdc8721-d7fc-4d94-88a3-3c8fcdb8e125",
   "metadata": {},
   "outputs": [
    {
     "data": {
      "text/plain": [
       "'TH'"
      ]
     },
     "execution_count": 8,
     "metadata": {},
     "output_type": "execute_result"
    }
   ],
   "source": [
    "name[2:4]   # 4-1=3  # 2,3"
   ]
  },
  {
   "cell_type": "code",
   "execution_count": 10,
   "id": "2eb3bed7-84a0-4b3f-b662-b4b91a77fa3a",
   "metadata": {},
   "outputs": [
    {
     "data": {
      "text/plain": [
       "'THON'"
      ]
     },
     "execution_count": 10,
     "metadata": {},
     "output_type": "execute_result"
    }
   ],
   "source": [
    "name[2:6]   # 6-1=5  # 2,3,4,5"
   ]
  },
  {
   "cell_type": "code",
   "execution_count": 14,
   "id": "a39d84ce-4336-44fe-a7ca-6ae52edb2e57",
   "metadata": {},
   "outputs": [
    {
     "data": {
      "text/plain": [
       "'P'"
      ]
     },
     "execution_count": 14,
     "metadata": {},
     "output_type": "execute_result"
    }
   ],
   "source": [
    "name[0:1]   #1-1=0  # 0"
   ]
  },
  {
   "cell_type": "code",
   "execution_count": 16,
   "id": "b52ddd73-0a6c-44db-a35e-7897f02f396f",
   "metadata": {},
   "outputs": [
    {
     "data": {
      "text/plain": [
       "'T'"
      ]
     },
     "execution_count": 16,
     "metadata": {},
     "output_type": "execute_result"
    }
   ],
   "source": [
    "name[2:3]"
   ]
  },
  {
   "cell_type": "code",
   "execution_count": 20,
   "id": "86899da3-773f-4628-8aae-b3b367afd563",
   "metadata": {},
   "outputs": [
    {
     "data": {
      "text/plain": [
       "range(0, 10)"
      ]
     },
     "execution_count": 20,
     "metadata": {},
     "output_type": "execute_result"
    }
   ],
   "source": [
    "range(10)"
   ]
  },
  {
   "cell_type": "code",
   "execution_count": 22,
   "id": "e18ba24e-1557-4f85-8f83-e5c377f7e438",
   "metadata": {},
   "outputs": [
    {
     "data": {
      "text/plain": [
       "[0, 1, 2, 3, 4, 5, 6, 7, 8, 9]"
      ]
     },
     "execution_count": 22,
     "metadata": {},
     "output_type": "execute_result"
    }
   ],
   "source": [
    "list(range(10))"
   ]
  },
  {
   "cell_type": "code",
   "execution_count": 24,
   "id": "f4e424d7-b392-43d5-a5f9-3ac4f4c24174",
   "metadata": {},
   "outputs": [
    {
     "data": {
      "text/plain": [
       "[1, 2, 3, 4, 5, 6, 7, 8, 9]"
      ]
     },
     "execution_count": 24,
     "metadata": {},
     "output_type": "execute_result"
    }
   ],
   "source": [
    "list(range(1,10))"
   ]
  },
  {
   "cell_type": "code",
   "execution_count": 26,
   "id": "e7445767-93f1-4ecc-843a-2c1ac2ad74cc",
   "metadata": {},
   "outputs": [
    {
     "data": {
      "text/plain": [
       "[1, 3, 5, 7, 9]"
      ]
     },
     "execution_count": 26,
     "metadata": {},
     "output_type": "execute_result"
    }
   ],
   "source": [
    "list(range(1,10,2))"
   ]
  },
  {
   "cell_type": "code",
   "execution_count": 28,
   "id": "26d73e89-3c16-46b2-8a7a-5ba3af13bd0c",
   "metadata": {},
   "outputs": [
    {
     "data": {
      "text/plain": [
       "[]"
      ]
     },
     "execution_count": 28,
     "metadata": {},
     "output_type": "execute_result"
    }
   ],
   "source": [
    "list(range(10,1))"
   ]
  },
  {
   "cell_type": "code",
   "execution_count": 30,
   "id": "910b40c0-a116-4066-b6d9-4ffa1646735a",
   "metadata": {},
   "outputs": [
    {
     "data": {
      "text/plain": [
       "''"
      ]
     },
     "execution_count": 30,
     "metadata": {},
     "output_type": "execute_result"
    }
   ],
   "source": [
    "name[10:1]"
   ]
  },
  {
   "cell_type": "code",
   "execution_count": 32,
   "id": "a6a78952-fec7-4ea1-9b26-d32b919dcfb5",
   "metadata": {},
   "outputs": [
    {
     "data": {
      "text/plain": [
       "'MIN'"
      ]
     },
     "execution_count": 32,
     "metadata": {},
     "output_type": "execute_result"
    }
   ],
   "source": [
    "name[-4:-1]    # -1-1=-2"
   ]
  },
  {
   "cell_type": "code",
   "execution_count": 5,
   "id": "b3c1e60c-94ce-42f0-ba48-8cc916866188",
   "metadata": {},
   "outputs": [
    {
     "data": {
      "text/plain": [
       "'NOHTY'"
      ]
     },
     "execution_count": 5,
     "metadata": {},
     "output_type": "execute_result"
    }
   ],
   "source": [
    "name[5:0:-1]"
   ]
  },
  {
   "cell_type": "code",
   "execution_count": 10,
   "id": "a962e444-0d0c-4bc4-ad58-8e4f0f226f8c",
   "metadata": {},
   "outputs": [
    {
     "data": {
      "text/plain": [
       "'GORP '"
      ]
     },
     "execution_count": 10,
     "metadata": {},
     "output_type": "execute_result"
    }
   ],
   "source": [
    "name[10:5:-1]"
   ]
  },
  {
   "cell_type": "code",
   "execution_count": 12,
   "id": "657af302-f135-44ab-b9fe-079712600c07",
   "metadata": {},
   "outputs": [
    {
     "data": {
      "text/plain": [
       "'GORP NO'"
      ]
     },
     "execution_count": 12,
     "metadata": {},
     "output_type": "execute_result"
    }
   ],
   "source": [
    "name[10:3:-1]"
   ]
  },
  {
   "cell_type": "code",
   "execution_count": 17,
   "id": "1560680c-5e04-49b5-be05-f626d439a2a5",
   "metadata": {},
   "outputs": [
    {
     "data": {
      "text/plain": [
       "''"
      ]
     },
     "execution_count": 17,
     "metadata": {},
     "output_type": "execute_result"
    }
   ],
   "source": [
    "name[-1:-5]"
   ]
  },
  {
   "cell_type": "code",
   "execution_count": 21,
   "id": "3999df93-e847-4a81-8ccb-e532d99ed512",
   "metadata": {},
   "outputs": [
    {
     "data": {
      "text/plain": [
       "'GNIM'"
      ]
     },
     "execution_count": 21,
     "metadata": {},
     "output_type": "execute_result"
    }
   ],
   "source": [
    "name[-1:-5:-1]"
   ]
  },
  {
   "cell_type": "code",
   "execution_count": 23,
   "id": "182309bf-22e2-4b3f-90ef-3bd96509b65a",
   "metadata": {},
   "outputs": [
    {
     "data": {
      "text/plain": [
       "'GNIMMARGORP NOHTYP'"
      ]
     },
     "execution_count": 23,
     "metadata": {},
     "output_type": "execute_result"
    }
   ],
   "source": [
    "name[::-1]"
   ]
  },
  {
   "cell_type": "code",
   "execution_count": 25,
   "id": "6c025a06-250f-42e4-acde-ce9319f2def2",
   "metadata": {},
   "outputs": [
    {
     "data": {
      "text/plain": [
       "'PTO RGAMN'"
      ]
     },
     "execution_count": 25,
     "metadata": {},
     "output_type": "execute_result"
    }
   ],
   "source": [
    "name[0:20:2]"
   ]
  },
  {
   "cell_type": "code",
   "execution_count": 27,
   "id": "1cb737c7-e448-4440-a81d-f7f5eef5f1f3",
   "metadata": {},
   "outputs": [
    {
     "data": {
      "text/plain": [
       "'PH OAI'"
      ]
     },
     "execution_count": 27,
     "metadata": {},
     "output_type": "execute_result"
    }
   ],
   "source": [
    "name[0:20:3]"
   ]
  },
  {
   "cell_type": "code",
   "execution_count": 29,
   "id": "56fe29d7-9218-47c9-aff7-b2bdb2d139ce",
   "metadata": {},
   "outputs": [
    {
     "data": {
      "text/plain": [
       "'PYTHON PROGRAMMING'"
      ]
     },
     "execution_count": 29,
     "metadata": {},
     "output_type": "execute_result"
    }
   ],
   "source": [
    "name[0:]"
   ]
  },
  {
   "cell_type": "code",
   "execution_count": 31,
   "id": "15f67013-861b-4c6d-80a2-2804cea9fb81",
   "metadata": {},
   "outputs": [
    {
     "data": {
      "text/plain": [
       "'PYTHON PROGRAMMING'"
      ]
     },
     "execution_count": 31,
     "metadata": {},
     "output_type": "execute_result"
    }
   ],
   "source": [
    "name[:20]"
   ]
  },
  {
   "cell_type": "code",
   "execution_count": 33,
   "id": "bf806f20-8cf5-4bf1-8d91-1746262fe786",
   "metadata": {},
   "outputs": [
    {
     "data": {
      "text/plain": [
       "'GNIMMARGORP NOHTYP'"
      ]
     },
     "execution_count": 33,
     "metadata": {},
     "output_type": "execute_result"
    }
   ],
   "source": [
    "name[::-1]"
   ]
  },
  {
   "cell_type": "code",
   "execution_count": 35,
   "id": "aa030d66-c440-45dc-8218-d1ad810c43ca",
   "metadata": {},
   "outputs": [
    {
     "data": {
      "text/plain": [
       "'PYTHON PROGRAMMIN'"
      ]
     },
     "execution_count": 35,
     "metadata": {},
     "output_type": "execute_result"
    }
   ],
   "source": [
    "name[0:-1]"
   ]
  },
  {
   "cell_type": "markdown",
   "id": "9d0a564e-a51b-4689-ae8d-39ccb85dc401",
   "metadata": {},
   "source": [
    "### STRING METHOD"
   ]
  },
  {
   "cell_type": "code",
   "execution_count": 1,
   "id": "c3b79052-f000-4816-8104-361c083b7ab8",
   "metadata": {},
   "outputs": [],
   "source": [
    "a = 'Python Programming'"
   ]
  },
  {
   "cell_type": "code",
   "execution_count": 48,
   "id": "196e0478-e1f5-4735-aa83-2a1a6163f928",
   "metadata": {},
   "outputs": [
    {
     "data": {
      "text/plain": [
       "'Python programming'"
      ]
     },
     "execution_count": 48,
     "metadata": {},
     "output_type": "execute_result"
    }
   ],
   "source": [
    "a.capitalize()   # capitalize()- make the first character have upper case and the rest lower case\n",
    " "
   ]
  },
  {
   "cell_type": "code",
   "execution_count": 52,
   "id": "7996959b-0e69-4195-adbb-7930ab0c4c6a",
   "metadata": {},
   "outputs": [
    {
     "data": {
      "text/plain": [
       "'PYTHON PROGRAMMING'"
      ]
     },
     "execution_count": 52,
     "metadata": {},
     "output_type": "execute_result"
    }
   ],
   "source": [
    "a.upper()        # return all letters to upper case"
   ]
  },
  {
   "cell_type": "code",
   "execution_count": 54,
   "id": "d8b10578-0f0a-4564-afec-7ffeb9213695",
   "metadata": {},
   "outputs": [
    {
     "data": {
      "text/plain": [
       "'python programming'"
      ]
     },
     "execution_count": 54,
     "metadata": {},
     "output_type": "execute_result"
    }
   ],
   "source": [
    "a.lower()        #  return all letters to lower case"
   ]
  },
  {
   "cell_type": "code",
   "execution_count": 56,
   "id": "62378ee9-a039-4b2c-b851-868e2bbd4b01",
   "metadata": {},
   "outputs": [
    {
     "data": {
      "text/plain": [
       "'python programming'"
      ]
     },
     "execution_count": 56,
     "metadata": {},
     "output_type": "execute_result"
    }
   ],
   "source": [
    "a.casefold()      #  return all letters to lower case"
   ]
  },
  {
   "cell_type": "code",
   "execution_count": 5,
   "id": "6d547217-42cd-4498-a62e-245b91b5bd97",
   "metadata": {},
   "outputs": [
    {
     "data": {
      "text/plain": [
       "'pYTHON pROGRAMMING'"
      ]
     },
     "execution_count": 5,
     "metadata": {},
     "output_type": "execute_result"
    }
   ],
   "source": [
    "a.swapcase()       # upper case - lower case and lower case - upper case"
   ]
  },
  {
   "cell_type": "code",
   "execution_count": 7,
   "id": "5039c7f9-72e5-4b52-85b1-8683a9fbf4b8",
   "metadata": {},
   "outputs": [
    {
     "data": {
      "text/plain": [
       "2"
      ]
     },
     "execution_count": 7,
     "metadata": {},
     "output_type": "execute_result"
    }
   ],
   "source": [
    "a.count(\"m\")"
   ]
  },
  {
   "cell_type": "code",
   "execution_count": 9,
   "id": "5bed5200-33d2-46fe-9bb2-5f1f501b6943",
   "metadata": {},
   "outputs": [
    {
     "data": {
      "text/plain": [
       "0"
      ]
     },
     "execution_count": 9,
     "metadata": {},
     "output_type": "execute_result"
    }
   ],
   "source": [
    "a.count(\"p\")"
   ]
  },
  {
   "cell_type": "code",
   "execution_count": 11,
   "id": "89db61fc-992e-4bcd-87e5-a7c39d40dc83",
   "metadata": {},
   "outputs": [
    {
     "data": {
      "text/plain": [
       "2"
      ]
     },
     "execution_count": 11,
     "metadata": {},
     "output_type": "execute_result"
    }
   ],
   "source": [
    "a.count(\"P\")"
   ]
  },
  {
   "cell_type": "code",
   "execution_count": 13,
   "id": "64c4ca20-b8e4-4747-afb7-72831217af15",
   "metadata": {},
   "outputs": [
    {
     "data": {
      "text/plain": [
       "0"
      ]
     },
     "execution_count": 13,
     "metadata": {},
     "output_type": "execute_result"
    }
   ],
   "source": [
    "a.count(\"P\",2,5)   # count no. of occurrences"
   ]
  },
  {
   "cell_type": "code",
   "execution_count": 15,
   "id": "0c3487e8-fb84-4ffb-b2f7-143b3c21e824",
   "metadata": {},
   "outputs": [
    {
     "data": {
      "text/plain": [
       "1"
      ]
     },
     "execution_count": 15,
     "metadata": {},
     "output_type": "execute_result"
    }
   ],
   "source": [
    "a.count(\"h\",2,5)      # count( string,start , end)"
   ]
  },
  {
   "cell_type": "code",
   "execution_count": 17,
   "id": "886c63c5-47d6-4e0b-b6e3-afdef03889ce",
   "metadata": {},
   "outputs": [
    {
     "data": {
      "text/plain": [
       "10"
      ]
     },
     "execution_count": 17,
     "metadata": {},
     "output_type": "execute_result"
    }
   ],
   "source": [
    "a.find(\"g\")"
   ]
  },
  {
   "cell_type": "code",
   "execution_count": 21,
   "id": "82f4683d-2741-4171-be8b-86f1ac6dc31d",
   "metadata": {},
   "outputs": [
    {
     "data": {
      "text/plain": [
       "5"
      ]
     },
     "execution_count": 21,
     "metadata": {},
     "output_type": "execute_result"
    }
   ],
   "source": [
    "a.find(\"n\")"
   ]
  },
  {
   "cell_type": "code",
   "execution_count": 41,
   "id": "2dfdbf6c-0ae1-4ffe-bbae-5a0ec39a098a",
   "metadata": {},
   "outputs": [
    {
     "data": {
      "text/plain": [
       "17"
      ]
     },
     "execution_count": 41,
     "metadata": {},
     "output_type": "execute_result"
    }
   ],
   "source": [
    "a.find(\"g\",11)"
   ]
  },
  {
   "cell_type": "code",
   "execution_count": 43,
   "id": "af2f73b9-5baf-4279-aea0-b9771d25a8b7",
   "metadata": {},
   "outputs": [
    {
     "data": {
      "text/plain": [
       "-1"
      ]
     },
     "execution_count": 43,
     "metadata": {},
     "output_type": "execute_result"
    }
   ],
   "source": [
    "a.find(\"g\",11,17)"
   ]
  },
  {
   "cell_type": "code",
   "execution_count": 49,
   "id": "30a25d92-2963-4e6e-aebf-85b40b7f921c",
   "metadata": {},
   "outputs": [
    {
     "data": {
      "text/plain": [
       "10"
      ]
     },
     "execution_count": 49,
     "metadata": {},
     "output_type": "execute_result"
    }
   ],
   "source": [
    "a.index(\"g\")"
   ]
  },
  {
   "cell_type": "code",
   "execution_count": 51,
   "id": "cfc149c5-4b01-42fa-9e0f-101e308abbee",
   "metadata": {},
   "outputs": [
    {
     "data": {
      "text/plain": [
       "13"
      ]
     },
     "execution_count": 51,
     "metadata": {},
     "output_type": "execute_result"
    }
   ],
   "source": [
    "a.index(\"m\")"
   ]
  },
  {
   "cell_type": "code",
   "execution_count": 53,
   "id": "6335404c-c94f-424f-8330-fc290bfede68",
   "metadata": {},
   "outputs": [
    {
     "data": {
      "text/plain": [
       "4"
      ]
     },
     "execution_count": 53,
     "metadata": {},
     "output_type": "execute_result"
    }
   ],
   "source": [
    "a.index(\"o\")"
   ]
  },
  {
   "cell_type": "code",
   "execution_count": 55,
   "id": "45395ed7-d7aa-4f6c-96bc-404eb40d44a8",
   "metadata": {},
   "outputs": [
    {
     "ename": "ValueError",
     "evalue": "substring not found",
     "output_type": "error",
     "traceback": [
      "\u001b[0;31m---------------------------------------------------------------------------\u001b[0m",
      "\u001b[0;31mValueError\u001b[0m                                Traceback (most recent call last)",
      "Cell \u001b[0;32mIn[55], line 1\u001b[0m\n\u001b[0;32m----> 1\u001b[0m a\u001b[38;5;241m.\u001b[39mindex(\u001b[38;5;124m\"\u001b[39m\u001b[38;5;124mz\u001b[39m\u001b[38;5;124m\"\u001b[39m)\n",
      "\u001b[0;31mValueError\u001b[0m: substring not found"
     ]
    }
   ],
   "source": [
    "a.index(\"z\")"
   ]
  },
  {
   "cell_type": "code",
   "execution_count": 57,
   "id": "70a36d8a-b4d0-4a27-a7f8-7d99260e904e",
   "metadata": {},
   "outputs": [
    {
     "data": {
      "text/plain": [
       "-1"
      ]
     },
     "execution_count": 57,
     "metadata": {},
     "output_type": "execute_result"
    }
   ],
   "source": [
    "a.find(\"z\")"
   ]
  },
  {
   "cell_type": "code",
   "execution_count": 59,
   "id": "2774f117-3146-472d-a325-90537ebe3879",
   "metadata": {},
   "outputs": [
    {
     "data": {
      "text/plain": [
       "True"
      ]
     },
     "execution_count": 59,
     "metadata": {},
     "output_type": "execute_result"
    }
   ],
   "source": [
    "a.startswith(\"P\")"
   ]
  },
  {
   "cell_type": "code",
   "execution_count": 61,
   "id": "be4b523f-fcc9-4d0d-b85b-f6e3bb67dc48",
   "metadata": {},
   "outputs": [
    {
     "data": {
      "text/plain": [
       "False"
      ]
     },
     "execution_count": 61,
     "metadata": {},
     "output_type": "execute_result"
    }
   ],
   "source": [
    "a.startswith(\"p\")"
   ]
  },
  {
   "cell_type": "code",
   "execution_count": 63,
   "id": "848cf956-423d-4830-b70b-bb0d955b2af4",
   "metadata": {},
   "outputs": [
    {
     "data": {
      "text/plain": [
       "False"
      ]
     },
     "execution_count": 63,
     "metadata": {},
     "output_type": "execute_result"
    }
   ],
   "source": [
    "a.startswith(\"z\")"
   ]
  },
  {
   "cell_type": "code",
   "execution_count": 65,
   "id": "133e402e-4bf9-416d-911b-1bafb5f636eb",
   "metadata": {},
   "outputs": [
    {
     "data": {
      "text/plain": [
       "True"
      ]
     },
     "execution_count": 65,
     "metadata": {},
     "output_type": "execute_result"
    }
   ],
   "source": [
    "a.endswith(\"g\")"
   ]
  },
  {
   "cell_type": "code",
   "execution_count": 67,
   "id": "cd315b45-3c6d-440a-b9c5-851d74e92605",
   "metadata": {},
   "outputs": [
    {
     "data": {
      "text/plain": [
       "False"
      ]
     },
     "execution_count": 67,
     "metadata": {},
     "output_type": "execute_result"
    }
   ],
   "source": [
    "a.endswith(\"z\")"
   ]
  },
  {
   "cell_type": "code",
   "execution_count": 69,
   "id": "8b333cf1-949a-4975-a463-6ccc3e93abab",
   "metadata": {},
   "outputs": [
    {
     "name": "stdin",
     "output_type": "stream",
     "text": [
      "enter the mobile number: 12334455\n"
     ]
    }
   ],
   "source": [
    "user_1=input(\"enter the mobile number:\")"
   ]
  },
  {
   "cell_type": "code",
   "execution_count": 71,
   "id": "f309ab15-cde1-44a6-9f7b-5a7fef60d4b8",
   "metadata": {},
   "outputs": [
    {
     "data": {
      "text/plain": [
       "str"
      ]
     },
     "execution_count": 71,
     "metadata": {},
     "output_type": "execute_result"
    }
   ],
   "source": [
    "type(user_1)"
   ]
  },
  {
   "cell_type": "code",
   "execution_count": 73,
   "id": "ab80e447-d0c1-4e95-b8c9-04c31a1e65b9",
   "metadata": {},
   "outputs": [
    {
     "name": "stdin",
     "output_type": "stream",
     "text": [
      "enter the mobile number: 56688\n"
     ]
    }
   ],
   "source": [
    "user_1=input(\"enter the mobile number:\")"
   ]
  },
  {
   "cell_type": "code",
   "execution_count": 87,
   "id": "f3d88fce-62a6-45d5-9a5f-d7bd9721bca3",
   "metadata": {},
   "outputs": [
    {
     "name": "stdin",
     "output_type": "stream",
     "text": [
      "enter the email : www.gagaf@yahoo.com\n"
     ]
    }
   ],
   "source": [
    "mail = input(\"enter the email :\")"
   ]
  },
  {
   "cell_type": "code",
   "execution_count": 89,
   "id": "4483e93e-7b07-42f4-a661-43a7223f43aa",
   "metadata": {},
   "outputs": [
    {
     "data": {
      "text/plain": [
       "True"
      ]
     },
     "execution_count": 89,
     "metadata": {},
     "output_type": "execute_result"
    }
   ],
   "source": [
    "mail.startswith((\"http\",\"www\")) and mail.endswith((\"@gmail.com\",\"@yahoo.com\"))"
   ]
  },
  {
   "cell_type": "code",
   "execution_count": 91,
   "id": "0c17bd6e-179a-4a41-8e8a-a253c39216b6",
   "metadata": {},
   "outputs": [],
   "source": [
    "a = \"python112\""
   ]
  },
  {
   "cell_type": "code",
   "execution_count": 93,
   "id": "8af59715-6158-4d42-a508-8c28a482212e",
   "metadata": {},
   "outputs": [
    {
     "data": {
      "text/plain": [
       "True"
      ]
     },
     "execution_count": 93,
     "metadata": {},
     "output_type": "execute_result"
    }
   ],
   "source": [
    "a.isalnum()"
   ]
  },
  {
   "cell_type": "code",
   "execution_count": 95,
   "id": "cfe13855-965e-4c58-b80e-4a6237284c45",
   "metadata": {},
   "outputs": [
    {
     "data": {
      "text/plain": [
       "False"
      ]
     },
     "execution_count": 95,
     "metadata": {},
     "output_type": "execute_result"
    }
   ],
   "source": [
    "a.isalpha()"
   ]
  },
  {
   "cell_type": "code",
   "execution_count": 97,
   "id": "fc570981-4277-42c2-8316-bce65c6d77f1",
   "metadata": {},
   "outputs": [],
   "source": [
    "b = \"python\""
   ]
  },
  {
   "cell_type": "code",
   "execution_count": 99,
   "id": "17d3879a-6ed5-42f5-99b3-a5334b114dd7",
   "metadata": {},
   "outputs": [
    {
     "data": {
      "text/plain": [
       "True"
      ]
     },
     "execution_count": 99,
     "metadata": {},
     "output_type": "execute_result"
    }
   ],
   "source": [
    "b.isalnum()"
   ]
  },
  {
   "cell_type": "code",
   "execution_count": 101,
   "id": "5fc06cde-9d50-43e5-b2a7-d32f83a40de8",
   "metadata": {},
   "outputs": [
    {
     "data": {
      "text/plain": [
       "False"
      ]
     },
     "execution_count": 101,
     "metadata": {},
     "output_type": "execute_result"
    }
   ],
   "source": [
    "a.isalpha()"
   ]
  },
  {
   "cell_type": "code",
   "execution_count": 12,
   "id": "0c53564e-2eb4-43a3-9842-b9b85fe83b1c",
   "metadata": {},
   "outputs": [],
   "source": [
    "c = \"134\""
   ]
  },
  {
   "cell_type": "code",
   "execution_count": 105,
   "id": "514d3bbb-0d6a-4939-8bf9-bbd7d907d0af",
   "metadata": {},
   "outputs": [
    {
     "data": {
      "text/plain": [
       "True"
      ]
     },
     "execution_count": 105,
     "metadata": {},
     "output_type": "execute_result"
    }
   ],
   "source": [
    "c.isalnum()"
   ]
  },
  {
   "cell_type": "code",
   "execution_count": 107,
   "id": "c965f54f-8942-4e97-afa5-1d1514763fab",
   "metadata": {},
   "outputs": [
    {
     "data": {
      "text/plain": [
       "False"
      ]
     },
     "execution_count": 107,
     "metadata": {},
     "output_type": "execute_result"
    }
   ],
   "source": [
    "c.isalpha()"
   ]
  },
  {
   "cell_type": "code",
   "execution_count": 18,
   "id": "bc926e62-17a5-4f1a-818d-72925cf294ae",
   "metadata": {},
   "outputs": [],
   "source": [
    "str1=\"manoj\""
   ]
  },
  {
   "cell_type": "code",
   "execution_count": 4,
   "id": "ee466636-a4eb-4fa5-9c6d-ffcb678fc63d",
   "metadata": {},
   "outputs": [
    {
     "data": {
      "text/plain": [
       "True"
      ]
     },
     "execution_count": 4,
     "metadata": {},
     "output_type": "execute_result"
    }
   ],
   "source": [
    "str1.isalnum()"
   ]
  },
  {
   "cell_type": "code",
   "execution_count": 8,
   "id": "d0dab99e-f5f3-4a1e-9dfe-d6dc92ae3554",
   "metadata": {},
   "outputs": [],
   "source": [
    "str2=\"manoj123\""
   ]
  },
  {
   "cell_type": "code",
   "execution_count": 10,
   "id": "59bf98bc-c131-46b7-b555-09b411f9a73d",
   "metadata": {},
   "outputs": [
    {
     "data": {
      "text/plain": [
       "True"
      ]
     },
     "execution_count": 10,
     "metadata": {},
     "output_type": "execute_result"
    }
   ],
   "source": [
    "str2.isalnum()     # it will takes both alpha-numerics "
   ]
  },
  {
   "cell_type": "code",
   "execution_count": 12,
   "id": "ca538d4a-6c1b-4d65-8ea5-713375575319",
   "metadata": {},
   "outputs": [],
   "source": [
    "str3=\"manoj@123\""
   ]
  },
  {
   "cell_type": "code",
   "execution_count": 14,
   "id": "4bdc724f-26f6-443e-801e-1c4e4cf83866",
   "metadata": {},
   "outputs": [
    {
     "data": {
      "text/plain": [
       "False"
      ]
     },
     "execution_count": 14,
     "metadata": {},
     "output_type": "execute_result"
    }
   ],
   "source": [
    "str3.isalnum()"
   ]
  },
  {
   "cell_type": "code",
   "execution_count": 20,
   "id": "7fa87f5a-fdd0-41f5-827a-95d3576dcd0a",
   "metadata": {},
   "outputs": [
    {
     "data": {
      "text/plain": [
       "True"
      ]
     },
     "execution_count": 20,
     "metadata": {},
     "output_type": "execute_result"
    }
   ],
   "source": [
    "str1.isalpha()   # it will alllow only alphabats"
   ]
  },
  {
   "cell_type": "code",
   "execution_count": 22,
   "id": "d90a1e98-5a5d-4292-b8a1-d34cbec65a5e",
   "metadata": {},
   "outputs": [
    {
     "data": {
      "text/plain": [
       "False"
      ]
     },
     "execution_count": 22,
     "metadata": {},
     "output_type": "execute_result"
    }
   ],
   "source": [
    "str2.isalpha()"
   ]
  },
  {
   "cell_type": "code",
   "execution_count": 26,
   "id": "b118d1ca-b4dc-41b5-a952-15538089d0b9",
   "metadata": {},
   "outputs": [
    {
     "data": {
      "text/plain": [
       "False"
      ]
     },
     "execution_count": 26,
     "metadata": {},
     "output_type": "execute_result"
    }
   ],
   "source": [
    "str3.isalpha()"
   ]
  },
  {
   "cell_type": "code",
   "execution_count": 28,
   "id": "90db3292-d471-45c4-aad2-6f75640ba051",
   "metadata": {},
   "outputs": [],
   "source": [
    "str4 = \"python123\"  # it will allow only numbers"
   ]
  },
  {
   "cell_type": "code",
   "execution_count": 30,
   "id": "7f5efa36-6418-4110-9018-250ada2feabc",
   "metadata": {},
   "outputs": [
    {
     "data": {
      "text/plain": [
       "False"
      ]
     },
     "execution_count": 30,
     "metadata": {},
     "output_type": "execute_result"
    }
   ],
   "source": [
    "str4.isdigit()"
   ]
  },
  {
   "cell_type": "code",
   "execution_count": 32,
   "id": "017f8357-935b-4e2a-9abc-7bdd78da0a2c",
   "metadata": {},
   "outputs": [
    {
     "data": {
      "text/plain": [
       "False"
      ]
     },
     "execution_count": 32,
     "metadata": {},
     "output_type": "execute_result"
    }
   ],
   "source": [
    "str1.isdigit()"
   ]
  },
  {
   "cell_type": "code",
   "execution_count": 34,
   "id": "04594412-5761-4944-b6cf-61637f6a441d",
   "metadata": {},
   "outputs": [
    {
     "data": {
      "text/plain": [
       "False"
      ]
     },
     "execution_count": 34,
     "metadata": {},
     "output_type": "execute_result"
    }
   ],
   "source": [
    "str2.isdigit()"
   ]
  },
  {
   "cell_type": "code",
   "execution_count": 36,
   "id": "f5967015-4252-4722-89c2-c7919b1f55bc",
   "metadata": {},
   "outputs": [
    {
     "name": "stdin",
     "output_type": "stream",
     "text": [
      "enter the mobile number: 567\n"
     ]
    }
   ],
   "source": [
    "phone = input(\"enter the mobile number:\")"
   ]
  },
  {
   "cell_type": "code",
   "execution_count": 38,
   "id": "6fa56d06-a2ba-4eed-b345-e772961f27ed",
   "metadata": {},
   "outputs": [
    {
     "data": {
      "text/plain": [
       "True"
      ]
     },
     "execution_count": 38,
     "metadata": {},
     "output_type": "execute_result"
    }
   ],
   "source": [
    "phone.isdigit()"
   ]
  },
  {
   "cell_type": "code",
   "execution_count": 40,
   "id": "65076338-6691-49e4-87c6-08d15c4286e0",
   "metadata": {},
   "outputs": [
    {
     "name": "stdin",
     "output_type": "stream",
     "text": [
      "enter the mobile number: gggggg\n"
     ]
    }
   ],
   "source": [
    "phone = input(\"enter the mobile number:\")"
   ]
  },
  {
   "cell_type": "code",
   "execution_count": 42,
   "id": "795898fa-1c70-409c-909f-26a363f0848a",
   "metadata": {},
   "outputs": [
    {
     "data": {
      "text/plain": [
       "False"
      ]
     },
     "execution_count": 42,
     "metadata": {},
     "output_type": "execute_result"
    }
   ],
   "source": [
    "phone.isdigit()"
   ]
  },
  {
   "cell_type": "code",
   "execution_count": 44,
   "id": "4f26579d-6ce5-43d3-b01b-420a0d3c892a",
   "metadata": {},
   "outputs": [
    {
     "name": "stdin",
     "output_type": "stream",
     "text": [
      "enter the password: 64545agagf\n"
     ]
    }
   ],
   "source": [
    "password = input(\"enter the password:\")"
   ]
  },
  {
   "cell_type": "code",
   "execution_count": 46,
   "id": "057e27f1-adeb-4e52-b918-0620ac0ec12a",
   "metadata": {},
   "outputs": [
    {
     "data": {
      "text/plain": [
       "True"
      ]
     },
     "execution_count": 46,
     "metadata": {},
     "output_type": "execute_result"
    }
   ],
   "source": [
    "password.isalnum()"
   ]
  },
  {
   "cell_type": "code",
   "execution_count": 3,
   "id": "1deb8390-8395-4005-8fd9-4f1204593742",
   "metadata": {},
   "outputs": [],
   "source": [
    "name = \"Python Programming language\""
   ]
  },
  {
   "cell_type": "code",
   "execution_count": 56,
   "id": "e8b8db29-6220-4d18-992a-c625d19c7b7c",
   "metadata": {},
   "outputs": [
    {
     "data": {
      "text/plain": [
       "'@ython @rogramming language'"
      ]
     },
     "execution_count": 56,
     "metadata": {},
     "output_type": "execute_result"
    }
   ],
   "source": [
    "name.replace(\"P\",\"@\")"
   ]
  },
  {
   "cell_type": "code",
   "execution_count": 58,
   "id": "5709311a-08a3-4a65-a2ca-7200792090b3",
   "metadata": {},
   "outputs": [
    {
     "data": {
      "text/plain": [
       "'Python Pro#rammin# lan#ua#e'"
      ]
     },
     "execution_count": 58,
     "metadata": {},
     "output_type": "execute_result"
    }
   ],
   "source": [
    "name.replace(\"g\",\"#\")"
   ]
  },
  {
   "cell_type": "code",
   "execution_count": 60,
   "id": "35bd1ace-6c20-4e62-81cb-5504ce87f882",
   "metadata": {},
   "outputs": [
    {
     "data": {
      "text/plain": [
       "'@ython Programming language'"
      ]
     },
     "execution_count": 60,
     "metadata": {},
     "output_type": "execute_result"
    }
   ],
   "source": [
    "name.replace(\"P\",\"@\",1)         # replace( replace  string , replace with , how much times)"
   ]
  },
  {
   "cell_type": "code",
   "execution_count": 66,
   "id": "a4b3fb1f-eea4-4fbf-b601-f4a3ed426087",
   "metadata": {},
   "outputs": [
    {
     "data": {
      "text/plain": [
       "'@ython @rogramming language'"
      ]
     },
     "execution_count": 66,
     "metadata": {},
     "output_type": "execute_result"
    }
   ],
   "source": [
    "name.replace(\"P\",\"@\",2)"
   ]
  },
  {
   "cell_type": "code",
   "execution_count": 68,
   "id": "3add5646-76e3-42f5-a74c-445cba89e0d7",
   "metadata": {},
   "outputs": [
    {
     "data": {
      "text/plain": [
       "'@ython @rogramming language'"
      ]
     },
     "execution_count": 68,
     "metadata": {},
     "output_type": "execute_result"
    }
   ],
   "source": [
    "name.replace(\"P\",\"@\",14)"
   ]
  },
  {
   "cell_type": "code",
   "execution_count": 70,
   "id": "cb52a005-e48f-4b18-b061-756c2c570438",
   "metadata": {},
   "outputs": [
    {
     "data": {
      "text/plain": [
       "'Python Programming language'"
      ]
     },
     "execution_count": 70,
     "metadata": {},
     "output_type": "execute_result"
    }
   ],
   "source": [
    "name.replace(\"P\",\"@\",0)"
   ]
  },
  {
   "cell_type": "code",
   "execution_count": 72,
   "id": "6d719b23-4c99-4209-a158-9faf27417046",
   "metadata": {},
   "outputs": [
    {
     "data": {
      "text/plain": [
       "'@ython @rogramming language'"
      ]
     },
     "execution_count": 72,
     "metadata": {},
     "output_type": "execute_result"
    }
   ],
   "source": [
    "name.replace(\"P\",\"@\",-1)"
   ]
  },
  {
   "cell_type": "code",
   "execution_count": 74,
   "id": "8f51d41d-26fa-4e22-84c8-5781d0178fbf",
   "metadata": {},
   "outputs": [
    {
     "data": {
      "text/plain": [
       "'Python Progr@mming l@ngu@ge'"
      ]
     },
     "execution_count": 74,
     "metadata": {},
     "output_type": "execute_result"
    }
   ],
   "source": [
    "name.replace(\"a\",\"@\",4)"
   ]
  },
  {
   "cell_type": "code",
   "execution_count": 76,
   "id": "ad2c869b-4812-42b6-88a8-0681c53f2529",
   "metadata": {},
   "outputs": [
    {
     "data": {
      "text/plain": [
       "'Python Progr*mming l*ngu*ge'"
      ]
     },
     "execution_count": 76,
     "metadata": {},
     "output_type": "execute_result"
    }
   ],
   "source": [
    "name.replace(\"a\",\"*\",-1)     # -1 it will covert every replace letter to replace letter"
   ]
  },
  {
   "cell_type": "code",
   "execution_count": 80,
   "id": "7522e674-d537-45f9-8911-8adfd236ef79",
   "metadata": {},
   "outputs": [
    {
     "data": {
      "text/plain": [
       "'Python Programming language'"
      ]
     },
     "execution_count": 80,
     "metadata": {},
     "output_type": "execute_result"
    }
   ],
   "source": [
    "name.replace(\"a\",\"@\",0)"
   ]
  },
  {
   "cell_type": "code",
   "execution_count": 86,
   "id": "5ae7315b-2ace-44b2-80c1-1a507d7162f4",
   "metadata": {},
   "outputs": [
    {
     "data": {
      "text/plain": [
       "'Python Progr@mming language'"
      ]
     },
     "execution_count": 86,
     "metadata": {},
     "output_type": "execute_result"
    }
   ],
   "source": [
    "name.replace(\"a\",\"@\",1)"
   ]
  },
  {
   "cell_type": "code",
   "execution_count": 84,
   "id": "83873746-acb9-4ea3-b0fc-bf214e57cc23",
   "metadata": {},
   "outputs": [
    {
     "data": {
      "text/plain": [
       "'Python Progr@mming l@nguage'"
      ]
     },
     "execution_count": 84,
     "metadata": {},
     "output_type": "execute_result"
    }
   ],
   "source": [
    "name.replace(\"a\",\"@\",2)"
   ]
  },
  {
   "cell_type": "code",
   "execution_count": 82,
   "id": "7aafc337-99d8-41a1-a0ea-82374b509ba2",
   "metadata": {},
   "outputs": [
    {
     "data": {
      "text/plain": [
       "'Python Progr@mming l@ngu@ge'"
      ]
     },
     "execution_count": 82,
     "metadata": {},
     "output_type": "execute_result"
    }
   ],
   "source": [
    "name.replace(\"a\",\"@\",3)"
   ]
  },
  {
   "cell_type": "code",
   "execution_count": 88,
   "id": "0d321137-ea2f-4ba0-86c9-7855cca84e4f",
   "metadata": {},
   "outputs": [],
   "source": [
    "name = \"Python Programming language\""
   ]
  },
  {
   "cell_type": "code",
   "execution_count": 90,
   "id": "b47bb4b0-2c9c-434a-afaa-f8f8bcb8c3a1",
   "metadata": {},
   "outputs": [
    {
     "data": {
      "text/plain": [
       "'* Programming language'"
      ]
     },
     "execution_count": 90,
     "metadata": {},
     "output_type": "execute_result"
    }
   ],
   "source": [
    "name.replace(\"Python\",\"*\")"
   ]
  },
  {
   "cell_type": "code",
   "execution_count": 92,
   "id": "13ed6b07-dd17-42a2-b71d-7aa7b6b6cf16",
   "metadata": {},
   "outputs": [
    {
     "data": {
      "text/plain": [
       "'Python code language'"
      ]
     },
     "execution_count": 92,
     "metadata": {},
     "output_type": "execute_result"
    }
   ],
   "source": [
    "name.replace(\"Programming\",\"code\")"
   ]
  },
  {
   "cell_type": "code",
   "execution_count": 94,
   "id": "89f33c60-cea8-40f4-a2f1-536f6c935660",
   "metadata": {},
   "outputs": [
    {
     "data": {
      "text/plain": [
       "'Python Programming language'"
      ]
     },
     "execution_count": 94,
     "metadata": {},
     "output_type": "execute_result"
    }
   ],
   "source": [
    "name"
   ]
  },
  {
   "cell_type": "code",
   "execution_count": 96,
   "id": "c53205d6-31cf-46d0-a7c6-4bbf0bd52978",
   "metadata": {},
   "outputs": [
    {
     "data": {
      "text/plain": [
       "['Python', 'Programming', 'language']"
      ]
     },
     "execution_count": 96,
     "metadata": {},
     "output_type": "execute_result"
    }
   ],
   "source": [
    "name.split()           # by default it takes as separator"
   ]
  },
  {
   "cell_type": "code",
   "execution_count": 98,
   "id": "9b211b12-52c5-4dd5-94de-802a5776cc13",
   "metadata": {},
   "outputs": [
    {
     "data": {
      "text/plain": [
       "['Pytho', ' Programmi', 'g la', 'guage']"
      ]
     },
     "execution_count": 98,
     "metadata": {},
     "output_type": "execute_result"
    }
   ],
   "source": [
    "name.split(\"n\")       # when u slice on the n - n will remove/cut"
   ]
  },
  {
   "cell_type": "code",
   "execution_count": 100,
   "id": "2b1c3049-992e-41cb-a0a1-91c19ffa9a0b",
   "metadata": {},
   "outputs": [
    {
     "data": {
      "text/plain": [
       "['Python Progr', 'mming l', 'ngu', 'ge']"
      ]
     },
     "execution_count": 100,
     "metadata": {},
     "output_type": "execute_result"
    }
   ],
   "source": [
    "name.split(\"a\")"
   ]
  },
  {
   "cell_type": "code",
   "execution_count": 102,
   "id": "699bc473-29af-4484-b007-2d835a9f381c",
   "metadata": {},
   "outputs": [
    {
     "data": {
      "text/plain": [
       "['Python Programming ', 'anguage']"
      ]
     },
     "execution_count": 102,
     "metadata": {},
     "output_type": "execute_result"
    }
   ],
   "source": [
    "name.split(\"l\")"
   ]
  },
  {
   "cell_type": "code",
   "execution_count": 104,
   "id": "606ea8c4-cfe3-4332-8381-81cd51bf5889",
   "metadata": {},
   "outputs": [
    {
     "data": {
      "text/plain": [
       "['Python Programmi', ' la', 'uage']"
      ]
     },
     "execution_count": 104,
     "metadata": {},
     "output_type": "execute_result"
    }
   ],
   "source": [
    "name.split(\"ng\")"
   ]
  },
  {
   "cell_type": "code",
   "execution_count": 109,
   "id": "b6a11371-3e8a-4508-9a17-f11eb6d0eb6a",
   "metadata": {},
   "outputs": [
    {
     "data": {
      "text/plain": [
       "['P', ' Programming language']"
      ]
     },
     "execution_count": 109,
     "metadata": {},
     "output_type": "execute_result"
    }
   ],
   "source": [
    "name.split(\"ython\")"
   ]
  },
  {
   "cell_type": "code",
   "execution_count": 111,
   "id": "b5d4422b-4f33-4308-9d09-13519293d5f0",
   "metadata": {},
   "outputs": [
    {
     "data": {
      "text/plain": [
       "['Python Pro', ' language']"
      ]
     },
     "execution_count": 111,
     "metadata": {},
     "output_type": "execute_result"
    }
   ],
   "source": [
    "name.split(\"gramming\")"
   ]
  },
  {
   "cell_type": "code",
   "execution_count": 113,
   "id": "3b641cc3-6352-42b3-916b-d1e49b4a3d8c",
   "metadata": {},
   "outputs": [
    {
     "data": {
      "text/plain": [
       "['Python Programming langu', '']"
      ]
     },
     "execution_count": 113,
     "metadata": {},
     "output_type": "execute_result"
    }
   ],
   "source": [
    "name.split(\"age\")"
   ]
  },
  {
   "cell_type": "code",
   "execution_count": 115,
   "id": "6cfeb35f-b82f-499c-ab6f-0fb3cd995a18",
   "metadata": {},
   "outputs": [],
   "source": [
    "name1 = \"siva academy\""
   ]
  },
  {
   "cell_type": "code",
   "execution_count": 117,
   "id": "4b07e2d1-a5d6-4e97-bb6a-7c1a8a027302",
   "metadata": {},
   "outputs": [
    {
     "data": {
      "text/plain": [
       "['siva', 'academy']"
      ]
     },
     "execution_count": 117,
     "metadata": {},
     "output_type": "execute_result"
    }
   ],
   "source": [
    "name1.split()"
   ]
  },
  {
   "cell_type": "code",
   "execution_count": 119,
   "id": "5b9d53c5-6a82-43f8-b716-cbdba82c94b0",
   "metadata": {},
   "outputs": [
    {
     "data": {
      "text/plain": [
       "['siva ', '']"
      ]
     },
     "execution_count": 119,
     "metadata": {},
     "output_type": "execute_result"
    }
   ],
   "source": [
    "name1.split(\"academy\")"
   ]
  },
  {
   "cell_type": "code",
   "execution_count": 121,
   "id": "9ad3c37f-a675-4d5a-af61-bd22191398bf",
   "metadata": {},
   "outputs": [
    {
     "data": {
      "text/plain": [
       "['', ' academy']"
      ]
     },
     "execution_count": 121,
     "metadata": {},
     "output_type": "execute_result"
    }
   ],
   "source": [
    "name1.split(\"siva\")"
   ]
  },
  {
   "cell_type": "code",
   "execution_count": 141,
   "id": "deceb196-1e64-47c3-99ff-8c8bd9275cf1",
   "metadata": {},
   "outputs": [],
   "source": [
    "string = \" hai i am data scientist. how are you?. i am staying in bangalore\""
   ]
  },
  {
   "cell_type": "code",
   "execution_count": 143,
   "id": "f217976f-a92f-477a-8acd-7e42e433577f",
   "metadata": {},
   "outputs": [
    {
     "data": {
      "text/plain": [
       "['hai',\n",
       " 'i',\n",
       " 'am',\n",
       " 'data',\n",
       " 'scientist.',\n",
       " 'how',\n",
       " 'are',\n",
       " 'you?.',\n",
       " 'i',\n",
       " 'am',\n",
       " 'staying',\n",
       " 'in',\n",
       " 'bangalore']"
      ]
     },
     "execution_count": 143,
     "metadata": {},
     "output_type": "execute_result"
    }
   ],
   "source": [
    "string.split()"
   ]
  },
  {
   "cell_type": "code",
   "execution_count": 145,
   "id": "25fdc44b-751a-4ee2-b7e0-7eb674a11f9e",
   "metadata": {},
   "outputs": [
    {
     "data": {
      "text/plain": [
       "[' hai i am data scientist', ' how are you?', ' i am staying in bangalore']"
      ]
     },
     "execution_count": 145,
     "metadata": {},
     "output_type": "execute_result"
    }
   ],
   "source": [
    "string.split(\".\")"
   ]
  },
  {
   "cell_type": "code",
   "execution_count": 147,
   "id": "584258e3-3647-4869-a2da-cdbbd52c9117",
   "metadata": {},
   "outputs": [
    {
     "name": "stdin",
     "output_type": "stream",
     "text": [
      " enter your mailid: ananda@gmail.com\n"
     ]
    }
   ],
   "source": [
    "mail = input(\" enter your mailid:\")"
   ]
  },
  {
   "cell_type": "code",
   "execution_count": 151,
   "id": "e7d54728-e5ec-4e80-b006-8e4396cc32d5",
   "metadata": {},
   "outputs": [
    {
     "data": {
      "text/plain": [
       "['ananda', 'gmail.com']"
      ]
     },
     "execution_count": 151,
     "metadata": {},
     "output_type": "execute_result"
    }
   ],
   "source": [
    "mail.split(\"@\")"
   ]
  },
  {
   "cell_type": "code",
   "execution_count": 153,
   "id": "0985145f-5f9d-444d-8f3f-800e528b9a68",
   "metadata": {},
   "outputs": [
    {
     "data": {
      "text/plain": [
       "'ananda'"
      ]
     },
     "execution_count": 153,
     "metadata": {},
     "output_type": "execute_result"
    }
   ],
   "source": [
    "mail.split(\"@\")[0]"
   ]
  },
  {
   "cell_type": "code",
   "execution_count": 155,
   "id": "ff3e3077-d0a0-479f-8e22-5831b357074e",
   "metadata": {},
   "outputs": [
    {
     "data": {
      "text/plain": [
       "'gmail.com'"
      ]
     },
     "execution_count": 155,
     "metadata": {},
     "output_type": "execute_result"
    }
   ],
   "source": [
    "mail.split(\"@\")[1]"
   ]
  },
  {
   "cell_type": "code",
   "execution_count": 2,
   "id": "c2fee3a0-f89c-41bf-b16b-7e7d57ef98dd",
   "metadata": {},
   "outputs": [],
   "source": [
    "x = \"python@javac++c\""
   ]
  },
  {
   "cell_type": "code",
   "execution_count": 4,
   "id": "a62d9f28-8b21-430a-99eb-f5c4e91ba310",
   "metadata": {},
   "outputs": [
    {
     "data": {
      "text/plain": [
       "['python@javac++c']"
      ]
     },
     "execution_count": 4,
     "metadata": {},
     "output_type": "execute_result"
    }
   ],
   "source": [
    "x.split()"
   ]
  },
  {
   "cell_type": "code",
   "execution_count": 6,
   "id": "995189d6-5154-4c3f-8377-f67cf8e337de",
   "metadata": {},
   "outputs": [
    {
     "data": {
      "text/plain": [
       "['python', 'javac++c']"
      ]
     },
     "execution_count": 6,
     "metadata": {},
     "output_type": "execute_result"
    }
   ],
   "source": [
    "x.split(\"@\")                    # Two sub strings"
   ]
  },
  {
   "cell_type": "code",
   "execution_count": 8,
   "id": "ab8e4faf-941e-430f-ba6d-137cdba4c708",
   "metadata": {},
   "outputs": [],
   "source": [
    "x = \"python@java@c++@c\""
   ]
  },
  {
   "cell_type": "code",
   "execution_count": 10,
   "id": "dbadb977-5a6f-462b-a32f-a087cb2f53f4",
   "metadata": {},
   "outputs": [
    {
     "data": {
      "text/plain": [
       "['python', 'java@c++@c']"
      ]
     },
     "execution_count": 10,
     "metadata": {},
     "output_type": "execute_result"
    }
   ],
   "source": [
    "x.split(\"@\",1)                 # Two sub strings"
   ]
  },
  {
   "cell_type": "code",
   "execution_count": 12,
   "id": "9605ecc0-e96f-402e-b31d-fce8f4ef7e2b",
   "metadata": {},
   "outputs": [
    {
     "data": {
      "text/plain": [
       "['python', 'java', 'c++@c']"
      ]
     },
     "execution_count": 12,
     "metadata": {},
     "output_type": "execute_result"
    }
   ],
   "source": [
    "x.split(\"@\",2)                # Three sub strings"
   ]
  },
  {
   "cell_type": "code",
   "execution_count": 14,
   "id": "63a8579a-842d-4e80-a4de-b742f69f989c",
   "metadata": {},
   "outputs": [
    {
     "data": {
      "text/plain": [
       "['python', 'java', 'c++', 'c']"
      ]
     },
     "execution_count": 14,
     "metadata": {},
     "output_type": "execute_result"
    }
   ],
   "source": [
    "x.split(\"@\",3)                # four sub strings "
   ]
  },
  {
   "cell_type": "code",
   "execution_count": 20,
   "id": "201b07ff-7d72-4d11-b469-09ca53a4843a",
   "metadata": {},
   "outputs": [
    {
     "name": "stdout",
     "output_type": "stream",
     "text": [
      "hello\n"
     ]
    }
   ],
   "source": [
    "chars = ['h','e','l','l','o']\n",
    "sentence = \"\".join(chars)      # joining without a separator\n",
    "print(sentence)"
   ]
  },
  {
   "cell_type": "code",
   "execution_count": 24,
   "id": "28a37288-54d7-4c41-90bb-69901edf9eb4",
   "metadata": {},
   "outputs": [
    {
     "name": "stdout",
     "output_type": "stream",
     "text": [
      "python is awesome\n"
     ]
    }
   ],
   "source": [
    "word = [\"python\",\"is\",\"awesome\"]\n",
    "sentence =\" \".join(word)       # joining  with a space \n",
    "print(sentence)"
   ]
  },
  {
   "cell_type": "code",
   "execution_count": 34,
   "id": "1fca354e-a29c-442a-96a0-d198183f944c",
   "metadata": {},
   "outputs": [],
   "source": [
    "string = \"  python  \""
   ]
  },
  {
   "cell_type": "code",
   "execution_count": 36,
   "id": "7f0053e1-63e0-4ce2-a22b-9fc9976f65e9",
   "metadata": {},
   "outputs": [
    {
     "data": {
      "text/plain": [
       "'python'"
      ]
     },
     "execution_count": 36,
     "metadata": {},
     "output_type": "execute_result"
    }
   ],
   "source": [
    "string.strip()              # it removes the total white spaces"
   ]
  },
  {
   "cell_type": "code",
   "execution_count": 38,
   "id": "fe20e166-dc5a-43b4-88e9-1fa448ff7050",
   "metadata": {},
   "outputs": [
    {
     "data": {
      "text/plain": [
       "'python  '"
      ]
     },
     "execution_count": 38,
     "metadata": {},
     "output_type": "execute_result"
    }
   ],
   "source": [
    "string.lstrip()              # it removes the total  before spaces"
   ]
  },
  {
   "cell_type": "code",
   "execution_count": 40,
   "id": "02e2a1af-9ee2-4422-92b8-5e7fde0cd867",
   "metadata": {},
   "outputs": [
    {
     "data": {
      "text/plain": [
       "'  python'"
      ]
     },
     "execution_count": 40,
     "metadata": {},
     "output_type": "execute_result"
    }
   ],
   "source": [
    "string.rstrip()              # it removes the total  after spaces"
   ]
  },
  {
   "cell_type": "markdown",
   "id": "5e84a423-d034-455b-bfed-3762a1a909a9",
   "metadata": {},
   "source": [
    "#### mutable - we can change the original value\n",
    "#### immutable - we cannot change the original value"
   ]
  },
  {
   "cell_type": "code",
   "execution_count": 45,
   "id": "cc7791bd-59cd-4905-936d-78fbaea6af82",
   "metadata": {},
   "outputs": [],
   "source": [
    "string1 = \" hai i am data scientist. how are you?. i am staying in bangalore\""
   ]
  },
  {
   "cell_type": "code",
   "execution_count": 47,
   "id": "a501f970-24b2-40c4-b29d-d5a1aff925e6",
   "metadata": {},
   "outputs": [
    {
     "data": {
      "text/plain": [
       "' h@i i @m d@t@ scientist. how @re you?. i @m st@ying in b@ng@lore'"
      ]
     },
     "execution_count": 47,
     "metadata": {},
     "output_type": "execute_result"
    }
   ],
   "source": [
    "string1.replace(\"a\",\"@\") "
   ]
  },
  {
   "cell_type": "code",
   "execution_count": 53,
   "id": "75538c66-afa6-43db-b773-80ddafe3030b",
   "metadata": {},
   "outputs": [
    {
     "data": {
      "text/plain": [
       "' hai i am data scientist. how are you?. i am staying in bangalore'"
      ]
     },
     "execution_count": 53,
     "metadata": {},
     "output_type": "execute_result"
    }
   ],
   "source": [
    "string1"
   ]
  },
  {
   "cell_type": "code",
   "execution_count": 55,
   "id": "af3048e0-a005-4af0-a8c5-0c1f6ee71afa",
   "metadata": {},
   "outputs": [
    {
     "data": {
      "text/plain": [
       "[' hai i am data scientist', ' how are you?', ' i am staying in bangalore']"
      ]
     },
     "execution_count": 55,
     "metadata": {},
     "output_type": "execute_result"
    }
   ],
   "source": [
    "string1.split(\".\")"
   ]
  },
  {
   "cell_type": "markdown",
   "id": "866ce815-3649-4b89-b4f7-54d5e48925d8",
   "metadata": {},
   "source": [
    "###  Type casting -  converting one data type to other"
   ]
  },
  {
   "cell_type": "code",
   "execution_count": 58,
   "id": "43f01b4b-5f1a-447f-9f88-49a51a21ea11",
   "metadata": {},
   "outputs": [],
   "source": [
    "num = 3546747848"
   ]
  },
  {
   "cell_type": "code",
   "execution_count": 60,
   "id": "9db9b9cd-9ac9-4cc3-959e-5fb34a065870",
   "metadata": {},
   "outputs": [
    {
     "data": {
      "text/plain": [
       "int"
      ]
     },
     "execution_count": 60,
     "metadata": {},
     "output_type": "execute_result"
    }
   ],
   "source": [
    "type(num)"
   ]
  },
  {
   "cell_type": "code",
   "execution_count": 62,
   "id": "26eeeacd-700c-404a-bf98-3e30833f0320",
   "metadata": {},
   "outputs": [],
   "source": [
    "num_str = str(num)"
   ]
  },
  {
   "cell_type": "code",
   "execution_count": 64,
   "id": "eb6303c9-8a47-40fe-a898-8d578139e930",
   "metadata": {},
   "outputs": [
    {
     "data": {
      "text/plain": [
       "'3546747848'"
      ]
     },
     "execution_count": 64,
     "metadata": {},
     "output_type": "execute_result"
    }
   ],
   "source": [
    "num_str"
   ]
  },
  {
   "cell_type": "code",
   "execution_count": 66,
   "id": "8f6e8d29-1d6c-4073-8d00-7718cc82233e",
   "metadata": {},
   "outputs": [
    {
     "data": {
      "text/plain": [
       "str"
      ]
     },
     "execution_count": 66,
     "metadata": {},
     "output_type": "execute_result"
    }
   ],
   "source": [
    "type(num_str)"
   ]
  },
  {
   "cell_type": "code",
   "execution_count": 74,
   "id": "86c11ae4-bb8e-4738-a24c-1ffeca57ed0e",
   "metadata": {},
   "outputs": [
    {
     "data": {
      "text/plain": [
       "10"
      ]
     },
     "execution_count": 74,
     "metadata": {},
     "output_type": "execute_result"
    }
   ],
   "source": [
    "len(num_str)"
   ]
  },
  {
   "cell_type": "code",
   "execution_count": 77,
   "id": "a9eae3b9-f4d5-4914-917f-d41a103783e5",
   "metadata": {},
   "outputs": [],
   "source": [
    "num2 = float(num_str)"
   ]
  },
  {
   "cell_type": "code",
   "execution_count": 79,
   "id": "a92e54a8-7fa1-4025-b9f3-c427430fd56a",
   "metadata": {},
   "outputs": [
    {
     "data": {
      "text/plain": [
       "3546747848.0"
      ]
     },
     "execution_count": 79,
     "metadata": {},
     "output_type": "execute_result"
    }
   ],
   "source": [
    "num2"
   ]
  },
  {
   "cell_type": "code",
   "execution_count": 81,
   "id": "d391c77c-28d6-42b3-8824-f283783e009c",
   "metadata": {},
   "outputs": [
    {
     "data": {
      "text/plain": [
       "float"
      ]
     },
     "execution_count": 81,
     "metadata": {},
     "output_type": "execute_result"
    }
   ],
   "source": [
    "type(num2)"
   ]
  },
  {
   "cell_type": "code",
   "execution_count": 83,
   "id": "4f0067d3-96c7-4751-911e-8f24d8ec6666",
   "metadata": {},
   "outputs": [
    {
     "ename": "TypeError",
     "evalue": "object of type 'float' has no len()",
     "output_type": "error",
     "traceback": [
      "\u001b[0;31m---------------------------------------------------------------------------\u001b[0m",
      "\u001b[0;31mTypeError\u001b[0m                                 Traceback (most recent call last)",
      "Cell \u001b[0;32mIn[83], line 1\u001b[0m\n\u001b[0;32m----> 1\u001b[0m \u001b[38;5;28mlen\u001b[39m(num2)\n",
      "\u001b[0;31mTypeError\u001b[0m: object of type 'float' has no len()"
     ]
    }
   ],
   "source": [
    "len(num2)"
   ]
  },
  {
   "cell_type": "code",
   "execution_count": 85,
   "id": "296ba42d-9678-4524-ad57-9bbd4af08511",
   "metadata": {},
   "outputs": [],
   "source": [
    "n = 10"
   ]
  },
  {
   "cell_type": "code",
   "execution_count": 87,
   "id": "21de7b4c-5228-4fb1-822a-21c1d261c8b4",
   "metadata": {},
   "outputs": [
    {
     "data": {
      "text/plain": [
       "'10'"
      ]
     },
     "execution_count": 87,
     "metadata": {},
     "output_type": "execute_result"
    }
   ],
   "source": [
    "str(n)"
   ]
  },
  {
   "cell_type": "code",
   "execution_count": 89,
   "id": "1ff96579-2f72-4d8c-b476-4c7f8c59f189",
   "metadata": {},
   "outputs": [
    {
     "data": {
      "text/plain": [
       "10.0"
      ]
     },
     "execution_count": 89,
     "metadata": {},
     "output_type": "execute_result"
    }
   ],
   "source": [
    "float(n)"
   ]
  },
  {
   "cell_type": "code",
   "execution_count": 91,
   "id": "2c1691fe-b9ae-40c2-8e9f-b39b6f517a9f",
   "metadata": {},
   "outputs": [
    {
     "data": {
      "text/plain": [
       "(10+0j)"
      ]
     },
     "execution_count": 91,
     "metadata": {},
     "output_type": "execute_result"
    }
   ],
   "source": [
    "complex(n)"
   ]
  },
  {
   "cell_type": "code",
   "execution_count": 93,
   "id": "999dc00f-edfd-40a1-bf20-e40abad00929",
   "metadata": {},
   "outputs": [
    {
     "data": {
      "text/plain": [
       "True"
      ]
     },
     "execution_count": 93,
     "metadata": {},
     "output_type": "execute_result"
    }
   ],
   "source": [
    "bool(n)"
   ]
  },
  {
   "cell_type": "code",
   "execution_count": 95,
   "id": "4b99037c-4401-45c5-b8ec-6586d630f0fa",
   "metadata": {},
   "outputs": [],
   "source": [
    "num = '10'"
   ]
  },
  {
   "cell_type": "code",
   "execution_count": 97,
   "id": "3edf05d9-c955-49c7-b3db-319998cdf6f1",
   "metadata": {},
   "outputs": [
    {
     "data": {
      "text/plain": [
       "10"
      ]
     },
     "execution_count": 97,
     "metadata": {},
     "output_type": "execute_result"
    }
   ],
   "source": [
    "int(num)"
   ]
  },
  {
   "cell_type": "code",
   "execution_count": 101,
   "id": "26a3257b-52e1-43a8-a940-9e6f7c684b97",
   "metadata": {},
   "outputs": [
    {
     "data": {
      "text/plain": [
       "str"
      ]
     },
     "execution_count": 101,
     "metadata": {},
     "output_type": "execute_result"
    }
   ],
   "source": [
    "type(num)"
   ]
  },
  {
   "cell_type": "markdown",
   "id": "4ca1ebde-7a95-4f35-9590-fb08852f8a7e",
   "metadata": {},
   "source": [
    "#### string to others - except bool we cannot convert to other data types"
   ]
  },
  {
   "cell_type": "code",
   "execution_count": 104,
   "id": "df3c7daa-f6b1-4f1e-bb66-9c71ad86348d",
   "metadata": {},
   "outputs": [],
   "source": [
    "s = \"python\""
   ]
  },
  {
   "cell_type": "code",
   "execution_count": 106,
   "id": "f5b774fc-2243-42f2-80b9-725dab2bb210",
   "metadata": {},
   "outputs": [
    {
     "ename": "ValueError",
     "evalue": "invalid literal for int() with base 10: 'python'",
     "output_type": "error",
     "traceback": [
      "\u001b[0;31m---------------------------------------------------------------------------\u001b[0m",
      "\u001b[0;31mValueError\u001b[0m                                Traceback (most recent call last)",
      "Cell \u001b[0;32mIn[106], line 1\u001b[0m\n\u001b[0;32m----> 1\u001b[0m \u001b[38;5;28mint\u001b[39m(s)\n",
      "\u001b[0;31mValueError\u001b[0m: invalid literal for int() with base 10: 'python'"
     ]
    }
   ],
   "source": [
    "int(s)             "
   ]
  },
  {
   "cell_type": "code",
   "execution_count": 108,
   "id": "e2fdeaac-5228-4078-8b17-d044c7255a02",
   "metadata": {},
   "outputs": [
    {
     "ename": "ValueError",
     "evalue": "could not convert string to float: 'python'",
     "output_type": "error",
     "traceback": [
      "\u001b[0;31m---------------------------------------------------------------------------\u001b[0m",
      "\u001b[0;31mValueError\u001b[0m                                Traceback (most recent call last)",
      "Cell \u001b[0;32mIn[108], line 1\u001b[0m\n\u001b[0;32m----> 1\u001b[0m \u001b[38;5;28mfloat\u001b[39m(s)\n",
      "\u001b[0;31mValueError\u001b[0m: could not convert string to float: 'python'"
     ]
    }
   ],
   "source": [
    "float(s)"
   ]
  },
  {
   "cell_type": "code",
   "execution_count": 110,
   "id": "597e32ed-022f-48bb-a7df-2af664addbcd",
   "metadata": {},
   "outputs": [
    {
     "ename": "ValueError",
     "evalue": "complex() arg is a malformed string",
     "output_type": "error",
     "traceback": [
      "\u001b[0;31m---------------------------------------------------------------------------\u001b[0m",
      "\u001b[0;31mValueError\u001b[0m                                Traceback (most recent call last)",
      "Cell \u001b[0;32mIn[110], line 1\u001b[0m\n\u001b[0;32m----> 1\u001b[0m \u001b[38;5;28mcomplex\u001b[39m(s)\n",
      "\u001b[0;31mValueError\u001b[0m: complex() arg is a malformed string"
     ]
    }
   ],
   "source": [
    "complex(s)"
   ]
  },
  {
   "cell_type": "code",
   "execution_count": 112,
   "id": "1af7a470-1a05-4727-af46-d55dec23a70d",
   "metadata": {},
   "outputs": [
    {
     "data": {
      "text/plain": [
       "True"
      ]
     },
     "execution_count": 112,
     "metadata": {},
     "output_type": "execute_result"
    }
   ],
   "source": [
    "bool(s)"
   ]
  },
  {
   "cell_type": "code",
   "execution_count": null,
   "id": "dbb4ab7a-1484-4177-b421-b98f89639f1a",
   "metadata": {},
   "outputs": [],
   "source": []
  },
  {
   "cell_type": "code",
   "execution_count": null,
   "id": "310ec077-8372-4dc6-afa2-7c6b20b16259",
   "metadata": {},
   "outputs": [],
   "source": []
  },
  {
   "cell_type": "code",
   "execution_count": null,
   "id": "82e4c3c7-7ab1-4d45-82b2-8e1cd4688bdc",
   "metadata": {},
   "outputs": [],
   "source": []
  },
  {
   "cell_type": "code",
   "execution_count": null,
   "id": "8e659be6-af8e-4e60-82f8-3c058e7ba6c3",
   "metadata": {},
   "outputs": [],
   "source": []
  },
  {
   "cell_type": "code",
   "execution_count": null,
   "id": "d9f8a4bd-9e9c-498d-bf80-e77603d84324",
   "metadata": {},
   "outputs": [],
   "source": []
  },
  {
   "cell_type": "code",
   "execution_count": null,
   "id": "6c205638-b491-41b6-9aaa-7e44ebdd8e2e",
   "metadata": {},
   "outputs": [],
   "source": []
  }
 ],
 "metadata": {
  "kernelspec": {
   "display_name": "Python [conda env:base] *",
   "language": "python",
   "name": "conda-base-py"
  },
  "language_info": {
   "codemirror_mode": {
    "name": "ipython",
    "version": 3
   },
   "file_extension": ".py",
   "mimetype": "text/x-python",
   "name": "python",
   "nbconvert_exporter": "python",
   "pygments_lexer": "ipython3",
   "version": "3.12.7"
  }
 },
 "nbformat": 4,
 "nbformat_minor": 5
}
