{
 "cells": [
  {
   "cell_type": "markdown",
   "id": "6a8624c5-c940-4cdf-b17b-e40056739921",
   "metadata": {},
   "source": [
    "# INDEXING AND SLICING"
   ]
  },
  {
   "cell_type": "code",
   "execution_count": 2,
   "id": "9d4442d9-6b6a-4f44-bf7b-3341349a926e",
   "metadata": {},
   "outputs": [],
   "source": [
    "name = \"PYTHON PROGRAMMING\""
   ]
  },
  {
   "cell_type": "code",
   "execution_count": 4,
   "id": "c67d09fa-d6f3-440d-9b11-94a0450c2158",
   "metadata": {},
   "outputs": [
    {
     "data": {
      "text/plain": [
       "'PYTHON'"
      ]
     },
     "execution_count": 4,
     "metadata": {},
     "output_type": "execute_result"
    }
   ],
   "source": [
    "name[0:6]    # 6-1=5 # 0,1,2,3,4,5           # [STAR:STOP\\END:STEP]"
   ]
  },
  {
   "cell_type": "code",
   "execution_count": 6,
   "id": "1e08193e-d2c2-4e46-acde-2f01c6826883",
   "metadata": {},
   "outputs": [
    {
     "data": {
      "text/plain": [
       "'PYTH'"
      ]
     },
     "execution_count": 6,
     "metadata": {},
     "output_type": "execute_result"
    }
   ],
   "source": [
    "name[0:4]    # 4-1=3 # 0,1,2,3"
   ]
  },
  {
   "cell_type": "code",
   "execution_count": 8,
   "id": "dfdc8721-d7fc-4d94-88a3-3c8fcdb8e125",
   "metadata": {},
   "outputs": [
    {
     "data": {
      "text/plain": [
       "'TH'"
      ]
     },
     "execution_count": 8,
     "metadata": {},
     "output_type": "execute_result"
    }
   ],
   "source": [
    "name[2:4]   # 4-1=3  # 2,3"
   ]
  },
  {
   "cell_type": "code",
   "execution_count": 10,
   "id": "2eb3bed7-84a0-4b3f-b662-b4b91a77fa3a",
   "metadata": {},
   "outputs": [
    {
     "data": {
      "text/plain": [
       "'THON'"
      ]
     },
     "execution_count": 10,
     "metadata": {},
     "output_type": "execute_result"
    }
   ],
   "source": [
    "name[2:6]   # 6-1=5  # 2,3,4,5"
   ]
  },
  {
   "cell_type": "code",
   "execution_count": 14,
   "id": "a39d84ce-4336-44fe-a7ca-6ae52edb2e57",
   "metadata": {},
   "outputs": [
    {
     "data": {
      "text/plain": [
       "'P'"
      ]
     },
     "execution_count": 14,
     "metadata": {},
     "output_type": "execute_result"
    }
   ],
   "source": [
    "name[0:1]   #1-1=0  # 0"
   ]
  },
  {
   "cell_type": "code",
   "execution_count": 16,
   "id": "b52ddd73-0a6c-44db-a35e-7897f02f396f",
   "metadata": {},
   "outputs": [
    {
     "data": {
      "text/plain": [
       "'T'"
      ]
     },
     "execution_count": 16,
     "metadata": {},
     "output_type": "execute_result"
    }
   ],
   "source": [
    "name[2:3]"
   ]
  },
  {
   "cell_type": "code",
   "execution_count": 20,
   "id": "86899da3-773f-4628-8aae-b3b367afd563",
   "metadata": {},
   "outputs": [
    {
     "data": {
      "text/plain": [
       "range(0, 10)"
      ]
     },
     "execution_count": 20,
     "metadata": {},
     "output_type": "execute_result"
    }
   ],
   "source": [
    "range(10)"
   ]
  },
  {
   "cell_type": "code",
   "execution_count": 22,
   "id": "e18ba24e-1557-4f85-8f83-e5c377f7e438",
   "metadata": {},
   "outputs": [
    {
     "data": {
      "text/plain": [
       "[0, 1, 2, 3, 4, 5, 6, 7, 8, 9]"
      ]
     },
     "execution_count": 22,
     "metadata": {},
     "output_type": "execute_result"
    }
   ],
   "source": [
    "list(range(10))"
   ]
  },
  {
   "cell_type": "code",
   "execution_count": 24,
   "id": "f4e424d7-b392-43d5-a5f9-3ac4f4c24174",
   "metadata": {},
   "outputs": [
    {
     "data": {
      "text/plain": [
       "[1, 2, 3, 4, 5, 6, 7, 8, 9]"
      ]
     },
     "execution_count": 24,
     "metadata": {},
     "output_type": "execute_result"
    }
   ],
   "source": [
    "list(range(1,10))"
   ]
  },
  {
   "cell_type": "code",
   "execution_count": 26,
   "id": "e7445767-93f1-4ecc-843a-2c1ac2ad74cc",
   "metadata": {},
   "outputs": [
    {
     "data": {
      "text/plain": [
       "[1, 3, 5, 7, 9]"
      ]
     },
     "execution_count": 26,
     "metadata": {},
     "output_type": "execute_result"
    }
   ],
   "source": [
    "list(range(1,10,2))"
   ]
  },
  {
   "cell_type": "code",
   "execution_count": 28,
   "id": "26d73e89-3c16-46b2-8a7a-5ba3af13bd0c",
   "metadata": {},
   "outputs": [
    {
     "data": {
      "text/plain": [
       "[]"
      ]
     },
     "execution_count": 28,
     "metadata": {},
     "output_type": "execute_result"
    }
   ],
   "source": [
    "list(range(10,1))"
   ]
  },
  {
   "cell_type": "code",
   "execution_count": 30,
   "id": "910b40c0-a116-4066-b6d9-4ffa1646735a",
   "metadata": {},
   "outputs": [
    {
     "data": {
      "text/plain": [
       "''"
      ]
     },
     "execution_count": 30,
     "metadata": {},
     "output_type": "execute_result"
    }
   ],
   "source": [
    "name[10:1]"
   ]
  },
  {
   "cell_type": "code",
   "execution_count": 32,
   "id": "a6a78952-fec7-4ea1-9b26-d32b919dcfb5",
   "metadata": {},
   "outputs": [
    {
     "data": {
      "text/plain": [
       "'MIN'"
      ]
     },
     "execution_count": 32,
     "metadata": {},
     "output_type": "execute_result"
    }
   ],
   "source": [
    "name[-4:-1]    # -1-1=-2"
   ]
  },
  {
   "cell_type": "code",
   "execution_count": null,
   "id": "b3c1e60c-94ce-42f0-ba48-8cc916866188",
   "metadata": {},
   "outputs": [],
   "source": []
  },
  {
   "cell_type": "code",
   "execution_count": null,
   "id": "a962e444-0d0c-4bc4-ad58-8e4f0f226f8c",
   "metadata": {},
   "outputs": [],
   "source": []
  },
  {
   "cell_type": "code",
   "execution_count": null,
   "id": "657af302-f135-44ab-b9fe-079712600c07",
   "metadata": {},
   "outputs": [],
   "source": []
  }
 ],
 "metadata": {
  "kernelspec": {
   "display_name": "Python [conda env:base] *",
   "language": "python",
   "name": "conda-base-py"
  },
  "language_info": {
   "codemirror_mode": {
    "name": "ipython",
    "version": 3
   },
   "file_extension": ".py",
   "mimetype": "text/x-python",
   "name": "python",
   "nbconvert_exporter": "python",
   "pygments_lexer": "ipython3",
   "version": "3.12.7"
  }
 },
 "nbformat": 4,
 "nbformat_minor": 5
}
