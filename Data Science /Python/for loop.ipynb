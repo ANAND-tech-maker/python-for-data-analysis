{
 "cells": [
  {
   "cell_type": "markdown",
   "id": "154f2d9e",
   "metadata": {},
   "source": [
    "A `for` loop in Python is used to iterate over a sequence of elements, allowing you to execute a block of code repeatedly for each item in the sequence. It is a common construct used in programming to efficiently handle repetitive tasks or process collections of data. The sequence can be any iterable object, such as a list, tuple, string, or even a range.\n",
    "\n",
    "The basic syntax of a `for` loop in Python is as follows:\n",
    "\n",
    "```python\n",
    "for item in sequence:\n",
    "    # Code block to be executed for each item in the sequence\n",
    "```\n",
    "\n",
    "Here's how it works:\n",
    "\n",
    "1. The loop variable (`item` in the above example) takes on the value of each item in the sequence, one by one, in the order they appear in the sequence.\n",
    "2. The code block under the `for` loop is executed for each value of the loop variable. This block is indented and defines the actions you want to perform for each item in the sequence.\n",
    "\n",
    "Let's see some examples of `for` loops:\n",
    "\n",
    "1. Looping through a list:\n",
    "\n",
    "```python\n",
    "fruits = [\"apple\", \"banana\", \"cherry\"]\n",
    "for fruit in fruits:\n",
    "    print(fruit)\n",
    "```\n",
    "\n",
    "Output:\n",
    "```\n",
    "apple\n",
    "banana\n",
    "cherry\n",
    "```\n",
    "\n",
    "2. Looping through a string:\n",
    "\n",
    "```python\n",
    "message = \"Hello, World!\"\n",
    "for char in message:\n",
    "    print(char)\n",
    "```\n",
    "\n",
    "Output:\n",
    "```\n",
    "H\n",
    "e\n",
    "l\n",
    "l\n",
    "o\n",
    ",\n",
    " \n",
    "W\n",
    "o\n",
    "r\n",
    "l\n",
    "d\n",
    "!\n",
    "```\n",
    "\n",
    "3. Looping through a range of numbers:\n",
    "\n",
    "```python\n",
    "for num in range(1, 5):\n",
    "    print(num)\n",
    "```\n",
    "\n",
    "Output:\n",
    "```\n",
    "1\n",
    "2\n",
    "3\n",
    "4\n",
    "```\n",
    "\n",
    "The `range()` function generates a sequence of numbers from the starting value (inclusive) to the ending value (exclusive).\n"
   ]
  },
  {
   "cell_type": "markdown",
   "id": "3ed06837",
   "metadata": {},
   "source": [
    "### range(start,stop,step) "
   ]
  },
  {
   "cell_type": "code",
   "execution_count": 4,
   "id": "f98a1553",
   "metadata": {},
   "outputs": [
    {
     "data": {
      "text/plain": [
       "[0, 2, 4, 6, 8, 10, 12, 14, 16, 18, 20]"
      ]
     },
     "execution_count": 4,
     "metadata": {},
     "output_type": "execute_result"
    }
   ],
   "source": [
    "list(range(0,21,2))"
   ]
  },
  {
   "cell_type": "code",
   "execution_count": 8,
   "id": "bf9f70c0",
   "metadata": {},
   "outputs": [
    {
     "data": {
      "text/plain": [
       "[20, 19, 18, 17, 16, 15, 14, 13, 12, 11, 10, 9, 8, 7, 6, 5, 4, 3, 2, 1]"
      ]
     },
     "execution_count": 8,
     "metadata": {},
     "output_type": "execute_result"
    }
   ],
   "source": [
    "list(range(20,0,-1))"
   ]
  },
  {
   "cell_type": "code",
   "execution_count": 9,
   "id": "c0617493",
   "metadata": {},
   "outputs": [
    {
     "data": {
      "text/plain": [
       "(0, 3, 6, 9, 12, 15, 18, 21, 24, 27, 30)"
      ]
     },
     "execution_count": 9,
     "metadata": {},
     "output_type": "execute_result"
    }
   ],
   "source": [
    "tuple(range(0,31,3))"
   ]
  },
  {
   "cell_type": "code",
   "execution_count": 11,
   "id": "e1eca9e0",
   "metadata": {},
   "outputs": [
    {
     "name": "stdout",
     "output_type": "stream",
     "text": [
      "2\n",
      "4\n",
      "6\n",
      "8\n",
      "10\n",
      "12\n",
      "14\n",
      "16\n",
      "18\n"
     ]
    }
   ],
   "source": [
    "for i in range(1,10):\n",
    "    print(i*2)"
   ]
  },
  {
   "cell_type": "code",
   "execution_count": 5,
   "id": "a38fe689-616b-4f24-8ac7-c14abc4e4d74",
   "metadata": {},
   "outputs": [
    {
     "name": "stdout",
     "output_type": "stream",
     "text": [
      "2 4 6 8 10 12 14 16 18 "
     ]
    }
   ],
   "source": [
    "for i in range(1,10):\n",
    "    print(i*2,end = \" \")"
   ]
  },
  {
   "cell_type": "code",
   "execution_count": 12,
   "id": "4d7a26ae",
   "metadata": {},
   "outputs": [
    {
     "name": "stdout",
     "output_type": "stream",
     "text": [
      "tomototomoto\n",
      "oniononion\n",
      "potatopotato\n",
      "carrotcarrot\n",
      "BrinjalBrinjal\n"
     ]
    }
   ],
   "source": [
    "for i in [\"tomato\",\"onion\",\"potato\",\"carrot\",\"Brinjal\"]: #string*int - repetition\n",
    "    print(i*2)"
   ]
  },
  {
   "cell_type": "code",
   "execution_count": 14,
   "id": "aac9a6b6",
   "metadata": {},
   "outputs": [
    {
     "name": "stdout",
     "output_type": "stream",
     "text": [
      "H***\n",
      "e***\n",
      "l***\n",
      "l***\n",
      "o***\n"
     ]
    }
   ],
   "source": [
    "for i in \"Hello\": #cancatenation\n",
    "    print(i+\"***\")"
   ]
  },
  {
   "cell_type": "code",
   "execution_count": 17,
   "id": "382381d9",
   "metadata": {},
   "outputs": [
    {
     "name": "stdout",
     "output_type": "stream",
     "text": [
      "Not starting with  r \n",
      "rajesh\n",
      "ramu\n",
      "Not starting with  r \n",
      "Not starting with  r \n",
      "Not starting with  r \n",
      "rain\n"
     ]
    }
   ],
   "source": [
    "names = [\"gopi\",\"rajesh\",\"ramu\",\"Krishna\",\"rain\"]\n",
    "for name in names:\n",
    "    if name.startswith('r'):\n",
    "        print(name)\n",
    "    else:\n",
    "        print(\"Not starting with  r \")"
   ]
  },
  {
   "cell_type": "code",
   "execution_count": 18,
   "id": "923d6212",
   "metadata": {},
   "outputs": [
    {
     "name": "stdout",
     "output_type": "stream",
     "text": [
      "Not starting with  r \n",
      "rajesh\n",
      "ramu\n",
      "Not starting with  r \n",
      "Not starting with  r \n",
      "Not starting with  r \n",
      "rain\n"
     ]
    }
   ],
   "source": [
    "names = [\"gopi\",\"rajesh\",\"ramu\",\"Krishna\",\"bheem\",\"arjuna\",\"rain\"]\n",
    "for name in names:\n",
    "    if name[0] == 'r':\n",
    "        print(name)\n",
    "    else:\n",
    "        print(\"Not starting with  r \")"
   ]
  },
  {
   "cell_type": "code",
   "execution_count": 1,
   "id": "6e287439",
   "metadata": {},
   "outputs": [
    {
     "name": "stdout",
     "output_type": "stream",
     "text": [
      "1\n",
      "2\n",
      "3\n",
      "4\n",
      "5\n"
     ]
    }
   ],
   "source": [
    "list1 = [1,2,3,4,5]\n",
    "for i in list1:\n",
    "    print(i)"
   ]
  },
  {
   "cell_type": "code",
   "execution_count": 7,
   "id": "acedd250-17b2-4994-b346-3f7ddb0e68cf",
   "metadata": {},
   "outputs": [
    {
     "name": "stdout",
     "output_type": "stream",
     "text": [
      "Iteration 1  10\n",
      "Iteration 2  20\n",
      "Iteration 3  30\n",
      "Iteration 4  40\n",
      "Iteration 5  50\n"
     ]
    }
   ],
   "source": [
    "list1 = [10,20,30,40,50]\n",
    "j =0\n",
    "for i in list1:\n",
    "    j+=1\n",
    "    print(f\"Iteration {j} \",i)"
   ]
  },
  {
   "cell_type": "code",
   "execution_count": 11,
   "id": "48da0cb1-15c2-484a-aed2-e1206eddad46",
   "metadata": {},
   "outputs": [
    {
     "name": "stdout",
     "output_type": "stream",
     "text": [
      "Not mutiple\n",
      "Multiple of 4\n",
      "Not mutiple\n",
      "Multiple of 4\n",
      "Not mutiple\n"
     ]
    }
   ],
   "source": [
    "list1 = [10,20,30,40,50]\n",
    "for i in list1:\n",
    "    if i%4 == 0:\n",
    "        print(\"Multiple of 4\")\n",
    "    else:\n",
    "        print(\"Not mutiple\")"
   ]
  },
  {
   "cell_type": "code",
   "execution_count": 1,
   "id": "e8512508-0b0c-4ebd-8e71-cb3a360ed0b6",
   "metadata": {},
   "outputs": [
    {
     "name": "stdout",
     "output_type": "stream",
     "text": [
      "a is vowel\n",
      "e is vowel\n",
      "i is vowel\n",
      "m is consonant\n",
      "t is consonant\n",
      "o is vowel\n",
      "s is consonant\n"
     ]
    }
   ],
   "source": [
    "list1 = [\"a\",\"e\",\"i\",\"m\",\"t\",\"o\",\"s\"]\n",
    "\n",
    "vowels = [\"a\",\"e\",\"i\",\"o\",\"u\"]\n",
    "\n",
    "for char in list1:\n",
    "\n",
    "    if char in vowels:\n",
    "\n",
    "        print(f\"{char} is vowel\")\n",
    "\n",
    "    else:\n",
    "\n",
    "        print(f\"{char} is consonant\")\n",
    " "
   ]
  },
  {
   "cell_type": "code",
   "execution_count": 13,
   "id": "0efb45d2-606c-44d1-b20e-95fbc20fa4d8",
   "metadata": {},
   "outputs": [
    {
     "name": "stdout",
     "output_type": "stream",
     "text": [
      "1\n",
      "2\n",
      "3\n",
      "4\n",
      "5\n",
      "6\n",
      "7\n",
      "8\n",
      "9\n",
      "10\n"
     ]
    }
   ],
   "source": [
    "for num in range(1,11):\n",
    "    print(num)"
   ]
  },
  {
   "cell_type": "code",
   "execution_count": 15,
   "id": "634a0ffe-3e15-4eeb-8a2d-0a12c88f09aa",
   "metadata": {},
   "outputs": [
    {
     "name": "stdout",
     "output_type": "stream",
     "text": [
      "odd\n",
      "even\n",
      "odd\n",
      "even\n",
      "odd\n",
      "even\n",
      "odd\n",
      "even\n",
      "odd\n",
      "even\n"
     ]
    }
   ],
   "source": [
    "for num in range(1,11):\n",
    "    if num%2 ==0:\n",
    "        print(\"even\")\n",
    "    else:\n",
    "        print(\"odd\")"
   ]
  },
  {
   "cell_type": "code",
   "execution_count": 17,
   "id": "3dcd5ab5-64b3-4c39-b1a5-7de2ccc736df",
   "metadata": {},
   "outputs": [
    {
     "name": "stdout",
     "output_type": "stream",
     "text": [
      "1 1\n",
      "1 2\n",
      "1 3\n",
      "1 4\n",
      "1 5\n",
      "1 6\n",
      "1 7\n",
      "1 8\n",
      "1 9\n",
      "1 10\n",
      "2 1\n",
      "2 2\n",
      "2 3\n",
      "2 4\n",
      "2 5\n",
      "2 6\n",
      "2 7\n",
      "2 8\n",
      "2 9\n",
      "2 10\n",
      "3 1\n",
      "3 2\n",
      "3 3\n",
      "3 4\n",
      "3 5\n",
      "3 6\n",
      "3 7\n",
      "3 8\n",
      "3 9\n",
      "3 10\n",
      "4 1\n",
      "4 2\n",
      "4 3\n",
      "4 4\n",
      "4 5\n",
      "4 6\n",
      "4 7\n",
      "4 8\n",
      "4 9\n",
      "4 10\n",
      "5 1\n",
      "5 2\n",
      "5 3\n",
      "5 4\n",
      "5 5\n",
      "5 6\n",
      "5 7\n",
      "5 8\n",
      "5 9\n",
      "5 10\n",
      "6 1\n",
      "6 2\n",
      "6 3\n",
      "6 4\n",
      "6 5\n",
      "6 6\n",
      "6 7\n",
      "6 8\n",
      "6 9\n",
      "6 10\n",
      "7 1\n",
      "7 2\n",
      "7 3\n",
      "7 4\n",
      "7 5\n",
      "7 6\n",
      "7 7\n",
      "7 8\n",
      "7 9\n",
      "7 10\n",
      "8 1\n",
      "8 2\n",
      "8 3\n",
      "8 4\n",
      "8 5\n",
      "8 6\n",
      "8 7\n",
      "8 8\n",
      "8 9\n",
      "8 10\n",
      "9 1\n",
      "9 2\n",
      "9 3\n",
      "9 4\n",
      "9 5\n",
      "9 6\n",
      "9 7\n",
      "9 8\n",
      "9 9\n",
      "9 10\n",
      "10 1\n",
      "10 2\n",
      "10 3\n",
      "10 4\n",
      "10 5\n",
      "10 6\n",
      "10 7\n",
      "10 8\n",
      "10 9\n",
      "10 10\n"
     ]
    }
   ],
   "source": [
    "for i in range(1,11):\n",
    "    for j in range(1,11):\n",
    "        print(i,j)"
   ]
  },
  {
   "cell_type": "code",
   "execution_count": 3,
   "id": "f60a4434-a4f1-46f5-85ed-a1cb3eca51e1",
   "metadata": {},
   "outputs": [
    {
     "name": "stdout",
     "output_type": "stream",
     "text": [
      "1 2\n",
      "1 3\n",
      "1 4\n",
      "1 5\n",
      "1 6\n",
      "1 7\n",
      "1 8\n",
      "2 2\n",
      "2 3\n",
      "2 4\n",
      "2 5\n",
      "2 6\n",
      "2 7\n",
      "2 8\n",
      "3 2\n",
      "3 3\n",
      "3 4\n",
      "3 5\n",
      "3 6\n",
      "3 7\n",
      "3 8\n",
      "4 2\n",
      "4 3\n",
      "4 4\n",
      "4 5\n",
      "4 6\n",
      "4 7\n",
      "4 8\n",
      "5 2\n",
      "5 3\n",
      "5 4\n",
      "5 5\n",
      "5 6\n",
      "5 7\n",
      "5 8\n",
      "6 2\n",
      "6 3\n",
      "6 4\n",
      "6 5\n",
      "6 6\n",
      "6 7\n",
      "6 8\n",
      "7 2\n",
      "7 3\n",
      "7 4\n",
      "7 5\n",
      "7 6\n",
      "7 7\n",
      "7 8\n",
      "8 2\n",
      "8 3\n",
      "8 4\n",
      "8 5\n",
      "8 6\n",
      "8 7\n",
      "8 8\n",
      "9 2\n",
      "9 3\n",
      "9 4\n",
      "9 5\n",
      "9 6\n",
      "9 7\n",
      "9 8\n",
      "10 2\n",
      "10 3\n",
      "10 4\n",
      "10 5\n",
      "10 6\n",
      "10 7\n",
      "10 8\n"
     ]
    }
   ],
   "source": [
    "for i in range(1,11):\n",
    "    for j in range(2,9):\n",
    "        print(i,j)"
   ]
  },
  {
   "cell_type": "code",
   "execution_count": 21,
   "id": "5d043133-1b76-4363-84e5-aa9a342f6b1d",
   "metadata": {},
   "outputs": [
    {
     "name": "stdout",
     "output_type": "stream",
     "text": [
      "apple\n",
      "banana\n",
      "grapes\n",
      "apple\n",
      "banana\n",
      "grapes\n",
      "apple\n",
      "banana\n",
      "grapes\n"
     ]
    }
   ],
   "source": [
    "fruits = [\"apple\" ,\"banana\",\"grapes\"]\n",
    "veg = [\"tomato\",\"onion\",\"carrot\"]\n",
    "for val in veg:\n",
    "    for name in fruits:\n",
    "        print(name)"
   ]
  },
  {
   "cell_type": "code",
   "execution_count": 23,
   "id": "6f38bf16-c893-4672-a320-a801c9aeb485",
   "metadata": {},
   "outputs": [
    {
     "name": "stdout",
     "output_type": "stream",
     "text": [
      "apple tomato\n",
      "banana tomato\n",
      "grapes tomato\n",
      "apple onion\n",
      "banana onion\n",
      "grapes onion\n",
      "apple carrot\n",
      "banana carrot\n",
      "grapes carrot\n"
     ]
    }
   ],
   "source": [
    "fruits = [\"apple\" ,\"banana\",\"grapes\"]\n",
    "veg = [\"tomato\",\"onion\",\"carrot\"]\n",
    "for val in veg:\n",
    "    for name in fruits:\n",
    "        print(name,val)"
   ]
  },
  {
   "cell_type": "code",
   "execution_count": 9,
   "id": "16b90c4d-a7cd-4dfa-bbc5-eaaa49c54e1e",
   "metadata": {},
   "outputs": [
    {
     "name": "stdout",
     "output_type": "stream",
     "text": [
      " name is starting with s\n"
     ]
    }
   ],
   "source": [
    "name = \"siva academy\"\n",
    "if name.startswith(\"s\"):\n",
    "    print(\" name is starting with s\")\n",
    "else:\n",
    "    print(\" name is not starting with s\")"
   ]
  },
  {
   "cell_type": "code",
   "execution_count": 11,
   "id": "57f1acbf-8c17-4040-90f3-454c1480c039",
   "metadata": {},
   "outputs": [
    {
     "name": "stdout",
     "output_type": "stream",
     "text": [
      " name is starting with s\n"
     ]
    }
   ],
   "source": [
    "#ternary operator\n",
    "print(\" name is starting with s\") if name.startswith(\"s\") else print(\" name is not starting with s\")"
   ]
  },
  {
   "cell_type": "code",
   "execution_count": 1,
   "id": "4b774331-e1fd-4a29-b652-6634ce146ede",
   "metadata": {},
   "outputs": [
    {
     "name": "stdout",
     "output_type": "stream",
     "text": [
      "S\n",
      "i\n",
      "v\n",
      "a\n",
      " \n",
      "a\n",
      "c\n",
      "a\n",
      "d\n",
      "e\n",
      "m\n",
      "y\n"
     ]
    }
   ],
   "source": [
    "name = \"Siva academy\"\n",
    "for i in name:\n",
    "    print(i)"
   ]
  },
  {
   "cell_type": "code",
   "execution_count": 7,
   "id": "ff9f1794-134a-4595-8f70-1cbcf16064ce",
   "metadata": {},
   "outputs": [
    {
     "name": "stdout",
     "output_type": "stream",
     "text": [
      "[16, 18, 20, 21, 22]\n"
     ]
    }
   ],
   "source": [
    "list1 = [10,12,14,15,16]\n",
    "list2 = []\n",
    "for i in list1:\n",
    "    list2.append(i+6)\n",
    "print(list2)"
   ]
  },
  {
   "cell_type": "code",
   "execution_count": 11,
   "id": "30c9f10a-5232-4294-9c4e-3952de1625dc",
   "metadata": {},
   "outputs": [
    {
     "data": {
      "text/plain": [
       "[16, 18, 20, 21, 22]"
      ]
     },
     "execution_count": 11,
     "metadata": {},
     "output_type": "execute_result"
    }
   ],
   "source": [
    "[ i+6 for i in list1]"
   ]
  },
  {
   "cell_type": "code",
   "execution_count": 9,
   "id": "c17b87b7-aceb-4e54-b621-f359e8ab2cc7",
   "metadata": {},
   "outputs": [
    {
     "data": {
      "text/plain": [
       "[16, 18, 20, 21, 22]"
      ]
     },
     "execution_count": 9,
     "metadata": {},
     "output_type": "execute_result"
    }
   ],
   "source": [
    "[ i+6 for i in list1]"
   ]
  },
  {
   "cell_type": "code",
   "execution_count": 43,
   "id": "b9888c3d-9426-412e-9442-3af4ba2f009e",
   "metadata": {},
   "outputs": [
    {
     "name": "stdout",
     "output_type": "stream",
     "text": [
      "apple\n",
      "orange\n",
      "grape\n"
     ]
    }
   ],
   "source": [
    "fruits = [\"apple\" ,\"banana\",\"orange\",\"grape\"]\n",
    "for i in fruits:\n",
    "    if i.endswith(\"e\"):\n",
    "        print(i)"
   ]
  },
  {
   "cell_type": "code",
   "execution_count": 13,
   "id": "8d5a6c63-f08b-47ff-9c4f-5fece5207bde",
   "metadata": {},
   "outputs": [
    {
     "name": "stdout",
     "output_type": "stream",
     "text": [
      "apple\n",
      "orange\n",
      "grape\n"
     ]
    }
   ],
   "source": [
    "fruits = [\"apple\" ,\"banana\",\"orange\",\"grape\"]\n",
    "for i in fruits:\n",
    "    if i.endswith(\"e\"):\n",
    "        print(i)\n",
    "    else:\n",
    "        pass"
   ]
  },
  {
   "cell_type": "code",
   "execution_count": 5,
   "id": "85930a17-3b62-4b76-8fa0-b2b3bc51d902",
   "metadata": {},
   "outputs": [
    {
     "data": {
      "text/plain": [
       "['apple', 'orange', 'grape']"
      ]
     },
     "execution_count": 5,
     "metadata": {},
     "output_type": "execute_result"
    }
   ],
   "source": [
    "[i for i in fruits if i.endswith(\"e\")]"
   ]
  },
  {
   "cell_type": "code",
   "execution_count": 55,
   "id": "51ac3a6b-324b-4d70-ba80-798714e834ae",
   "metadata": {},
   "outputs": [
    {
     "name": "stdout",
     "output_type": "stream",
     "text": [
      "[1, 4, 9, 16, 25]\n"
     ]
    }
   ],
   "source": [
    "squares = [x**2 for x in range(1, 6)]\n",
    "print(squares)  # Output: [1, 4, 9, 16, 25]\n"
   ]
  },
  {
   "cell_type": "code",
   "execution_count": 57,
   "id": "44f4b3e7-8700-48e2-81f7-7c199cad4608",
   "metadata": {},
   "outputs": [
    {
     "name": "stdout",
     "output_type": "stream",
     "text": [
      "[2, 4, 6]\n"
     ]
    }
   ],
   "source": [
    "nums = [1, 2, 3, 4, 5, 6]\n",
    "evens = [x for x in nums if x % 2 == 0]\n",
    "print(evens)  # Output: [2, 4, 6]"
   ]
  },
  {
   "cell_type": "code",
   "execution_count": 59,
   "id": "d4722e92-9abd-4a65-9f53-e8c90ddb0c7a",
   "metadata": {},
   "outputs": [
    {
     "name": "stdout",
     "output_type": "stream",
     "text": [
      "['APPLE', 'BANANA', 'CHERRY']\n"
     ]
    }
   ],
   "source": [
    "words = [\"apple\", \"banana\", \"cherry\"]\n",
    "upper_words = [word.upper() for word in words]\n",
    "print(upper_words)  # Output: ['APPLE', 'BANANA', 'CHERRY']\n"
   ]
  },
  {
   "cell_type": "code",
   "execution_count": 63,
   "id": "5b59efdc-2c7f-49a1-98ae-98cf9dab4413",
   "metadata": {},
   "outputs": [
    {
     "name": "stdout",
     "output_type": "stream",
     "text": [
      "['e', 'o', 'o']\n"
     ]
    }
   ],
   "source": [
    "text = \"hello world\"\n",
    "vowels = [ch for ch in text if ch in \"aeiou\"]\n",
    "print(vowels)  # Output: ['e', 'o', 'o']\n"
   ]
  },
  {
   "cell_type": "code",
   "execution_count": 61,
   "id": "445bfcd2-a463-4cde-ac25-254ec2247710",
   "metadata": {},
   "outputs": [
    {
     "name": "stdout",
     "output_type": "stream",
     "text": [
      "['apple', 'kiwi', 'banana']\n"
     ]
    }
   ],
   "source": [
    "fruits = [\"apple\", \"kiwi\", \"banana\", \"fig\"]\n",
    "long_fruits = [fruit for fruit in fruits if len(fruit) > 3]\n",
    "print(long_fruits)  # Output: ['apple', 'banana']\n"
   ]
  },
  {
   "cell_type": "code",
   "execution_count": 65,
   "id": "5401457a-1fcb-465a-90c6-b3c5101832f0",
   "metadata": {},
   "outputs": [
    {
     "name": "stdout",
     "output_type": "stream",
     "text": [
      "[15, 30]\n"
     ]
    }
   ],
   "source": [
    "div_3_5 = [x for x in range(1, 31) if x % 3 == 0 and x % 5 == 0]\n",
    "print(div_3_5)  # Output: [15, 30]\n"
   ]
  },
  {
   "cell_type": "code",
   "execution_count": 67,
   "id": "71b1c6a7-0906-450e-8d8f-3f53c6ec0b59",
   "metadata": {},
   "outputs": [
    {
     "name": "stdout",
     "output_type": "stream",
     "text": [
      "['hello_world', 'python_is_fun']\n"
     ]
    }
   ],
   "source": [
    "sentences = [\"hello world\", \"python is fun\"]\n",
    "modified = [sentence.replace(\" \", \"_\") for sentence in sentences]\n",
    "print(modified)  # Output: ['hello_world', 'python_is_fun']\n"
   ]
  },
  {
   "cell_type": "code",
   "execution_count": 69,
   "id": "81d22718-97cf-48cd-890b-1a97a4d7eea6",
   "metadata": {},
   "outputs": [
    {
     "name": "stdout",
     "output_type": "stream",
     "text": [
      "['1', '2', '3', '4', '5']\n"
     ]
    }
   ],
   "source": [
    "text = \"abc123xyz45\"\n",
    "digits = [ch for ch in text if ch.isdigit()]\n",
    "print(digits)  # Output: ['1', '2', '3', '4', '5']\n"
   ]
  },
  {
   "cell_type": "code",
   "execution_count": 71,
   "id": "e3e25d2b-121d-4602-8eba-c4304f09228c",
   "metadata": {},
   "outputs": [
    {
     "name": "stdout",
     "output_type": "stream",
     "text": [
      "[1, 2, 3, 4, 5, 6]\n"
     ]
    }
   ],
   "source": [
    "nested_list = [[1, 2], [3, 4], [5, 6]]\n",
    "flat_list = [item for sublist in nested_list for item in sublist]\n",
    "print(flat_list)  # Output: [1, 2, 3, 4, 5, 6]\n"
   ]
  },
  {
   "cell_type": "code",
   "execution_count": null,
   "id": "fa089571-2fe8-4690-9bbe-97a68a14bf1b",
   "metadata": {},
   "outputs": [],
   "source": []
  }
 ],
 "metadata": {
  "kernelspec": {
   "display_name": "Python [conda env:base] *",
   "language": "python",
   "name": "conda-base-py"
  },
  "language_info": {
   "codemirror_mode": {
    "name": "ipython",
    "version": 3
   },
   "file_extension": ".py",
   "mimetype": "text/x-python",
   "name": "python",
   "nbconvert_exporter": "python",
   "pygments_lexer": "ipython3",
   "version": "3.12.7"
  }
 },
 "nbformat": 4,
 "nbformat_minor": 5
}
