{
 "cells": [
  {
   "cell_type": "markdown",
   "id": "0b3b3d86-2fbd-4391-9283-a4af8ab8ec31",
   "metadata": {
    "id": "0b3b3d86-2fbd-4391-9283-a4af8ab8ec31"
   },
   "source": [
    "# File Handling : Day - 1"
   ]
  },
  {
   "cell_type": "code",
   "execution_count": null,
   "id": "cdc6a2c4-02e4-4b3a-b24f-e43cdeba54c5",
   "metadata": {
    "id": "cdc6a2c4-02e4-4b3a-b24f-e43cdeba54c5"
   },
   "outputs": [],
   "source": [
    "# file_object = open(\"file_name\",\"mode\")"
   ]
  },
  {
   "cell_type": "code",
   "execution_count": null,
   "id": "dfe5347b-0474-466f-868c-1e92f31ce7ec",
   "metadata": {
    "id": "dfe5347b-0474-466f-868c-1e92f31ce7ec"
   },
   "outputs": [],
   "source": [
    "# 4 Operations - > 1) Open 2) Read 3) Write 4) Close"
   ]
  },
  {
   "cell_type": "code",
   "execution_count": null,
   "id": "46c80a39-f3f3-4b1d-b8fa-e0b70cbacffb",
   "metadata": {
    "id": "46c80a39-f3f3-4b1d-b8fa-e0b70cbacffb"
   },
   "outputs": [],
   "source": [
    "# MODES:\n",
    "# x - This mode is to create the file only\n",
    "\n",
    "# r - You can read the content only, you cannot write the content. The pointer is going\n",
    "#     at 0th position. if the file is not existed, it will give you \"FileNotFoundError\".\n",
    "\n",
    "# w - You can write the content only. It will open the file in write mode, but it will\n",
    "#     erase previous content if the file existed.The pointer is going to be at 0th position.\n",
    "#     if the file is not existed, it will create the new file. We cannot read the content.\n",
    "\n",
    "# r+ -Using this mode, you can read/write the content. The pointer is going to be at the\n",
    "#     0th position - because of this it will overwrite the content. if the file is not\n",
    "#     existed, it will give you \"FileNotFoundError\".\n",
    "\n",
    "# w+ - This mode will read/write the content. It will erase the previos content\n",
    "#      if the file is existed.\n",
    "#      So the pointer is going to be at the 0th position.\n",
    "#      if the file is not existed it will create the new file.\n",
    "\n",
    "# a = This mode can open the file in the write/(append), when we open the file\n",
    "#     the pointer is going to be at end of the text or data. We cannot read the\n",
    "#     data using this method. If the file is not existed, it will create the new file.\n",
    "\n",
    "# a+ = This mode can open the file in the write/(append) and read, when we open the file\n",
    "#     the pointer is going to be at end of the text or data. We can read the\n",
    "#     data using this method. If the file is not existed, it will create the new file.\n",
    "\n"
   ]
  },
  {
   "cell_type": "code",
   "execution_count": null,
   "id": "b7377b1f-b5ea-46cc-a8e5-27ffd9365055",
   "metadata": {
    "id": "b7377b1f-b5ea-46cc-a8e5-27ffd9365055",
    "outputId": "8c6f779a-78d9-4ced-eb1c-4f9c51e8132c"
   },
   "outputs": [
    {
     "ename": "FileExistsError",
     "evalue": "[Errno 17] File exists: 'file_2.txt'",
     "output_type": "error",
     "traceback": [
      "\u001b[1;31m---------------------------------------------------------------------------\u001b[0m",
      "\u001b[1;31mFileExistsError\u001b[0m                           Traceback (most recent call last)",
      "Cell \u001b[1;32mIn[26], line 1\u001b[0m\n\u001b[1;32m----> 1\u001b[0m f1 \u001b[38;5;241m=\u001b[39m \u001b[38;5;28mopen\u001b[39m(\u001b[38;5;124m\"\u001b[39m\u001b[38;5;124mfile_2.txt\u001b[39m\u001b[38;5;124m\"\u001b[39m,\u001b[38;5;124m\"\u001b[39m\u001b[38;5;124mx\u001b[39m\u001b[38;5;124m\"\u001b[39m)\n",
      "File \u001b[1;32m~\\anaconda3\\Lib\\site-packages\\IPython\\core\\interactiveshell.py:324\u001b[0m, in \u001b[0;36m_modified_open\u001b[1;34m(file, *args, **kwargs)\u001b[0m\n\u001b[0;32m    317\u001b[0m \u001b[38;5;28;01mif\u001b[39;00m file \u001b[38;5;129;01min\u001b[39;00m {\u001b[38;5;241m0\u001b[39m, \u001b[38;5;241m1\u001b[39m, \u001b[38;5;241m2\u001b[39m}:\n\u001b[0;32m    318\u001b[0m     \u001b[38;5;28;01mraise\u001b[39;00m \u001b[38;5;167;01mValueError\u001b[39;00m(\n\u001b[0;32m    319\u001b[0m         \u001b[38;5;124mf\u001b[39m\u001b[38;5;124m\"\u001b[39m\u001b[38;5;124mIPython won\u001b[39m\u001b[38;5;124m'\u001b[39m\u001b[38;5;124mt let you open fd=\u001b[39m\u001b[38;5;132;01m{\u001b[39;00mfile\u001b[38;5;132;01m}\u001b[39;00m\u001b[38;5;124m by default \u001b[39m\u001b[38;5;124m\"\u001b[39m\n\u001b[0;32m    320\u001b[0m         \u001b[38;5;124m\"\u001b[39m\u001b[38;5;124mas it is likely to crash IPython. If you know what you are doing, \u001b[39m\u001b[38;5;124m\"\u001b[39m\n\u001b[0;32m    321\u001b[0m         \u001b[38;5;124m\"\u001b[39m\u001b[38;5;124myou can use builtins\u001b[39m\u001b[38;5;124m'\u001b[39m\u001b[38;5;124m open.\u001b[39m\u001b[38;5;124m\"\u001b[39m\n\u001b[0;32m    322\u001b[0m     )\n\u001b[1;32m--> 324\u001b[0m \u001b[38;5;28;01mreturn\u001b[39;00m io_open(file, \u001b[38;5;241m*\u001b[39margs, \u001b[38;5;241m*\u001b[39m\u001b[38;5;241m*\u001b[39mkwargs)\n",
      "\u001b[1;31mFileExistsError\u001b[0m: [Errno 17] File exists: 'file_2.txt'"
     ]
    }
   ],
   "source": [
    "f1 = open(\"file_2.txt\",\"x\") # \"x\" mode to create the file only.\n",
    "                            # if you execute the \"x\" mode with same file name\n",
    "                            # it will give you \"FileExistsError\""
   ]
  },
  {
   "cell_type": "code",
   "execution_count": null,
   "id": "858c5bd6-0f34-4997-9d80-27bf716621ec",
   "metadata": {
    "id": "858c5bd6-0f34-4997-9d80-27bf716621ec"
   },
   "outputs": [],
   "source": [
    "# ??open   # To get the information about the open() function"
   ]
  },
  {
   "cell_type": "code",
   "execution_count": null,
   "id": "05bb1c57-3eb0-42ad-882c-1a40f5198804",
   "metadata": {
    "id": "05bb1c57-3eb0-42ad-882c-1a40f5198804",
    "outputId": "6d5325c7-ae49-4943-f54d-36aaed38fa38"
   },
   "outputs": [
    {
     "name": "stdout",
     "output_type": "stream",
     "text": [
      "\n"
     ]
    }
   ],
   "source": [
    "f1 = open(\"file_1.txt\",\"r\")\n",
    "print(f1.read())"
   ]
  },
  {
   "cell_type": "code",
   "execution_count": null,
   "id": "07ceddd5-1c41-413a-ac1f-cb4f85294269",
   "metadata": {
    "id": "07ceddd5-1c41-413a-ac1f-cb4f85294269",
    "outputId": "9bf3cb52-e5fb-48fa-d288-b122d52760c1"
   },
   "outputs": [
    {
     "ename": "UnsupportedOperation",
     "evalue": "not writable",
     "output_type": "error",
     "traceback": [
      "\u001b[1;31m---------------------------------------------------------------------------\u001b[0m",
      "\u001b[1;31mUnsupportedOperation\u001b[0m                      Traceback (most recent call last)",
      "Cell \u001b[1;32mIn[40], line 2\u001b[0m\n\u001b[0;32m      1\u001b[0m f1 \u001b[38;5;241m=\u001b[39m \u001b[38;5;28mopen\u001b[39m(\u001b[38;5;124m\"\u001b[39m\u001b[38;5;124mfile_1.txt\u001b[39m\u001b[38;5;124m\"\u001b[39m,\u001b[38;5;124m\"\u001b[39m\u001b[38;5;124mr\u001b[39m\u001b[38;5;124m\"\u001b[39m)\n\u001b[1;32m----> 2\u001b[0m f1\u001b[38;5;241m.\u001b[39mwrite(\u001b[38;5;124m\"\u001b[39m\u001b[38;5;124mWelcome to Data Analytics and Data Science Sessions\u001b[39m\u001b[38;5;124m\"\u001b[39m)\n",
      "\u001b[1;31mUnsupportedOperation\u001b[0m: not writable"
     ]
    }
   ],
   "source": [
    "f1 = open(\"file_1.txt\",\"r\")\n",
    "f1.write(\"Welcome to Data Analytics and Data Science Sessions\")"
   ]
  },
  {
   "cell_type": "code",
   "execution_count": null,
   "id": "bb7ea5ae-de57-4564-ac34-ba76d797bfbb",
   "metadata": {
    "id": "bb7ea5ae-de57-4564-ac34-ba76d797bfbb",
    "outputId": "3c5c4eb5-f585-4289-a8bf-5c2922fb6db3"
   },
   "outputs": [
    {
     "data": {
      "text/plain": [
       "51"
      ]
     },
     "execution_count": 65,
     "metadata": {},
     "output_type": "execute_result"
    }
   ],
   "source": [
    "f1 = open(\"file_1.txt\",\"w\")\n",
    "f1.write(\"Welcome to Data Analytics and Data Science Sessions\")"
   ]
  },
  {
   "cell_type": "code",
   "execution_count": null,
   "id": "6ff2b01d-2fa9-43bb-abd6-1022d3a2040d",
   "metadata": {
    "id": "6ff2b01d-2fa9-43bb-abd6-1022d3a2040d"
   },
   "outputs": [],
   "source": [
    "f1 = open(\"file_1.txt\",\"w\")"
   ]
  },
  {
   "cell_type": "code",
   "execution_count": null,
   "id": "fa3eb68b-ec7e-4483-bc8b-5c43fa3dc9a3",
   "metadata": {
    "id": "fa3eb68b-ec7e-4483-bc8b-5c43fa3dc9a3",
    "outputId": "2ec30ca4-c74c-4355-8ada-bfd2365ba213"
   },
   "outputs": [
    {
     "name": "stdout",
     "output_type": "stream",
     "text": [
      "\n"
     ]
    }
   ],
   "source": [
    "f1 = open(\"file_1.txt\",\"r\")\n",
    "print(f1.read())"
   ]
  },
  {
   "cell_type": "code",
   "execution_count": null,
   "id": "fe2e7903-de10-4066-80d5-2abb0a500fdf",
   "metadata": {
    "id": "fe2e7903-de10-4066-80d5-2abb0a500fdf",
    "outputId": "f49ba1f9-d9e7-4b23-e914-4c81ad87e1a5"
   },
   "outputs": [
    {
     "data": {
      "text/plain": [
       "42"
      ]
     },
     "execution_count": 85,
     "metadata": {},
     "output_type": "execute_result"
    }
   ],
   "source": [
    "f1 = open(\"file_1.txt\",\"w\")\n",
    "f1.write(\"Data Science is nothing without statistics\")"
   ]
  },
  {
   "cell_type": "code",
   "execution_count": null,
   "id": "22042b2f-ae36-488c-8677-22d20138ef43",
   "metadata": {
    "id": "22042b2f-ae36-488c-8677-22d20138ef43",
    "outputId": "6e33e54f-6e6d-45fe-e39c-d002f1649f47"
   },
   "outputs": [
    {
     "name": "stdout",
     "output_type": "stream",
     "text": [
      "0\n",
      "42\n",
      "0\n",
      "23\n",
      " without statistics\n",
      "67\n",
      "\n",
      "0\n",
      "0\n",
      "Welcome to Data Science without statisticsWelcome to Data Analytics\n"
     ]
    }
   ],
   "source": [
    "f1 = open(\"file_1.txt\",\"w\")\n",
    "print(f1.tell())\n",
    "f1.write(\"Data Science is nothing without statistics\")\n",
    "print(f1.tell())\n",
    "f1 = open(\"file_1.txt\",\"r+\")\n",
    "print(f1.tell())\n",
    "f1.write(\"Welcome to Data Science\")\n",
    "print(f1.tell())\n",
    "print(f1.read())\n",
    "f1.write(\"Welcome to Data Analytics\")\n",
    "print(f1.tell())\n",
    "print(f1.read())\n",
    "print(f1.seek(0))\n",
    "print(f1.tell())\n",
    "print(f1.read())"
   ]
  },
  {
   "cell_type": "code",
   "execution_count": null,
   "id": "bdb4f088-4ea9-41d4-8b9c-56b7c9693990",
   "metadata": {
    "id": "bdb4f088-4ea9-41d4-8b9c-56b7c9693990",
    "outputId": "2631c863-d632-43a1-8dcd-21a2adb8b9a2"
   },
   "outputs": [
    {
     "data": {
      "text/plain": [
       "42"
      ]
     },
     "execution_count": 105,
     "metadata": {},
     "output_type": "execute_result"
    }
   ],
   "source": [
    "len(\"Data Science is nothing without statistics\")"
   ]
  },
  {
   "cell_type": "code",
   "execution_count": null,
   "id": "31cbce70-8714-41db-958a-3879cbce314f",
   "metadata": {
    "id": "31cbce70-8714-41db-958a-3879cbce314f",
    "outputId": "d8baf6c7-8b66-4c53-b577-4dda7f843a47"
   },
   "outputs": [
    {
     "data": {
      "text/plain": [
       "23"
      ]
     },
     "execution_count": 95,
     "metadata": {},
     "output_type": "execute_result"
    }
   ],
   "source": [
    "len(\"Welcome to Data Science\")"
   ]
  },
  {
   "cell_type": "code",
   "execution_count": null,
   "id": "bbffdc74-6286-4377-bcde-eb55d8cd4cfb",
   "metadata": {
    "id": "bbffdc74-6286-4377-bcde-eb55d8cd4cfb",
    "outputId": "f6dca357-7664-48c2-873b-2b7efb7833ca"
   },
   "outputs": [
    {
     "data": {
      "text/plain": [
       "23"
      ]
     },
     "execution_count": 97,
     "metadata": {},
     "output_type": "execute_result"
    }
   ],
   "source": [
    "len(\"Data Science is nothing\")"
   ]
  },
  {
   "cell_type": "code",
   "execution_count": null,
   "id": "54379e57-0aa5-4885-bb72-714b49e8ee1d",
   "metadata": {
    "id": "54379e57-0aa5-4885-bb72-714b49e8ee1d"
   },
   "outputs": [],
   "source": [
    "Data Science is nothing without statisticsWelcome to Data Science"
   ]
  },
  {
   "cell_type": "code",
   "execution_count": null,
   "id": "e109b315-1a48-4973-9b9c-b1f0549309d8",
   "metadata": {
    "id": "e109b315-1a48-4973-9b9c-b1f0549309d8",
    "outputId": "a74502fe-deca-40f6-e95a-8275cb9d73cb"
   },
   "outputs": [
    {
     "data": {
      "text/plain": [
       "24"
      ]
     },
     "execution_count": 151,
     "metadata": {},
     "output_type": "execute_result"
    }
   ],
   "source": [
    "f1 = open(\"file_3.txt\",\"w\")\n",
    "f1.write(\"I can write in this file\")"
   ]
  },
  {
   "cell_type": "code",
   "execution_count": null,
   "id": "ca695c22-a444-428a-8944-7e5166954fc9",
   "metadata": {
    "id": "ca695c22-a444-428a-8944-7e5166954fc9",
    "outputId": "c5946289-edb2-4276-ec5b-59147125049e"
   },
   "outputs": [
    {
     "ename": "UnsupportedOperation",
     "evalue": "not readable",
     "output_type": "error",
     "traceback": [
      "\u001b[1;31m---------------------------------------------------------------------------\u001b[0m",
      "\u001b[1;31mUnsupportedOperation\u001b[0m                      Traceback (most recent call last)",
      "Cell \u001b[1;32mIn[135], line 2\u001b[0m\n\u001b[0;32m      1\u001b[0m f1 \u001b[38;5;241m=\u001b[39m \u001b[38;5;28mopen\u001b[39m(\u001b[38;5;124m\"\u001b[39m\u001b[38;5;124mfile_3.txt\u001b[39m\u001b[38;5;124m\"\u001b[39m,\u001b[38;5;124m\"\u001b[39m\u001b[38;5;124mw\u001b[39m\u001b[38;5;124m\"\u001b[39m)\n\u001b[1;32m----> 2\u001b[0m \u001b[38;5;28mprint\u001b[39m(f1\u001b[38;5;241m.\u001b[39mread())\n",
      "\u001b[1;31mUnsupportedOperation\u001b[0m: not readable"
     ]
    }
   ],
   "source": [
    "f1 = open(\"file_3.txt\",\"w\")\n",
    "print(f1.read())"
   ]
  },
  {
   "cell_type": "code",
   "execution_count": null,
   "id": "81433d78-4e27-4c06-8b18-864600306677",
   "metadata": {
    "id": "81433d78-4e27-4c06-8b18-864600306677",
    "outputId": "532b6e20-5324-496c-bbce-4bd8ff78fd77"
   },
   "outputs": [
    {
     "name": "stdout",
     "output_type": "stream",
     "text": [
      "0\n",
      "31\n",
      "0\n",
      "Welcome to data science session\n"
     ]
    }
   ],
   "source": [
    "f1 = open(\"file_4.txt\",\"w+\")\n",
    "print(f1.tell())\n",
    "f1.write(\"Welcome to data science session\")\n",
    "print(f1.tell())\n",
    "f1.seek(0)\n",
    "print(f1.tell())\n",
    "print(f1.read())"
   ]
  },
  {
   "cell_type": "code",
   "execution_count": null,
   "id": "e4dd27f8-1ce6-4415-9604-ae11675a3a81",
   "metadata": {
    "id": "e4dd27f8-1ce6-4415-9604-ae11675a3a81"
   },
   "outputs": [],
   "source": [
    "# MODES:\n",
    "# a = This mode can open the file in the write/(append), when we open the file\n",
    "#     the pointer is going to be at end of the text or data. We cannot read the\n",
    "#     data usinf this method. If the file is not existed, it will create the new file.\n"
   ]
  },
  {
   "cell_type": "code",
   "execution_count": null,
   "id": "041f9d14-fb7d-45f4-af51-e56387b33ac4",
   "metadata": {
    "id": "041f9d14-fb7d-45f4-af51-e56387b33ac4",
    "outputId": "17c0c4b0-ebc9-4861-a9f4-bffffd92d8ec"
   },
   "outputs": [
    {
     "name": "stdout",
     "output_type": "stream",
     "text": [
      "81\n",
      "0\n",
      "Welcome to data science sessionWelcome to Data AnalyticsWelcome to Data AnalyticsWelcome to Data Analytics\n"
     ]
    }
   ],
   "source": [
    "f1 = open(\"file_4.txt\",\"a\")\n",
    "print(f1.tell())\n",
    "f1.write(\"Welcome to Data Analytics\")\n",
    "f1.seek(0)\n",
    "f1 = open(\"file_4.txt\",\"r\")\n",
    "print(f1.tell())\n",
    "print(f1.read())"
   ]
  },
  {
   "cell_type": "code",
   "execution_count": null,
   "id": "935417e0-fd32-4919-846d-8f5e27574996",
   "metadata": {
    "id": "935417e0-fd32-4919-846d-8f5e27574996",
    "outputId": "1534a04d-25e1-4b2d-f5fe-770a4ea9536c"
   },
   "outputs": [
    {
     "data": {
      "text/plain": [
       "31"
      ]
     },
     "execution_count": 175,
     "metadata": {},
     "output_type": "execute_result"
    }
   ],
   "source": [
    "len(\"Welcome to data science session\")"
   ]
  },
  {
   "cell_type": "code",
   "execution_count": null,
   "id": "8f7e4b6c-d487-46b6-8dca-5ab9fcf2f382",
   "metadata": {
    "id": "8f7e4b6c-d487-46b6-8dca-5ab9fcf2f382",
    "outputId": "2bdd47e0-645e-475c-ee71-af57ffa49633"
   },
   "outputs": [
    {
     "name": "stdout",
     "output_type": "stream",
     "text": [
      "We overcame all the problems in this mode\n"
     ]
    },
    {
     "data": {
      "text/plain": [
       "41"
      ]
     },
     "execution_count": 195,
     "metadata": {},
     "output_type": "execute_result"
    }
   ],
   "source": [
    "f1 = open(\"file_6.txt\",\"a+\")\n",
    "print(f1.read())\n",
    "f1.write(\"We overcame all the problems in this mode\")\n"
   ]
  },
  {
   "cell_type": "code",
   "execution_count": null,
   "id": "7908dd9e-93ab-4be8-b264-17341dcf591e",
   "metadata": {
    "id": "7908dd9e-93ab-4be8-b264-17341dcf591e",
    "outputId": "44cd7ac9-bb61-49c2-f6f1-206ed4e7cc96"
   },
   "outputs": [
    {
     "name": "stdout",
     "output_type": "stream",
     "text": [
      "82\n",
      "0\n",
      "We overcame all the problems in this modeWe overcame all the problems in this mode\n"
     ]
    }
   ],
   "source": [
    "f1 = open(\"file_6.txt\",\"a+\")\n",
    "print(f1.tell())\n",
    "f1.seek(0)\n",
    "print(f1.tell())\n",
    "print(f1.read())"
   ]
  },
  {
   "cell_type": "markdown",
   "id": "e85d48ac-bc48-40ca-9d93-e526e362041e",
   "metadata": {
    "id": "e85d48ac-bc48-40ca-9d93-e526e362041e"
   },
   "source": [
    "# File Handling : Day - 2"
   ]
  },
  {
   "cell_type": "code",
   "execution_count": null,
   "id": "4a7c6564-d2a5-4b0e-a5a3-fe07221d3c0e",
   "metadata": {
    "id": "4a7c6564-d2a5-4b0e-a5a3-fe07221d3c0e",
    "outputId": "5473cb2f-394f-4637-cd71-23ad4667f84f"
   },
   "outputs": [
    {
     "name": "stdout",
     "output_type": "stream",
     "text": [
      "1056\n",
      "Introduction to Data Science\n",
      "\n",
      "Data Science is an interdisciplinary field that uses statistics, mathematics, programming, and domain knowledge to extract insights from data.\n",
      "\n",
      "Key Components of Data Science:\n",
      "1. Data Collection - Gathering raw data from various sources.\n",
      "2. Data Cleaning - Handling missing values, duplicates, and inconsistencies.\n",
      "3. Data Analysis - Applying statistical methods to understand patterns.\n",
      "4. Machine Learning - Building predictive models from data.\n",
      "5. Data Visualization - Presenting results using charts and graphs.\n",
      "6. Deployment - Integrating models into real-world applications.\n",
      "\n",
      "Applications of Data Science:\n",
      "- Healthcare: Disease prediction and personalized treatment.\n",
      "- Finance: Credit risk analysis and fraud detection.\n",
      "- Retail: Recommendation systems and customer segmentation.\n",
      "- Agriculture: Crop yield prediction and precision farming.\n",
      "- Transportation: Autonomous vehicles and route optimization.\n",
      "\n",
      "Data Science continues to grow as organizations realize the power of data-driven decision making.\n",
      "\n",
      "1056\n"
     ]
    }
   ],
   "source": [
    "file = open(\"C:/Users/user/Downloads/Data Science file for file handling.txt\",\"a+\")\n",
    "print(file.tell())\n",
    "file.seek(0)\n",
    "print(file.read())\n",
    "print(file.tell())"
   ]
  },
  {
   "cell_type": "code",
   "execution_count": null,
   "id": "be0a09d1-3ac1-4b22-b5a3-db92a1508fc4",
   "metadata": {
    "id": "be0a09d1-3ac1-4b22-b5a3-db92a1508fc4",
    "outputId": "55ccfaad-4f57-4816-8869-2ee476ebb01e"
   },
   "outputs": [
    {
     "name": "stdout",
     "output_type": "stream",
     "text": [
      "Introducti\n",
      "10\n",
      "================================================================================\n",
      "on to Data Science\n",
      "\n",
      "Data Science is an interdisciplinary field that uses statistics, mathematics, programming, and domain knowledge to extract insights from data.\n",
      "\n",
      "Key Components of Data Science:\n",
      "1. Data Collection - Gathering raw data from various sources.\n",
      "2. Data Cleaning - Handling missing values, duplicates, and inconsistencies.\n",
      "3. Data Analysis - Applying statistical methods to understand patterns.\n",
      "4. Machine Learning - Building predictive models from data.\n",
      "5. Data Visualization - Presenting results using charts and graphs.\n",
      "6. Deployment - Integrating models into real-world applications.\n",
      "\n",
      "Applications of Data Science:\n",
      "- Healthcare: Disease prediction and personalized treatment.\n",
      "- Finance: Credit risk analysis and fraud detection.\n",
      "- Retail: Recommendation systems and customer segmentation.\n",
      "- Agriculture: Crop yield prediction and precision farming.\n",
      "- Transportation: Autonomous vehicles and route optimization.\n",
      "\n",
      "Data Science continues to grow as organizations realize the power of data-driven decision making.\n",
      "\n",
      "\n"
     ]
    }
   ],
   "source": [
    "file = open(\"C:/Users/user/Downloads/Data Science file for file handling.txt\",\"a+\")\n",
    "file.seek(0)\n",
    "print(file.read(10))\n",
    "print(file.tell())\n",
    "print(\"=\"*80)\n",
    "print(file.read())\n",
    "print(file.read())"
   ]
  },
  {
   "cell_type": "code",
   "execution_count": null,
   "id": "6f924862-0434-4095-8c63-c72da9bf6d72",
   "metadata": {
    "id": "6f924862-0434-4095-8c63-c72da9bf6d72",
    "outputId": "3ebdbe61-1fce-4295-b470-3621fad70bb1"
   },
   "outputs": [
    {
     "name": "stdout",
     "output_type": "stream",
     "text": [
      "True\n"
     ]
    }
   ],
   "source": [
    "file = open(\"C:/Users/user/Downloads/Data Science file for file handling.txt\",\"a+\")\n",
    "file.seek(0)\n",
    "print(file.readable())"
   ]
  },
  {
   "cell_type": "code",
   "execution_count": null,
   "id": "4114f99a-6857-4886-bb2b-4372b51a59ad",
   "metadata": {
    "id": "4114f99a-6857-4886-bb2b-4372b51a59ad",
    "outputId": "02478972-82ea-4c08-a5cc-7a35d6eb8469"
   },
   "outputs": [
    {
     "name": "stdout",
     "output_type": "stream",
     "text": [
      "0\n",
      "\n"
     ]
    }
   ],
   "source": [
    "file = open(\"C:/Users/user/Downloads/Data Science file for file handling.txt\",\"a+\")\n",
    "file.seek(0)\n",
    "print(file.tell())\n",
    "print(file.readline())\n",
    "file.close()"
   ]
  },
  {
   "cell_type": "code",
   "execution_count": null,
   "id": "b0690f6b-47d3-4a41-872d-78e626feb9ce",
   "metadata": {
    "id": "b0690f6b-47d3-4a41-872d-78e626feb9ce",
    "outputId": "660180da-885f-425d-85ba-9a3bf1c56bdc"
   },
   "outputs": [
    {
     "name": "stdout",
     "output_type": "stream",
     "text": [
      "['Introduction to Data Science\\n', '\\n', 'Data Science is an interdisciplinary field that uses statistics, mathematics, programming, and domain knowledge to extract insights from data.\\n', '\\n', 'Key Components of Data Science:\\n', '1. Data Collection - Gathering raw data from various sources.\\n', '2. Data Cleaning - Handling missing values, duplicates, and inconsistencies.\\n', '3. Data Analysis - Applying statistical methods to understand patterns.\\n', '4. Machine Learning - Building predictive models from data.\\n', '5. Data Visualization - Presenting results using charts and graphs.\\n', '6. Deployment - Integrating models into real-world applications.\\n', '\\n', 'Applications of Data Science:\\n', '- Healthcare: Disease prediction and personalized treatment.\\n', '- Finance: Credit risk analysis and fraud detection.\\n', '- Retail: Recommendation systems and customer segmentation.\\n', '- Agriculture: Crop yield prediction and precision farming.\\n', '- Transportation: Autonomous vehicles and route optimization.\\n', '\\n', 'Data Science continues to grow as organizations realize the power of data-driven decision making.\\n']\n"
     ]
    }
   ],
   "source": [
    "file = open(\"C:/Users/user/Downloads/Data Science file for file handling (1).txt\",\"a+\")\n",
    "file.seek(0)\n",
    "print(file.readlines())"
   ]
  },
  {
   "cell_type": "markdown",
   "id": "ef951992-72a8-46e3-9eac-9ab4783866ff",
   "metadata": {
    "id": "ef951992-72a8-46e3-9eac-9ab4783866ff"
   },
   "source": [
    "# File Handling : day - 3"
   ]
  },
  {
   "cell_type": "code",
   "execution_count": null,
   "id": "be215aa7-2d68-4cfd-9d90-2c81be6c4090",
   "metadata": {
    "id": "be215aa7-2d68-4cfd-9d90-2c81be6c4090",
    "outputId": "3f322ade-ebdb-40ea-8f37-df22eeb8fc22"
   },
   "outputs": [
    {
     "name": "stdout",
     "output_type": "stream",
     "text": [
      "Introduction to Data Science\n",
      "\n",
      "Data Science is an interdisciplinary field that uses statistics, mathematics, programming, and domain knowledge to extract insights from data.\n",
      "\n",
      "Key Components of Data Science:\n",
      "1. Data Collection - Gathering raw data from various sources.\n",
      "2. Data Cleaning - Handling missing values, duplicates, and inconsistencies.\n",
      "3. Data Analysis - Applying statistical methods to understand patterns.\n",
      "4. Machine Learning - Building predictive models from data.\n",
      "5. Data Visualization - Presenting results using charts and graphs.\n",
      "6. Deployment - Integrating models into real-world applications.\n",
      "\n",
      "Applications of Data Science:\n",
      "- Healthcare: Disease prediction and personalized treatment.\n",
      "- Finance: Credit risk analysis and fraud detection.\n",
      "- Retail: Recommendation systems and customer segmentation.\n",
      "- Agriculture: Crop yield prediction and precision farming.\n",
      "- Transportation: Autonomous vehicles and route optimization.\n",
      "\n",
      "Data Science continues to grow as organizations realize the power of data-driven decision making.\n",
      "\n"
     ]
    }
   ],
   "source": [
    "with open(\"C:/Users/user/Downloads/Data Science file for file handling.txt\", \"r\") as file:\n",
    "    content = file.read()\n",
    "    print(content)\n",
    "\n",
    "# In this method, the file will autmatically get closed."
   ]
  },
  {
   "cell_type": "code",
   "execution_count": null,
   "id": "491657af-a692-4c85-a2a8-ac0449eb16ec",
   "metadata": {
    "id": "491657af-a692-4c85-a2a8-ac0449eb16ec",
    "outputId": "33f81aa6-deef-4f5b-e6da-27072d780a0e"
   },
   "outputs": [
    {
     "name": "stdout",
     "output_type": "stream",
     "text": [
      "True\n"
     ]
    }
   ],
   "source": [
    "import os\n",
    "\n",
    "print(os.path.exists(\"C:/Users/user/Downloads/Data Science file for file handling.txt\"))"
   ]
  },
  {
   "cell_type": "code",
   "execution_count": null,
   "id": "585ab74a-8adf-4b52-8ba7-ff91b754df1b",
   "metadata": {
    "id": "585ab74a-8adf-4b52-8ba7-ff91b754df1b"
   },
   "outputs": [],
   "source": [
    "os.remove(\"C:/Users/user/Downloads/Data Science file for file handling.txt\")"
   ]
  },
  {
   "cell_type": "code",
   "execution_count": null,
   "id": "bd2c66a0-a862-4dfc-9740-d132b30ab67e",
   "metadata": {
    "id": "bd2c66a0-a862-4dfc-9740-d132b30ab67e"
   },
   "outputs": [],
   "source": [
    "with open(\"C:/Users/user/Downloads/Data Science file for file handling.txt\", \"r\") as file:\n",
    "    content = file.read()\n",
    "    print(content)\n"
   ]
  },
  {
   "cell_type": "code",
   "execution_count": null,
   "id": "ef242e7c-479c-480d-a596-b48ee0a54ada",
   "metadata": {
    "id": "ef242e7c-479c-480d-a596-b48ee0a54ada"
   },
   "outputs": [],
   "source": []
  },
  {
   "cell_type": "markdown",
   "id": "f911f7b2-50ac-4f59-80cb-8b5aa657d5f7",
   "metadata": {
    "id": "f911f7b2-50ac-4f59-80cb-8b5aa657d5f7"
   },
   "source": [
    "## Working with images:"
   ]
  },
  {
   "cell_type": "code",
   "execution_count": null,
   "id": "7e2e7f54-b689-48cb-b1e9-b7056b51504f",
   "metadata": {
    "id": "7e2e7f54-b689-48cb-b1e9-b7056b51504f",
    "scrolled": true
   },
   "outputs": [],
   "source": [
    "image = open(\"C:/Users/user/OneDrive/Desktop/Siva Academy.jpg\",\"rb\")\n",
    "# image.read()\n",
    "\n",
    "\n",
    "# For binary file you will get this kind of output"
   ]
  },
  {
   "cell_type": "code",
   "execution_count": null,
   "id": "e7d76fe5-77c2-445d-b94b-50fffbdb086e",
   "metadata": {
    "id": "e7d76fe5-77c2-445d-b94b-50fffbdb086e"
   },
   "outputs": [],
   "source": [
    "image = open(\"C:/Users/user/OneDrive/Desktop/Siva Academy.jpg\",\"rb\")\n",
    "image_2  = open(\"C:/Users/user/OneDrive/Desktop/Siva Academy_1.jpg\",\"wb\")\n",
    "for i in image:\n",
    "    image_2.write(i)"
   ]
  },
  {
   "cell_type": "code",
   "execution_count": null,
   "id": "bea658c8-6996-4073-960c-4624fe66a4f1",
   "metadata": {
    "id": "bea658c8-6996-4073-960c-4624fe66a4f1"
   },
   "outputs": [],
   "source": []
  },
  {
   "cell_type": "markdown",
   "id": "057bc69f-ac13-4c0c-b64b-07b0145a3a48",
   "metadata": {
    "id": "057bc69f-ac13-4c0c-b64b-07b0145a3a48"
   },
   "source": [
    "## Working with CSV files"
   ]
  },
  {
   "cell_type": "code",
   "execution_count": null,
   "id": "69288f69-b1f7-445b-b65d-ca2578b81740",
   "metadata": {
    "id": "69288f69-b1f7-445b-b65d-ca2578b81740"
   },
   "outputs": [],
   "source": [
    "import csv"
   ]
  },
  {
   "cell_type": "code",
   "execution_count": null,
   "id": "d6de79bb-d850-4380-b3ce-9d91c8969d10",
   "metadata": {
    "id": "d6de79bb-d850-4380-b3ce-9d91c8969d10"
   },
   "outputs": [],
   "source": [
    "with open(\"students.csv\",\"w\",newline=\"\") as file:\n",
    "    writer = csv.writer(file)\n",
    "\n",
    "    # Write headers :\n",
    "    writer.writerow([\"ID\",\"Name\",'Age',\"Course\"])\n",
    "    writer.writerow([1,\"Anil\",25,\"Data Science\"])\n",
    "    writer.writerow([2,\"Priya\",23,\"Artificial Intelligence\"])\n",
    "    writer.writerow([3,\"Sudeep\",24,\"Machine Learning\"])\n",
    "    writer.writerow([4,\"Sneha\",28,\"Statistics\"])"
   ]
  },
  {
   "cell_type": "code",
   "execution_count": null,
   "id": "cd1a1965-4501-4505-ab89-39009292fa56",
   "metadata": {
    "id": "cd1a1965-4501-4505-ab89-39009292fa56",
    "outputId": "4f6704a1-b642-47c7-96c8-33c1cd90b31e"
   },
   "outputs": [
    {
     "name": "stdout",
     "output_type": "stream",
     "text": [
      "['ID', 'Name', 'Age', 'Course']\n",
      "['1', 'Anil', '25', 'Data Science']\n",
      "['2', 'Priya', '23', 'Artificial Intelligence']\n",
      "['3', 'Sudeep', '24', 'Machine Learning']\n",
      "['4', 'Sneha', '28', 'Statistics']\n"
     ]
    }
   ],
   "source": [
    "# Reading as list :\n",
    "with open(\"students.csv\",\"r\") as file:\n",
    "    reader = csv.reader(file)\n",
    "    for row in reader:\n",
    "        print(row)"
   ]
  },
  {
   "cell_type": "code",
   "execution_count": null,
   "id": "5faf6f05-0e83-4bd3-9c50-cf00e8515d8f",
   "metadata": {
    "id": "5faf6f05-0e83-4bd3-9c50-cf00e8515d8f",
    "outputId": "02e53782-6505-4904-d8e1-487431f3d44a"
   },
   "outputs": [
    {
     "name": "stdout",
     "output_type": "stream",
     "text": [
      "['mpg', 'cyl', 'disp', 'hp', 'drat', 'wt', 'qsec', 'vs', 'am', 'gear', 'carb']\n",
      "['21', '6', '160', '110', '3.9', '2.62', '16.46', '0', '1', '4', '4']\n",
      "['21', '6', '160', '110', '3.9', '2.875', '17.02', '0', '1', '4', '4']\n",
      "['22.8', '4', '108', '93', '3.85', '2.32', '18.61', '1', '1', '4', '1']\n",
      "['21.4', '6', '258', '110', '3.08', '3.215', '19.44', '1', '0', '3', '1']\n",
      "['18.7', '8', '360', '175', '3.15', '3.44', '17.02', '0', '0', '3', '2']\n",
      "['18.1', '6', '225', '105', '2.76', '3.46', '20.22', '1', '0', '3', '1']\n",
      "['14.3', '8', '360', '245', '3.21', '3.57', '15.84', '0', '0', '3', '4']\n",
      "['24.4', '4', '146.7', '62', '3.69', '3.19', '20', '1', '0', '4', '2']\n",
      "['22.8', '4', '140.8', '95', '3.92', '3.15', '22.9', '1', '0', '4', '2']\n",
      "['19.2', '6', '167.6', '123', '3.92', '3.44', '18.3', '1', '0', '4', '4']\n",
      "['17.8', '6', '167.6', '123', '3.92', '3.44', '18.9', '1', '0', '4', '4']\n",
      "['16.4', '8', '275.8', '180', '3.07', '4.07', '17.4', '0', '0', '3', '3']\n",
      "['17.3', '8', '275.8', '180', '3.07', '3.73', '17.6', '0', '0', '3', '3']\n",
      "['15.2', '8', '275.8', '180', '3.07', '3.78', '18', '0', '0', '3', '3']\n",
      "['10.4', '8', '472', '205', '2.93', '5.25', '17.98', '0', '0', '3', '4']\n",
      "['10.4', '8', '460', '215', '3', '5.424', '17.82', '0', '0', '3', '4']\n",
      "['14.7', '8', '440', '230', '3.23', '5.345', '17.42', '0', '0', '3', '4']\n",
      "['32.4', '4', '78.7', '66', '4.08', '2.2', '19.47', '1', '1', '4', '1']\n",
      "['30.4', '4', '75.7', '52', '4.93', '1.615', '18.52', '1', '1', '4', '2']\n",
      "['33.9', '4', '71.1', '65', '4.22', '1.835', '19.9', '1', '1', '4', '1']\n",
      "['21.5', '4', '120.1', '97', '3.7', '2.465', '20.01', '1', '0', '3', '1']\n",
      "['15.5', '8', '318', '150', '2.76', '3.52', '16.87', '0', '0', '3', '2']\n",
      "['15.2', '8', '304', '150', '3.15', '3.435', '17.3', '0', '0', '3', '2']\n",
      "['13.3', '8', '350', '245', '3.73', '3.84', '15.41', '0', '0', '3', '4']\n",
      "['19.2', '8', '400', '175', '3.08', '3.845', '17.05', '0', '0', '3', '2']\n",
      "['27.3', '4', '79', '66', '4.08', '1.935', '18.9', '1', '1', '4', '1']\n",
      "['26', '4', '120.3', '91', '4.43', '2.14', '16.7', '0', '1', '5', '2']\n",
      "['30.4', '4', '95.1', '113', '3.77', '1.513', '16.9', '1', '1', '5', '2']\n",
      "['15.8', '8', '351', '264', '4.22', '3.17', '14.5', '0', '1', '5', '4']\n",
      "['19.7', '6', '145', '175', '3.62', '2.77', '15.5', '0', '1', '5', '6']\n",
      "['15', '8', '301', '335', '3.54', '3.57', '14.6', '0', '1', '5', '8']\n",
      "['21.4', '4', '121', '109', '4.11', '2.78', '18.6', '1', '1', '4', '2']\n"
     ]
    }
   ],
   "source": [
    "with open(\"mtcars.csv\",\"r\") as file:\n",
    "    reader = csv.reader(file)\n",
    "    for row in reader:\n",
    "        print(row)"
   ]
  },
  {
   "cell_type": "code",
   "execution_count": null,
   "id": "92fd1c37-34e1-41bb-aad9-e5a2e8fa0151",
   "metadata": {
    "id": "92fd1c37-34e1-41bb-aad9-e5a2e8fa0151",
    "outputId": "0fb30b6d-10cb-4d49-d1ca-d2d0a4f044aa"
   },
   "outputs": [
    {
     "name": "stdout",
     "output_type": "stream",
     "text": [
      "{'mpg': '21', 'cyl': '6', 'disp': '160', 'hp': '110', 'drat': '3.9', 'wt': '2.62', 'qsec': '16.46', 'vs': '0', 'am': '1', 'gear': '4', 'carb': '4'}\n",
      "{'mpg': '21', 'cyl': '6', 'disp': '160', 'hp': '110', 'drat': '3.9', 'wt': '2.875', 'qsec': '17.02', 'vs': '0', 'am': '1', 'gear': '4', 'carb': '4'}\n",
      "{'mpg': '22.8', 'cyl': '4', 'disp': '108', 'hp': '93', 'drat': '3.85', 'wt': '2.32', 'qsec': '18.61', 'vs': '1', 'am': '1', 'gear': '4', 'carb': '1'}\n",
      "{'mpg': '21.4', 'cyl': '6', 'disp': '258', 'hp': '110', 'drat': '3.08', 'wt': '3.215', 'qsec': '19.44', 'vs': '1', 'am': '0', 'gear': '3', 'carb': '1'}\n",
      "{'mpg': '18.7', 'cyl': '8', 'disp': '360', 'hp': '175', 'drat': '3.15', 'wt': '3.44', 'qsec': '17.02', 'vs': '0', 'am': '0', 'gear': '3', 'carb': '2'}\n",
      "{'mpg': '18.1', 'cyl': '6', 'disp': '225', 'hp': '105', 'drat': '2.76', 'wt': '3.46', 'qsec': '20.22', 'vs': '1', 'am': '0', 'gear': '3', 'carb': '1'}\n",
      "{'mpg': '14.3', 'cyl': '8', 'disp': '360', 'hp': '245', 'drat': '3.21', 'wt': '3.57', 'qsec': '15.84', 'vs': '0', 'am': '0', 'gear': '3', 'carb': '4'}\n",
      "{'mpg': '24.4', 'cyl': '4', 'disp': '146.7', 'hp': '62', 'drat': '3.69', 'wt': '3.19', 'qsec': '20', 'vs': '1', 'am': '0', 'gear': '4', 'carb': '2'}\n",
      "{'mpg': '22.8', 'cyl': '4', 'disp': '140.8', 'hp': '95', 'drat': '3.92', 'wt': '3.15', 'qsec': '22.9', 'vs': '1', 'am': '0', 'gear': '4', 'carb': '2'}\n",
      "{'mpg': '19.2', 'cyl': '6', 'disp': '167.6', 'hp': '123', 'drat': '3.92', 'wt': '3.44', 'qsec': '18.3', 'vs': '1', 'am': '0', 'gear': '4', 'carb': '4'}\n",
      "{'mpg': '17.8', 'cyl': '6', 'disp': '167.6', 'hp': '123', 'drat': '3.92', 'wt': '3.44', 'qsec': '18.9', 'vs': '1', 'am': '0', 'gear': '4', 'carb': '4'}\n",
      "{'mpg': '16.4', 'cyl': '8', 'disp': '275.8', 'hp': '180', 'drat': '3.07', 'wt': '4.07', 'qsec': '17.4', 'vs': '0', 'am': '0', 'gear': '3', 'carb': '3'}\n",
      "{'mpg': '17.3', 'cyl': '8', 'disp': '275.8', 'hp': '180', 'drat': '3.07', 'wt': '3.73', 'qsec': '17.6', 'vs': '0', 'am': '0', 'gear': '3', 'carb': '3'}\n",
      "{'mpg': '15.2', 'cyl': '8', 'disp': '275.8', 'hp': '180', 'drat': '3.07', 'wt': '3.78', 'qsec': '18', 'vs': '0', 'am': '0', 'gear': '3', 'carb': '3'}\n",
      "{'mpg': '10.4', 'cyl': '8', 'disp': '472', 'hp': '205', 'drat': '2.93', 'wt': '5.25', 'qsec': '17.98', 'vs': '0', 'am': '0', 'gear': '3', 'carb': '4'}\n",
      "{'mpg': '10.4', 'cyl': '8', 'disp': '460', 'hp': '215', 'drat': '3', 'wt': '5.424', 'qsec': '17.82', 'vs': '0', 'am': '0', 'gear': '3', 'carb': '4'}\n",
      "{'mpg': '14.7', 'cyl': '8', 'disp': '440', 'hp': '230', 'drat': '3.23', 'wt': '5.345', 'qsec': '17.42', 'vs': '0', 'am': '0', 'gear': '3', 'carb': '4'}\n",
      "{'mpg': '32.4', 'cyl': '4', 'disp': '78.7', 'hp': '66', 'drat': '4.08', 'wt': '2.2', 'qsec': '19.47', 'vs': '1', 'am': '1', 'gear': '4', 'carb': '1'}\n",
      "{'mpg': '30.4', 'cyl': '4', 'disp': '75.7', 'hp': '52', 'drat': '4.93', 'wt': '1.615', 'qsec': '18.52', 'vs': '1', 'am': '1', 'gear': '4', 'carb': '2'}\n",
      "{'mpg': '33.9', 'cyl': '4', 'disp': '71.1', 'hp': '65', 'drat': '4.22', 'wt': '1.835', 'qsec': '19.9', 'vs': '1', 'am': '1', 'gear': '4', 'carb': '1'}\n",
      "{'mpg': '21.5', 'cyl': '4', 'disp': '120.1', 'hp': '97', 'drat': '3.7', 'wt': '2.465', 'qsec': '20.01', 'vs': '1', 'am': '0', 'gear': '3', 'carb': '1'}\n",
      "{'mpg': '15.5', 'cyl': '8', 'disp': '318', 'hp': '150', 'drat': '2.76', 'wt': '3.52', 'qsec': '16.87', 'vs': '0', 'am': '0', 'gear': '3', 'carb': '2'}\n",
      "{'mpg': '15.2', 'cyl': '8', 'disp': '304', 'hp': '150', 'drat': '3.15', 'wt': '3.435', 'qsec': '17.3', 'vs': '0', 'am': '0', 'gear': '3', 'carb': '2'}\n",
      "{'mpg': '13.3', 'cyl': '8', 'disp': '350', 'hp': '245', 'drat': '3.73', 'wt': '3.84', 'qsec': '15.41', 'vs': '0', 'am': '0', 'gear': '3', 'carb': '4'}\n",
      "{'mpg': '19.2', 'cyl': '8', 'disp': '400', 'hp': '175', 'drat': '3.08', 'wt': '3.845', 'qsec': '17.05', 'vs': '0', 'am': '0', 'gear': '3', 'carb': '2'}\n",
      "{'mpg': '27.3', 'cyl': '4', 'disp': '79', 'hp': '66', 'drat': '4.08', 'wt': '1.935', 'qsec': '18.9', 'vs': '1', 'am': '1', 'gear': '4', 'carb': '1'}\n",
      "{'mpg': '26', 'cyl': '4', 'disp': '120.3', 'hp': '91', 'drat': '4.43', 'wt': '2.14', 'qsec': '16.7', 'vs': '0', 'am': '1', 'gear': '5', 'carb': '2'}\n",
      "{'mpg': '30.4', 'cyl': '4', 'disp': '95.1', 'hp': '113', 'drat': '3.77', 'wt': '1.513', 'qsec': '16.9', 'vs': '1', 'am': '1', 'gear': '5', 'carb': '2'}\n",
      "{'mpg': '15.8', 'cyl': '8', 'disp': '351', 'hp': '264', 'drat': '4.22', 'wt': '3.17', 'qsec': '14.5', 'vs': '0', 'am': '1', 'gear': '5', 'carb': '4'}\n",
      "{'mpg': '19.7', 'cyl': '6', 'disp': '145', 'hp': '175', 'drat': '3.62', 'wt': '2.77', 'qsec': '15.5', 'vs': '0', 'am': '1', 'gear': '5', 'carb': '6'}\n",
      "{'mpg': '15', 'cyl': '8', 'disp': '301', 'hp': '335', 'drat': '3.54', 'wt': '3.57', 'qsec': '14.6', 'vs': '0', 'am': '1', 'gear': '5', 'carb': '8'}\n",
      "{'mpg': '21.4', 'cyl': '4', 'disp': '121', 'hp': '109', 'drat': '4.11', 'wt': '2.78', 'qsec': '18.6', 'vs': '1', 'am': '1', 'gear': '4', 'carb': '2'}\n"
     ]
    }
   ],
   "source": [
    "# Reading as Dictionaty :\n",
    "with open(\"mtcars.csv\",\"r\") as file:\n",
    "    reader = csv.DictReader(file)\n",
    "    for row in reader:\n",
    "        print(row)"
   ]
  },
  {
   "cell_type": "code",
   "execution_count": null,
   "id": "5ebf42db-0c0e-4790-b469-60b024807f22",
   "metadata": {
    "id": "5ebf42db-0c0e-4790-b469-60b024807f22",
    "outputId": "ef7b928b-6c03-459f-8216-d8c67338ed2e"
   },
   "outputs": [
    {
     "name": "stdout",
     "output_type": "stream",
     "text": [
      "Anil is enrolled in Data Science\n",
      "Priya is enrolled in Artificial Intelligence\n",
      "Sudeep is enrolled in Machine Learning\n",
      "Sneha is enrolled in Statistics\n"
     ]
    }
   ],
   "source": [
    "with open(\"students.csv\",\"r\") as file:\n",
    "    reader = csv.DictReader(file)\n",
    "    for row in reader:\n",
    "        print(row['Name'], \"is enrolled in\", row[\"Course\"])"
   ]
  },
  {
   "cell_type": "code",
   "execution_count": null,
   "id": "d3b4f4e2-a70e-4b4e-a69e-5244a0839fe0",
   "metadata": {
    "id": "d3b4f4e2-a70e-4b4e-a69e-5244a0839fe0",
    "outputId": "24070c68-4e95-474f-c073-bd573cca59ef"
   },
   "outputs": [
    {
     "name": "stdout",
     "output_type": "stream",
     "text": [
      "{'ID': '1', 'Name': 'Anil', 'Age': '25', 'Course': 'Data Science'}\n",
      "{'ID': '2', 'Name': 'Priya', 'Age': '23', 'Course': 'Artificial Intelligence'}\n",
      "{'ID': '3', 'Name': 'Sudeep', 'Age': '24', 'Course': 'Machine Learning'}\n",
      "{'ID': '4', 'Name': 'Sneha', 'Age': '28', 'Course': 'Statistics'}\n"
     ]
    }
   ],
   "source": [
    "with open(\"students.csv\",\"r\") as file:\n",
    "    reader = csv.DictReader(file)\n",
    "    for row in reader:\n",
    "        print(row)"
   ]
  },
  {
   "cell_type": "code",
   "execution_count": null,
   "id": "09d05d24-5758-4ea8-bb47-5f29f3a69843",
   "metadata": {
    "id": "09d05d24-5758-4ea8-bb47-5f29f3a69843",
    "outputId": "6a5bb1b6-bac6-4353-e11c-ef122f90d4a4"
   },
   "outputs": [
    {
     "name": "stdout",
     "output_type": "stream",
     "text": [
      "['Date', 'Product', 'Quantity', 'Price']\n",
      "['2025-09-01', 'Laptop', '2', '45000']\n",
      "['2025-09-02', 'Keyboard', '3', '1500']\n",
      "['2025-09-03', 'Mouse', '8', '500']\n",
      "['2025-09-04', 'Moniter', '4', '3500']\n",
      "['2025-09-01', 'Laptop', '3', '40000']\n",
      "____________________________________________________________________________________________________\n",
      "Laptop -> 45000\n",
      "Keyboard -> 1500\n",
      "Mouse -> 500\n",
      "Moniter -> 3500\n",
      "Laptop -> 40000\n",
      "____________________________________________________________________________________________________\n",
      "         Date   Product  Quantity  Price  Total Sales\n",
      "0  2025-09-01    Laptop         2  45000        90000\n",
      "1  2025-09-02  Keyboard         3   1500         4500\n",
      "2  2025-09-03     Mouse         8    500         4000\n",
      "3  2025-09-04   Moniter         4   3500        14000\n",
      "4  2025-09-01    Laptop         3  40000       120000\n",
      "____________________________________________________________________________________________________\n",
      "Product\n",
      "Keyboard      4500\n",
      "Laptop      210000\n",
      "Moniter      14000\n",
      "Mouse         4000\n",
      "Name: Total Sales, dtype: int64\n",
      "____________________________________________________________________________________________________\n",
      "46500.0\n"
     ]
    }
   ],
   "source": [
    "# 1) Create the sales dataset\n",
    "# Column names = [\"Date\",\"Product\",\"Quantity\",\"Price\"]\n",
    "with open(\"sales.csv\",\"w\", newline=\"\") as file:\n",
    "    writer = csv.writer(file)\n",
    "\n",
    "    # Write headers:\n",
    "    writer.writerow([\"Date\",\"Product\",\"Quantity\",\"Price\"])\n",
    "    writer.writerow([\"2025-09-01\",\"Laptop\",2,45000])\n",
    "    writer.writerow([\"2025-09-02\",\"Keyboard\",3,1500])\n",
    "    writer.writerow([\"2025-09-03\",\"Mouse\",8,500])\n",
    "    writer.writerow([\"2025-09-04\",\"Moniter\",4,3500])\n",
    "    writer.writerow([\"2025-09-01\",\"Laptop\",3,40000])\n",
    "\n",
    "\n",
    "# 2) Read the entired dataset as list\n",
    "with open(\"sales.csv\",\"r\") as file:\n",
    "    reader = csv.reader(file)\n",
    "    for row in reader:\n",
    "        print(row)\n",
    "print(\"_\"*100)\n",
    "# 3) Print the product and Price only\n",
    "with open(\"sales.csv\",\"r\") as file:\n",
    "    reader = csv.DictReader(file)\n",
    "    for row in reader:\n",
    "        print(row['Product'],\"->\",row[\"Price\"])\n",
    "print(\"_\"*100)\n",
    "# 4) Find the Total sales and add it to the csv file\n",
    "import pandas as pd\n",
    "sales = pd.read_csv(\"sales.csv\")\n",
    "sales[\"Total Sales\"] = sales['Quantity'] * sales['Price']\n",
    "print(sales)\n",
    "print(\"_\"*100)\n",
    "# 5) Revenue by Product\n",
    "print(sales.groupby(by = \"Product\")[\"Total Sales\"].sum())\n",
    "print(\"_\"*100)\n",
    "\n",
    "# 6) Average Order value\n",
    "print(sales[\"Total Sales\"].mean())"
   ]
  },
  {
   "cell_type": "markdown",
   "id": "bc258c7e-585c-4271-9d70-cabd41c5a34f",
   "metadata": {
    "id": "bc258c7e-585c-4271-9d70-cabd41c5a34f"
   },
   "source": [
    "# Working with JSON file"
   ]
  },
  {
   "cell_type": "code",
   "execution_count": null,
   "id": "1c11b365-d07d-4376-8db9-94bae01d1bc3",
   "metadata": {
    "id": "1c11b365-d07d-4376-8db9-94bae01d1bc3"
   },
   "outputs": [],
   "source": [
    "import json\n",
    "\n",
    "# Python dictionary:\n",
    "student = {\n",
    "    \"ID\": 1,\n",
    "    \"Name\":\"Anil\",\n",
    "    \"Age\": 25,\n",
    "    \"Course\": \"Data Science\",\n",
    "    \"Skills\": [\"Machine Learning\",\"Deep Learning\",\"Time Series Forecasting\"]\n",
    "}\n",
    "\n",
    "with open(\"student.json\",\"w\") as file:\n",
    "    json.dump(student, file, indent= 4)"
   ]
  },
  {
   "cell_type": "code",
   "execution_count": null,
   "id": "9fe33a0b-6843-466d-a158-f605733a6b0d",
   "metadata": {
    "id": "9fe33a0b-6843-466d-a158-f605733a6b0d",
    "outputId": "66f226e6-0ba2-4059-bab9-38678313ca15"
   },
   "outputs": [
    {
     "name": "stdout",
     "output_type": "stream",
     "text": [
      "{'ID': 1, 'Name': 'Anil', 'Age': 25, 'Course': 'Data Science', 'Skills': ['Machine Learning', 'Deep Learning', 'Time Series Forecasting']}\n",
      "____________________________________________________________________________________________________\n",
      "Name : Anil\n",
      "Skills : ['Machine Learning', 'Deep Learning', 'Time Series Forecasting']\n"
     ]
    }
   ],
   "source": [
    "# Read the JSON file\n",
    "with open(\"student.json\",\"r\") as file:\n",
    "    data = json.load(file)\n",
    "    print(data)\n",
    "    print(\"_\"*100)\n",
    "    print(\"Name :\",data['Name'])\n",
    "    print(\"Skills :\",data['Skills'])"
   ]
  },
  {
   "cell_type": "code",
   "execution_count": null,
   "id": "50025616-b7b5-49b9-bc92-12a69d13ba66",
   "metadata": {
    "id": "50025616-b7b5-49b9-bc92-12a69d13ba66"
   },
   "outputs": [],
   "source": []
  }
 ],
 "metadata": {
  "colab": {
   "provenance": []
  },
  "kernelspec": {
   "display_name": "Python [conda env:base] *",
   "language": "python",
   "name": "conda-base-py"
  },
  "language_info": {
   "codemirror_mode": {
    "name": "ipython",
    "version": 3
   },
   "file_extension": ".py",
   "mimetype": "text/x-python",
   "name": "python",
   "nbconvert_exporter": "python",
   "pygments_lexer": "ipython3",
   "version": "3.12.7"
  }
 },
 "nbformat": 4,
 "nbformat_minor": 5
}
