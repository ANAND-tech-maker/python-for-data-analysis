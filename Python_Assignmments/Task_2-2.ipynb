{
 "cells": [
  {
   "cell_type": "markdown",
   "id": "8b844205-534a-4f29-a902-278aa594c026",
   "metadata": {},
   "source": [
    "# Task 1.\n",
    "### Create a list containing the names of 5 countries. Print the list.\n",
    "### a) add \"France\" at 2nd position\n",
    "### b) add \"China\" at last\n",
    "### c) remove country which is in 4th position\n",
    "### d) take list of other countries(minimum 3) then add to the first list"
   ]
  },
  {
   "cell_type": "code",
   "execution_count": 89,
   "id": "861f0029-ad6d-489d-b26a-de4f8652706b",
   "metadata": {},
   "outputs": [],
   "source": [
    "list_countries = [\"India\",\"America\",\"South Africa\",\"Italy\",\"Korea\"]"
   ]
  },
  {
   "cell_type": "code",
   "execution_count": 91,
   "id": "3dc62df0-5b69-4aad-8d88-0dc2507bd34b",
   "metadata": {},
   "outputs": [],
   "source": [
    "# a)\n",
    "list_countries.insert(1,\"France\" )"
   ]
  },
  {
   "cell_type": "code",
   "execution_count": 93,
   "id": "155aea3a-1405-46fb-8ab3-a639325e3661",
   "metadata": {},
   "outputs": [
    {
     "data": {
      "text/plain": [
       "['India', 'France', 'America', 'South Africa', 'Italy', 'Korea']"
      ]
     },
     "execution_count": 93,
     "metadata": {},
     "output_type": "execute_result"
    }
   ],
   "source": [
    "list_countries"
   ]
  },
  {
   "cell_type": "code",
   "execution_count": 95,
   "id": "5abe9e05-9e3b-482e-abd7-636eafd4fae0",
   "metadata": {},
   "outputs": [],
   "source": [
    "# b)\n",
    "list_countries.append(\"China\")"
   ]
  },
  {
   "cell_type": "code",
   "execution_count": 97,
   "id": "1a67bec1-3b9f-4827-b4c9-804fd0f4d452",
   "metadata": {},
   "outputs": [
    {
     "data": {
      "text/plain": [
       "['India', 'France', 'America', 'South Africa', 'Italy', 'Korea', 'China']"
      ]
     },
     "execution_count": 97,
     "metadata": {},
     "output_type": "execute_result"
    }
   ],
   "source": [
    "list_countries"
   ]
  },
  {
   "cell_type": "code",
   "execution_count": 99,
   "id": "17290cce-20ca-4ffc-96d4-f78096af3e4d",
   "metadata": {},
   "outputs": [
    {
     "data": {
      "text/plain": [
       "'South Africa'"
      ]
     },
     "execution_count": 99,
     "metadata": {},
     "output_type": "execute_result"
    }
   ],
   "source": [
    "# c)\n",
    "list_countries.pop(3)"
   ]
  },
  {
   "cell_type": "code",
   "execution_count": 101,
   "id": "80ff439d-fe7d-426d-baf1-4a1108f11b4f",
   "metadata": {},
   "outputs": [
    {
     "data": {
      "text/plain": [
       "['India', 'France', 'America', 'Italy', 'Korea', 'China']"
      ]
     },
     "execution_count": 101,
     "metadata": {},
     "output_type": "execute_result"
    }
   ],
   "source": [
    "list_countries"
   ]
  },
  {
   "cell_type": "code",
   "execution_count": 103,
   "id": "5343045b-c018-43aa-a9b4-d3c94bbc4d58",
   "metadata": {},
   "outputs": [],
   "source": [
    "# d)\n",
    "list_other_countries = [ \"nepal\",\"canada\",\"bhuthan\"]"
   ]
  },
  {
   "cell_type": "code",
   "execution_count": 105,
   "id": "acc1d2b2-eb20-4c36-9598-4dd09dc5d8c9",
   "metadata": {},
   "outputs": [],
   "source": [
    "list_countries.extend(list_other_countries)"
   ]
  },
  {
   "cell_type": "code",
   "execution_count": 107,
   "id": "6b2d1b90-a6d2-4572-8bfd-17b42be7a351",
   "metadata": {},
   "outputs": [
    {
     "data": {
      "text/plain": [
       "['India',\n",
       " 'France',\n",
       " 'America',\n",
       " 'Italy',\n",
       " 'Korea',\n",
       " 'China',\n",
       " 'nepal',\n",
       " 'canada',\n",
       " 'bhuthan']"
      ]
     },
     "execution_count": 107,
     "metadata": {},
     "output_type": "execute_result"
    }
   ],
   "source": [
    "list_countries"
   ]
  },
  {
   "cell_type": "markdown",
   "id": "1083993d-5084-418e-94c8-f5ddaf9afcaf",
   "metadata": {},
   "source": [
    "### Tasks 2:\n",
    "#### 1. Create a list called `fruits` with the following elements: 'apple', 'banana', 'orange', 'grape', 'mango'. \n",
    "#### Print the list."
   ]
  },
  {
   "cell_type": "code",
   "execution_count": 110,
   "id": "bddd540a-3509-4747-954d-ec1d8a5f719d",
   "metadata": {},
   "outputs": [],
   "source": [
    "fruits = ['apple', 'banana', 'orange', 'grape', 'mango']"
   ]
  },
  {
   "cell_type": "code",
   "execution_count": 112,
   "id": "89aad25a-c8c8-4fd7-a99e-7e6a28fb95af",
   "metadata": {},
   "outputs": [
    {
     "name": "stdout",
     "output_type": "stream",
     "text": [
      "['apple', 'banana', 'orange', 'grape', 'mango']\n"
     ]
    }
   ],
   "source": [
    "print(fruits)"
   ]
  },
  {
   "cell_type": "markdown",
   "id": "c7983c89-a0d0-495f-a01c-1afce91c9ca3",
   "metadata": {},
   "source": [
    "#### 2. ⁠Use the ⁠ append() ⁠ method to add 'kiwi' to the ⁠ fruits ⁠ list. Print the updated list"
   ]
  },
  {
   "cell_type": "code",
   "execution_count": 115,
   "id": "2d9bc4db-3d8e-46f5-874a-90b4842f6b51",
   "metadata": {},
   "outputs": [],
   "source": [
    "fruits.append('kiwi')"
   ]
  },
  {
   "cell_type": "code",
   "execution_count": 117,
   "id": "b4c10b93-5844-41e1-abb0-a89719cd2bbe",
   "metadata": {},
   "outputs": [
    {
     "data": {
      "text/plain": [
       "['apple', 'banana', 'orange', 'grape', 'mango', 'kiwi']"
      ]
     },
     "execution_count": 117,
     "metadata": {},
     "output_type": "execute_result"
    }
   ],
   "source": [
    "fruits"
   ]
  },
  {
   "cell_type": "markdown",
   "id": "b8675dbb-c176-4525-ad2a-0e384da255ae",
   "metadata": {},
   "source": [
    "#### 3. Use the `extend()` method to add the elements ['pineapple', 'watermelon'] to the `fruits` list. Print \n",
    "#### the updated list"
   ]
  },
  {
   "cell_type": "code",
   "execution_count": 120,
   "id": "ad9a0ef5-1953-436a-a12a-a0cd57d7a541",
   "metadata": {},
   "outputs": [],
   "source": [
    "fruits.extend(['pineapple', 'watermelon'])"
   ]
  },
  {
   "cell_type": "code",
   "execution_count": 122,
   "id": "176ce59b-183b-41de-9b7c-dd5096703225",
   "metadata": {},
   "outputs": [
    {
     "data": {
      "text/plain": [
       "['apple',\n",
       " 'banana',\n",
       " 'orange',\n",
       " 'grape',\n",
       " 'mango',\n",
       " 'kiwi',\n",
       " 'pineapple',\n",
       " 'watermelon']"
      ]
     },
     "execution_count": 122,
     "metadata": {},
     "output_type": "execute_result"
    }
   ],
   "source": [
    "fruits"
   ]
  },
  {
   "cell_type": "markdown",
   "id": "7d5873e3-4a26-46c3-9cea-3efb5663bb79",
   "metadata": {},
   "source": [
    "#### 4. Use the `insert()` method to add 'pear' at the second position in the `fruits` list. Print the updated \n",
    "#### list."
   ]
  },
  {
   "cell_type": "code",
   "execution_count": 125,
   "id": "bf55d664-9acf-4df2-a253-c5bfb3aa9d99",
   "metadata": {},
   "outputs": [],
   "source": [
    "fruits.insert(1,'pear' )"
   ]
  },
  {
   "cell_type": "code",
   "execution_count": 127,
   "id": "9b9d79f6-b4d8-44fe-a800-2c71690789e3",
   "metadata": {},
   "outputs": [
    {
     "data": {
      "text/plain": [
       "['apple',\n",
       " 'pear',\n",
       " 'banana',\n",
       " 'orange',\n",
       " 'grape',\n",
       " 'mango',\n",
       " 'kiwi',\n",
       " 'pineapple',\n",
       " 'watermelon']"
      ]
     },
     "execution_count": 127,
     "metadata": {},
     "output_type": "execute_result"
    }
   ],
   "source": [
    "fruits"
   ]
  },
  {
   "cell_type": "markdown",
   "id": "72fb8d4b-47cd-4dcc-b169-7254c0ff911e",
   "metadata": {},
   "source": [
    "#### 5. Use the `remove()` method to remove 'orange' from the `fruits` list. Print the updated list"
   ]
  },
  {
   "cell_type": "code",
   "execution_count": 130,
   "id": "3f591a91-049b-406f-a59b-00e7e097fd44",
   "metadata": {},
   "outputs": [],
   "source": [
    "fruits.remove( 'orange' )"
   ]
  },
  {
   "cell_type": "code",
   "execution_count": 132,
   "id": "31bab618-72ab-4e0f-a469-e6ebfdfd4b92",
   "metadata": {},
   "outputs": [
    {
     "data": {
      "text/plain": [
       "['apple',\n",
       " 'pear',\n",
       " 'banana',\n",
       " 'grape',\n",
       " 'mango',\n",
       " 'kiwi',\n",
       " 'pineapple',\n",
       " 'watermelon']"
      ]
     },
     "execution_count": 132,
     "metadata": {},
     "output_type": "execute_result"
    }
   ],
   "source": [
    "fruits"
   ]
  },
  {
   "cell_type": "markdown",
   "id": "9d0097d3-2886-4e48-9e5b-1608ea63b802",
   "metadata": {},
   "source": [
    "#### 6. Use the `pop()` method to remove and print the last element from the `fruits` list"
   ]
  },
  {
   "cell_type": "code",
   "execution_count": 135,
   "id": "c3937ea7-77af-47e6-8b87-75cb8e685a02",
   "metadata": {},
   "outputs": [
    {
     "data": {
      "text/plain": [
       "'watermelon'"
      ]
     },
     "execution_count": 135,
     "metadata": {},
     "output_type": "execute_result"
    }
   ],
   "source": [
    "fruits.pop()"
   ]
  },
  {
   "cell_type": "code",
   "execution_count": 137,
   "id": "078cca85-ecdd-4f0f-b47c-efa97c20a662",
   "metadata": {},
   "outputs": [
    {
     "data": {
      "text/plain": [
       "['apple', 'pear', 'banana', 'grape', 'mango', 'kiwi', 'pineapple']"
      ]
     },
     "execution_count": 137,
     "metadata": {},
     "output_type": "execute_result"
    }
   ],
   "source": [
    "fruits"
   ]
  },
  {
   "cell_type": "markdown",
   "id": "b9c50b9a-6f79-4114-a0c5-020fdd224a31",
   "metadata": {},
   "source": [
    "#### 7. Use the `index()` method to find the index of 'grape' in the `fruits` list and print it."
   ]
  },
  {
   "cell_type": "code",
   "execution_count": 140,
   "id": "21956a78-a5ea-4ae1-9153-8fa3e42feee5",
   "metadata": {},
   "outputs": [
    {
     "data": {
      "text/plain": [
       "3"
      ]
     },
     "execution_count": 140,
     "metadata": {},
     "output_type": "execute_result"
    }
   ],
   "source": [
    "fruits.index('grape')"
   ]
  },
  {
   "cell_type": "markdown",
   "id": "edb5728e-34ef-414c-8391-88cd898c90eb",
   "metadata": {},
   "source": [
    "#### 8.⁠ ⁠Use the ⁠ count() ⁠ method to count the number of occurrences of 'kiwi' in the ⁠ fruits ⁠ list and print"
   ]
  },
  {
   "cell_type": "code",
   "execution_count": 143,
   "id": "7ad4259a-a3d8-4e17-b8b9-9729c3acd2d5",
   "metadata": {},
   "outputs": [
    {
     "data": {
      "text/plain": [
       "1"
      ]
     },
     "execution_count": 143,
     "metadata": {},
     "output_type": "execute_result"
    }
   ],
   "source": [
    "fruits.count(\"kiwi\")"
   ]
  },
  {
   "cell_type": "markdown",
   "id": "49e6bdb4-853e-45d0-bd34-3022e5ca04dd",
   "metadata": {},
   "source": [
    "#### 9. Use the ⁠ sort() ⁠ method to sort the ⁠ fruits ⁠ list in alphabetical order. Print the sorted list.\n"
   ]
  },
  {
   "cell_type": "code",
   "execution_count": 146,
   "id": "4c56c858-47ff-4fc6-b39e-f966d3641ac2",
   "metadata": {},
   "outputs": [],
   "source": [
    "fruits.sort()"
   ]
  },
  {
   "cell_type": "code",
   "execution_count": 148,
   "id": "c4db8cb0-9d29-467f-ad9a-7aaeb976a305",
   "metadata": {},
   "outputs": [
    {
     "data": {
      "text/plain": [
       "['apple', 'banana', 'grape', 'kiwi', 'mango', 'pear', 'pineapple']"
      ]
     },
     "execution_count": 148,
     "metadata": {},
     "output_type": "execute_result"
    }
   ],
   "source": [
    "fruits"
   ]
  },
  {
   "cell_type": "markdown",
   "id": "1cec4ec8-3c15-447a-968b-4ec471260a03",
   "metadata": {},
   "source": [
    "#### 10. Use the ⁠ reverse() ⁠ method to reverse the order of elements in the ⁠ fruits ⁠ list. Print the reversed \n",
    "#### list.\n"
   ]
  },
  {
   "cell_type": "code",
   "execution_count": 151,
   "id": "acaa022c-b47c-4510-bdaa-21e374215877",
   "metadata": {},
   "outputs": [],
   "source": [
    "fruits.reverse()"
   ]
  },
  {
   "cell_type": "code",
   "execution_count": 153,
   "id": "e431fd11-2340-4d6d-8968-4fc7313f3a45",
   "metadata": {},
   "outputs": [
    {
     "data": {
      "text/plain": [
       "['pineapple', 'pear', 'mango', 'kiwi', 'grape', 'banana', 'apple']"
      ]
     },
     "execution_count": 153,
     "metadata": {},
     "output_type": "execute_result"
    }
   ],
   "source": [
    "fruits"
   ]
  },
  {
   "cell_type": "markdown",
   "id": "cabcd9f9-1616-4d35-be36-5513bd4932a5",
   "metadata": {},
   "source": [
    "#### 11. Create a copy of the ⁠ fruits ⁠ list using the ⁠ copy() ⁠ method and name it ⁠ fruits_copy ⁠. Print both the \n",
    "#### original and copied lists to verify.\n"
   ]
  },
  {
   "cell_type": "code",
   "execution_count": 156,
   "id": "9c363125-e789-42b3-97c4-0926cb637fac",
   "metadata": {},
   "outputs": [],
   "source": [
    "fruits_copy = fruits.copy()"
   ]
  },
  {
   "cell_type": "code",
   "execution_count": 158,
   "id": "93e178e2-8749-4f45-832a-960aea0d4eb1",
   "metadata": {},
   "outputs": [
    {
     "data": {
      "text/plain": [
       "['pineapple', 'pear', 'mango', 'kiwi', 'grape', 'banana', 'apple']"
      ]
     },
     "execution_count": 158,
     "metadata": {},
     "output_type": "execute_result"
    }
   ],
   "source": [
    "fruits_copy"
   ]
  },
  {
   "cell_type": "markdown",
   "id": "fa0f1f5c-edfe-424e-b4b1-9bf16e965276",
   "metadata": {},
   "source": [
    "#### 12. Use the ⁠ clear() ⁠ method to empty the ⁠ fruits_copy ⁠ list. Print the ⁠ fruits_copy ⁠ list after clearing."
   ]
  },
  {
   "cell_type": "code",
   "execution_count": 165,
   "id": "4516152a-ba35-4574-8309-cb162e085f07",
   "metadata": {},
   "outputs": [],
   "source": [
    "fruits_copy.clear()"
   ]
  },
  {
   "cell_type": "code",
   "execution_count": 167,
   "id": "f347c915-95b7-4968-be60-2019641def7d",
   "metadata": {},
   "outputs": [
    {
     "data": {
      "text/plain": [
       "[]"
      ]
     },
     "execution_count": 167,
     "metadata": {},
     "output_type": "execute_result"
    }
   ],
   "source": [
    "fruits_copy"
   ]
  },
  {
   "cell_type": "code",
   "execution_count": null,
   "id": "5c8dde72-7edc-4149-afd2-041825ab9c95",
   "metadata": {},
   "outputs": [],
   "source": []
  },
  {
   "cell_type": "code",
   "execution_count": null,
   "id": "3d59e27a-14b8-45f3-93c7-6ac3b5d4add8",
   "metadata": {},
   "outputs": [],
   "source": []
  },
  {
   "cell_type": "code",
   "execution_count": null,
   "id": "9f56095a-cb25-4c78-b237-ddf8fbec4cf0",
   "metadata": {},
   "outputs": [],
   "source": []
  }
 ],
 "metadata": {
  "kernelspec": {
   "display_name": "Python [conda env:base] *",
   "language": "python",
   "name": "conda-base-py"
  },
  "language_info": {
   "codemirror_mode": {
    "name": "ipython",
    "version": 3
   },
   "file_extension": ".py",
   "mimetype": "text/x-python",
   "name": "python",
   "nbconvert_exporter": "python",
   "pygments_lexer": "ipython3",
   "version": "3.12.7"
  }
 },
 "nbformat": 4,
 "nbformat_minor": 5
}
