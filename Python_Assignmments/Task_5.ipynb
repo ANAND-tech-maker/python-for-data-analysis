{
 "cells": [
  {
   "cell_type": "markdown",
   "id": "75a60d17-9e16-42b0-8a19-d0855cfd6aa5",
   "metadata": {},
   "source": [
    "### 1. write a code snippet that takes two integer and perform the following operation :\n",
    "#### num1 = 250\n",
    "####  num2 = 350\n",
    "\n",
    "#### a) Addition\n",
    "#### b) substraction \n",
    "#### c) multiplication\n",
    "#### d) Division\n",
    "#### e) modulus\n",
    "#### f) Floor division\n"
   ]
  },
  {
   "cell_type": "code",
   "execution_count": 3,
   "id": "865884e7-ce51-4d00-aa12-b4eae78cf30f",
   "metadata": {},
   "outputs": [
    {
     "name": "stdout",
     "output_type": "stream",
     "text": [
      "600\n",
      "-100\n",
      "87500\n",
      "0.7142857142857143\n",
      "250\n",
      "0\n"
     ]
    }
   ],
   "source": [
    "num1 = 250\n",
    "num2 = 350\n",
    "print(num1+num2)\n",
    "print(num1-num2)\n",
    "print(num1*num2)\n",
    "print(num1/num2)\n",
    "print(num1%num2)\n",
    "print(num1//num2)"
   ]
  },
  {
   "cell_type": "markdown",
   "id": "00ea5ec8-bb18-426c-936b-2d7dae0998e4",
   "metadata": {},
   "source": [
    "### 2 . Write a code snippet that takes a string input from the user and perform the following operations:\n",
    "#### a) concatenation (with another string\n",
    "#### b) Repetition(repeting the string a specified number of times"
   ]
  },
  {
   "cell_type": "code",
   "execution_count": 10,
   "id": "2c1e6c32-d0cf-4f10-a2b0-408d08710de6",
   "metadata": {},
   "outputs": [
    {
     "name": "stdin",
     "output_type": "stream",
     "text": [
      "enter the name_1 : python is easy\n",
      "enter the name_2 : python is powerful\n"
     ]
    },
    {
     "name": "stdout",
     "output_type": "stream",
     "text": [
      "python is easypython is powerful\n"
     ]
    }
   ],
   "source": [
    "# a)\n",
    "str1 = input(\"enter the name_1 :\")\n",
    "str2 = input(\"enter the name_2 :\")\n",
    "str3 = str1 + str2\n",
    "print(str3)"
   ]
  },
  {
   "cell_type": "code",
   "execution_count": 16,
   "id": "59468f9b-96b7-43e9-85ad-b8bae0ebc6b2",
   "metadata": {},
   "outputs": [
    {
     "name": "stdin",
     "output_type": "stream",
     "text": [
      "enter the name_1 : Anand\n",
      "enter the how much time u want to repete : 15\n"
     ]
    },
    {
     "name": "stdout",
     "output_type": "stream",
     "text": [
      "AnandAnandAnandAnandAnandAnandAnandAnandAnandAnandAnandAnandAnandAnandAnand\n"
     ]
    }
   ],
   "source": [
    "# b)\n",
    "str4 = input(\"enter the name_1 :\")\n",
    "int1 = int(input(\"enter the how much time u want to repete :\"))\n",
    "str_int = str4*int1\n",
    "print(str_int)"
   ]
  },
  {
   "cell_type": "code",
   "execution_count": null,
   "id": "466c17ed-5cb5-4ba4-9e47-aa46d8e7fd57",
   "metadata": {},
   "outputs": [],
   "source": []
  }
 ],
 "metadata": {
  "kernelspec": {
   "display_name": "Python [conda env:base] *",
   "language": "python",
   "name": "conda-base-py"
  },
  "language_info": {
   "codemirror_mode": {
    "name": "ipython",
    "version": 3
   },
   "file_extension": ".py",
   "mimetype": "text/x-python",
   "name": "python",
   "nbconvert_exporter": "python",
   "pygments_lexer": "ipython3",
   "version": "3.12.7"
  }
 },
 "nbformat": 4,
 "nbformat_minor": 5
}
