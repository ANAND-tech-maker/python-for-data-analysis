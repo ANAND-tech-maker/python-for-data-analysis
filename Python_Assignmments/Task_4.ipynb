{
 "cells": [
  {
   "cell_type": "markdown",
   "id": "a3affacf-b583-47b4-b978-4edc48259cf2",
   "metadata": {},
   "source": [
    "### Tuple Operations\n",
    "#### create two tuples of integers by prompting the user to enter elements. Perform the following tuple\n",
    "#### operation and display the result\n",
    "#### a) Concatenate the two tuples.\n",
    "#### b) Find the maximum and minmum values in each tuple."
   ]
  },
  {
   "cell_type": "code",
   "execution_count": 26,
   "id": "1494ddde-1f5e-4f24-9de1-00ab4691d9a8",
   "metadata": {},
   "outputs": [
    {
     "name": "stdin",
     "output_type": "stream",
     "text": [
      "enter the numbers:  1\n",
      "enter the numbers:  2\n",
      "enter the numbers:  3\n",
      "enter the numbers:  4\n",
      "enter the numbers:  5\n",
      "enter the numbers:  6\n"
     ]
    },
    {
     "name": "stdout",
     "output_type": "stream",
     "text": [
      "(1, 2, 3)\n",
      "(4, 5, 6)\n"
     ]
    }
   ],
   "source": [
    "A = int(input(\"enter the numbers: \"))\n",
    "B = int(input(\"enter the numbers: \"))\n",
    "C = int(input(\"enter the numbers: \"))\n",
    "D = int(input(\"enter the numbers: \"))\n",
    "E = int(input(\"enter the numbers: \"))\n",
    "F = int(input(\"enter the numbers: \"))\n",
    "tuple_1 = (A,B,C)\n",
    "tuple_2 = (D,E,F)\n",
    "print(tuple_1)\n",
    "print(tuple_2)"
   ]
  },
  {
   "cell_type": "code",
   "execution_count": 28,
   "id": "1c5d63f3-4a9f-424e-8329-1b5fe6762c9f",
   "metadata": {},
   "outputs": [
    {
     "data": {
      "text/plain": [
       "tuple"
      ]
     },
     "execution_count": 28,
     "metadata": {},
     "output_type": "execute_result"
    }
   ],
   "source": [
    "type(tuple_1)"
   ]
  },
  {
   "cell_type": "code",
   "execution_count": 30,
   "id": "aa7eb452-a7ce-43a5-a1d7-80837b8ae55b",
   "metadata": {},
   "outputs": [
    {
     "data": {
      "text/plain": [
       "tuple"
      ]
     },
     "execution_count": 30,
     "metadata": {},
     "output_type": "execute_result"
    }
   ],
   "source": [
    "type(tuple_2)"
   ]
  },
  {
   "cell_type": "code",
   "execution_count": 46,
   "id": "5951a5e7-64ed-44ac-af03-50a3672dcf0a",
   "metadata": {},
   "outputs": [
    {
     "data": {
      "text/plain": [
       "(1, 2, 3)"
      ]
     },
     "execution_count": 46,
     "metadata": {},
     "output_type": "execute_result"
    }
   ],
   "source": [
    "tuple_1"
   ]
  },
  {
   "cell_type": "code",
   "execution_count": 48,
   "id": "a7f98c85-92fc-46a6-8f57-bc576ed9d356",
   "metadata": {},
   "outputs": [
    {
     "data": {
      "text/plain": [
       "(4, 5, 6)"
      ]
     },
     "execution_count": 48,
     "metadata": {},
     "output_type": "execute_result"
    }
   ],
   "source": [
    "tuple_2"
   ]
  },
  {
   "cell_type": "code",
   "execution_count": 32,
   "id": "e22984b5-df5f-46ee-8a98-c3d57dd2dfa4",
   "metadata": {},
   "outputs": [
    {
     "name": "stdout",
     "output_type": "stream",
     "text": [
      "(1, 2, 3, 4, 5, 6)\n"
     ]
    }
   ],
   "source": [
    "# a)\n",
    "tup = tuple_1 + tuple_2\n",
    "print(tup)"
   ]
  },
  {
   "cell_type": "code",
   "execution_count": 38,
   "id": "4ebd5b5a-40b8-4585-a3eb-c6a6695bf456",
   "metadata": {},
   "outputs": [
    {
     "name": "stdout",
     "output_type": "stream",
     "text": [
      "max value in tuple_1  3\n",
      "min value in tuple_1  1\n"
     ]
    }
   ],
   "source": [
    "# b)\n",
    "tuple_1max = max(tuple_1)\n",
    "print(\"max value in tuple_1 \",tuple_1max)\n",
    "tuple_1min = min(tuple_1)\n",
    "print(\"min value in tuple_1 \",tuple_1min)"
   ]
  },
  {
   "cell_type": "code",
   "execution_count": 44,
   "id": "61449db8-596c-420b-92b1-a5292c7a43e5",
   "metadata": {},
   "outputs": [
    {
     "name": "stdout",
     "output_type": "stream",
     "text": [
      "max value in tuple_2  6\n",
      "min value in tuple_2  4\n"
     ]
    }
   ],
   "source": [
    "tuple_2max = max(tuple_2)\n",
    "print(\"max value in tuple_2 \",tuple_2max)\n",
    "tuple_2min = min(tuple_2)\n",
    "print(\"min value in tuple_2 \",tuple_2min)"
   ]
  },
  {
   "cell_type": "markdown",
   "id": "79101988-0e9a-4736-ad99-b944058ef857",
   "metadata": {},
   "source": [
    "### Dictionary Management"
   ]
  },
  {
   "cell_type": "markdown",
   "id": "a0ff89d6-9aa7-47e8-a089-dc380c1daba4",
   "metadata": {},
   "source": [
    "#### Student Database"
   ]
  },
  {
   "cell_type": "markdown",
   "id": "21aff200-e149-4237-92a2-f904387da201",
   "metadata": {},
   "source": [
    "### Create a python program to manage a student database usig a dictionary. The program should provide\n",
    "### the following functionalities:\n",
    "#### a) add new student's name and corresponding roll number to the database.\n",
    "#### b) Display the list of all students with their roll numbers.\n",
    "#### c) Search for a student's roll number by providing their name.\n",
    "#### d) Remove a student's information by their name."
   ]
  },
  {
   "cell_type": "code",
   "execution_count": 155,
   "id": "a13d99c0-ab09-4a03-8d62-5586933bf7f4",
   "metadata": {},
   "outputs": [],
   "source": [
    "Student_Database = {\"Rahul\" : \"21ME001\",\"Kiran\":\"21ME002\",\"Aryan\":\"21ME003\"}"
   ]
  },
  {
   "cell_type": "code",
   "execution_count": 157,
   "id": "4718285b-f984-4f55-91c3-3f7818dfc6dc",
   "metadata": {},
   "outputs": [
    {
     "name": "stdout",
     "output_type": "stream",
     "text": [
      "{'Rahul': '21ME001', 'Kiran': '21ME002', 'Aryan': '21ME003'}\n"
     ]
    }
   ],
   "source": [
    "print(Student_Database)"
   ]
  },
  {
   "cell_type": "code",
   "execution_count": 171,
   "id": "af7cfe5d-0df0-4e95-9156-64da9339ffe2",
   "metadata": {},
   "outputs": [
    {
     "name": "stdout",
     "output_type": "stream",
     "text": [
      "{'Rahul': '21ME001', 'Kiran': '21ME002', 'Aryan': '21ME003', 'Anand': '21ME004'}\n"
     ]
    }
   ],
   "source": [
    "# a)\n",
    "\n",
    "Student_Database[\"Anand\"] = \"21ME004\"\n",
    "print(Student_Database)\n"
   ]
  },
  {
   "cell_type": "code",
   "execution_count": 169,
   "id": "7e0c80c8-bc99-4aa4-b6c1-8f8b8e373537",
   "metadata": {},
   "outputs": [
    {
     "data": {
      "text/plain": [
       "dict_items([('Rahul', '21ME001'), ('Kiran', '21ME002'), ('Aryan', '21ME003'), ('Anand', '21ME004')])"
      ]
     },
     "execution_count": 169,
     "metadata": {},
     "output_type": "execute_result"
    }
   ],
   "source": [
    "# b)\n",
    "\n",
    "Student_Database.items()"
   ]
  },
  {
   "cell_type": "code",
   "execution_count": 163,
   "id": "2cf7ac46-8346-4377-a38e-8884e3edfee4",
   "metadata": {},
   "outputs": [
    {
     "data": {
      "text/plain": [
       "'21ME001'"
      ]
     },
     "execution_count": 163,
     "metadata": {},
     "output_type": "execute_result"
    }
   ],
   "source": [
    "# c)\n",
    "\n",
    "Student_Database.get(\"Rahul\")"
   ]
  },
  {
   "cell_type": "code",
   "execution_count": 167,
   "id": "532195bb-2533-4936-83a4-8d08686a67c6",
   "metadata": {},
   "outputs": [
    {
     "data": {
      "text/plain": [
       "'21ME002'"
      ]
     },
     "execution_count": 167,
     "metadata": {},
     "output_type": "execute_result"
    }
   ],
   "source": [
    "Student_Database.get(\"Kiran\")"
   ]
  },
  {
   "cell_type": "code",
   "execution_count": 173,
   "id": "aaa6f046-fe35-4ee0-b95f-1633d8f46c93",
   "metadata": {},
   "outputs": [
    {
     "data": {
      "text/plain": [
       "'21ME002'"
      ]
     },
     "execution_count": 173,
     "metadata": {},
     "output_type": "execute_result"
    }
   ],
   "source": [
    "# d)\n",
    "\n",
    "Student_Database.pop(\"Kiran\")"
   ]
  },
  {
   "cell_type": "code",
   "execution_count": 175,
   "id": "7c5c55dd-6b0d-4a19-a881-6198f916cdb2",
   "metadata": {},
   "outputs": [
    {
     "data": {
      "text/plain": [
       "{'Rahul': '21ME001', 'Aryan': '21ME003', 'Anand': '21ME004'}"
      ]
     },
     "execution_count": 175,
     "metadata": {},
     "output_type": "execute_result"
    }
   ],
   "source": [
    "Student_Database"
   ]
  },
  {
   "cell_type": "markdown",
   "id": "9cbabbf7-d169-40e9-83ef-f19530808555",
   "metadata": {},
   "source": [
    "### Contact Book"
   ]
  },
  {
   "cell_type": "markdown",
   "id": "c3e727a2-0d01-439f-8a59-a2f1a5f55540",
   "metadata": {},
   "source": [
    "### Write a python program that simulates a contact book using a dictionary. The program should support\n",
    "#### the following operation:\n",
    "#### a) Add a new contact with name and phone number to dictionary.\n",
    "#### b)Display the phone number of a contact by providing their name.\n",
    "#### c) Remove a contact from the dictionary by name.\n",
    "#### d Display all contacts in the contact book."
   ]
  },
  {
   "cell_type": "code",
   "execution_count": 196,
   "id": "df1b8169-021d-4296-8923-bea451bb27e2",
   "metadata": {},
   "outputs": [],
   "source": [
    "contact_Book = { 'Rahul': 9380000021,'Kiran':8945624323,\"Aryan\":8732785238}"
   ]
  },
  {
   "cell_type": "code",
   "execution_count": 198,
   "id": "659f6a66-3dcf-432d-977b-150a11a884f5",
   "metadata": {},
   "outputs": [],
   "source": [
    "# a)\n",
    "contact_Book[\"Anand\"] = 8632876843"
   ]
  },
  {
   "cell_type": "code",
   "execution_count": 200,
   "id": "c07ac611-f0f5-4ff4-92d3-9dedea8b5132",
   "metadata": {},
   "outputs": [
    {
     "data": {
      "text/plain": [
       "{'Rahul': 9380000021,\n",
       " 'Kiran': 8945624323,\n",
       " 'Aryan': 8732785238,\n",
       " 'Anand': 8632876843}"
      ]
     },
     "execution_count": 200,
     "metadata": {},
     "output_type": "execute_result"
    }
   ],
   "source": [
    "contact_Book"
   ]
  },
  {
   "cell_type": "code",
   "execution_count": 202,
   "id": "da5a881a-fbd4-41d6-a2ad-a247a1fd6eda",
   "metadata": {},
   "outputs": [
    {
     "data": {
      "text/plain": [
       "8632876843"
      ]
     },
     "execution_count": 202,
     "metadata": {},
     "output_type": "execute_result"
    }
   ],
   "source": [
    "# b) \n",
    "contact_Book.get(\"Anand\")"
   ]
  },
  {
   "cell_type": "code",
   "execution_count": 204,
   "id": "d5e31524-2c20-4ceb-8820-9609d0301279",
   "metadata": {},
   "outputs": [
    {
     "data": {
      "text/plain": [
       "8732785238"
      ]
     },
     "execution_count": 204,
     "metadata": {},
     "output_type": "execute_result"
    }
   ],
   "source": [
    "# c)\n",
    "\n",
    "contact_Book.pop(\"Aryan\")"
   ]
  },
  {
   "cell_type": "code",
   "execution_count": 206,
   "id": "881e8cdc-3886-4758-a69d-ddbb892daf76",
   "metadata": {},
   "outputs": [
    {
     "data": {
      "text/plain": [
       "{'Rahul': 9380000021, 'Kiran': 8945624323, 'Anand': 8632876843}"
      ]
     },
     "execution_count": 206,
     "metadata": {},
     "output_type": "execute_result"
    }
   ],
   "source": [
    "contact_Book"
   ]
  },
  {
   "cell_type": "code",
   "execution_count": 208,
   "id": "33b51399-7c41-4ed6-a1fa-4f4605fbac1a",
   "metadata": {},
   "outputs": [
    {
     "data": {
      "text/plain": [
       "dict_items([('Rahul', 9380000021), ('Kiran', 8945624323), ('Anand', 8632876843)])"
      ]
     },
     "execution_count": 208,
     "metadata": {},
     "output_type": "execute_result"
    }
   ],
   "source": [
    "# d)\n",
    "\n",
    "contact_Book.items()"
   ]
  },
  {
   "cell_type": "code",
   "execution_count": null,
   "id": "54d16ca9-d9ed-4c94-820e-3b9aec5a5d96",
   "metadata": {},
   "outputs": [],
   "source": []
  }
 ],
 "metadata": {
  "kernelspec": {
   "display_name": "Python [conda env:base] *",
   "language": "python",
   "name": "conda-base-py"
  },
  "language_info": {
   "codemirror_mode": {
    "name": "ipython",
    "version": 3
   },
   "file_extension": ".py",
   "mimetype": "text/x-python",
   "name": "python",
   "nbconvert_exporter": "python",
   "pygments_lexer": "ipython3",
   "version": "3.12.7"
  }
 },
 "nbformat": 4,
 "nbformat_minor": 5
}
