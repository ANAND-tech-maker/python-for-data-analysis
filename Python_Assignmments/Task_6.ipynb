{
 "cells": [
  {
   "cell_type": "markdown",
   "id": "a95863f3-66f8-42c0-8e1b-5f217987c0f5",
   "metadata": {},
   "source": [
    "### 1. ARTHMETIC OPERATORS"
   ]
  },
  {
   "cell_type": "markdown",
   "id": "c756e9c0-5849-41b1-8b5c-f8a014e6ca79",
   "metadata": {},
   "source": [
    "#### a) write a program that calculates the sum ,difference, product,and quotient of two numbers : 10 and 5.\n",
    "#### b) create a program that calculate the area of a circle with radius of 4.5 units."
   ]
  },
  {
   "cell_type": "code",
   "execution_count": 8,
   "id": "6d509346-2707-4202-8bd6-5879e01ca5cf",
   "metadata": {},
   "outputs": [
    {
     "name": "stdout",
     "output_type": "stream",
     "text": [
      "15\n",
      "5\n",
      "50\n",
      "2\n"
     ]
    }
   ],
   "source": [
    "# a)\n",
    "a = 10\n",
    "b = 5\n",
    "print(a+b)\n",
    "print(a-b)\n",
    "print(a*b)\n",
    "print(a//b)"
   ]
  },
  {
   "cell_type": "code",
   "execution_count": 10,
   "id": "158d09b2-0b02-4b1f-8bd2-cf6c514dfbbb",
   "metadata": {},
   "outputs": [
    {
     "name": "stdout",
     "output_type": "stream",
     "text": [
      "area of circle 63.585\n"
     ]
    }
   ],
   "source": [
    "# b)\n",
    "r = 4.5\n",
    "print(\"area of circle\", 3.14*r**2)"
   ]
  },
  {
   "cell_type": "markdown",
   "id": "a78d093d-eff8-4e04-8ae7-0434dd564d61",
   "metadata": {},
   "source": [
    "### 2. ASSIGNMENT OPERATORS"
   ]
  },
  {
   "cell_type": "markdown",
   "id": "d0d858df-38ad-4989-a923-a40f2af39c48",
   "metadata": {},
   "source": [
    "#### a) write a program that swaps the value of two variables:'x' with a value of 5 and 'y' with a value of 10.\n",
    "#### b) create a program that calculate compound interest for a principal amount of $1000, an interest rate of 5%, and a time period of 3 years"
   ]
  },
  {
   "cell_type": "code",
   "execution_count": 15,
   "id": "32611a3d-aa06-4015-9479-55ece7ba28b8",
   "metadata": {},
   "outputs": [
    {
     "name": "stdout",
     "output_type": "stream",
     "text": [
      "10 5\n"
     ]
    }
   ],
   "source": [
    "# a) \n",
    "\n",
    "x = 5\n",
    "y = 10\n",
    "temp = x\n",
    "x = y\n",
    "y = temp\n",
    "print(x,y)"
   ]
  },
  {
   "cell_type": "code",
   "execution_count": 35,
   "id": "41feaf26-9b16-4b79-97dc-0245dfa5f17d",
   "metadata": {},
   "outputs": [
    {
     "name": "stdout",
     "output_type": "stream",
     "text": [
      "150.0\n",
      "1157.6250000000002\n",
      "157.62500000000023\n"
     ]
    }
   ],
   "source": [
    "# b)\n",
    "p = 1000\n",
    "r = 0.05\n",
    "t = 3\n",
    "three_year_interest = p*r*t                          # formula = amount/principal(p)*rate(r)*Time(t)\n",
    "print(three_year_interest)              # total amount = p*(1(t(years/month/day)+r/n)**n*t\n",
    "total_amount = p*(1+0.05)**3\n",
    "print(total_amount)\n",
    "compound_interest = total_amount - p \n",
    "print(compound_interest)\n"
   ]
  },
  {
   "cell_type": "markdown",
   "id": "da2a6dd4-6a9f-419f-ba74-b7b677eaaf15",
   "metadata": {},
   "source": [
    "### 3. COMPARATIVE OPERATORS"
   ]
  },
  {
   "cell_type": "markdown",
   "id": "5ddb8b31-6cfd-4d35-9d9d-1a69e30a9080",
   "metadata": {},
   "source": [
    "#### a) write a program that compares two numbers : 7 and 12, and determines wheather the first number is greater than, less than\n",
    "#### or equal to the second\n",
    "#### b) create a program that checks if a person of age 18 is eligible to vote based on the voting age requirement.\n"
   ]
  },
  {
   "cell_type": "code",
   "execution_count": 41,
   "id": "52593283-d27c-40dd-b69a-5183eee01381",
   "metadata": {},
   "outputs": [
    {
     "name": "stdout",
     "output_type": "stream",
     "text": [
      "False\n",
      "True\n"
     ]
    }
   ],
   "source": [
    "# a)\n",
    "a = 7\n",
    "b = 17\n",
    "print(a>b)\n",
    "print(a<=b)"
   ]
  },
  {
   "cell_type": "code",
   "execution_count": 55,
   "id": "ba9951c4-f1ac-4458-b42a-1a523d4483b6",
   "metadata": {},
   "outputs": [
    {
     "name": "stdin",
     "output_type": "stream",
     "text": [
      "enter the age : 18\n"
     ]
    },
    {
     "name": "stdout",
     "output_type": "stream",
     "text": [
      "Eligible\n"
     ]
    }
   ],
   "source": [
    "# b)\n",
    "age = int(input(\"enter the age :\"))\n",
    "if age>=18 :\n",
    "    print(\"Eligible\")\n",
    "\n",
    "else:\n",
    "    print(\"not eligible\")\n",
    "          "
   ]
  },
  {
   "cell_type": "markdown",
   "id": "04f69483-5ef9-4d1b-9b59-89f330eb7bda",
   "metadata": {},
   "source": [
    "### 4. LOGICAL OPERATORS"
   ]
  },
  {
   "cell_type": "markdown",
   "id": "c2474ff4-2339-413d-9e9c-b1c170cf5bc3",
   "metadata": {},
   "source": [
    "#### a) write a program that check if the entered username and password match the predefined values: username=\"admin\" and\n",
    "#### password = \"password123\"\n",
    "#### b) create a program that determines wheather the year leap year 2020 is leap year or not using logical operators."
   ]
  },
  {
   "cell_type": "code",
   "execution_count": 26,
   "id": "c3b03e9d-0182-4166-9f4d-26bed7b2a504",
   "metadata": {},
   "outputs": [
    {
     "name": "stdin",
     "output_type": "stream",
     "text": [
      "enter the username : admin\n",
      "enter the password : password123\n"
     ]
    },
    {
     "name": "stdout",
     "output_type": "stream",
     "text": [
      "matched\n"
     ]
    }
   ],
   "source": [
    "# a)\n",
    "username = input(\"enter the username :\")\n",
    "password = input(\"enter the password :\")\n",
    "pre_username = \"admin\"\n",
    "pre_password = \"password123\"\n",
    "if (pre_username == username) and (pre_password == password):\n",
    "    print(\"matched\")\n",
    "\n",
    "else :\n",
    "    print(\"password not match\")\n",
    "    "
   ]
  },
  {
   "cell_type": "code",
   "execution_count": 124,
   "id": "ad1c5105-1e61-43e5-b31c-87a4a02eee29",
   "metadata": {},
   "outputs": [
    {
     "name": "stdout",
     "output_type": "stream",
     "text": [
      "leap year\n"
     ]
    }
   ],
   "source": [
    "# b)\n",
    "year = 2020\n",
    "if (year%4==0 and year%100!=0) or (year%400==0):\n",
    "    print(\"leap year\")\n",
    "\n",
    "else:\n",
    "    print(\"not leap year\")"
   ]
  },
  {
   "cell_type": "markdown",
   "id": "ddba7fb9-4883-4c84-8e2f-ec88a93da2c7",
   "metadata": {},
   "source": [
    "### 5. BITWISE OPERATORS"
   ]
  },
  {
   "cell_type": "markdown",
   "id": "71ac876a-9885-4dc4-9949-fe4a82abff1a",
   "metadata": {},
   "source": [
    "#### a) write a program that calculates the binary representation of the integer 42 using bitwise operators.\n",
    "#### b) create a program that swaps the value of two integer : 'a' with a value of 10 and 'b' with a value of 20 using\n",
    "#### bitwise XOR(^) operator.\n"
   ]
  },
  {
   "cell_type": "code",
   "execution_count": 128,
   "id": "8859b0ed-04e7-49bb-b034-c336334db803",
   "metadata": {},
   "outputs": [
    {
     "data": {
      "text/plain": [
       "'0b101010'"
      ]
     },
     "execution_count": 128,
     "metadata": {},
     "output_type": "execute_result"
    }
   ],
   "source": [
    "# a)\n",
    "bin(42)"
   ]
  },
  {
   "cell_type": "code",
   "execution_count": 130,
   "id": "2a0efd72-4c80-46e8-b24f-84220843e952",
   "metadata": {},
   "outputs": [
    {
     "name": "stdout",
     "output_type": "stream",
     "text": [
      "30\n"
     ]
    }
   ],
   "source": [
    "# b)\n",
    "\n",
    "a = 10\n",
    "b = 20\n",
    "print(a^b)"
   ]
  },
  {
   "cell_type": "code",
   "execution_count": null,
   "id": "2475550d-3ba9-4d40-b4d7-0c0362fa63fb",
   "metadata": {},
   "outputs": [],
   "source": []
  }
 ],
 "metadata": {
  "kernelspec": {
   "display_name": "Python [conda env:base] *",
   "language": "python",
   "name": "conda-base-py"
  },
  "language_info": {
   "codemirror_mode": {
    "name": "ipython",
    "version": 3
   },
   "file_extension": ".py",
   "mimetype": "text/x-python",
   "name": "python",
   "nbconvert_exporter": "python",
   "pygments_lexer": "ipython3",
   "version": "3.12.7"
  }
 },
 "nbformat": 4,
 "nbformat_minor": 5
}
