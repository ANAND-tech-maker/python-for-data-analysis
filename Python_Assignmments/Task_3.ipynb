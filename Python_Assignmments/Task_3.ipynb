{
 "cells": [
  {
   "cell_type": "markdown",
   "id": "61e6f203-37cb-4291-998f-0cb9dcf3f1dc",
   "metadata": {},
   "source": [
    "## Write a Python program that does the following:\n",
    "#### a) Create an empty list and prompt the user to add elements to the list.\n",
    "#### b) Display the list's length, maximum value, minimum value, and sum of all elements.\n",
    "#### c) Find and display the frequency of a specific element provided by the user.\n"
   ]
  },
  {
   "cell_type": "code",
   "execution_count": 2,
   "id": "44d9ba72-76a6-4c2f-a663-e808cc5eff5f",
   "metadata": {},
   "outputs": [],
   "source": [
    "# a)\n",
    "list1 = [1,2,3,4,5]"
   ]
  },
  {
   "cell_type": "code",
   "execution_count": 5,
   "id": "17684931-61c6-4e90-8fb3-b175a48068d6",
   "metadata": {},
   "outputs": [],
   "source": [
    "# b) \n",
    "list2 = [2,3,4,5,7,9,8]"
   ]
  },
  {
   "cell_type": "code",
   "execution_count": 7,
   "id": "7f4369b9-b0f0-4c5d-b0ad-009a1f1920a2",
   "metadata": {},
   "outputs": [
    {
     "data": {
      "text/plain": [
       "9"
      ]
     },
     "execution_count": 7,
     "metadata": {},
     "output_type": "execute_result"
    }
   ],
   "source": [
    "max(list2)"
   ]
  },
  {
   "cell_type": "code",
   "execution_count": 9,
   "id": "07fcd123-0942-43f4-9d04-ec054f75f6b8",
   "metadata": {},
   "outputs": [
    {
     "data": {
      "text/plain": [
       "2"
      ]
     },
     "execution_count": 9,
     "metadata": {},
     "output_type": "execute_result"
    }
   ],
   "source": [
    "min(list2)"
   ]
  },
  {
   "cell_type": "code",
   "execution_count": 11,
   "id": "dfcea7e2-daee-4a7c-a519-6d6420e254dd",
   "metadata": {},
   "outputs": [
    {
     "data": {
      "text/plain": [
       "7"
      ]
     },
     "execution_count": 11,
     "metadata": {},
     "output_type": "execute_result"
    }
   ],
   "source": [
    "len(list2)"
   ]
  },
  {
   "cell_type": "code",
   "execution_count": 13,
   "id": "ca571387-f90a-4ec4-a8c0-a8f8b5676681",
   "metadata": {},
   "outputs": [
    {
     "name": "stdout",
     "output_type": "stream",
     "text": [
      "[2, 3, 4, 5, 7, 9, 8]\n"
     ]
    }
   ],
   "source": [
    "print(list2)"
   ]
  },
  {
   "cell_type": "code",
   "execution_count": 17,
   "id": "5abb9528-3346-4914-ba2f-28fd3a04d5fe",
   "metadata": {},
   "outputs": [
    {
     "data": {
      "text/plain": [
       "4360367424"
      ]
     },
     "execution_count": 17,
     "metadata": {},
     "output_type": "execute_result"
    }
   ],
   "source": [
    "id(list2)"
   ]
  },
  {
   "cell_type": "code",
   "execution_count": 19,
   "id": "ba611292-c180-4c91-9794-38b082ca8f17",
   "metadata": {},
   "outputs": [
    {
     "data": {
      "text/plain": [
       "list"
      ]
     },
     "execution_count": 19,
     "metadata": {},
     "output_type": "execute_result"
    }
   ],
   "source": [
    "type(list2)"
   ]
  },
  {
   "cell_type": "code",
   "execution_count": 21,
   "id": "03bca9e4-87f2-4eda-9180-d138e521a6ab",
   "metadata": {},
   "outputs": [
    {
     "data": {
      "text/plain": [
       "1"
      ]
     },
     "execution_count": 21,
     "metadata": {},
     "output_type": "execute_result"
    }
   ],
   "source": [
    "# c)\n",
    "list2.count(4)"
   ]
  },
  {
   "cell_type": "code",
   "execution_count": 23,
   "id": "2c8a581a-5d0c-4346-9169-21709e3469f3",
   "metadata": {},
   "outputs": [
    {
     "data": {
      "text/plain": [
       "1"
      ]
     },
     "execution_count": 23,
     "metadata": {},
     "output_type": "execute_result"
    }
   ],
   "source": [
    "list2.count(3)"
   ]
  },
  {
   "cell_type": "markdown",
   "id": "cbc8b5bf-099e-4b11-8797-36cccfa2653a",
   "metadata": {},
   "source": [
    "## Task 2: Set Operations\n",
    "### Create two sets of integers by prompting the user to enter elements. Perform the following set\n",
    "### operations and display the results!\n",
    "### a) Union of the two sets.\n",
    "### b) Intersection of the two sets.\n",
    "### c) Difference between the first set and the second set."
   ]
  },
  {
   "cell_type": "code",
   "execution_count": 30,
   "id": "9e7bb83d-e6c0-4b6c-bfbd-6b7d45f4a271",
   "metadata": {},
   "outputs": [],
   "source": [
    "# a)\n",
    "\n",
    "A = {1,2,5,3,6,7}"
   ]
  },
  {
   "cell_type": "code",
   "execution_count": 28,
   "id": "25fcd2ec-de95-4229-bcd7-ae83f3693759",
   "metadata": {},
   "outputs": [],
   "source": [
    "B = { 2,3,4,1,7,9}"
   ]
  },
  {
   "cell_type": "code",
   "execution_count": 32,
   "id": "27d1a38c-a2f9-470c-a7ff-b6645f2b14fc",
   "metadata": {},
   "outputs": [
    {
     "data": {
      "text/plain": [
       "{1, 2, 3, 4, 5, 6, 7, 9}"
      ]
     },
     "execution_count": 32,
     "metadata": {},
     "output_type": "execute_result"
    }
   ],
   "source": [
    "A.union(B)"
   ]
  },
  {
   "cell_type": "code",
   "execution_count": null,
   "id": "52f8e6d7-caae-4e18-bc70-a9e6c595c423",
   "metadata": {},
   "outputs": [],
   "source": [
    "# b)\n",
    "\n",
    "A."
   ]
  }
 ],
 "metadata": {
  "kernelspec": {
   "display_name": "Python [conda env:base] *",
   "language": "python",
   "name": "conda-base-py"
  },
  "language_info": {
   "codemirror_mode": {
    "name": "ipython",
    "version": 3
   },
   "file_extension": ".py",
   "mimetype": "text/x-python",
   "name": "python",
   "nbconvert_exporter": "python",
   "pygments_lexer": "ipython3",
   "version": "3.12.7"
  }
 },
 "nbformat": 4,
 "nbformat_minor": 5
}
