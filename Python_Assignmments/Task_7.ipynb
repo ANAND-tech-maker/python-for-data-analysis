{
 "cells": [
  {
   "cell_type": "markdown",
   "id": "663631b6-ebc9-45df-ad6a-1ae0c26a269a",
   "metadata": {},
   "source": [
    "### Calculator write a program that takes two numbers as input and performs a mathematical operation (+, -,*,/) based on the user's choice."
   ]
  },
  {
   "cell_type": "code",
   "execution_count": 3,
   "id": "b4d62f15-9654-41c7-9d9a-d5423b890b5c",
   "metadata": {},
   "outputs": [
    {
     "name": "stdin",
     "output_type": "stream",
     "text": [
      "Enter the number:  8\n",
      "Enter the number:  1\n",
      "Enter the operation you want to perform:  -\n"
     ]
    },
    {
     "name": "stdout",
     "output_type": "stream",
     "text": [
      "7\n"
     ]
    }
   ],
   "source": [
    "num1 = int(input(\"Enter the number: \"))\n",
    "num2 = int(input(\"Enter the number: \"))\n",
    "operation = input(\"Enter the operation you want to perform: \")\n",
    "if operation==\"+\":\n",
    "    print(num1+num2)\n",
    "elif operation==\"-\":\n",
    "    print(num1-num2)\n",
    "elif operation==\"*\":\n",
    "    print(num1*num2)\n",
    "elif operation==\"/\":\n",
    "    print(num1/num2)\n",
    "else:\n",
    "    print(\"Enter the valid operation\")\n",
    "                \n",
    "           "
   ]
  },
  {
   "cell_type": "markdown",
   "id": "62a64f1e-31a4-4437-a675-7391af3e3426",
   "metadata": {},
   "source": [
    "## numeric comparision\n",
    "#### write a python program that takes two numbers as input from the user and prints whether the first number is greater than,less than,or  equal to the second number"
   ]
  },
  {
   "cell_type": "code",
   "execution_count": 11,
   "id": "9b26773b-1a6f-4185-919c-4ecc36f2a5a4",
   "metadata": {},
   "outputs": [
    {
     "name": "stdin",
     "output_type": "stream",
     "text": [
      "enter the number : 1\n",
      "enter the second : 1\n"
     ]
    },
    {
     "name": "stdout",
     "output_type": "stream",
     "text": [
      "num1 is equal to second value\n"
     ]
    }
   ],
   "source": [
    "num1 = int(input(\"enter the number :\"))\n",
    "num2 = int(input(\"enter the second :\"))\n",
    "if num1>num2:\n",
    "    print(\"num1 is greater value\")\n",
    "elif num1<num2:\n",
    "    print(\"num1 is lesser value\")\n",
    "elif num1==num2:\n",
    "    print(\"num1 is equal to second value\")\n",
    "           "
   ]
  },
  {
   "cell_type": "markdown",
   "id": "ffcb143f-39f1-4df8-a703-abc7ee11861e",
   "metadata": {},
   "source": [
    "## Even or Odd\n",
    "#### write a python program that takes an integer as input from user and prints whether it is even or odd."
   ]
  },
  {
   "cell_type": "code",
   "execution_count": 28,
   "id": "76aa849c-abd2-4e6b-8aa8-fe1cf1bf6585",
   "metadata": {},
   "outputs": [
    {
     "name": "stdin",
     "output_type": "stream",
     "text": [
      "enter the number: 2\n"
     ]
    },
    {
     "name": "stdout",
     "output_type": "stream",
     "text": [
      "even\n"
     ]
    }
   ],
   "source": [
    "num =int(input(\"enter the number:\"))\n",
    "if num % 2 == 0:\n",
    "    print(\"even\")\n",
    "else :\n",
    "    print(\"odd\")"
   ]
  },
  {
   "cell_type": "code",
   "execution_count": 38,
   "id": "b8491066-2ab6-4200-9418-29b2ae602040",
   "metadata": {},
   "outputs": [
    {
     "name": "stdin",
     "output_type": "stream",
     "text": [
      "enter the number: 2\n"
     ]
    },
    {
     "name": "stdout",
     "output_type": "stream",
     "text": [
      "even\n"
     ]
    }
   ],
   "source": [
    "num = int(input(\"enter the number:\"))\n",
    "num_1 = \"even\" if num % 2==0 else \"odd\"\n",
    "print(num_1)\n",
    "          "
   ]
  },
  {
   "cell_type": "markdown",
   "id": "c047ab5b-9045-4ca5-ae08-03cd6763106f",
   "metadata": {},
   "source": [
    "## positive, negative, or zero\n",
    "#### write a program a python program that takes a number aS input from user and prints whether it is positive, negative, or zero."
   ]
  },
  {
   "cell_type": "code",
   "execution_count": 65,
   "id": "33bf3fa9-34a9-48bb-bef2-fed8af00bcdf",
   "metadata": {},
   "outputs": [
    {
     "name": "stdin",
     "output_type": "stream",
     "text": [
      "enter the number: -8\n"
     ]
    },
    {
     "name": "stdout",
     "output_type": "stream",
     "text": [
      "x is negative.\n"
     ]
    }
   ],
   "source": [
    "num = int(input(\"enter the number:\"))\n",
    "if num > 0:\n",
    "    print(\"x is positive.\")\n",
    "elif num == 0:\n",
    "    print(\"x is zero.\")\n",
    "else:\n",
    "    print(\"x is negative.\")"
   ]
  },
  {
   "cell_type": "markdown",
   "id": "71dab7aa-3f4a-47f9-8444-ea05130a2589",
   "metadata": {},
   "source": [
    "## Vowel or consonant\n",
    "#### write a python program that takes a character(a single alphabet) as input from the user and prints whether it is a vowel or consonant"
   ]
  },
  {
   "cell_type": "code",
   "execution_count": 87,
   "id": "b1f2e146-5d39-4b6e-bda5-b2c19e4c06a9",
   "metadata": {},
   "outputs": [
    {
     "name": "stdin",
     "output_type": "stream",
     "text": [
      "enter the alphabet: l\n"
     ]
    },
    {
     "name": "stdout",
     "output_type": "stream",
     "text": [
      "consonant\n"
     ]
    }
   ],
   "source": [
    "alph = input(\"enter the alphabet:\")\n",
    "if alph == \"a\":\n",
    "    print(\"vowel\")\n",
    "\n",
    "elif alph == \"i\":\n",
    "    print(\"vowel\")\n",
    "\n",
    "elif alph == \"e\" :\n",
    "    print(\"vowel\")\n",
    "\n",
    "elif alph == \"o\" :\n",
    "    print(\"vowel\")\n",
    "\n",
    "elif alph == \"u\":\n",
    "    print(\"vowel\")\n",
    "\n",
    "else :\n",
    "    print(\"consonant\")\n",
    "\n",
    "\n"
   ]
  },
  {
   "cell_type": "code",
   "execution_count": null,
   "id": "e9353f83-0803-4a56-a656-0bc33f4f09e9",
   "metadata": {},
   "outputs": [],
   "source": []
  }
 ],
 "metadata": {
  "kernelspec": {
   "display_name": "Python [conda env:base] *",
   "language": "python",
   "name": "conda-base-py"
  },
  "language_info": {
   "codemirror_mode": {
    "name": "ipython",
    "version": 3
   },
   "file_extension": ".py",
   "mimetype": "text/x-python",
   "name": "python",
   "nbconvert_exporter": "python",
   "pygments_lexer": "ipython3",
   "version": "3.12.7"
  }
 },
 "nbformat": 4,
 "nbformat_minor": 5
}
