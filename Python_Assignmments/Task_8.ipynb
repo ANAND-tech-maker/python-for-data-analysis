{
 "cells": [
  {
   "cell_type": "markdown",
   "id": "886b4d63-f442-473e-af52-713d8b451d9c",
   "metadata": {},
   "source": [
    "### 1. write a python program to print all even numbers from 100 to 200 using a for loop."
   ]
  },
  {
   "cell_type": "code",
   "execution_count": 9,
   "id": "8456a9f4-09e1-4893-aaa3-99654718e1f3",
   "metadata": {},
   "outputs": [
    {
     "name": "stdout",
     "output_type": "stream",
     "text": [
      "100 even\n",
      "102 even\n",
      "104 even\n",
      "106 even\n",
      "108 even\n",
      "110 even\n",
      "112 even\n",
      "114 even\n",
      "116 even\n",
      "118 even\n",
      "120 even\n",
      "122 even\n",
      "124 even\n",
      "126 even\n",
      "128 even\n",
      "130 even\n",
      "132 even\n",
      "134 even\n",
      "136 even\n",
      "138 even\n",
      "140 even\n",
      "142 even\n",
      "144 even\n",
      "146 even\n",
      "148 even\n",
      "150 even\n",
      "152 even\n",
      "154 even\n",
      "156 even\n",
      "158 even\n",
      "160 even\n",
      "162 even\n",
      "164 even\n",
      "166 even\n",
      "168 even\n",
      "170 even\n",
      "172 even\n",
      "174 even\n",
      "176 even\n",
      "178 even\n",
      "180 even\n",
      "182 even\n",
      "184 even\n",
      "186 even\n",
      "188 even\n",
      "190 even\n",
      "192 even\n",
      "194 even\n",
      "196 even\n",
      "198 even\n",
      "200 even\n"
     ]
    }
   ],
   "source": [
    "for i in range(100,201):\n",
    "    if i%2==0:\n",
    "        print(i,\"even\")\n",
    "    pass\n",
    "   \n",
    "    i+=1"
   ]
  },
  {
   "cell_type": "markdown",
   "id": "a617e43f-8220-45be-a8a4-565116b5d5a6",
   "metadata": {},
   "source": [
    "### 2. write a python program to print the multiplication table of a given numbers using a for loop. the table should be printed from 1 to 10"
   ]
  },
  {
   "cell_type": "code",
   "execution_count": 31,
   "id": "21332ab4-ee80-4913-b74c-70017661a3fa",
   "metadata": {},
   "outputs": [
    {
     "name": "stdout",
     "output_type": "stream",
     "text": [
      "1x1=1\n",
      "1x2=2\n",
      "1x3=3\n",
      "1x4=4\n",
      "1x5=5\n",
      "1x6=6\n",
      "1x7=7\n",
      "1x8=8\n",
      "1x9=9\n",
      "1x10=10\n",
      "2x1=2\n",
      "2x2=4\n",
      "2x3=6\n",
      "2x4=8\n",
      "2x5=10\n",
      "2x6=12\n",
      "2x7=14\n",
      "2x8=16\n",
      "2x9=18\n",
      "2x10=20\n",
      "3x1=3\n",
      "3x2=6\n",
      "3x3=9\n",
      "3x4=12\n",
      "3x5=15\n",
      "3x6=18\n",
      "3x7=21\n",
      "3x8=24\n",
      "3x9=27\n",
      "3x10=30\n",
      "4x1=4\n",
      "4x2=8\n",
      "4x3=12\n",
      "4x4=16\n",
      "4x5=20\n",
      "4x6=24\n",
      "4x7=28\n",
      "4x8=32\n",
      "4x9=36\n",
      "4x10=40\n",
      "5x1=5\n",
      "5x2=10\n",
      "5x3=15\n",
      "5x4=20\n",
      "5x5=25\n",
      "5x6=30\n",
      "5x7=35\n",
      "5x8=40\n",
      "5x9=45\n",
      "5x10=50\n",
      "6x1=6\n",
      "6x2=12\n",
      "6x3=18\n",
      "6x4=24\n",
      "6x5=30\n",
      "6x6=36\n",
      "6x7=42\n",
      "6x8=48\n",
      "6x9=54\n",
      "6x10=60\n",
      "7x1=7\n",
      "7x2=14\n",
      "7x3=21\n",
      "7x4=28\n",
      "7x5=35\n",
      "7x6=42\n",
      "7x7=49\n",
      "7x8=56\n",
      "7x9=63\n",
      "7x10=70\n",
      "8x1=8\n",
      "8x2=16\n",
      "8x3=24\n",
      "8x4=32\n",
      "8x5=40\n",
      "8x6=48\n",
      "8x7=56\n",
      "8x8=64\n",
      "8x9=72\n",
      "8x10=80\n",
      "9x1=9\n",
      "9x2=18\n",
      "9x3=27\n",
      "9x4=36\n",
      "9x5=45\n",
      "9x6=54\n",
      "9x7=63\n",
      "9x8=72\n",
      "9x9=81\n",
      "9x10=90\n",
      "10x1=10\n",
      "10x2=20\n",
      "10x3=30\n",
      "10x4=40\n",
      "10x5=50\n",
      "10x6=60\n",
      "10x7=70\n",
      "10x8=80\n",
      "10x9=90\n",
      "10x10=100\n"
     ]
    }
   ],
   "source": [
    "for i in  range(1,11) :\n",
    "    for j in range(1,11):\n",
    "        if i <=11:\n",
    "            t = i*j\n",
    "            print(f\"{i}x{j}={t}\")\n",
    "        \n",
    "      \n",
    "    "
   ]
  },
  {
   "cell_type": "markdown",
   "id": "5a4223a5-7609-4278-b946-c8fa8fb11185",
   "metadata": {},
   "source": [
    "### 3. write a python program to calculate the sum of squares of numbers from 1 to n using a for loop"
   ]
  },
  {
   "cell_type": "code",
   "execution_count": 33,
   "id": "20b55fe3-7543-4752-bd21-dfc8d067cc50",
   "metadata": {},
   "outputs": [
    {
     "name": "stdout",
     "output_type": "stream",
     "text": [
      "0\n",
      "1\n",
      "4\n",
      "9\n",
      "16\n",
      "25\n",
      "36\n",
      "49\n",
      "64\n",
      "81\n",
      "100\n"
     ]
    }
   ],
   "source": [
    "n = 11\n",
    "for i in range(n):\n",
    "    if i<=n:\n",
    "        print(i**2)\n",
    "    "
   ]
  },
  {
   "cell_type": "markdown",
   "id": "ae1fe6f3-1546-4289-a580-9e005a1f717f",
   "metadata": {},
   "source": [
    "### 4. write a python program to print each character of a given string on a separate line using for loop"
   ]
  },
  {
   "cell_type": "code",
   "execution_count": 37,
   "id": "250b8d92-7ab9-430f-a9e6-91b1724289cc",
   "metadata": {},
   "outputs": [
    {
     "name": "stdout",
     "output_type": "stream",
     "text": [
      "a\n",
      "n\n",
      "a\n",
      "n\n",
      "d\n"
     ]
    }
   ],
   "source": [
    "a = \"anand\"\n",
    "for i in a:\n",
    "    print(i)"
   ]
  },
  {
   "cell_type": "markdown",
   "id": "123723e5-7a8d-4c1f-8a34-4560974dc697",
   "metadata": {},
   "source": [
    "### 5. write a python program that calculate the avg of the list of number using a for loop. the list of numbers can be hardcoded in the program"
   ]
  },
  {
   "cell_type": "code",
   "execution_count": 51,
   "id": "c4c10696-bf67-4f9d-be09-6b9dfda46222",
   "metadata": {},
   "outputs": [
    {
     "name": "stdout",
     "output_type": "stream",
     "text": [
      "5.5\n"
     ]
    }
   ],
   "source": [
    "list1 = [1,2,3,4,5,6,7,8,9,10]\n",
    "sum_of_list = 0\n",
    "length = 0\n",
    "for i in list1:\n",
    "    sum_of_list=sum_of_list+i\n",
    "    if True:\n",
    "        length+=1\n",
    "avg = sum_of_list/length\n",
    "print(avg)    "
   ]
  }
 ],
 "metadata": {
  "kernelspec": {
   "display_name": "Python [conda env:base] *",
   "language": "python",
   "name": "conda-base-py"
  },
  "language_info": {
   "codemirror_mode": {
    "name": "ipython",
    "version": 3
   },
   "file_extension": ".py",
   "mimetype": "text/x-python",
   "name": "python",
   "nbconvert_exporter": "python",
   "pygments_lexer": "ipython3",
   "version": "3.12.7"
  }
 },
 "nbformat": 4,
 "nbformat_minor": 5
}
